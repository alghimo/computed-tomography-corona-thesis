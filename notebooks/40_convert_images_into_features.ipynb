{
 "cells": [
  {
   "cell_type": "markdown",
   "metadata": {},
   "source": [
    "# Notebook Initialization"
   ]
  },
  {
   "cell_type": "code",
   "execution_count": 77,
   "metadata": {},
   "outputs": [
    {
     "name": "stdout",
     "output_type": "stream",
     "text": [
      "The autoreload extension is already loaded. To reload it, use:\n",
      "  %reload_ext autoreload\n"
     ]
    }
   ],
   "source": [
    "# %load nb_init.py\n",
    "\n",
    "from pathlib import Path\n",
    "import pandas as pd\n",
    "\n",
    "base_dir = Path.cwd().parent\n",
    "config_dir = base_dir / \"config\"\n",
    "data_dir = base_dir / \"data\"\n",
    "docs_dir = base_dir / \"docs\"\n",
    "figures_dir = docs_dir / \"figures\"\n",
    "models_dir = base_dir / \"models\"\n",
    "logs_dir = base_dir / \"logs\"\n",
    "images_input_dir = data_dir / \"COVID19\"\n",
    "preprocessed_dir = data_dir / \"preprocessed\"\n",
    "output_dir = data_dir / \"output\"\n",
    "\n",
    "# Directories used to train the CNN (image by image) \n",
    "cnn_data_dir = data_dir / \"modelling\" / \"cnn\"\n",
    "cnn_train_dir = cnn_data_dir / \"train\"\n",
    "cnn_test_dir = cnn_data_dir / \"test\"\n",
    "\n",
    "metadata_file = images_input_dir / \"metadata.csv\"\n",
    "labels_file = images_input_dir / \"unzip_filenames.csv\"\n",
    "preprocessed_labels_file = preprocessed_dir / \"labels.parquet\"\n",
    "\n",
    "feature_extractor_model_file = models_dir / \"feature_extractor.tf\"\n",
    "\n",
    "from pyspark.sql import SparkSession\n",
    "from pyspark.sql import functions as F\n",
    "\n",
    "spark = SparkSession.builder.getOrCreate()\n",
    "\n",
    "config_file = config_dir / \"tfg.conf\"\n",
    "\n",
    "from pyhocon import ConfigFactory\n",
    "config = None\n",
    "\n",
    "def load_config():\n",
    "    return ConfigFactory.parse_file(config_file)\n",
    "\n",
    "config = load_config()\n",
    "    \n",
    "import sys\n",
    "\n",
    "if str(base_dir / \"src\") not in sys.path:\n",
    "    sys.path.append(str(base_dir / \"src\"))\n",
    "\n",
    "%load_ext autoreload\n",
    "\n",
    "%autoreload 2"
   ]
  },
  {
   "cell_type": "code",
   "execution_count": 2,
   "metadata": {},
   "outputs": [
    {
     "data": {
      "text/plain": [
       "OrderedDict([('tfg',\n",
       "              OrderedDict([('seed', 42),\n",
       "                           ('eda',\n",
       "                            OrderedDict([('csv_options',\n",
       "                                          OrderedDict([('header', 'true'),\n",
       "                                                       ('sep', ','),\n",
       "                                                       ('inferSchema',\n",
       "                                                        'true')]))])),\n",
       "                           ('training',\n",
       "                            OrderedDict([('test_fraction', 0.1),\n",
       "                                         ('val_fraction', 0.1),\n",
       "                                         ('images_per_clip', 70),\n",
       "                                         ('batch_size', 32)]))])),\n",
       "             ('data',\n",
       "              OrderedDict([('train_df',\n",
       "                            OrderedDict([('path',\n",
       "                                          'preprocessed/training_df.csv')])),\n",
       "                           ('val_df',\n",
       "                            OrderedDict([('path',\n",
       "                                          'preprocessed/val_df.csv')])),\n",
       "                           ('test_df',\n",
       "                            OrderedDict([('path',\n",
       "                                          'preprocessed/test_df.csv')]))]))])"
      ]
     },
     "execution_count": 2,
     "metadata": {},
     "output_type": "execute_result"
    }
   ],
   "source": [
    "config.as_plain_ordered_dict()"
   ]
  },
  {
   "cell_type": "code",
   "execution_count": 3,
   "metadata": {},
   "outputs": [
    {
     "data": {
      "text/html": [
       "\n",
       "            <div>\n",
       "                <p><b>SparkSession - in-memory</b></p>\n",
       "                \n",
       "        <div>\n",
       "            <p><b>SparkContext</b></p>\n",
       "\n",
       "            <p><a href=\"http://192.168.0.235:4040\">Spark UI</a></p>\n",
       "\n",
       "            <dl>\n",
       "              <dt>Version</dt>\n",
       "                <dd><code>v3.0.1</code></dd>\n",
       "              <dt>Master</dt>\n",
       "                <dd><code>local[*]</code></dd>\n",
       "              <dt>AppName</dt>\n",
       "                <dd><code>pyspark-shell</code></dd>\n",
       "            </dl>\n",
       "        </div>\n",
       "        \n",
       "            </div>\n",
       "        "
      ],
      "text/plain": [
       "<pyspark.sql.session.SparkSession at 0x7fe2bf99da90>"
      ]
     },
     "execution_count": 3,
     "metadata": {},
     "output_type": "execute_result"
    }
   ],
   "source": [
    "spark"
   ]
  },
  {
   "cell_type": "code",
   "execution_count": 4,
   "metadata": {},
   "outputs": [],
   "source": [
    "from tfg import DataRepository\n",
    "\n",
    "repo = DataRepository(config=config, base_data_path=data_dir)"
   ]
  },
  {
   "cell_type": "markdown",
   "metadata": {},
   "source": [
    "# Load labels"
   ]
  },
  {
   "cell_type": "code",
   "execution_count": 5,
   "metadata": {},
   "outputs": [
    {
     "name": "stdout",
     "output_type": "stream",
     "text": [
      "+----------+-------+-------+-----+---------+\n",
      "|patient_id|scan_id|n_slice|label|num_clips|\n",
      "+----------+-------+-------+-----+---------+\n",
      "|         0|   3131|    285|   CP|        5|\n",
      "|         0|   3132|     42|   CP|        1|\n",
      "|         0|   3133|    290|   CP|        5|\n",
      "|         0|   3134|     37|   CP|        1|\n",
      "|         0|   3135|    269|   CP|        4|\n",
      "+----------+-------+-------+-----+---------+\n",
      "only showing top 5 rows\n",
      "\n"
     ]
    }
   ],
   "source": [
    "labels = spark.read.parquet(str(preprocessed_labels_file))\n",
    "\n",
    "labels.show(5)"
   ]
  },
  {
   "cell_type": "code",
   "execution_count": 6,
   "metadata": {},
   "outputs": [
    {
     "data": {
      "text/plain": [
       "4178"
      ]
     },
     "execution_count": 6,
     "metadata": {},
     "output_type": "execute_result"
    }
   ],
   "source": [
    "num_labels = labels.count()\n",
    "num_labels"
   ]
  },
  {
   "cell_type": "code",
   "execution_count": 7,
   "metadata": {},
   "outputs": [
    {
     "name": "stdout",
     "output_type": "stream",
     "text": [
      "+------+-----+------+\n",
      "| label|count|   pct|\n",
      "+------+-----+------+\n",
      "|    CP| 1556|0.3724|\n",
      "|   NCP| 1544|0.3696|\n",
      "|Normal| 1078| 0.258|\n",
      "+------+-----+------+\n",
      "\n"
     ]
    }
   ],
   "source": [
    "labels\\\n",
    "    .groupBy(\"label\")\\\n",
    "    .agg(\n",
    "        F.count(\"*\").alias(\"count\"),\n",
    "        F.round((F.count(\"*\") / num_labels), 4).alias(\"pct\"),\n",
    "    )\\\n",
    "    .show()"
   ]
  },
  {
   "cell_type": "code",
   "execution_count": 8,
   "metadata": {},
   "outputs": [
    {
     "data": {
      "text/plain": [
       "2742"
      ]
     },
     "execution_count": 8,
     "metadata": {},
     "output_type": "execute_result"
    }
   ],
   "source": [
    "labels.select(\"patient_id\").distinct().count()"
   ]
  },
  {
   "cell_type": "markdown",
   "metadata": {},
   "source": [
    "# Split patient ids into train / test"
   ]
  },
  {
   "cell_type": "code",
   "execution_count": 9,
   "metadata": {},
   "outputs": [
    {
     "data": {
      "text/plain": [
       "[0.8, 0.1, 0.1]"
      ]
     },
     "execution_count": 9,
     "metadata": {},
     "output_type": "execute_result"
    }
   ],
   "source": [
    "seed = config.get_int(\"tfg.seed\")\n",
    "test_fraction = config.get_float(\"tfg.training.test_fraction\")\n",
    "val_fraction = config.get_float(\"tfg.training.val_fraction\")\n",
    "train_fraction = 1 - test_fraction - val_fraction\n",
    "split_weights = [train_fraction, val_fraction, test_fraction]\n",
    "split_weights"
   ]
  },
  {
   "cell_type": "code",
   "execution_count": 10,
   "metadata": {},
   "outputs": [
    {
     "name": "stdout",
     "output_type": "stream",
     "text": [
      "Training rows: 3350\n",
      "Validation rows: 402\n",
      "Test rows: 426\n",
      "+----------+-------+-------+-----+---------+\n",
      "|patient_id|scan_id|n_slice|label|num_clips|\n",
      "+----------+-------+-------+-----+---------+\n",
      "|         0|   3131|    285|   CP|        5|\n",
      "|         0|   3132|     42|   CP|        1|\n",
      "|         0|   3133|    290|   CP|        5|\n",
      "|         0|   3134|     37|   CP|        1|\n",
      "|         0|   3135|    269|   CP|        4|\n",
      "+----------+-------+-------+-----+---------+\n",
      "only showing top 5 rows\n",
      "\n",
      "+----------+-------+-------+-----+---------+\n",
      "|patient_id|scan_id|n_slice|label|num_clips|\n",
      "+----------+-------+-------+-----+---------+\n",
      "|      1075|   3118|    553|   CP|        8|\n",
      "|      1075|   3119|     70|   CP|        1|\n",
      "|      1080|   3125|     64|   CP|        1|\n",
      "|      1093|   3311|    173|   CP|        3|\n",
      "|      1394|   3847|     62|   CP|        1|\n",
      "+----------+-------+-------+-----+---------+\n",
      "only showing top 5 rows\n",
      "\n",
      "+----------+-------+-------+-----+---------+\n",
      "|patient_id|scan_id|n_slice|label|num_clips|\n",
      "+----------+-------+-------+-----+---------+\n",
      "|         1|   3143|    300|   CP|        5|\n",
      "|         1|   3144|    248|   CP|        4|\n",
      "|         1|   3145|    248|   CP|        4|\n",
      "|         1|   3146|     70|   CP|        1|\n",
      "|         1|   3147|     70|   CP|        1|\n",
      "+----------+-------+-------+-----+---------+\n",
      "only showing top 5 rows\n",
      "\n"
     ]
    }
   ],
   "source": [
    "patient_ids = labels.select(\"patient_id\").distinct()\n",
    "\n",
    "id_dfs = patient_ids.randomSplit(split_weights, seed=seed)\n",
    "train_ids = id_dfs[0]\n",
    "val_ids =  id_dfs[1]\n",
    "test_ids =  id_dfs[2]\n",
    "\n",
    "train_labels = labels.join(train_ids, [\"patient_id\"], \"inner\")\n",
    "val_labels = labels.join(val_ids, [\"patient_id\"], \"inner\")\n",
    "test_labels = labels.join(test_ids, [\"patient_id\"], \"inner\")\n",
    "\n",
    "train_count = train_labels.count()\n",
    "val_count = val_labels.count()\n",
    "test_count = test_labels.count()\n",
    "\n",
    "print(f\"Training rows: {train_count}\")\n",
    "print(f\"Validation rows: {val_count}\")\n",
    "print(f\"Test rows: {test_count}\")\n",
    "\n",
    "train_labels.show(5)\n",
    "val_labels.show(5)\n",
    "test_labels.show(5)"
   ]
  },
  {
   "cell_type": "code",
   "execution_count": 11,
   "metadata": {},
   "outputs": [
    {
     "name": "stdout",
     "output_type": "stream",
     "text": [
      "Train label counts and percentages\n",
      "+------+-----+----+\n",
      "| label|count| pct|\n",
      "+------+-----+----+\n",
      "|    CP| 1229|0.37|\n",
      "|   NCP| 1229|0.37|\n",
      "|Normal|  892|0.27|\n",
      "+------+-----+----+\n",
      "\n",
      "Validation label counts and percentages\n",
      "+------+-----+----+\n",
      "| label|count| pct|\n",
      "+------+-----+----+\n",
      "|    CP|  152|0.38|\n",
      "|   NCP|  158|0.39|\n",
      "|Normal|   92|0.23|\n",
      "+------+-----+----+\n",
      "\n",
      "Test label counts and labels\n",
      "+------+-----+----+\n",
      "| label|count| pct|\n",
      "+------+-----+----+\n",
      "|    CP|  175|0.41|\n",
      "|   NCP|  157|0.37|\n",
      "|Normal|   94|0.22|\n",
      "+------+-----+----+\n",
      "\n"
     ]
    }
   ],
   "source": [
    "print(\"Train label counts and percentages\")\n",
    "train_labels\\\n",
    "    .groupBy(\"label\")\\\n",
    "    .agg(\n",
    "        F.count(\"*\").alias(\"count\"),\n",
    "        F.round((F.count(\"*\") / train_count), 2).alias(\"pct\"),\n",
    "    )\\\n",
    "    .show()\n",
    "\n",
    "print(\"Validation label counts and percentages\")\n",
    "val_labels\\\n",
    "    .groupBy(\"label\")\\\n",
    "    .agg(\n",
    "        F.count(\"*\").alias(\"count\"),\n",
    "        F.round((F.count(\"*\") / val_count), 2).alias(\"pct\"),\n",
    "    )\\\n",
    "    .show()\n",
    "\n",
    "print(\"Test label counts and labels\")\n",
    "test_labels\\\n",
    "    .groupBy(\"label\")\\\n",
    "    .agg(\n",
    "        F.count(\"*\").alias(\"count\"),\n",
    "        F.round((F.count(\"*\") / test_count), 2).alias(\"pct\"),\n",
    "    )\\\n",
    "    .show()"
   ]
  },
  {
   "cell_type": "markdown",
   "metadata": {},
   "source": [
    "# Create datasets for the CNN\n",
    "\n",
    "For each of the train/validation/test sets we have, we will create a pandas dataframe, and we'll use these dataframe to create the data generators for our model."
   ]
  },
  {
   "cell_type": "code",
   "execution_count": 12,
   "metadata": {},
   "outputs": [],
   "source": [
    "from dataclasses import dataclass\n",
    "\n",
    "from pyspark.sql import Row\n",
    "\n",
    "\n",
    "@dataclass\n",
    "class Observation:\n",
    "    patient_id: int\n",
    "    scan_id: int\n",
    "    n_slice: int\n",
    "    num_clips: int\n",
    "    label: str\n",
    "\n",
    "    @staticmethod\n",
    "    def from_row(r: Row) -> \"Observation\":\n",
    "        return Observation(\n",
    "            patient_id=r.patient_id,\n",
    "            scan_id=r.scan_id,\n",
    "            n_slice=r.n_slice,\n",
    "            num_clips=r.num_clips,\n",
    "            label=r.label,\n",
    "        )"
   ]
  },
  {
   "cell_type": "code",
   "execution_count": 20,
   "metadata": {},
   "outputs": [],
   "source": [
    "from tqdm.notebook import tqdm\n",
    "import pandas as pd\n",
    "from pathlib import Path\n",
    "\n",
    "def create_df(config, labels):\n",
    "    raw_images = {\n",
    "        \"label\": [],\n",
    "        \"file\": [],\n",
    "        \"patient_id\": [],\n",
    "        \"scan_id\": [],\n",
    "        \"n_slice\": [],\n",
    "        \"num_clips\": [],\n",
    "        \"seq_num\": [],\n",
    "        \"clip_num\": [],\n",
    "    }\n",
    "\n",
    "    IMAGES_PER_CLIP = config.get_int(\"tfg.training.images_per_clip\")\n",
    "\n",
    "    for r in labels.collect():\n",
    "        obs = Observation.from_row(r)\n",
    "        scan_path = Path(f\"{obs.label}/{obs.patient_id}/{obs.scan_id}\")\n",
    "        absolute_scan_path = images_input_dir / scan_path\n",
    "        # different directories have different formats\n",
    "        img_ext = next(absolute_scan_path.glob(\"*.*\")).suffix\n",
    "\n",
    "        scan_images = []\n",
    "        seq_nums = []\n",
    "        clip_nums = []\n",
    "\n",
    "        seq_num = 0\n",
    "        images_input_dir_str = str(images_input_dir)\n",
    "        path_offset = len(images_input_dir_str) + 1\n",
    "        for seq_num, img in enumerate(absolute_scan_path.glob(f\"*{img_ext}\")):\n",
    "            img_to_append = str(img)[path_offset:]\n",
    "            scan_images.append(img_to_append)\n",
    "            seq_nums.append(seq_num)\n",
    "            clip_nums.append(seq_num // IMAGES_PER_CLIP)\n",
    "            seq_num = seq_num + 1\n",
    "\n",
    "        raw_images[\"label\"].extend([obs.label] * obs.n_slice)\n",
    "        raw_images[\"file\"].extend(scan_images)\n",
    "        raw_images[\"patient_id\"].extend([obs.patient_id] * obs.n_slice)\n",
    "        raw_images[\"scan_id\"].extend([obs.scan_id] * obs.n_slice)\n",
    "        raw_images[\"n_slice\"].extend([obs.n_slice] * obs.n_slice)\n",
    "        raw_images[\"num_clips\"].extend([obs.patient_id] * obs.n_slice)\n",
    "        raw_images[\"seq_num\"].extend(seq_nums)\n",
    "        raw_images[\"clip_num\"].extend(clip_nums)\n",
    "        \n",
    "    return pd.DataFrame(raw_images)"
   ]
  },
  {
   "cell_type": "code",
   "execution_count": 21,
   "metadata": {},
   "outputs": [
    {
     "name": "stdout",
     "output_type": "stream",
     "text": [
      "(331286, 8)\n"
     ]
    },
    {
     "data": {
      "text/html": [
       "<div>\n",
       "<style scoped>\n",
       "    .dataframe tbody tr th:only-of-type {\n",
       "        vertical-align: middle;\n",
       "    }\n",
       "\n",
       "    .dataframe tbody tr th {\n",
       "        vertical-align: top;\n",
       "    }\n",
       "\n",
       "    .dataframe thead th {\n",
       "        text-align: right;\n",
       "    }\n",
       "</style>\n",
       "<table border=\"1\" class=\"dataframe\">\n",
       "  <thead>\n",
       "    <tr style=\"text-align: right;\">\n",
       "      <th></th>\n",
       "      <th>label</th>\n",
       "      <th>file</th>\n",
       "      <th>patient_id</th>\n",
       "      <th>scan_id</th>\n",
       "      <th>n_slice</th>\n",
       "      <th>num_clips</th>\n",
       "      <th>seq_num</th>\n",
       "      <th>clip_num</th>\n",
       "    </tr>\n",
       "  </thead>\n",
       "  <tbody>\n",
       "    <tr>\n",
       "      <th>0</th>\n",
       "      <td>CP</td>\n",
       "      <td>CP/0/3131/0275.png</td>\n",
       "      <td>0</td>\n",
       "      <td>3131</td>\n",
       "      <td>285</td>\n",
       "      <td>0</td>\n",
       "      <td>0</td>\n",
       "      <td>0</td>\n",
       "    </tr>\n",
       "    <tr>\n",
       "      <th>1</th>\n",
       "      <td>CP</td>\n",
       "      <td>CP/0/3131/0064.png</td>\n",
       "      <td>0</td>\n",
       "      <td>3131</td>\n",
       "      <td>285</td>\n",
       "      <td>0</td>\n",
       "      <td>1</td>\n",
       "      <td>0</td>\n",
       "    </tr>\n",
       "    <tr>\n",
       "      <th>2</th>\n",
       "      <td>CP</td>\n",
       "      <td>CP/0/3131/0083.png</td>\n",
       "      <td>0</td>\n",
       "      <td>3131</td>\n",
       "      <td>285</td>\n",
       "      <td>0</td>\n",
       "      <td>2</td>\n",
       "      <td>0</td>\n",
       "    </tr>\n",
       "    <tr>\n",
       "      <th>3</th>\n",
       "      <td>CP</td>\n",
       "      <td>CP/0/3131/0160.png</td>\n",
       "      <td>0</td>\n",
       "      <td>3131</td>\n",
       "      <td>285</td>\n",
       "      <td>0</td>\n",
       "      <td>3</td>\n",
       "      <td>0</td>\n",
       "    </tr>\n",
       "    <tr>\n",
       "      <th>4</th>\n",
       "      <td>CP</td>\n",
       "      <td>CP/0/3131/0127.png</td>\n",
       "      <td>0</td>\n",
       "      <td>3131</td>\n",
       "      <td>285</td>\n",
       "      <td>0</td>\n",
       "      <td>4</td>\n",
       "      <td>0</td>\n",
       "    </tr>\n",
       "    <tr>\n",
       "      <th>...</th>\n",
       "      <td>...</td>\n",
       "      <td>...</td>\n",
       "      <td>...</td>\n",
       "      <td>...</td>\n",
       "      <td>...</td>\n",
       "      <td>...</td>\n",
       "      <td>...</td>\n",
       "      <td>...</td>\n",
       "    </tr>\n",
       "    <tr>\n",
       "      <th>331281</th>\n",
       "      <td>Normal</td>\n",
       "      <td>Normal/1924/379/0014.png</td>\n",
       "      <td>1924</td>\n",
       "      <td>379</td>\n",
       "      <td>98</td>\n",
       "      <td>1924</td>\n",
       "      <td>93</td>\n",
       "      <td>1</td>\n",
       "    </tr>\n",
       "    <tr>\n",
       "      <th>331282</th>\n",
       "      <td>Normal</td>\n",
       "      <td>Normal/1924/379/0001.png</td>\n",
       "      <td>1924</td>\n",
       "      <td>379</td>\n",
       "      <td>98</td>\n",
       "      <td>1924</td>\n",
       "      <td>94</td>\n",
       "      <td>1</td>\n",
       "    </tr>\n",
       "    <tr>\n",
       "      <th>331283</th>\n",
       "      <td>Normal</td>\n",
       "      <td>Normal/1924/379/0027.png</td>\n",
       "      <td>1924</td>\n",
       "      <td>379</td>\n",
       "      <td>98</td>\n",
       "      <td>1924</td>\n",
       "      <td>95</td>\n",
       "      <td>1</td>\n",
       "    </tr>\n",
       "    <tr>\n",
       "      <th>331284</th>\n",
       "      <td>Normal</td>\n",
       "      <td>Normal/1924/379/0031.png</td>\n",
       "      <td>1924</td>\n",
       "      <td>379</td>\n",
       "      <td>98</td>\n",
       "      <td>1924</td>\n",
       "      <td>96</td>\n",
       "      <td>1</td>\n",
       "    </tr>\n",
       "    <tr>\n",
       "      <th>331285</th>\n",
       "      <td>Normal</td>\n",
       "      <td>Normal/1924/379/0057.png</td>\n",
       "      <td>1924</td>\n",
       "      <td>379</td>\n",
       "      <td>98</td>\n",
       "      <td>1924</td>\n",
       "      <td>97</td>\n",
       "      <td>1</td>\n",
       "    </tr>\n",
       "  </tbody>\n",
       "</table>\n",
       "<p>331286 rows × 8 columns</p>\n",
       "</div>"
      ],
      "text/plain": [
       "         label                      file  patient_id  scan_id  n_slice  \\\n",
       "0           CP        CP/0/3131/0275.png           0     3131      285   \n",
       "1           CP        CP/0/3131/0064.png           0     3131      285   \n",
       "2           CP        CP/0/3131/0083.png           0     3131      285   \n",
       "3           CP        CP/0/3131/0160.png           0     3131      285   \n",
       "4           CP        CP/0/3131/0127.png           0     3131      285   \n",
       "...        ...                       ...         ...      ...      ...   \n",
       "331281  Normal  Normal/1924/379/0014.png        1924      379       98   \n",
       "331282  Normal  Normal/1924/379/0001.png        1924      379       98   \n",
       "331283  Normal  Normal/1924/379/0027.png        1924      379       98   \n",
       "331284  Normal  Normal/1924/379/0031.png        1924      379       98   \n",
       "331285  Normal  Normal/1924/379/0057.png        1924      379       98   \n",
       "\n",
       "        num_clips  seq_num  clip_num  \n",
       "0               0        0         0  \n",
       "1               0        1         0  \n",
       "2               0        2         0  \n",
       "3               0        3         0  \n",
       "4               0        4         0  \n",
       "...           ...      ...       ...  \n",
       "331281       1924       93         1  \n",
       "331282       1924       94         1  \n",
       "331283       1924       95         1  \n",
       "331284       1924       96         1  \n",
       "331285       1924       97         1  \n",
       "\n",
       "[331286 rows x 8 columns]"
      ]
     },
     "execution_count": 21,
     "metadata": {},
     "output_type": "execute_result"
    }
   ],
   "source": [
    "train_df = create_df(config, train_labels)\n",
    "print(f\"{train_df.shape}\")\n",
    "train_df"
   ]
  },
  {
   "cell_type": "code",
   "execution_count": 26,
   "metadata": {},
   "outputs": [
    {
     "data": {
      "text/plain": [
       "True"
      ]
     },
     "execution_count": 26,
     "metadata": {},
     "output_type": "execute_result"
    }
   ],
   "source": [
    "repo.save(\"train_df\", train_df)"
   ]
  },
  {
   "cell_type": "code",
   "execution_count": 27,
   "metadata": {},
   "outputs": [
    {
     "name": "stdout",
     "output_type": "stream",
     "text": [
      "(39828, 8)\n"
     ]
    },
    {
     "data": {
      "text/html": [
       "<div>\n",
       "<style scoped>\n",
       "    .dataframe tbody tr th:only-of-type {\n",
       "        vertical-align: middle;\n",
       "    }\n",
       "\n",
       "    .dataframe tbody tr th {\n",
       "        vertical-align: top;\n",
       "    }\n",
       "\n",
       "    .dataframe thead th {\n",
       "        text-align: right;\n",
       "    }\n",
       "</style>\n",
       "<table border=\"1\" class=\"dataframe\">\n",
       "  <thead>\n",
       "    <tr style=\"text-align: right;\">\n",
       "      <th></th>\n",
       "      <th>label</th>\n",
       "      <th>file</th>\n",
       "      <th>patient_id</th>\n",
       "      <th>scan_id</th>\n",
       "      <th>n_slice</th>\n",
       "      <th>num_clips</th>\n",
       "      <th>seq_num</th>\n",
       "      <th>clip_num</th>\n",
       "    </tr>\n",
       "  </thead>\n",
       "  <tbody>\n",
       "    <tr>\n",
       "      <th>0</th>\n",
       "      <td>CP</td>\n",
       "      <td>CP/1075/3118/0543.jpg</td>\n",
       "      <td>1075</td>\n",
       "      <td>3118</td>\n",
       "      <td>553</td>\n",
       "      <td>1075</td>\n",
       "      <td>0</td>\n",
       "      <td>0</td>\n",
       "    </tr>\n",
       "    <tr>\n",
       "      <th>1</th>\n",
       "      <td>CP</td>\n",
       "      <td>CP/1075/3118/0174.jpg</td>\n",
       "      <td>1075</td>\n",
       "      <td>3118</td>\n",
       "      <td>553</td>\n",
       "      <td>1075</td>\n",
       "      <td>1</td>\n",
       "      <td>0</td>\n",
       "    </tr>\n",
       "    <tr>\n",
       "      <th>2</th>\n",
       "      <td>CP</td>\n",
       "      <td>CP/1075/3118/0130.jpg</td>\n",
       "      <td>1075</td>\n",
       "      <td>3118</td>\n",
       "      <td>553</td>\n",
       "      <td>1075</td>\n",
       "      <td>2</td>\n",
       "      <td>0</td>\n",
       "    </tr>\n",
       "    <tr>\n",
       "      <th>3</th>\n",
       "      <td>CP</td>\n",
       "      <td>CP/1075/3118/0525.jpg</td>\n",
       "      <td>1075</td>\n",
       "      <td>3118</td>\n",
       "      <td>553</td>\n",
       "      <td>1075</td>\n",
       "      <td>3</td>\n",
       "      <td>0</td>\n",
       "    </tr>\n",
       "    <tr>\n",
       "      <th>4</th>\n",
       "      <td>CP</td>\n",
       "      <td>CP/1075/3118/0152.jpg</td>\n",
       "      <td>1075</td>\n",
       "      <td>3118</td>\n",
       "      <td>553</td>\n",
       "      <td>1075</td>\n",
       "      <td>4</td>\n",
       "      <td>0</td>\n",
       "    </tr>\n",
       "    <tr>\n",
       "      <th>...</th>\n",
       "      <td>...</td>\n",
       "      <td>...</td>\n",
       "      <td>...</td>\n",
       "      <td>...</td>\n",
       "      <td>...</td>\n",
       "      <td>...</td>\n",
       "      <td>...</td>\n",
       "      <td>...</td>\n",
       "    </tr>\n",
       "    <tr>\n",
       "      <th>39823</th>\n",
       "      <td>Normal</td>\n",
       "      <td>Normal/1920/375/0014.png</td>\n",
       "      <td>1920</td>\n",
       "      <td>375</td>\n",
       "      <td>100</td>\n",
       "      <td>1920</td>\n",
       "      <td>95</td>\n",
       "      <td>1</td>\n",
       "    </tr>\n",
       "    <tr>\n",
       "      <th>39824</th>\n",
       "      <td>Normal</td>\n",
       "      <td>Normal/1920/375/0001.png</td>\n",
       "      <td>1920</td>\n",
       "      <td>375</td>\n",
       "      <td>100</td>\n",
       "      <td>1920</td>\n",
       "      <td>96</td>\n",
       "      <td>1</td>\n",
       "    </tr>\n",
       "    <tr>\n",
       "      <th>39825</th>\n",
       "      <td>Normal</td>\n",
       "      <td>Normal/1920/375/0027.png</td>\n",
       "      <td>1920</td>\n",
       "      <td>375</td>\n",
       "      <td>100</td>\n",
       "      <td>1920</td>\n",
       "      <td>97</td>\n",
       "      <td>1</td>\n",
       "    </tr>\n",
       "    <tr>\n",
       "      <th>39826</th>\n",
       "      <td>Normal</td>\n",
       "      <td>Normal/1920/375/0031.png</td>\n",
       "      <td>1920</td>\n",
       "      <td>375</td>\n",
       "      <td>100</td>\n",
       "      <td>1920</td>\n",
       "      <td>98</td>\n",
       "      <td>1</td>\n",
       "    </tr>\n",
       "    <tr>\n",
       "      <th>39827</th>\n",
       "      <td>Normal</td>\n",
       "      <td>Normal/1920/375/0057.png</td>\n",
       "      <td>1920</td>\n",
       "      <td>375</td>\n",
       "      <td>100</td>\n",
       "      <td>1920</td>\n",
       "      <td>99</td>\n",
       "      <td>1</td>\n",
       "    </tr>\n",
       "  </tbody>\n",
       "</table>\n",
       "<p>39828 rows × 8 columns</p>\n",
       "</div>"
      ],
      "text/plain": [
       "        label                      file  patient_id  scan_id  n_slice  \\\n",
       "0          CP     CP/1075/3118/0543.jpg        1075     3118      553   \n",
       "1          CP     CP/1075/3118/0174.jpg        1075     3118      553   \n",
       "2          CP     CP/1075/3118/0130.jpg        1075     3118      553   \n",
       "3          CP     CP/1075/3118/0525.jpg        1075     3118      553   \n",
       "4          CP     CP/1075/3118/0152.jpg        1075     3118      553   \n",
       "...       ...                       ...         ...      ...      ...   \n",
       "39823  Normal  Normal/1920/375/0014.png        1920      375      100   \n",
       "39824  Normal  Normal/1920/375/0001.png        1920      375      100   \n",
       "39825  Normal  Normal/1920/375/0027.png        1920      375      100   \n",
       "39826  Normal  Normal/1920/375/0031.png        1920      375      100   \n",
       "39827  Normal  Normal/1920/375/0057.png        1920      375      100   \n",
       "\n",
       "       num_clips  seq_num  clip_num  \n",
       "0           1075        0         0  \n",
       "1           1075        1         0  \n",
       "2           1075        2         0  \n",
       "3           1075        3         0  \n",
       "4           1075        4         0  \n",
       "...          ...      ...       ...  \n",
       "39823       1920       95         1  \n",
       "39824       1920       96         1  \n",
       "39825       1920       97         1  \n",
       "39826       1920       98         1  \n",
       "39827       1920       99         1  \n",
       "\n",
       "[39828 rows x 8 columns]"
      ]
     },
     "execution_count": 27,
     "metadata": {},
     "output_type": "execute_result"
    }
   ],
   "source": [
    "val_df = create_df(config, val_labels)\n",
    "print(f\"{val_df.shape}\")\n",
    "val_df"
   ]
  },
  {
   "cell_type": "code",
   "execution_count": 28,
   "metadata": {},
   "outputs": [
    {
     "data": {
      "text/plain": [
       "True"
      ]
     },
     "execution_count": 28,
     "metadata": {},
     "output_type": "execute_result"
    }
   ],
   "source": [
    "repo.save(\"val_df\", val_df)"
   ]
  },
  {
   "cell_type": "code",
   "execution_count": 29,
   "metadata": {},
   "outputs": [
    {
     "name": "stdout",
     "output_type": "stream",
     "text": [
      "(40415, 8)\n"
     ]
    },
    {
     "data": {
      "text/html": [
       "<div>\n",
       "<style scoped>\n",
       "    .dataframe tbody tr th:only-of-type {\n",
       "        vertical-align: middle;\n",
       "    }\n",
       "\n",
       "    .dataframe tbody tr th {\n",
       "        vertical-align: top;\n",
       "    }\n",
       "\n",
       "    .dataframe thead th {\n",
       "        text-align: right;\n",
       "    }\n",
       "</style>\n",
       "<table border=\"1\" class=\"dataframe\">\n",
       "  <thead>\n",
       "    <tr style=\"text-align: right;\">\n",
       "      <th></th>\n",
       "      <th>label</th>\n",
       "      <th>file</th>\n",
       "      <th>patient_id</th>\n",
       "      <th>scan_id</th>\n",
       "      <th>n_slice</th>\n",
       "      <th>num_clips</th>\n",
       "      <th>seq_num</th>\n",
       "      <th>clip_num</th>\n",
       "    </tr>\n",
       "  </thead>\n",
       "  <tbody>\n",
       "    <tr>\n",
       "      <th>0</th>\n",
       "      <td>CP</td>\n",
       "      <td>CP/1/3143/0275.png</td>\n",
       "      <td>1</td>\n",
       "      <td>3143</td>\n",
       "      <td>300</td>\n",
       "      <td>1</td>\n",
       "      <td>0</td>\n",
       "      <td>0</td>\n",
       "    </tr>\n",
       "    <tr>\n",
       "      <th>1</th>\n",
       "      <td>CP</td>\n",
       "      <td>CP/1/3143/0064.png</td>\n",
       "      <td>1</td>\n",
       "      <td>3143</td>\n",
       "      <td>300</td>\n",
       "      <td>1</td>\n",
       "      <td>1</td>\n",
       "      <td>0</td>\n",
       "    </tr>\n",
       "    <tr>\n",
       "      <th>2</th>\n",
       "      <td>CP</td>\n",
       "      <td>CP/1/3143/0083.png</td>\n",
       "      <td>1</td>\n",
       "      <td>3143</td>\n",
       "      <td>300</td>\n",
       "      <td>1</td>\n",
       "      <td>2</td>\n",
       "      <td>0</td>\n",
       "    </tr>\n",
       "    <tr>\n",
       "      <th>3</th>\n",
       "      <td>CP</td>\n",
       "      <td>CP/1/3143/0160.png</td>\n",
       "      <td>1</td>\n",
       "      <td>3143</td>\n",
       "      <td>300</td>\n",
       "      <td>1</td>\n",
       "      <td>3</td>\n",
       "      <td>0</td>\n",
       "    </tr>\n",
       "    <tr>\n",
       "      <th>4</th>\n",
       "      <td>CP</td>\n",
       "      <td>CP/1/3143/0286.png</td>\n",
       "      <td>1</td>\n",
       "      <td>3143</td>\n",
       "      <td>300</td>\n",
       "      <td>1</td>\n",
       "      <td>4</td>\n",
       "      <td>0</td>\n",
       "    </tr>\n",
       "    <tr>\n",
       "      <th>...</th>\n",
       "      <td>...</td>\n",
       "      <td>...</td>\n",
       "      <td>...</td>\n",
       "      <td>...</td>\n",
       "      <td>...</td>\n",
       "      <td>...</td>\n",
       "      <td>...</td>\n",
       "      <td>...</td>\n",
       "    </tr>\n",
       "    <tr>\n",
       "      <th>40410</th>\n",
       "      <td>Normal</td>\n",
       "      <td>Normal/1917/372/0014.png</td>\n",
       "      <td>1917</td>\n",
       "      <td>372</td>\n",
       "      <td>96</td>\n",
       "      <td>1917</td>\n",
       "      <td>91</td>\n",
       "      <td>1</td>\n",
       "    </tr>\n",
       "    <tr>\n",
       "      <th>40411</th>\n",
       "      <td>Normal</td>\n",
       "      <td>Normal/1917/372/0001.png</td>\n",
       "      <td>1917</td>\n",
       "      <td>372</td>\n",
       "      <td>96</td>\n",
       "      <td>1917</td>\n",
       "      <td>92</td>\n",
       "      <td>1</td>\n",
       "    </tr>\n",
       "    <tr>\n",
       "      <th>40412</th>\n",
       "      <td>Normal</td>\n",
       "      <td>Normal/1917/372/0027.png</td>\n",
       "      <td>1917</td>\n",
       "      <td>372</td>\n",
       "      <td>96</td>\n",
       "      <td>1917</td>\n",
       "      <td>93</td>\n",
       "      <td>1</td>\n",
       "    </tr>\n",
       "    <tr>\n",
       "      <th>40413</th>\n",
       "      <td>Normal</td>\n",
       "      <td>Normal/1917/372/0031.png</td>\n",
       "      <td>1917</td>\n",
       "      <td>372</td>\n",
       "      <td>96</td>\n",
       "      <td>1917</td>\n",
       "      <td>94</td>\n",
       "      <td>1</td>\n",
       "    </tr>\n",
       "    <tr>\n",
       "      <th>40414</th>\n",
       "      <td>Normal</td>\n",
       "      <td>Normal/1917/372/0057.png</td>\n",
       "      <td>1917</td>\n",
       "      <td>372</td>\n",
       "      <td>96</td>\n",
       "      <td>1917</td>\n",
       "      <td>95</td>\n",
       "      <td>1</td>\n",
       "    </tr>\n",
       "  </tbody>\n",
       "</table>\n",
       "<p>40415 rows × 8 columns</p>\n",
       "</div>"
      ],
      "text/plain": [
       "        label                      file  patient_id  scan_id  n_slice  \\\n",
       "0          CP        CP/1/3143/0275.png           1     3143      300   \n",
       "1          CP        CP/1/3143/0064.png           1     3143      300   \n",
       "2          CP        CP/1/3143/0083.png           1     3143      300   \n",
       "3          CP        CP/1/3143/0160.png           1     3143      300   \n",
       "4          CP        CP/1/3143/0286.png           1     3143      300   \n",
       "...       ...                       ...         ...      ...      ...   \n",
       "40410  Normal  Normal/1917/372/0014.png        1917      372       96   \n",
       "40411  Normal  Normal/1917/372/0001.png        1917      372       96   \n",
       "40412  Normal  Normal/1917/372/0027.png        1917      372       96   \n",
       "40413  Normal  Normal/1917/372/0031.png        1917      372       96   \n",
       "40414  Normal  Normal/1917/372/0057.png        1917      372       96   \n",
       "\n",
       "       num_clips  seq_num  clip_num  \n",
       "0              1        0         0  \n",
       "1              1        1         0  \n",
       "2              1        2         0  \n",
       "3              1        3         0  \n",
       "4              1        4         0  \n",
       "...          ...      ...       ...  \n",
       "40410       1917       91         1  \n",
       "40411       1917       92         1  \n",
       "40412       1917       93         1  \n",
       "40413       1917       94         1  \n",
       "40414       1917       95         1  \n",
       "\n",
       "[40415 rows x 8 columns]"
      ]
     },
     "execution_count": 29,
     "metadata": {},
     "output_type": "execute_result"
    }
   ],
   "source": [
    "test_df = create_df(config, test_labels)\n",
    "print(f\"{test_df.shape}\")\n",
    "test_df"
   ]
  },
  {
   "cell_type": "code",
   "execution_count": 30,
   "metadata": {},
   "outputs": [
    {
     "data": {
      "text/plain": [
       "True"
      ]
     },
     "execution_count": 30,
     "metadata": {},
     "output_type": "execute_result"
    }
   ],
   "source": [
    "repo.save(\"test_df\", test_df)"
   ]
  },
  {
   "cell_type": "markdown",
   "metadata": {},
   "source": [
    "# Data Generators"
   ]
  },
  {
   "cell_type": "code",
   "execution_count": 5,
   "metadata": {},
   "outputs": [
    {
     "data": {
      "text/html": [
       "<div>\n",
       "<style scoped>\n",
       "    .dataframe tbody tr th:only-of-type {\n",
       "        vertical-align: middle;\n",
       "    }\n",
       "\n",
       "    .dataframe tbody tr th {\n",
       "        vertical-align: top;\n",
       "    }\n",
       "\n",
       "    .dataframe thead th {\n",
       "        text-align: right;\n",
       "    }\n",
       "</style>\n",
       "<table border=\"1\" class=\"dataframe\">\n",
       "  <thead>\n",
       "    <tr style=\"text-align: right;\">\n",
       "      <th></th>\n",
       "      <th>label</th>\n",
       "      <th>file</th>\n",
       "      <th>patient_id</th>\n",
       "      <th>scan_id</th>\n",
       "      <th>n_slice</th>\n",
       "      <th>num_clips</th>\n",
       "      <th>seq_num</th>\n",
       "      <th>clip_num</th>\n",
       "    </tr>\n",
       "  </thead>\n",
       "  <tbody>\n",
       "    <tr>\n",
       "      <th>0</th>\n",
       "      <td>CP</td>\n",
       "      <td>CP/0/3131/0275.png</td>\n",
       "      <td>0</td>\n",
       "      <td>3131</td>\n",
       "      <td>285</td>\n",
       "      <td>0</td>\n",
       "      <td>0</td>\n",
       "      <td>0</td>\n",
       "    </tr>\n",
       "    <tr>\n",
       "      <th>1</th>\n",
       "      <td>CP</td>\n",
       "      <td>CP/0/3131/0064.png</td>\n",
       "      <td>0</td>\n",
       "      <td>3131</td>\n",
       "      <td>285</td>\n",
       "      <td>0</td>\n",
       "      <td>1</td>\n",
       "      <td>0</td>\n",
       "    </tr>\n",
       "    <tr>\n",
       "      <th>2</th>\n",
       "      <td>CP</td>\n",
       "      <td>CP/0/3131/0083.png</td>\n",
       "      <td>0</td>\n",
       "      <td>3131</td>\n",
       "      <td>285</td>\n",
       "      <td>0</td>\n",
       "      <td>2</td>\n",
       "      <td>0</td>\n",
       "    </tr>\n",
       "    <tr>\n",
       "      <th>3</th>\n",
       "      <td>CP</td>\n",
       "      <td>CP/0/3131/0160.png</td>\n",
       "      <td>0</td>\n",
       "      <td>3131</td>\n",
       "      <td>285</td>\n",
       "      <td>0</td>\n",
       "      <td>3</td>\n",
       "      <td>0</td>\n",
       "    </tr>\n",
       "    <tr>\n",
       "      <th>4</th>\n",
       "      <td>CP</td>\n",
       "      <td>CP/0/3131/0127.png</td>\n",
       "      <td>0</td>\n",
       "      <td>3131</td>\n",
       "      <td>285</td>\n",
       "      <td>0</td>\n",
       "      <td>4</td>\n",
       "      <td>0</td>\n",
       "    </tr>\n",
       "  </tbody>\n",
       "</table>\n",
       "</div>"
      ],
      "text/plain": [
       "  label                file  patient_id  scan_id  n_slice  num_clips  seq_num  \\\n",
       "0    CP  CP/0/3131/0275.png           0     3131      285          0        0   \n",
       "1    CP  CP/0/3131/0064.png           0     3131      285          0        1   \n",
       "2    CP  CP/0/3131/0083.png           0     3131      285          0        2   \n",
       "3    CP  CP/0/3131/0160.png           0     3131      285          0        3   \n",
       "4    CP  CP/0/3131/0127.png           0     3131      285          0        4   \n",
       "\n",
       "   clip_num  \n",
       "0         0  \n",
       "1         0  \n",
       "2         0  \n",
       "3         0  \n",
       "4         0  "
      ]
     },
     "execution_count": 5,
     "metadata": {},
     "output_type": "execute_result"
    }
   ],
   "source": [
    "train_df = repo.load(\"train_df\")\n",
    "train_df.head(5)"
   ]
  },
  {
   "cell_type": "code",
   "execution_count": 6,
   "metadata": {},
   "outputs": [
    {
     "data": {
      "text/html": [
       "<div>\n",
       "<style scoped>\n",
       "    .dataframe tbody tr th:only-of-type {\n",
       "        vertical-align: middle;\n",
       "    }\n",
       "\n",
       "    .dataframe tbody tr th {\n",
       "        vertical-align: top;\n",
       "    }\n",
       "\n",
       "    .dataframe thead th {\n",
       "        text-align: right;\n",
       "    }\n",
       "</style>\n",
       "<table border=\"1\" class=\"dataframe\">\n",
       "  <thead>\n",
       "    <tr style=\"text-align: right;\">\n",
       "      <th></th>\n",
       "      <th>label</th>\n",
       "      <th>file</th>\n",
       "      <th>patient_id</th>\n",
       "      <th>scan_id</th>\n",
       "      <th>n_slice</th>\n",
       "      <th>num_clips</th>\n",
       "      <th>seq_num</th>\n",
       "      <th>clip_num</th>\n",
       "    </tr>\n",
       "  </thead>\n",
       "  <tbody>\n",
       "    <tr>\n",
       "      <th>0</th>\n",
       "      <td>CP</td>\n",
       "      <td>CP/1075/3118/0543.jpg</td>\n",
       "      <td>1075</td>\n",
       "      <td>3118</td>\n",
       "      <td>553</td>\n",
       "      <td>1075</td>\n",
       "      <td>0</td>\n",
       "      <td>0</td>\n",
       "    </tr>\n",
       "    <tr>\n",
       "      <th>1</th>\n",
       "      <td>CP</td>\n",
       "      <td>CP/1075/3118/0174.jpg</td>\n",
       "      <td>1075</td>\n",
       "      <td>3118</td>\n",
       "      <td>553</td>\n",
       "      <td>1075</td>\n",
       "      <td>1</td>\n",
       "      <td>0</td>\n",
       "    </tr>\n",
       "    <tr>\n",
       "      <th>2</th>\n",
       "      <td>CP</td>\n",
       "      <td>CP/1075/3118/0130.jpg</td>\n",
       "      <td>1075</td>\n",
       "      <td>3118</td>\n",
       "      <td>553</td>\n",
       "      <td>1075</td>\n",
       "      <td>2</td>\n",
       "      <td>0</td>\n",
       "    </tr>\n",
       "    <tr>\n",
       "      <th>3</th>\n",
       "      <td>CP</td>\n",
       "      <td>CP/1075/3118/0525.jpg</td>\n",
       "      <td>1075</td>\n",
       "      <td>3118</td>\n",
       "      <td>553</td>\n",
       "      <td>1075</td>\n",
       "      <td>3</td>\n",
       "      <td>0</td>\n",
       "    </tr>\n",
       "    <tr>\n",
       "      <th>4</th>\n",
       "      <td>CP</td>\n",
       "      <td>CP/1075/3118/0152.jpg</td>\n",
       "      <td>1075</td>\n",
       "      <td>3118</td>\n",
       "      <td>553</td>\n",
       "      <td>1075</td>\n",
       "      <td>4</td>\n",
       "      <td>0</td>\n",
       "    </tr>\n",
       "  </tbody>\n",
       "</table>\n",
       "</div>"
      ],
      "text/plain": [
       "  label                   file  patient_id  scan_id  n_slice  num_clips  \\\n",
       "0    CP  CP/1075/3118/0543.jpg        1075     3118      553       1075   \n",
       "1    CP  CP/1075/3118/0174.jpg        1075     3118      553       1075   \n",
       "2    CP  CP/1075/3118/0130.jpg        1075     3118      553       1075   \n",
       "3    CP  CP/1075/3118/0525.jpg        1075     3118      553       1075   \n",
       "4    CP  CP/1075/3118/0152.jpg        1075     3118      553       1075   \n",
       "\n",
       "   seq_num  clip_num  \n",
       "0        0         0  \n",
       "1        1         0  \n",
       "2        2         0  \n",
       "3        3         0  \n",
       "4        4         0  "
      ]
     },
     "execution_count": 6,
     "metadata": {},
     "output_type": "execute_result"
    }
   ],
   "source": [
    "val_df = repo.load(\"val_df\")\n",
    "val_df.head(5)"
   ]
  },
  {
   "cell_type": "code",
   "execution_count": 34,
   "metadata": {},
   "outputs": [
    {
     "data": {
      "application/vnd.jupyter.widget-view+json": {
       "model_id": "9c51630100294bdab057f79882116850",
       "version_major": 2,
       "version_minor": 0
      },
      "text/plain": [
       "HBox(children=(HTML(value=''), FloatProgress(value=1.0, bar_style='info', layout=Layout(width='20px'), max=1.0…"
      ]
     },
     "metadata": {},
     "output_type": "display_data"
    },
    {
     "name": "stdout",
     "output_type": "stream",
     "text": [
      "\n"
     ]
    },
    {
     "data": {
      "text/plain": [
       "{(512, 512), (768, 768), (1024, 1024), (1168, 1168)}"
      ]
     },
     "execution_count": 34,
     "metadata": {},
     "output_type": "execute_result"
    }
   ],
   "source": [
    "from tqdm.notebook import tqdm\n",
    "from tensorflow.keras.preprocessing.image import load_img\n",
    "\n",
    "img_sizes = set()\n",
    "\n",
    "for r in tqdm(train_df.drop_duplicates([\"patient_id\", \"scan_id\"]).iterrows()):\n",
    "    img_path = images_input_dir / r[1][\"file\"]\n",
    "    img_sizes.add(load_img(img_path).size)\n",
    "\n",
    "img_sizes"
   ]
  },
  {
   "cell_type": "code",
   "execution_count": 35,
   "metadata": {},
   "outputs": [
    {
     "data": {
      "application/vnd.jupyter.widget-view+json": {
       "model_id": "796027e9697d438d936c95655f92494f",
       "version_major": 2,
       "version_minor": 0
      },
      "text/plain": [
       "HBox(children=(HTML(value=''), FloatProgress(value=1.0, bar_style='info', layout=Layout(width='20px'), max=1.0…"
      ]
     },
     "metadata": {},
     "output_type": "display_data"
    },
    {
     "name": "stdout",
     "output_type": "stream",
     "text": [
      "\n"
     ]
    },
    {
     "data": {
      "text/plain": [
       "{(512, 512)}"
      ]
     },
     "execution_count": 35,
     "metadata": {},
     "output_type": "execute_result"
    }
   ],
   "source": [
    "val_img_sizes = set()\n",
    "\n",
    "for r in tqdm(val_df.drop_duplicates([\"patient_id\", \"scan_id\"]).iterrows()):\n",
    "    img_path = images_input_dir / r[1][\"file\"]\n",
    "    val_img_sizes.add(load_img(img_path).size)\n",
    "\n",
    "val_img_sizes"
   ]
  },
  {
   "cell_type": "code",
   "execution_count": 7,
   "metadata": {},
   "outputs": [
    {
     "name": "stdout",
     "output_type": "stream",
     "text": [
      "Found 331286 validated image filenames belonging to 3 classes.\n",
      "Found 39828 validated image filenames belonging to 3 classes.\n"
     ]
    }
   ],
   "source": [
    "from keras_preprocessing.image import ImageDataGenerator\n",
    "\n",
    "seed = config.get_int(\"tfg.seed\")\n",
    "val_fraction = config.get_float(\"tfg.training.val_fraction\")\n",
    "train_datagen = ImageDataGenerator(rescale=1./255.)\n",
    "val_datagen = ImageDataGenerator(rescale=1./255.)\n",
    "batch_size = config.get_int(\"tfg.training.batch_size\")\n",
    "\n",
    "train_generator = train_datagen.flow_from_dataframe(\n",
    "    dataframe=train_df,\n",
    "    directory=str(images_input_dir),\n",
    "    x_col=\"file\",\n",
    "    y_col=\"label\",\n",
    "    subset=\"training\",\n",
    "    batch_size=batch_size,\n",
    "    seed=seed,\n",
    "    shuffle=True,\n",
    "    class_mode=\"categorical\",\n",
    "    target_size=(512, 512))\n",
    "\n",
    "valid_generator = val_datagen.flow_from_dataframe(\n",
    "    dataframe=val_df,\n",
    "    directory=str(images_input_dir),\n",
    "    x_col=\"file\",\n",
    "    y_col=\"label\",\n",
    "    batch_size=batch_size,\n",
    "    seed=seed,\n",
    "    shuffle=True,\n",
    "    class_mode=\"categorical\",\n",
    "    target_size=(512, 512))"
   ]
  },
  {
   "cell_type": "markdown",
   "metadata": {},
   "source": [
    "# Create model"
   ]
  },
  {
   "cell_type": "code",
   "execution_count": 8,
   "metadata": {},
   "outputs": [
    {
     "data": {
      "text/plain": [
       "[PhysicalDevice(name='/physical_device:GPU:0', device_type='GPU')]"
      ]
     },
     "execution_count": 8,
     "metadata": {},
     "output_type": "execute_result"
    }
   ],
   "source": [
    "import tensorflow as tf\n",
    "\n",
    "tf.config.list_physical_devices(\"GPU\")"
   ]
  },
  {
   "cell_type": "code",
   "execution_count": 9,
   "metadata": {},
   "outputs": [],
   "source": [
    "from tensorflow import keras\n",
    "from tensorflow.keras import layers\n",
    "from tensorflow.keras import regularizers as reg\n",
    "from tensorflow.keras import callbacks"
   ]
  },
  {
   "cell_type": "code",
   "execution_count": 60,
   "metadata": {},
   "outputs": [],
   "source": [
    "input_images = keras.Input(shape=(512, 512, 3), name=\"input_images\")"
   ]
  },
  {
   "cell_type": "code",
   "execution_count": 61,
   "metadata": {},
   "outputs": [],
   "source": [
    "filters = 8\n",
    "initial_dense_features = 256\n",
    "num_features = 64\n",
    "num_classes = 3\n",
    "num_layers = 0\n",
    "cnn_net = input_images\n",
    "\n",
    "cnn_net = layers.Conv2D(filters=filters, kernel_size=3, padding=\"same\", activation=\"relu\", name=f\"conv2d_{num_layers+1:02d}\")(cnn_net)\n",
    "cnn_net = layers.MaxPool2D(2, name=f\"maxpool2d_{num_layers+1:02d}\")(cnn_net)\n",
    "filters = filters * 2\n",
    "num_layers = num_layers + 1\n",
    "\n",
    "cnn_net = layers.Conv2D(filters=filters, kernel_size=3, padding=\"same\", activation=\"relu\", name=f\"conv2d_{num_layers+1:02d}\")(cnn_net)\n",
    "cnn_net = layers.MaxPool2D(2, name=f\"maxpool2d_{num_layers+1:02d}\")(cnn_net)\n",
    "filters = filters * 2\n",
    "num_layers = num_layers + 1\n",
    "\n",
    "cnn_net = layers.Conv2D(filters=filters, kernel_size=3, padding=\"same\", activation=\"relu\", name=f\"conv2d_{num_layers+1:02d}\")(cnn_net)\n",
    "cnn_net = layers.MaxPool2D(2, name=f\"maxpool2d_{num_layers+1:02d}\")(cnn_net)\n",
    "filters = filters * 2\n",
    "num_layers = num_layers + 1\n",
    "\n",
    "cnn_net = layers.Conv2D(filters=filters, kernel_size=3, padding=\"same\", activation=\"relu\", name=f\"conv2d_{num_layers+1:02d}\")(cnn_net)\n",
    "cnn_net = layers.MaxPool2D(2, name=f\"maxpool2d_{num_layers+1:02d}\")(cnn_net)\n",
    "filters = filters * 2\n",
    "num_layers = num_layers + 1\n",
    "\n",
    "cnn_net = layers.Conv2D(filters=filters, kernel_size=3, padding=\"same\", activation=\"relu\", name=f\"conv2d_{num_layers+1:02d}\", kernel_regularizer=reg.l2(l=0.01))(cnn_net)\n",
    "cnn_net = layers.MaxPool2D(2, name=f\"maxpool2d_{num_layers+1:02d}\")(cnn_net)\n",
    "filters = filters * 2\n",
    "num_layers = num_layers + 1\n",
    "\n",
    "cnn_net = layers.Conv2D(filters=filters, kernel_size=3, padding=\"same\", activation=\"relu\", name=f\"conv2d_{num_layers+1:02d}\", kernel_regularizer=reg.l2(l=0.01))(cnn_net)\n",
    "cnn_net = layers.Dropout(0.3, name=f\"dropout__{num_layers+1:02d}\")(cnn_net)\n",
    "cnn_net = layers.MaxPool2D(2, name=f\"maxpool2d_{num_layers+1:02d}\")(cnn_net)\n",
    "filters = filters * 2\n",
    "num_layers = num_layers + 1\n",
    "\n",
    "# cnn_net = layers.Conv2D(filters=filters, kernel_size=3, padding=\"same\", activation=\"relu\", name=f\"conv2d_{num_layers+1:02d}\", kernel_regularizer=reg.l2(l=0.01))(cnn_net)\n",
    "# cnn_net = layers.MaxPool2D(2, name=f\"maxpool2d_{num_layers+1:02d}\")(cnn_net)\n",
    "# num_layers = num_layers + 1\n",
    "\n",
    "cnn_net = layers.Flatten(name=f\"flatten\")(cnn_net)\n",
    "\n",
    "# cnn_net = layers.Dense(initial_dense_features, activation=\"relu\", name=\"dense_01\")(cnn_net)\n",
    "# cnn_net = layers.Dropout(0.2, name=\"dropout_01\")(cnn_net)\n",
    "\n",
    "cnn_net = layers.Dense(initial_dense_features // 2, activation=\"relu\", name=\"dense_01\")(cnn_net)\n",
    "cnn_net = layers.Dropout(0.5, name=\"dropout_02\")(cnn_net)\n",
    "\n",
    "\n",
    "cnn_net = layers.Dense(num_features, activation=\"relu\", name=\"dense_02\")(cnn_net)\n",
    "cnn_net = layers.Dropout(0.5, name=\"dropout_03\")(cnn_net)\n",
    "\n",
    "output_layer = layers.Dense(num_classes, activation=\"softmax\", name=\"output\")\n",
    "outputs = output_layer(cnn_net)\n",
    "\n",
    "model = keras.Model(inputs=input_images, outputs=outputs, name=\"covid_classifier\")"
   ]
  },
  {
   "cell_type": "code",
   "execution_count": 62,
   "metadata": {},
   "outputs": [
    {
     "name": "stdout",
     "output_type": "stream",
     "text": [
      "Model: \"covid_classifier\"\n",
      "_________________________________________________________________\n",
      "Layer (type)                 Output Shape              Param #   \n",
      "=================================================================\n",
      "input_images (InputLayer)    [(None, 512, 512, 3)]     0         \n",
      "_________________________________________________________________\n",
      "conv2d_01 (Conv2D)           (None, 512, 512, 8)       224       \n",
      "_________________________________________________________________\n",
      "maxpool2d_01 (MaxPooling2D)  (None, 256, 256, 8)       0         \n",
      "_________________________________________________________________\n",
      "conv2d_02 (Conv2D)           (None, 256, 256, 16)      1168      \n",
      "_________________________________________________________________\n",
      "maxpool2d_02 (MaxPooling2D)  (None, 128, 128, 16)      0         \n",
      "_________________________________________________________________\n",
      "conv2d_03 (Conv2D)           (None, 128, 128, 32)      4640      \n",
      "_________________________________________________________________\n",
      "maxpool2d_03 (MaxPooling2D)  (None, 64, 64, 32)        0         \n",
      "_________________________________________________________________\n",
      "conv2d_04 (Conv2D)           (None, 64, 64, 64)        18496     \n",
      "_________________________________________________________________\n",
      "maxpool2d_04 (MaxPooling2D)  (None, 32, 32, 64)        0         \n",
      "_________________________________________________________________\n",
      "conv2d_05 (Conv2D)           (None, 32, 32, 128)       73856     \n",
      "_________________________________________________________________\n",
      "maxpool2d_05 (MaxPooling2D)  (None, 16, 16, 128)       0         \n",
      "_________________________________________________________________\n",
      "conv2d_06 (Conv2D)           (None, 16, 16, 256)       295168    \n",
      "_________________________________________________________________\n",
      "dropout__06 (Dropout)        (None, 16, 16, 256)       0         \n",
      "_________________________________________________________________\n",
      "maxpool2d_06 (MaxPooling2D)  (None, 8, 8, 256)         0         \n",
      "_________________________________________________________________\n",
      "flatten (Flatten)            (None, 16384)             0         \n",
      "_________________________________________________________________\n",
      "dense_01 (Dense)             (None, 128)               2097280   \n",
      "_________________________________________________________________\n",
      "dropout_02 (Dropout)         (None, 128)               0         \n",
      "_________________________________________________________________\n",
      "dense_02 (Dense)             (None, 64)                8256      \n",
      "_________________________________________________________________\n",
      "dropout_03 (Dropout)         (None, 64)                0         \n",
      "_________________________________________________________________\n",
      "output (Dense)               (None, 3)                 195       \n",
      "=================================================================\n",
      "Total params: 2,499,283\n",
      "Trainable params: 2,499,283\n",
      "Non-trainable params: 0\n",
      "_________________________________________________________________\n"
     ]
    }
   ],
   "source": [
    "model.summary()"
   ]
  },
  {
   "cell_type": "code",
   "execution_count": 63,
   "metadata": {},
   "outputs": [],
   "source": [
    "model.compile(optimizer='adam',\n",
    "              loss=\"categorical_crossentropy\",\n",
    "              metrics=['categorical_accuracy'])"
   ]
  },
  {
   "cell_type": "code",
   "execution_count": 51,
   "metadata": {},
   "outputs": [
    {
     "data": {
      "text/plain": [
       "10352"
      ]
     },
     "execution_count": 51,
     "metadata": {},
     "output_type": "execute_result"
    }
   ],
   "source": [
    "train_generator.n // train_generator.batch_size"
   ]
  },
  {
   "cell_type": "code",
   "execution_count": 64,
   "metadata": {},
   "outputs": [
    {
     "name": "stdout",
     "output_type": "stream",
     "text": [
      "CNN Model dir: /home/albert/projects/tfg/models/cnn_04\n"
     ]
    }
   ],
   "source": [
    "num_models = 1\n",
    "cnn_model_suffix = f\"{num_models:02d}\"\n",
    "cnn_model_dir = models_dir / f\"cnn_{cnn_model_suffix}\"\n",
    "\n",
    "while cnn_model_dir.exists():\n",
    "    num_models += 1\n",
    "    cnn_model_suffix = f\"{num_models:02d}\"\n",
    "    cnn_model_dir = models_dir / f\"cnn_{cnn_model_suffix}\"\n",
    "\n",
    "print(f\"CNN Model dir: {cnn_model_dir}\")\n",
    "cnn_model_dir.mkdir(exist_ok=True)\n",
    "cnn_checkpoint_dir = cnn_model_dir / \"checkpoint\"\n",
    "cnn_checkpoint_dir.mkdir(exist_ok=True)\n",
    "\n",
    "cnn_logs_dir = logs_dir / f\"cnn_{cnn_model_suffix}\"\n",
    "cnn_logs_dir.mkdir()"
   ]
  },
  {
   "cell_type": "code",
   "execution_count": 65,
   "metadata": {},
   "outputs": [],
   "source": [
    "checkpointer = callbacks.ModelCheckpoint(\n",
    "    str(cnn_checkpoint_dir),\n",
    "    monitor=\"val_categorical_accuracy\",\n",
    "    verbose=1,\n",
    "    save_best_only=True,\n",
    "    save_weights_only=False,\n",
    "    mode=\"auto\",\n",
    "    save_freq=\"epoch\"\n",
    ")\n",
    "\n",
    "tensorboard_logger = callbacks.TensorBoard(\n",
    "    log_dir=str(cnn_logs_dir),\n",
    "    histogram_freq=1,\n",
    "    write_graph=False,\n",
    "    write_images=False,\n",
    "    update_freq='epoch',\n",
    "    profile_batch=2,\n",
    "    embeddings_freq=0,\n",
    "    embeddings_metadata=None\n",
    ")\n",
    "\n",
    "model_callbacks = [checkpointer, tensorboard_logger]\n",
    "#model_callbacks = [checkpointer]"
   ]
  },
  {
   "cell_type": "code",
   "execution_count": 66,
   "metadata": {},
   "outputs": [
    {
     "name": "stdout",
     "output_type": "stream",
     "text": [
      "Epoch 1/10\n",
      "10352/10352 [==============================] - ETA: 0s - loss: 0.3602 - categorical_accuracy: 0.8634\n",
      "Epoch 00001: val_categorical_accuracy improved from -inf to 0.88786, saving model to /home/albert/projects/tfg/models/cnn_04/checkpoint\n",
      "INFO:tensorflow:Assets written to: /home/albert/projects/tfg/models/cnn_04/checkpoint/assets\n",
      "10352/10352 [==============================] - 8170s 789ms/step - loss: 0.3602 - categorical_accuracy: 0.8634 - val_loss: 0.2851 - val_categorical_accuracy: 0.8879\n",
      "Epoch 2/10\n",
      "10352/10352 [==============================] - ETA: 0s - loss: 0.1898 - categorical_accuracy: 0.9364\n",
      "Epoch 00002: val_categorical_accuracy improved from 0.88786 to 0.93755, saving model to /home/albert/projects/tfg/models/cnn_04/checkpoint\n",
      "INFO:tensorflow:Assets written to: /home/albert/projects/tfg/models/cnn_04/checkpoint/assets\n",
      "10352/10352 [==============================] - 8296s 801ms/step - loss: 0.1898 - categorical_accuracy: 0.9364 - val_loss: 0.2141 - val_categorical_accuracy: 0.9376\n",
      "Epoch 3/10\n",
      "10352/10352 [==============================] - ETA: 0s - loss: 0.1465 - categorical_accuracy: 0.9532\n",
      "Epoch 00003: val_categorical_accuracy did not improve from 0.93755\n",
      "10352/10352 [==============================] - 8405s 812ms/step - loss: 0.1465 - categorical_accuracy: 0.9532 - val_loss: 0.2562 - val_categorical_accuracy: 0.9244\n",
      "Epoch 4/10\n",
      "10352/10352 [==============================] - ETA: 0s - loss: 0.1272 - categorical_accuracy: 0.9610\n",
      "Epoch 00004: val_categorical_accuracy did not improve from 0.93755\n",
      "10352/10352 [==============================] - 8383s 810ms/step - loss: 0.1272 - categorical_accuracy: 0.9610 - val_loss: 0.2355 - val_categorical_accuracy: 0.9318\n",
      "Epoch 5/10\n",
      "10352/10352 [==============================] - ETA: 0s - loss: 0.1139 - categorical_accuracy: 0.9662\n",
      "Epoch 00005: val_categorical_accuracy improved from 0.93755 to 0.93763, saving model to /home/albert/projects/tfg/models/cnn_04/checkpoint\n",
      "INFO:tensorflow:Assets written to: /home/albert/projects/tfg/models/cnn_04/checkpoint/assets\n",
      "10352/10352 [==============================] - 8311s 803ms/step - loss: 0.1139 - categorical_accuracy: 0.9662 - val_loss: 0.2119 - val_categorical_accuracy: 0.9376\n",
      "Epoch 6/10\n",
      "10352/10352 [==============================] - ETA: 0s - loss: 0.1043 - categorical_accuracy: 0.9698\n",
      "Epoch 00006: val_categorical_accuracy improved from 0.93763 to 0.94152, saving model to /home/albert/projects/tfg/models/cnn_04/checkpoint\n",
      "INFO:tensorflow:Assets written to: /home/albert/projects/tfg/models/cnn_04/checkpoint/assets\n",
      "10352/10352 [==============================] - 8286s 800ms/step - loss: 0.1043 - categorical_accuracy: 0.9698 - val_loss: 0.1884 - val_categorical_accuracy: 0.9415\n",
      "Epoch 7/10\n",
      "10352/10352 [==============================] - ETA: 0s - loss: 0.0981 - categorical_accuracy: 0.9721\n",
      "Epoch 00007: val_categorical_accuracy did not improve from 0.94152\n",
      "10352/10352 [==============================] - 8400s 811ms/step - loss: 0.0981 - categorical_accuracy: 0.9721 - val_loss: 0.2322 - val_categorical_accuracy: 0.9414\n",
      "Epoch 8/10\n",
      "10352/10352 [==============================] - ETA: 0s - loss: 0.0932 - categorical_accuracy: 0.9738\n",
      "Epoch 00008: val_categorical_accuracy improved from 0.94152 to 0.94592, saving model to /home/albert/projects/tfg/models/cnn_04/checkpoint\n",
      "INFO:tensorflow:Assets written to: /home/albert/projects/tfg/models/cnn_04/checkpoint/assets\n",
      "10352/10352 [==============================] - 8450s 816ms/step - loss: 0.0932 - categorical_accuracy: 0.9738 - val_loss: 0.2133 - val_categorical_accuracy: 0.9459\n",
      "Epoch 9/10\n",
      "10352/10352 [==============================] - ETA: 0s - loss: 0.0891 - categorical_accuracy: 0.9756\n",
      "Epoch 00009: val_categorical_accuracy did not improve from 0.94592\n",
      "10352/10352 [==============================] - 8428s 814ms/step - loss: 0.0891 - categorical_accuracy: 0.9756 - val_loss: 0.2271 - val_categorical_accuracy: 0.9352\n",
      "Epoch 10/10\n",
      "10352/10352 [==============================] - ETA: 0s - loss: 0.0868 - categorical_accuracy: 0.9764\n",
      "Epoch 00010: val_categorical_accuracy improved from 0.94592 to 0.95933, saving model to /home/albert/projects/tfg/models/cnn_04/checkpoint\n",
      "INFO:tensorflow:Assets written to: /home/albert/projects/tfg/models/cnn_04/checkpoint/assets\n",
      "10352/10352 [==============================] - 8288s 801ms/step - loss: 0.0868 - categorical_accuracy: 0.9764 - val_loss: 0.1621 - val_categorical_accuracy: 0.9593\n"
     ]
    }
   ],
   "source": [
    "STEP_SIZE_TRAIN=train_generator.n//train_generator.batch_size\n",
    "STEP_SIZE_VALID=valid_generator.n//valid_generator.batch_size\n",
    "#STEP_SIZE_TEST=test_generator.n//test_generator.batch_size\n",
    "\n",
    "fit_history = model.fit_generator(generator=train_generator,\n",
    "                    steps_per_epoch=STEP_SIZE_TRAIN,\n",
    "                    validation_data=valid_generator,\n",
    "                    validation_steps=STEP_SIZE_VALID,\n",
    "                    epochs=10,\n",
    "                    callbacks=model_callbacks\n",
    ")"
   ]
  },
  {
   "cell_type": "code",
   "execution_count": 37,
   "metadata": {},
   "outputs": [
    {
     "name": "stdout",
     "output_type": "stream",
     "text": [
      "Epoch 1/3\n",
      "10352/10352 [==============================] - ETA: 0s - loss: 0.2962 - categorical_accuracy: 0.8927\n",
      "Epoch 00001: val_loss improved from inf to 0.21651, saving model to /home/albert/projects/tfg/models/cnn_02/checkpoint\n",
      "INFO:tensorflow:Assets written to: /home/albert/projects/tfg/models/cnn_02/checkpoint/assets\n",
      "10352/10352 [==============================] - 8343s 806ms/step - loss: 0.2962 - categorical_accuracy: 0.8927 - val_loss: 0.2165 - val_categorical_accuracy: 0.9338\n",
      "Epoch 2/3\n",
      "10352/10352 [==============================] - ETA: 0s - loss: 0.1475 - categorical_accuracy: 0.9557\n",
      "Epoch 00002: val_loss did not improve from 0.21651\n",
      "10352/10352 [==============================] - 8277s 800ms/step - loss: 0.1475 - categorical_accuracy: 0.9557 - val_loss: 0.2370 - val_categorical_accuracy: 0.9389\n",
      "Epoch 3/3\n",
      "10352/10352 [==============================] - ETA: 0s - loss: 0.1129 - categorical_accuracy: 0.9679\n",
      "Epoch 00003: val_loss did not improve from 0.21651\n",
      "10352/10352 [==============================] - 8205s 793ms/step - loss: 0.1129 - categorical_accuracy: 0.9679 - val_loss: 0.2613 - val_categorical_accuracy: 0.9363\n"
     ]
    }
   ],
   "source": [
    "# # CNN 02\n",
    "# STEP_SIZE_TRAIN=train_generator.n//train_generator.batch_size\n",
    "# STEP_SIZE_VALID=valid_generator.n//valid_generator.batch_size\n",
    "# #STEP_SIZE_TEST=test_generator.n//test_generator.batch_size\n",
    "\n",
    "# fit_history = model.fit_generator(generator=train_generator,\n",
    "#                     steps_per_epoch=STEP_SIZE_TRAIN,\n",
    "#                     validation_data=valid_generator,\n",
    "#                     validation_steps=STEP_SIZE_VALID,\n",
    "#                     epochs=3,\n",
    "#                     callbacks=model_callbacks\n",
    "# )"
   ]
  },
  {
   "cell_type": "code",
   "execution_count": 67,
   "metadata": {},
   "outputs": [
    {
     "data": {
      "text/plain": [
       "{'loss': [0.36022481322288513,\n",
       "  0.1897590309381485,\n",
       "  0.1465327888727188,\n",
       "  0.1271800398826599,\n",
       "  0.11387678235769272,\n",
       "  0.10429384559392929,\n",
       "  0.09807515889406204,\n",
       "  0.09321802854537964,\n",
       "  0.0890807956457138,\n",
       "  0.08676186203956604],\n",
       " 'categorical_accuracy': [0.8634008765220642,\n",
       "  0.9363570213317871,\n",
       "  0.9532443284988403,\n",
       "  0.9610450267791748,\n",
       "  0.9661709666252136,\n",
       "  0.9697784781455994,\n",
       "  0.9720818400382996,\n",
       "  0.9737935066223145,\n",
       "  0.9756470918655396,\n",
       "  0.976374626159668],\n",
       " 'val_loss': [0.2851249873638153,\n",
       "  0.2141457498073578,\n",
       "  0.2561866044998169,\n",
       "  0.23549190163612366,\n",
       "  0.21191701292991638,\n",
       "  0.18840189278125763,\n",
       "  0.23217295110225677,\n",
       "  0.2132565677165985,\n",
       "  0.22709360718727112,\n",
       "  0.16212016344070435],\n",
       " 'val_categorical_accuracy': [0.8878617286682129,\n",
       "  0.9375502467155457,\n",
       "  0.9243619441986084,\n",
       "  0.9318227767944336,\n",
       "  0.9376255869865417,\n",
       "  0.9415193200111389,\n",
       "  0.941443920135498,\n",
       "  0.9459154009819031,\n",
       "  0.9352140426635742,\n",
       "  0.9593297839164734]}"
      ]
     },
     "execution_count": 67,
     "metadata": {},
     "output_type": "execute_result"
    }
   ],
   "source": [
    "fit_history.history"
   ]
  },
  {
   "cell_type": "code",
   "execution_count": 68,
   "metadata": {},
   "outputs": [],
   "source": [
    "import seaborn as sns\n",
    "\n",
    "sns.set_style(\"whitegrid\")\n",
    "sns.set(rc={'figure.figsize':(13, 9)})"
   ]
  },
  {
   "cell_type": "code",
   "execution_count": 69,
   "metadata": {},
   "outputs": [
    {
     "data": {
      "image/png": "[encoded data removed]",
      "text/plain": [
       "<Figure size 936x648 with 1 Axes>"
      ]
     },
     "metadata": {},
     "output_type": "display_data"
    }
   ],
   "source": [
    "import matplotlib.pyplot as plt\n",
    "\n",
    "plt.plot(fit_history.history[\"loss\"], label=\"training\")\n",
    "plt.plot(fit_history.history[\"val_loss\"], label=\"validation\")\n",
    "plt.title(\"CNN Training and Validation Losses\")\n",
    "plt.xlabel(\"Epoch\")\n",
    "plt.ylabel(\"Loss\")\n",
    "plt.legend()\n",
    "plt.savefig(figures_dir / f\"cnn_{cnn_model_suffix}_loss.png\")\n",
    "plt.show()"
   ]
  },
  {
   "cell_type": "code",
   "execution_count": 71,
   "metadata": {},
   "outputs": [
    {
     "data": {
      "image/png": "[encoded data removed]",
      "text/plain": [
       "<Figure size 936x648 with 1 Axes>"
      ]
     },
     "metadata": {},
     "output_type": "display_data"
    }
   ],
   "source": [
    "import matplotlib.pyplot as plt\n",
    "\n",
    "plt.plot(fit_history.history[\"categorical_accuracy\"], label=\"training\")\n",
    "plt.plot(fit_history.history[\"val_categorical_accuracy\"], label=\"validation\")\n",
    "plt.title(\"CNN Training and Validation Categorical Accuracy\")\n",
    "plt.xlabel(\"Epoch\")\n",
    "plt.ylabel(\"Categorical Accuracy\")\n",
    "plt.legend()\n",
    "plt.savefig(figures_dir / f\"cnn_{cnn_model_suffix}_cat_accuracy.png\")\n",
    "plt.show()"
   ]
  },
  {
   "cell_type": "code",
   "execution_count": 73,
   "metadata": {},
   "outputs": [
    {
     "name": "stdout",
     "output_type": "stream",
     "text": [
      "INFO:tensorflow:Assets written to: /home/albert/projects/tfg/models/feature_extractor.tf/assets\n"
     ]
    }
   ],
   "source": [
    "model.save(str(feature_extractor_model_file))\n",
    "\n",
    "del model"
   ]
  },
  {
   "cell_type": "code",
   "execution_count": 78,
   "metadata": {},
   "outputs": [
    {
     "name": "stdout",
     "output_type": "stream",
     "text": [
      "Model: \"covid_classifier\"\n",
      "_________________________________________________________________\n",
      "Layer (type)                 Output Shape              Param #   \n",
      "=================================================================\n",
      "input_images (InputLayer)    [(None, 512, 512, 3)]     0         \n",
      "_________________________________________________________________\n",
      "conv2d_01 (Conv2D)           (None, 512, 512, 8)       224       \n",
      "_________________________________________________________________\n",
      "maxpool2d_01 (MaxPooling2D)  (None, 256, 256, 8)       0         \n",
      "_________________________________________________________________\n",
      "conv2d_02 (Conv2D)           (None, 256, 256, 16)      1168      \n",
      "_________________________________________________________________\n",
      "maxpool2d_02 (MaxPooling2D)  (None, 128, 128, 16)      0         \n",
      "_________________________________________________________________\n",
      "conv2d_03 (Conv2D)           (None, 128, 128, 32)      4640      \n",
      "_________________________________________________________________\n",
      "maxpool2d_03 (MaxPooling2D)  (None, 64, 64, 32)        0         \n",
      "_________________________________________________________________\n",
      "conv2d_04 (Conv2D)           (None, 64, 64, 64)        18496     \n",
      "_________________________________________________________________\n",
      "maxpool2d_04 (MaxPooling2D)  (None, 32, 32, 64)        0         \n",
      "_________________________________________________________________\n",
      "conv2d_05 (Conv2D)           (None, 32, 32, 128)       73856     \n",
      "_________________________________________________________________\n",
      "maxpool2d_05 (MaxPooling2D)  (None, 16, 16, 128)       0         \n",
      "_________________________________________________________________\n",
      "conv2d_06 (Conv2D)           (None, 16, 16, 256)       295168    \n",
      "_________________________________________________________________\n",
      "dropout__06 (Dropout)        (None, 16, 16, 256)       0         \n",
      "_________________________________________________________________\n",
      "maxpool2d_06 (MaxPooling2D)  (None, 8, 8, 256)         0         \n",
      "_________________________________________________________________\n",
      "flatten (Flatten)            (None, 16384)             0         \n",
      "_________________________________________________________________\n",
      "dense_01 (Dense)             (None, 128)               2097280   \n",
      "_________________________________________________________________\n",
      "dropout_02 (Dropout)         (None, 128)               0         \n",
      "_________________________________________________________________\n",
      "dense_02 (Dense)             (None, 64)                8256      \n",
      "_________________________________________________________________\n",
      "dropout_03 (Dropout)         (None, 64)                0         \n",
      "_________________________________________________________________\n",
      "output (Dense)               (None, 3)                 195       \n",
      "=================================================================\n",
      "Total params: 2,499,283\n",
      "Trainable params: 2,499,283\n",
      "Non-trainable params: 0\n",
      "_________________________________________________________________\n"
     ]
    }
   ],
   "source": [
    "from tensorflow.keras.models import load_model\n",
    "\n",
    "loaded_model = load_model(str(feature_extractor_model_file))\n",
    "\n",
    "loaded_model.summary()"
   ]
  },
  {
   "cell_type": "code",
   "execution_count": 125,
   "metadata": {},
   "outputs": [
    {
     "name": "stdout",
     "output_type": "stream",
     "text": [
      "Found 39828 validated image filenames belonging to 3 classes.\n"
     ]
    }
   ],
   "source": [
    "valid_generator2 = val_datagen.flow_from_dataframe(\n",
    "    dataframe=val_df,\n",
    "    directory=str(images_input_dir),\n",
    "    x_col=\"file\",\n",
    "    y_col=\"label\",\n",
    "    batch_size=batch_size,\n",
    "    seed=seed,\n",
    "    shuffle=False,\n",
    "    class_mode=\"categorical\",\n",
    "    target_size=(512, 512))"
   ]
  },
  {
   "cell_type": "markdown",
   "metadata": {},
   "source": [
    "# Evaluation / Confusion matrix"
   ]
  },
  {
   "cell_type": "code",
   "execution_count": 182,
   "metadata": {},
   "outputs": [],
   "source": [
    "from sklearn.metrics import confusion_matrix, precision_recall_fscore_support"
   ]
  },
  {
   "cell_type": "code",
   "execution_count": 176,
   "metadata": {},
   "outputs": [],
   "source": [
    "import numpy as np\n",
    "import itertools\n",
    "\n",
    "sns.set_style(\"whitegrid\", {'axes.grid' : False})\n",
    "\n",
    "# based on answer from https://datascience.stackexchange.com/questions/40067/confusion-matrix-three-classes-python\n",
    "def plot_confusion_matrix(cm, classes,\n",
    "                          save_to=None,\n",
    "                          normalize=True,\n",
    "                          title='Confusion matrix',\n",
    "                          cmap=plt.cm.Blues):\n",
    "    \"\"\"\n",
    "    This function prints and plots the confusion matrix.\n",
    "    Normalization can be applied by setting `normalize=True`.\n",
    "    \"\"\"\n",
    "    \n",
    "    if normalize:\n",
    "        cm = cm.astype('float') / cm.sum(axis=1)[:, np.newaxis]\n",
    "        print(\"Normalized confusion matrix\")\n",
    "    else:\n",
    "        print('Confusion matrix, without normalization')\n",
    "\n",
    "    print(cm)\n",
    "\n",
    "    plt.imshow(cm, interpolation='nearest', cmap=cmap)\n",
    "    plt.title(title, fontdict={'fontsize' : 26})\n",
    "    plt.colorbar()\n",
    "    tick_marks = np.arange(len(classes))\n",
    "    plt.xticks(tick_marks, classes, fontsize=18)\n",
    "    plt.yticks(tick_marks, classes, fontsize=18)\n",
    "\n",
    "    fmt_pct = lambda pct: f\"{100 * pct:.2f}%\" if normalize else f\"{int(100 * pct)}%\"\n",
    "    thresh = cm.max() / 2.\n",
    "    for i, j in itertools.product(range(cm.shape[0]), range(cm.shape[1])):\n",
    "        plt.text(j, i, fmt_pct(cm[i, j]),\n",
    "                 horizontalalignment=\"center\",\n",
    "                 color=\"white\" if cm[i, j] > thresh else \"black\",\n",
    "                 fontdict={'fontsize' : 16})\n",
    "\n",
    "    plt.ylabel('True label', fontdict={'fontsize' : 22})\n",
    "    plt.xlabel('Predicted label', fontdict={'fontsize' : 22})\n",
    "    plt.tight_layout()\n",
    "    \n",
    "    if save_to:\n",
    "        plt.savefig(save_to)"
   ]
  },
  {
   "cell_type": "code",
   "execution_count": 126,
   "metadata": {},
   "outputs": [
    {
     "name": "stdout",
     "output_type": "stream",
     "text": [
      "1245/1245 [==============================] - 275s 221ms/step\n"
     ]
    },
    {
     "data": {
      "text/plain": [
       "(39828, 3)"
      ]
     },
     "execution_count": 126,
     "metadata": {},
     "output_type": "execute_result"
    }
   ],
   "source": [
    "raw_val_preds = loaded_model.predict(valid_generator2, steps=STEP_SIZE_VALID + 1, verbose=1)\n",
    "raw_val_preds.shape"
   ]
  },
  {
   "cell_type": "code",
   "execution_count": 172,
   "metadata": {},
   "outputs": [
    {
     "data": {
      "text/plain": [
       "array([[1.0000000e+00, 4.6959087e-08, 1.7427676e-09],\n",
       "       [9.9999750e-01, 2.4651283e-06, 5.0274412e-08],\n",
       "       [1.0000000e+00, 2.6076517e-08, 4.6189781e-09],\n",
       "       [9.9999988e-01, 1.0323813e-07, 4.3748369e-09],\n",
       "       [9.9990737e-01, 9.2562856e-05, 1.6381273e-08]], dtype=float32)"
      ]
     },
     "execution_count": 172,
     "metadata": {},
     "output_type": "execute_result"
    }
   ],
   "source": [
    "raw_val_preds[:5]"
   ]
  },
  {
   "cell_type": "code",
   "execution_count": 173,
   "metadata": {},
   "outputs": [
    {
     "data": {
      "text/plain": [
       "array([0, 0, 0, 0, 0, 0, 0, 0, 0, 0])"
      ]
     },
     "execution_count": 173,
     "metadata": {},
     "output_type": "execute_result"
    }
   ],
   "source": [
    "val_preds = raw_val_preds.argmax(axis=1)\n",
    "val_preds[:10]"
   ]
  },
  {
   "cell_type": "code",
   "execution_count": 130,
   "metadata": {},
   "outputs": [
    {
     "data": {
      "text/plain": [
       "{'CP': 0, 'NCP': 1, 'Normal': 2}"
      ]
     },
     "execution_count": 130,
     "metadata": {},
     "output_type": "execute_result"
    }
   ],
   "source": [
    "valid_generator2.class_indices"
   ]
  },
  {
   "cell_type": "code",
   "execution_count": 133,
   "metadata": {},
   "outputs": [],
   "source": [
    "val_true = valid_generator2.labels"
   ]
  },
  {
   "cell_type": "code",
   "execution_count": 175,
   "metadata": {},
   "outputs": [
    {
     "data": {
      "text/plain": [
       "[0, 0, 0, 0, 0, 0, 0, 0, 0, 0]"
      ]
     },
     "execution_count": 175,
     "metadata": {},
     "output_type": "execute_result"
    }
   ],
   "source": [
    "val_true[:10]"
   ]
  },
  {
   "cell_type": "code",
   "execution_count": 135,
   "metadata": {},
   "outputs": [],
   "source": [
    "val_cm = confusion_matrix(val_true, val_preds)"
   ]
  },
  {
   "cell_type": "code",
   "execution_count": 188,
   "metadata": {},
   "outputs": [],
   "source": [
    "class_labels = [k for k in valid_generator2.class_indices.keys()]"
   ]
  },
  {
   "cell_type": "code",
   "execution_count": 189,
   "metadata": {},
   "outputs": [
    {
     "name": "stdout",
     "output_type": "stream",
     "text": [
      "Normalized confusion matrix\n",
      "[[0.95734597 0.00264664 0.04000739]\n",
      " [0.0134202  0.98006515 0.00651466]\n",
      " [0.05467136 0.02065363 0.92467501]]\n"
     ]
    },
    {
     "data": {
      "image/png": "[encoded data removed]",
      "text/plain": [
       "<Figure size 936x648 with 2 Axes>"
      ]
     },
     "metadata": {},
     "output_type": "display_data"
    }
   ],
   "source": [
    "plot_confusion_matrix(\n",
    "    val_cm,\n",
    "    classes=class_labels,\n",
    "    title='Confusion matrix for Validation Set',\n",
    "    save_to=figures_dir / f\"feature_generator_val_conf_matrix.png\")"
   ]
  },
  {
   "cell_type": "code",
   "execution_count": 198,
   "metadata": {},
   "outputs": [
    {
     "name": "stdout",
     "output_type": "stream",
     "text": [
      "Validation F1 Score:  95.94\n",
      "Validation Precision:  95.96\n",
      "Validation Recall:  95.94\n"
     ]
    }
   ],
   "source": [
    "val_precision, val_recall, val_f1, _ = precision_recall_fscore_support(val_true, val_preds, average=\"weighted\")\n",
    "print(f\"Validation F1 Score: {100 * val_f1: .2f}\")\n",
    "print(f\"Validation Precision: {100 * val_precision: .2f}\")\n",
    "print(f\"Validation Recall: {100 * val_recall: .2f}\")"
   ]
  },
  {
   "cell_type": "markdown",
   "metadata": {},
   "source": [
    "#### precision_recall_fscore_support(val_true, val_preds)"
   ]
  },
  {
   "cell_type": "code",
   "execution_count": 180,
   "metadata": {},
   "outputs": [
    {
     "name": "stdout",
     "output_type": "stream",
     "text": [
      "Found 331286 validated image filenames belonging to 3 classes.\n"
     ]
    }
   ],
   "source": [
    "train_generator2 = train_datagen.flow_from_dataframe(\n",
    "    dataframe=train_df,\n",
    "    directory=str(images_input_dir),\n",
    "    x_col=\"file\",\n",
    "    y_col=\"label\",\n",
    "    batch_size=batch_size,\n",
    "    seed=seed,\n",
    "    shuffle=False,\n",
    "    class_mode=\"categorical\",\n",
    "    target_size=(512, 512))"
   ]
  },
  {
   "cell_type": "code",
   "execution_count": 181,
   "metadata": {},
   "outputs": [
    {
     "name": "stdout",
     "output_type": "stream",
     "text": [
      "10353/10353 [==============================] - 3551s 343ms/step\n"
     ]
    },
    {
     "data": {
      "text/plain": [
       "(331286, 3)"
      ]
     },
     "execution_count": 181,
     "metadata": {},
     "output_type": "execute_result"
    }
   ],
   "source": [
    "raw_train_preds = loaded_model.predict(train_generator2, steps=STEP_SIZE_TRAIN + 1, verbose=1)\n",
    "raw_train_preds.shape"
   ]
  },
  {
   "cell_type": "code",
   "execution_count": 183,
   "metadata": {},
   "outputs": [
    {
     "data": {
      "text/plain": [
       "array([0, 0, 0, 0, 0, 0, 0, 0, 0, 0])"
      ]
     },
     "execution_count": 183,
     "metadata": {},
     "output_type": "execute_result"
    }
   ],
   "source": [
    "train_preds = raw_train_preds.argmax(axis=1)\n",
    "train_preds[:10]"
   ]
  },
  {
   "cell_type": "code",
   "execution_count": 184,
   "metadata": {},
   "outputs": [
    {
     "data": {
      "text/plain": [
       "{'CP': 0, 'NCP': 1, 'Normal': 2}"
      ]
     },
     "execution_count": 184,
     "metadata": {},
     "output_type": "execute_result"
    }
   ],
   "source": [
    "train_generator2.class_indices"
   ]
  },
  {
   "cell_type": "code",
   "execution_count": 185,
   "metadata": {},
   "outputs": [
    {
     "data": {
      "text/plain": [
       "[0, 0, 0, 0, 0, 0, 0, 0, 0, 0]"
      ]
     },
     "execution_count": 185,
     "metadata": {},
     "output_type": "execute_result"
    }
   ],
   "source": [
    "train_true = train_generator2.labels\n",
    "train_true[:10]"
   ]
  },
  {
   "cell_type": "code",
   "execution_count": 186,
   "metadata": {},
   "outputs": [
    {
     "name": "stdout",
     "output_type": "stream",
     "text": [
      "Normalized confusion matrix\n",
      "[[0.99460001 0.0014921  0.00390788]\n",
      " [0.00390522 0.98839638 0.0076984 ]\n",
      " [0.01667127 0.01844134 0.96488739]]\n"
     ]
    },
    {
     "data": {
      "image/png": "[encoded data removed]",
      "text/plain": [
       "<Figure size 936x648 with 2 Axes>"
      ]
     },
     "metadata": {},
     "output_type": "display_data"
    }
   ],
   "source": [
    "train_cm = confusion_matrix(train_true, train_preds)\n",
    "plot_confusion_matrix(\n",
    "    train_cm,\n",
    "    classes=[k for k in train_generator2.class_indices.keys()],\n",
    "    title='Confusion matrix for Training Set',\n",
    "    save_to=figures_dir / f\"feature_generator_train_conf_matrix.png\")"
   ]
  },
  {
   "cell_type": "code",
   "execution_count": 195,
   "metadata": {},
   "outputs": [
    {
     "data": {
      "text/plain": [
       "(array([0.98579019, 0.98675391, 0.98139636]),\n",
       " array([0.99460001, 0.98839638, 0.96488739]),\n",
       " array([0.9901755 , 0.98757446, 0.97307186]),\n",
       " array([126667, 124961,  79658]))"
      ]
     },
     "execution_count": 195,
     "metadata": {},
     "output_type": "execute_result"
    }
   ],
   "source": [
    "precision_recall_fscore_support(train_true, train_preds)"
   ]
  },
  {
   "cell_type": "code",
   "execution_count": 196,
   "metadata": {},
   "outputs": [
    {
     "data": {
      "text/plain": [
       "(0.9846468177677424, 0.9826279291628729, 0.9836072750264194, None)"
      ]
     },
     "execution_count": 196,
     "metadata": {},
     "output_type": "execute_result"
    }
   ],
   "source": [
    "precision_recall_fscore_support(train_true, train_preds, average=\"macro\")"
   ]
  },
  {
   "cell_type": "markdown",
   "metadata": {},
   "source": [
    "## Evaluate test set"
   ]
  },
  {
   "cell_type": "code",
   "execution_count": 200,
   "metadata": {},
   "outputs": [],
   "source": [
    "test_df = repo.load(\"test_df\")"
   ]
  },
  {
   "cell_type": "code",
   "execution_count": 201,
   "metadata": {},
   "outputs": [
    {
     "name": "stdout",
     "output_type": "stream",
     "text": [
      "Found 40415 validated image filenames belonging to 3 classes.\n"
     ]
    }
   ],
   "source": [
    "test_generator = train_datagen.flow_from_dataframe(\n",
    "    dataframe=test_df,\n",
    "    directory=str(images_input_dir),\n",
    "    x_col=\"file\",\n",
    "    y_col=\"label\",\n",
    "    batch_size=batch_size,\n",
    "    seed=seed,\n",
    "    shuffle=False,\n",
    "    class_mode=\"categorical\",\n",
    "    target_size=(512, 512))"
   ]
  },
  {
   "cell_type": "code",
   "execution_count": 203,
   "metadata": {},
   "outputs": [
    {
     "name": "stdout",
     "output_type": "stream",
     "text": [
      "1263/1263 [==============================] - 448s 355ms/step\n",
      "Normalized confusion matrix\n",
      "[[0.96026924 0.01143674 0.02829402]\n",
      " [0.01535533 0.9606599  0.02398477]\n",
      " [0.02567688 0.03800686 0.93631626]]\n"
     ]
    },
    {
     "data": {
      "image/png": "[encoded data removed]",
      "text/plain": [
       "<Figure size 936x648 with 2 Axes>"
      ]
     },
     "metadata": {},
     "output_type": "display_data"
    }
   ],
   "source": [
    "STEP_SIZE_TEST = test_generator.n//test_generator.batch_size\n",
    "\n",
    "raw_test_preds = loaded_model.predict(test_generator, steps=STEP_SIZE_TEST + 1, verbose=1)\n",
    "raw_test_preds.shape\n",
    "test_preds = raw_test_preds.argmax(axis=1)\n",
    "test_preds[:10]\n",
    "test_generator.class_indices\n",
    "test_true = test_generator.labels\n",
    "test_true[:10]\n",
    "test_cm = confusion_matrix(test_true, test_preds)\n",
    "plot_confusion_matrix(\n",
    "    test_cm,\n",
    "    classes=[k for k in test_generator.class_indices.keys()],\n",
    "    title='Confusion matrix for Test Set',\n",
    "    save_to=figures_dir / f\"feature_generator_test_conf_matrix.png\")"
   ]
  },
  {
   "cell_type": "code",
   "execution_count": 204,
   "metadata": {},
   "outputs": [
    {
     "data": {
      "text/plain": [
       "(array([0.9731965 , 0.96858806, 0.89621608]),\n",
       " array([0.96026924, 0.9606599 , 0.93631626]),\n",
       " array([0.96668965, 0.96460769, 0.91582743]),\n",
       " array([16788, 15760,  7867]))"
      ]
     },
     "execution_count": 204,
     "metadata": {},
     "output_type": "execute_result"
    }
   ],
   "source": [
    "precision_recall_fscore_support(test_true, test_preds)"
   ]
  },
  {
   "cell_type": "code",
   "execution_count": 205,
   "metadata": {},
   "outputs": [
    {
     "data": {
      "text/plain": [
       "(0.9460002151692235, 0.9524151320653768, 0.9490415902612338, None)"
      ]
     },
     "execution_count": 205,
     "metadata": {},
     "output_type": "execute_result"
    }
   ],
   "source": [
    "precision_recall_fscore_support(test_true, test_preds, average=\"macro\")"
   ]
  },
  {
   "cell_type": "code",
   "execution_count": null,
   "metadata": {},
   "outputs": [],
   "source": []
  }
 ],
 "metadata": {
  "kernelspec": {
   "display_name": "Python 3",
   "language": "python",
   "name": "python3"
  },
  "language_info": {
   "codemirror_mode": {
    "name": "ipython",
    "version": 3
   },
   "file_extension": ".py",
   "mimetype": "text/x-python",
   "name": "python",
   "nbconvert_exporter": "python",
   "pygments_lexer": "ipython3",
   "version": "3.8.5"
  }
 },
 "nbformat": 4,
 "nbformat_minor": 4
}
