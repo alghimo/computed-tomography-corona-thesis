{
 "cells": [
  {
   "cell_type": "markdown",
   "metadata": {},
   "source": [
    "# Notebook Initialization"
   ]
  },
  {
   "cell_type": "code",
   "execution_count": 1,
   "metadata": {},
   "outputs": [],
   "source": [
    "# %load nb_init.py\n",
    "\n",
    "from pathlib import Path\n",
    "import pandas as pd\n",
    "\n",
    "base_dir = Path.cwd().parent\n",
    "config_dir = base_dir / \"config\"\n",
    "data_dir = base_dir / \"data\"\n",
    "docs_dir = base_dir / \"docs\"\n",
    "figures_dir = docs_dir / \"figures\"\n",
    "models_dir = base_dir / \"models\"\n",
    "logs_dir = base_dir / \"logs\"\n",
    "images_input_dir = data_dir / \"COVID19\"\n",
    "preprocessed_dir = data_dir / \"preprocessed\"\n",
    "output_dir = data_dir / \"output\"\n",
    "\n",
    "# Directories used to train the CNN (image by image) \n",
    "cnn_data_dir = data_dir / \"modelling\" / \"cnn\"\n",
    "cnn_train_dir = cnn_data_dir / \"train\"\n",
    "cnn_test_dir = cnn_data_dir / \"test\"\n",
    "\n",
    "metadata_file = images_input_dir / \"metadata.csv\"\n",
    "labels_file = images_input_dir / \"unzip_filenames.csv\"\n",
    "preprocessed_labels_file = preprocessed_dir / \"labels.parquet\"\n",
    "\n",
    "feature_extractor_model_file = models_dir / \"feature_extractor.tf\"\n",
    "\n",
    "from pyspark.sql import SparkSession\n",
    "from pyspark.sql import functions as F\n",
    "\n",
    "spark = SparkSession.builder.getOrCreate()\n",
    "\n",
    "config_file = config_dir / \"tfg.conf\"\n",
    "\n",
    "from pyhocon import ConfigFactory\n",
    "config = None\n",
    "\n",
    "def load_config():\n",
    "    return ConfigFactory.parse_file(config_file)\n",
    "\n",
    "config = load_config()\n",
    "    \n",
    "import sys\n",
    "\n",
    "if str(base_dir / \"src\") not in sys.path:\n",
    "    sys.path.append(str(base_dir / \"src\"))\n",
    "\n",
    "%load_ext autoreload\n",
    "\n",
    "%autoreload 2"
   ]
  },
  {
   "cell_type": "code",
   "execution_count": 2,
   "metadata": {},
   "outputs": [
    {
     "data": {
      "text/html": [
       "\n",
       "            <div>\n",
       "                <p><b>SparkSession - in-memory</b></p>\n",
       "                \n",
       "        <div>\n",
       "            <p><b>SparkContext</b></p>\n",
       "\n",
       "            <p><a href=\"http://192.168.0.235:4041\">Spark UI</a></p>\n",
       "\n",
       "            <dl>\n",
       "              <dt>Version</dt>\n",
       "                <dd><code>v3.0.1</code></dd>\n",
       "              <dt>Master</dt>\n",
       "                <dd><code>local[*]</code></dd>\n",
       "              <dt>AppName</dt>\n",
       "                <dd><code>pyspark-shell</code></dd>\n",
       "            </dl>\n",
       "        </div>\n",
       "        \n",
       "            </div>\n",
       "        "
      ],
      "text/plain": [
       "<pyspark.sql.session.SparkSession at 0x7f12e6eda040>"
      ]
     },
     "execution_count": 2,
     "metadata": {},
     "output_type": "execute_result"
    }
   ],
   "source": [
    "spark"
   ]
  },
  {
   "cell_type": "code",
   "execution_count": 3,
   "metadata": {},
   "outputs": [],
   "source": [
    "from tfg import DataRepository\n",
    "\n",
    "repo = DataRepository(config=config, base_data_path=data_dir)"
   ]
  },
  {
   "cell_type": "markdown",
   "metadata": {},
   "source": [
    "# Load model"
   ]
  },
  {
   "cell_type": "code",
   "execution_count": 4,
   "metadata": {},
   "outputs": [
    {
     "name": "stdout",
     "output_type": "stream",
     "text": [
      "Model: \"covid_classifier\"\n",
      "_________________________________________________________________\n",
      "Layer (type)                 Output Shape              Param #   \n",
      "=================================================================\n",
      "input_images (InputLayer)    [(None, 128, 128, 3)]     0         \n",
      "_________________________________________________________________\n",
      "conv2d_01 (Conv2D)           (None, 128, 128, 6)       168       \n",
      "_________________________________________________________________\n",
      "maxpool2d_01 (MaxPooling2D)  (None, 64, 64, 6)         0         \n",
      "_________________________________________________________________\n",
      "conv2d_02 (Conv2D)           (None, 64, 64, 12)        660       \n",
      "_________________________________________________________________\n",
      "maxpool2d_02 (MaxPooling2D)  (None, 32, 32, 12)        0         \n",
      "_________________________________________________________________\n",
      "conv2d_03 (Conv2D)           (None, 32, 32, 24)        2616      \n",
      "_________________________________________________________________\n",
      "maxpool2d_03 (MaxPooling2D)  (None, 16, 16, 24)        0         \n",
      "_________________________________________________________________\n",
      "conv2d_04 (Conv2D)           (None, 16, 16, 48)        10416     \n",
      "_________________________________________________________________\n",
      "maxpool2d_04 (MaxPooling2D)  (None, 8, 8, 48)          0         \n",
      "_________________________________________________________________\n",
      "conv2d_05 (Conv2D)           (None, 8, 8, 96)          41568     \n",
      "_________________________________________________________________\n",
      "dropout__05 (Dropout)        (None, 8, 8, 96)          0         \n",
      "_________________________________________________________________\n",
      "maxpool2d_05 (MaxPooling2D)  (None, 4, 4, 96)          0         \n",
      "_________________________________________________________________\n",
      "flatten (Flatten)            (None, 1536)              0         \n",
      "_________________________________________________________________\n",
      "dense_01 (Dense)             (None, 64)                98368     \n",
      "_________________________________________________________________\n",
      "dropout_01 (Dropout)         (None, 64)                0         \n",
      "_________________________________________________________________\n",
      "dense_02 (Dense)             (None, 32)                2080      \n",
      "_________________________________________________________________\n",
      "dropout_02 (Dropout)         (None, 32)                0         \n",
      "_________________________________________________________________\n",
      "output (Dense)               (None, 3)                 99        \n",
      "=================================================================\n",
      "Total params: 155,975\n",
      "Trainable params: 155,975\n",
      "Non-trainable params: 0\n",
      "_________________________________________________________________\n"
     ]
    }
   ],
   "source": [
    "from tensorflow.keras.models import load_model\n",
    "cnn_model_suffix = \"06\"\n",
    "model_file = models_dir / f\"feature_extractor_{cnn_model_suffix}.tf\"\n",
    "model = load_model(str(model_file))\n",
    "\n",
    "model.summary()"
   ]
  },
  {
   "cell_type": "code",
   "execution_count": 19,
   "metadata": {},
   "outputs": [],
   "source": [
    "import tensorflow as tf\n",
    "\n",
    "new_model = tf.keras.Sequential()"
   ]
  },
  {
   "cell_type": "code",
   "execution_count": 16,
   "metadata": {},
   "outputs": [
    {
     "data": {
      "text/plain": [
       "[<tensorflow.python.keras.engine.input_layer.InputLayer at 0x7f5be0305460>,\n",
       " <tensorflow.python.keras.layers.convolutional.Conv2D at 0x7f5be0305c70>,\n",
       " <tensorflow.python.keras.layers.pooling.MaxPooling2D at 0x7f5be02d09a0>,\n",
       " <tensorflow.python.keras.layers.convolutional.Conv2D at 0x7f5be02d0eb0>,\n",
       " <tensorflow.python.keras.layers.pooling.MaxPooling2D at 0x7f5be026faf0>,\n",
       " <tensorflow.python.keras.layers.convolutional.Conv2D at 0x7f5be026ffd0>,\n",
       " <tensorflow.python.keras.layers.pooling.MaxPooling2D at 0x7f5be0273c40>,\n",
       " <tensorflow.python.keras.layers.convolutional.Conv2D at 0x7f5be0277190>,\n",
       " <tensorflow.python.keras.layers.pooling.MaxPooling2D at 0x7f5be0277d90>,\n",
       " <tensorflow.python.keras.layers.convolutional.Conv2D at 0x7f5be027d2e0>,\n",
       " <tensorflow.python.keras.layers.core.Dropout at 0x7f5be027de20>,\n",
       " <tensorflow.python.keras.layers.pooling.MaxPooling2D at 0x7f5be02893a0>,\n",
       " <tensorflow.python.keras.layers.core.Flatten at 0x7f5be02897c0>,\n",
       " <tensorflow.python.keras.layers.core.Dense at 0x7f5be0289c10>,\n",
       " <tensorflow.python.keras.layers.core.Dropout at 0x7f5be028d550>,\n",
       " <tensorflow.python.keras.layers.core.Dense at 0x7f5be028d820>]"
      ]
     },
     "execution_count": 16,
     "metadata": {},
     "output_type": "execute_result"
    }
   ],
   "source": [
    "model.layers[:-2]"
   ]
  },
  {
   "cell_type": "code",
   "execution_count": 20,
   "metadata": {},
   "outputs": [],
   "source": [
    "for l in model.layers[:-1]:\n",
    "    if isinstance(l, tf.python.keras.layers.core.Dropout):\n",
    "        continue\n",
    "    new_model.add(l)"
   ]
  },
  {
   "cell_type": "code",
   "execution_count": 21,
   "metadata": {},
   "outputs": [
    {
     "name": "stdout",
     "output_type": "stream",
     "text": [
      "Model: \"sequential_1\"\n",
      "_________________________________________________________________\n",
      "Layer (type)                 Output Shape              Param #   \n",
      "=================================================================\n",
      "conv2d_01 (Conv2D)           (None, 128, 128, 6)       168       \n",
      "_________________________________________________________________\n",
      "maxpool2d_01 (MaxPooling2D)  (None, 64, 64, 6)         0         \n",
      "_________________________________________________________________\n",
      "conv2d_02 (Conv2D)           (None, 64, 64, 12)        660       \n",
      "_________________________________________________________________\n",
      "maxpool2d_02 (MaxPooling2D)  (None, 32, 32, 12)        0         \n",
      "_________________________________________________________________\n",
      "conv2d_03 (Conv2D)           (None, 32, 32, 24)        2616      \n",
      "_________________________________________________________________\n",
      "maxpool2d_03 (MaxPooling2D)  (None, 16, 16, 24)        0         \n",
      "_________________________________________________________________\n",
      "conv2d_04 (Conv2D)           (None, 16, 16, 48)        10416     \n",
      "_________________________________________________________________\n",
      "maxpool2d_04 (MaxPooling2D)  (None, 8, 8, 48)          0         \n",
      "_________________________________________________________________\n",
      "conv2d_05 (Conv2D)           (None, 8, 8, 96)          41568     \n",
      "_________________________________________________________________\n",
      "maxpool2d_05 (MaxPooling2D)  (None, 4, 4, 96)          0         \n",
      "_________________________________________________________________\n",
      "flatten (Flatten)            (None, 1536)              0         \n",
      "_________________________________________________________________\n",
      "dense_01 (Dense)             (None, 64)                98368     \n",
      "_________________________________________________________________\n",
      "dense_02 (Dense)             (None, 32)                2080      \n",
      "=================================================================\n",
      "Total params: 155,876\n",
      "Trainable params: 155,876\n",
      "Non-trainable params: 0\n",
      "_________________________________________________________________\n"
     ]
    }
   ],
   "source": [
    "new_model.summary()"
   ]
  },
  {
   "cell_type": "markdown",
   "metadata": {},
   "source": [
    "# Load datasets"
   ]
  },
  {
   "cell_type": "code",
   "execution_count": 22,
   "metadata": {},
   "outputs": [
    {
     "data": {
      "text/html": [
       "<div>\n",
       "<style scoped>\n",
       "    .dataframe tbody tr th:only-of-type {\n",
       "        vertical-align: middle;\n",
       "    }\n",
       "\n",
       "    .dataframe tbody tr th {\n",
       "        vertical-align: top;\n",
       "    }\n",
       "\n",
       "    .dataframe thead th {\n",
       "        text-align: right;\n",
       "    }\n",
       "</style>\n",
       "<table border=\"1\" class=\"dataframe\">\n",
       "  <thead>\n",
       "    <tr style=\"text-align: right;\">\n",
       "      <th></th>\n",
       "      <th>label</th>\n",
       "      <th>file</th>\n",
       "      <th>patient_id</th>\n",
       "      <th>scan_id</th>\n",
       "      <th>n_slice</th>\n",
       "      <th>num_clips</th>\n",
       "      <th>seq_num</th>\n",
       "      <th>clip_num</th>\n",
       "    </tr>\n",
       "  </thead>\n",
       "  <tbody>\n",
       "    <tr>\n",
       "      <th>0</th>\n",
       "      <td>CP</td>\n",
       "      <td>CP/0/3131/0275.png</td>\n",
       "      <td>0</td>\n",
       "      <td>3131</td>\n",
       "      <td>285</td>\n",
       "      <td>0</td>\n",
       "      <td>0</td>\n",
       "      <td>0</td>\n",
       "    </tr>\n",
       "    <tr>\n",
       "      <th>1</th>\n",
       "      <td>CP</td>\n",
       "      <td>CP/0/3131/0064.png</td>\n",
       "      <td>0</td>\n",
       "      <td>3131</td>\n",
       "      <td>285</td>\n",
       "      <td>0</td>\n",
       "      <td>1</td>\n",
       "      <td>0</td>\n",
       "    </tr>\n",
       "    <tr>\n",
       "      <th>2</th>\n",
       "      <td>CP</td>\n",
       "      <td>CP/0/3131/0083.png</td>\n",
       "      <td>0</td>\n",
       "      <td>3131</td>\n",
       "      <td>285</td>\n",
       "      <td>0</td>\n",
       "      <td>2</td>\n",
       "      <td>0</td>\n",
       "    </tr>\n",
       "    <tr>\n",
       "      <th>3</th>\n",
       "      <td>CP</td>\n",
       "      <td>CP/0/3131/0160.png</td>\n",
       "      <td>0</td>\n",
       "      <td>3131</td>\n",
       "      <td>285</td>\n",
       "      <td>0</td>\n",
       "      <td>3</td>\n",
       "      <td>0</td>\n",
       "    </tr>\n",
       "    <tr>\n",
       "      <th>4</th>\n",
       "      <td>CP</td>\n",
       "      <td>CP/0/3131/0127.png</td>\n",
       "      <td>0</td>\n",
       "      <td>3131</td>\n",
       "      <td>285</td>\n",
       "      <td>0</td>\n",
       "      <td>4</td>\n",
       "      <td>0</td>\n",
       "    </tr>\n",
       "  </tbody>\n",
       "</table>\n",
       "</div>"
      ],
      "text/plain": [
       "  label                file  patient_id  scan_id  n_slice  num_clips  seq_num  \\\n",
       "0    CP  CP/0/3131/0275.png           0     3131      285          0        0   \n",
       "1    CP  CP/0/3131/0064.png           0     3131      285          0        1   \n",
       "2    CP  CP/0/3131/0083.png           0     3131      285          0        2   \n",
       "3    CP  CP/0/3131/0160.png           0     3131      285          0        3   \n",
       "4    CP  CP/0/3131/0127.png           0     3131      285          0        4   \n",
       "\n",
       "   clip_num  \n",
       "0         0  \n",
       "1         0  \n",
       "2         0  \n",
       "3         0  \n",
       "4         0  "
      ]
     },
     "execution_count": 22,
     "metadata": {},
     "output_type": "execute_result"
    }
   ],
   "source": [
    "train_df = repo.load(\"train_df\")\n",
    "train_df.head(5)"
   ]
  },
  {
   "cell_type": "markdown",
   "metadata": {},
   "source": [
    "It seems like the num_clips, seq_num and clip_num are not correct, we'll fix them.."
   ]
  },
  {
   "cell_type": "code",
   "execution_count": 142,
   "metadata": {},
   "outputs": [],
   "source": [
    "from pyspark.sql import Window\n",
    "\n",
    "images_per_clip = config.get_int(\"tfg.training.images_per_clip\")\n",
    "\n",
    "scan_window = Window\\\n",
    "    .partitionBy(\"patient_id\", \"scan_id\")\\\n",
    "    .orderBy(\"file\")"
   ]
  },
  {
   "cell_type": "code",
   "execution_count": 143,
   "metadata": {},
   "outputs": [],
   "source": [
    "def fix_df(pandas_df):\n",
    "    df = spark.createDataFrame(pandas_df)\n",
    "\n",
    "    new_df = df\\\n",
    "        .withColumn(\"seq_num\", F.row_number().over(scan_window) - 1)\\\n",
    "        .withColumn(\"num_clips\", F.ceil(F.col(\"n_slice\") / images_per_clip))\\\n",
    "        .withColumn(\"clip_num\", F.floor(F.col(\"seq_num\") / images_per_clip))\\\n",
    "        .toPandas()\n",
    "\n",
    "    return new_df"
   ]
  },
  {
   "cell_type": "code",
   "execution_count": 101,
   "metadata": {},
   "outputs": [
    {
     "data": {
      "text/html": [
       "<div>\n",
       "<style scoped>\n",
       "    .dataframe tbody tr th:only-of-type {\n",
       "        vertical-align: middle;\n",
       "    }\n",
       "\n",
       "    .dataframe tbody tr th {\n",
       "        vertical-align: top;\n",
       "    }\n",
       "\n",
       "    .dataframe thead th {\n",
       "        text-align: right;\n",
       "    }\n",
       "</style>\n",
       "<table border=\"1\" class=\"dataframe\">\n",
       "  <thead>\n",
       "    <tr style=\"text-align: right;\">\n",
       "      <th></th>\n",
       "      <th>label</th>\n",
       "      <th>file</th>\n",
       "      <th>patient_id</th>\n",
       "      <th>scan_id</th>\n",
       "      <th>n_slice</th>\n",
       "      <th>num_clips</th>\n",
       "      <th>seq_num</th>\n",
       "      <th>clip_num</th>\n",
       "    </tr>\n",
       "  </thead>\n",
       "  <tbody>\n",
       "    <tr>\n",
       "      <th>0</th>\n",
       "      <td>NCP</td>\n",
       "      <td>NCP/880/2415/0000.jpg</td>\n",
       "      <td>880</td>\n",
       "      <td>2415</td>\n",
       "      <td>312</td>\n",
       "      <td>5</td>\n",
       "      <td>0</td>\n",
       "      <td>0</td>\n",
       "    </tr>\n",
       "    <tr>\n",
       "      <th>1</th>\n",
       "      <td>NCP</td>\n",
       "      <td>NCP/880/2415/0001.jpg</td>\n",
       "      <td>880</td>\n",
       "      <td>2415</td>\n",
       "      <td>312</td>\n",
       "      <td>5</td>\n",
       "      <td>1</td>\n",
       "      <td>0</td>\n",
       "    </tr>\n",
       "    <tr>\n",
       "      <th>2</th>\n",
       "      <td>NCP</td>\n",
       "      <td>NCP/880/2415/0002.jpg</td>\n",
       "      <td>880</td>\n",
       "      <td>2415</td>\n",
       "      <td>312</td>\n",
       "      <td>5</td>\n",
       "      <td>2</td>\n",
       "      <td>0</td>\n",
       "    </tr>\n",
       "    <tr>\n",
       "      <th>3</th>\n",
       "      <td>NCP</td>\n",
       "      <td>NCP/880/2415/0003.jpg</td>\n",
       "      <td>880</td>\n",
       "      <td>2415</td>\n",
       "      <td>312</td>\n",
       "      <td>5</td>\n",
       "      <td>3</td>\n",
       "      <td>0</td>\n",
       "    </tr>\n",
       "    <tr>\n",
       "      <th>4</th>\n",
       "      <td>NCP</td>\n",
       "      <td>NCP/880/2415/0004.jpg</td>\n",
       "      <td>880</td>\n",
       "      <td>2415</td>\n",
       "      <td>312</td>\n",
       "      <td>5</td>\n",
       "      <td>4</td>\n",
       "      <td>0</td>\n",
       "    </tr>\n",
       "  </tbody>\n",
       "</table>\n",
       "</div>"
      ],
      "text/plain": [
       "  label                   file  patient_id  scan_id  n_slice  num_clips  \\\n",
       "0   NCP  NCP/880/2415/0000.jpg         880     2415      312          5   \n",
       "1   NCP  NCP/880/2415/0001.jpg         880     2415      312          5   \n",
       "2   NCP  NCP/880/2415/0002.jpg         880     2415      312          5   \n",
       "3   NCP  NCP/880/2415/0003.jpg         880     2415      312          5   \n",
       "4   NCP  NCP/880/2415/0004.jpg         880     2415      312          5   \n",
       "\n",
       "   seq_num  clip_num  \n",
       "0        0         0  \n",
       "1        1         0  \n",
       "2        2         0  \n",
       "3        3         0  \n",
       "4        4         0  "
      ]
     },
     "execution_count": 101,
     "metadata": {},
     "output_type": "execute_result"
    }
   ],
   "source": [
    "train_df = repo.load(\"train_df\")\n",
    "train_df = fix_df(train_df)\n",
    "repo.save(\"train_df\", train_df)\n",
    "train_df.head()"
   ]
  },
  {
   "cell_type": "code",
   "execution_count": null,
   "metadata": {},
   "outputs": [],
   "source": [
    "val_df = repo.load(\"val_df\")\n",
    "val_df = fix_df(val_df)\n",
    "repo.save(\"val_df\", val_df)\n",
    "val_df.head()"
   ]
  },
  {
   "cell_type": "code",
   "execution_count": 115,
   "metadata": {},
   "outputs": [
    {
     "data": {
      "text/plain": [
       "True"
      ]
     },
     "execution_count": 115,
     "metadata": {},
     "output_type": "execute_result"
    }
   ],
   "source": [
    "test_df = repo.load(\"test_df\")\n",
    "test_df = fix_df(test_df)\n",
    "repo.save(\"test_df\", test_df)\n",
    "test_df.head()"
   ]
  },
  {
   "cell_type": "markdown",
   "metadata": {},
   "source": [
    "# Convert images into features"
   ]
  },
  {
   "cell_type": "code",
   "execution_count": 5,
   "metadata": {},
   "outputs": [],
   "source": [
    "img_size = config.get_int(\"tfg.training.img_size\")\n",
    "image_target_size = (img_size, img_size)\n",
    "seed = config.get_int(\"tfg.seed\")\n",
    "batch_size = config.get_int(\"tfg.training.batch_size\")"
   ]
  },
  {
   "cell_type": "code",
   "execution_count": 7,
   "metadata": {},
   "outputs": [],
   "source": [
    "from keras_preprocessing.image import ImageDataGenerator\n",
    "\n",
    "test_datagen = ImageDataGenerator(\n",
    "    rescale=1./255.,\n",
    ")"
   ]
  },
  {
   "cell_type": "markdown",
   "metadata": {},
   "source": [
    "## Train"
   ]
  },
  {
   "cell_type": "code",
   "execution_count": 8,
   "metadata": {},
   "outputs": [
    {
     "name": "stdout",
     "output_type": "stream",
     "text": [
      "Found 331286 validated image filenames belonging to 3 classes.\n"
     ]
    }
   ],
   "source": [
    "train_df = repo.load(\"train_df\")\n",
    "train_generator = test_datagen.flow_from_dataframe(\n",
    "    dataframe=train_df,\n",
    "    directory=str(images_input_dir),\n",
    "    x_col=\"file\",\n",
    "    y_col=\"label\",\n",
    "    batch_size=batch_size,\n",
    "    seed=seed,\n",
    "    shuffle=False,\n",
    "    class_mode=\"categorical\",\n",
    "    target_size=image_target_size)"
   ]
  },
  {
   "cell_type": "code",
   "execution_count": 9,
   "metadata": {},
   "outputs": [
    {
     "data": {
      "text/plain": [
       "{'CP': 0, 'NCP': 1, 'Normal': 2}"
      ]
     },
     "execution_count": 9,
     "metadata": {},
     "output_type": "execute_result"
    }
   ],
   "source": [
    "train_generator.class_indices"
   ]
  },
  {
   "cell_type": "code",
   "execution_count": 10,
   "metadata": {},
   "outputs": [],
   "source": [
    "class_to_idx = train_generator.class_indices\n",
    "idx_to_class = { v: k for k, v in class_to_idx.items() }"
   ]
  },
  {
   "cell_type": "code",
   "execution_count": 11,
   "metadata": {},
   "outputs": [],
   "source": [
    "NUM_TRAIN_BATCHES = train_generator.n // train_generator.batch_size + 1"
   ]
  },
  {
   "cell_type": "code",
   "execution_count": 47,
   "metadata": {},
   "outputs": [
    {
     "name": "stdout",
     "output_type": "stream",
     "text": [
      "10353/10353 [==============================] - 2345s 226ms/step\n"
     ]
    },
    {
     "data": {
      "text/plain": [
       "(331286, 32)"
      ]
     },
     "execution_count": 47,
     "metadata": {},
     "output_type": "execute_result"
    }
   ],
   "source": [
    "raw_train_feats = new_model.predict(train_generator, steps=NUM_TRAIN_BATCHES, verbose=1)\n",
    "raw_train_feats.shape"
   ]
  },
  {
   "cell_type": "code",
   "execution_count": 74,
   "metadata": {},
   "outputs": [],
   "source": [
    "train_df[\"img_features\"] = raw_train_feats.tolist()"
   ]
  },
  {
   "cell_type": "code",
   "execution_count": 75,
   "metadata": {},
   "outputs": [
    {
     "data": {
      "text/plain": [
       "True"
      ]
     },
     "execution_count": 75,
     "metadata": {},
     "output_type": "execute_result"
    }
   ],
   "source": [
    "repo.save(\"train_features\", train_df)"
   ]
  },
  {
   "cell_type": "code",
   "execution_count": 12,
   "metadata": {},
   "outputs": [
    {
     "data": {
      "text/html": [
       "<div>\n",
       "<style scoped>\n",
       "    .dataframe tbody tr th:only-of-type {\n",
       "        vertical-align: middle;\n",
       "    }\n",
       "\n",
       "    .dataframe tbody tr th {\n",
       "        vertical-align: top;\n",
       "    }\n",
       "\n",
       "    .dataframe thead th {\n",
       "        text-align: right;\n",
       "    }\n",
       "</style>\n",
       "<table border=\"1\" class=\"dataframe\">\n",
       "  <thead>\n",
       "    <tr style=\"text-align: right;\">\n",
       "      <th></th>\n",
       "      <th>file</th>\n",
       "      <th>label</th>\n",
       "      <th>patient_id</th>\n",
       "      <th>scan_id</th>\n",
       "      <th>n_slice</th>\n",
       "      <th>num_clips</th>\n",
       "      <th>seq_num</th>\n",
       "      <th>clip_num</th>\n",
       "      <th>img_features</th>\n",
       "    </tr>\n",
       "  </thead>\n",
       "  <tbody>\n",
       "    <tr>\n",
       "      <th>0</th>\n",
       "      <td>NCP/880/2415/0000.jpg</td>\n",
       "      <td>NCP</td>\n",
       "      <td>880</td>\n",
       "      <td>2415</td>\n",
       "      <td>312</td>\n",
       "      <td>5</td>\n",
       "      <td>0</td>\n",
       "      <td>0</td>\n",
       "      <td>[0.0, 5.270750045776367, 0.0, 5.07415866851806...</td>\n",
       "    </tr>\n",
       "    <tr>\n",
       "      <th>1</th>\n",
       "      <td>NCP/880/2415/0001.jpg</td>\n",
       "      <td>NCP</td>\n",
       "      <td>880</td>\n",
       "      <td>2415</td>\n",
       "      <td>312</td>\n",
       "      <td>5</td>\n",
       "      <td>1</td>\n",
       "      <td>0</td>\n",
       "      <td>[0.0, 2.8091320991516113, 0.0, 2.9504299163818...</td>\n",
       "    </tr>\n",
       "    <tr>\n",
       "      <th>2</th>\n",
       "      <td>NCP/880/2415/0002.jpg</td>\n",
       "      <td>NCP</td>\n",
       "      <td>880</td>\n",
       "      <td>2415</td>\n",
       "      <td>312</td>\n",
       "      <td>5</td>\n",
       "      <td>2</td>\n",
       "      <td>0</td>\n",
       "      <td>[0.0, 3.616379737854004, 0.19390609860420227, ...</td>\n",
       "    </tr>\n",
       "    <tr>\n",
       "      <th>3</th>\n",
       "      <td>NCP/880/2415/0003.jpg</td>\n",
       "      <td>NCP</td>\n",
       "      <td>880</td>\n",
       "      <td>2415</td>\n",
       "      <td>312</td>\n",
       "      <td>5</td>\n",
       "      <td>3</td>\n",
       "      <td>0</td>\n",
       "      <td>[0.0, 2.734466314315796, 0.0, 2.81957268714904...</td>\n",
       "    </tr>\n",
       "    <tr>\n",
       "      <th>4</th>\n",
       "      <td>NCP/880/2415/0004.jpg</td>\n",
       "      <td>NCP</td>\n",
       "      <td>880</td>\n",
       "      <td>2415</td>\n",
       "      <td>312</td>\n",
       "      <td>5</td>\n",
       "      <td>4</td>\n",
       "      <td>0</td>\n",
       "      <td>[0.0, 9.06471061706543, 0.0, 7.898210525512695...</td>\n",
       "    </tr>\n",
       "  </tbody>\n",
       "</table>\n",
       "</div>"
      ],
      "text/plain": [
       "                    file label  patient_id  scan_id  n_slice  num_clips  \\\n",
       "0  NCP/880/2415/0000.jpg   NCP         880     2415      312          5   \n",
       "1  NCP/880/2415/0001.jpg   NCP         880     2415      312          5   \n",
       "2  NCP/880/2415/0002.jpg   NCP         880     2415      312          5   \n",
       "3  NCP/880/2415/0003.jpg   NCP         880     2415      312          5   \n",
       "4  NCP/880/2415/0004.jpg   NCP         880     2415      312          5   \n",
       "\n",
       "   seq_num  clip_num                                       img_features  \n",
       "0        0         0  [0.0, 5.270750045776367, 0.0, 5.07415866851806...  \n",
       "1        1         0  [0.0, 2.8091320991516113, 0.0, 2.9504299163818...  \n",
       "2        2         0  [0.0, 3.616379737854004, 0.19390609860420227, ...  \n",
       "3        3         0  [0.0, 2.734466314315796, 0.0, 2.81957268714904...  \n",
       "4        4         0  [0.0, 9.06471061706543, 0.0, 7.898210525512695...  "
      ]
     },
     "execution_count": 12,
     "metadata": {},
     "output_type": "execute_result"
    }
   ],
   "source": [
    "train_feats = repo.load(\"train_features\")\n",
    "train_feats.head(5)"
   ]
  },
  {
   "cell_type": "code",
   "execution_count": 13,
   "metadata": {},
   "outputs": [
    {
     "name": "stdout",
     "output_type": "stream",
     "text": [
      "10353/10353 [==============================] - 2372s 229ms/step\n"
     ]
    },
    {
     "data": {
      "text/plain": [
       "(331286, 3)"
      ]
     },
     "execution_count": 13,
     "metadata": {},
     "output_type": "execute_result"
    }
   ],
   "source": [
    "train_generator.reset()\n",
    "raw_train_probs = model.predict(train_generator, steps=NUM_TRAIN_BATCHES, verbose=1)\n",
    "raw_train_probs.shape"
   ]
  },
  {
   "cell_type": "code",
   "execution_count": 17,
   "metadata": {},
   "outputs": [
    {
     "data": {
      "text/html": [
       "<div>\n",
       "<style scoped>\n",
       "    .dataframe tbody tr th:only-of-type {\n",
       "        vertical-align: middle;\n",
       "    }\n",
       "\n",
       "    .dataframe tbody tr th {\n",
       "        vertical-align: top;\n",
       "    }\n",
       "\n",
       "    .dataframe thead th {\n",
       "        text-align: right;\n",
       "    }\n",
       "</style>\n",
       "<table border=\"1\" class=\"dataframe\">\n",
       "  <thead>\n",
       "    <tr style=\"text-align: right;\">\n",
       "      <th></th>\n",
       "      <th>file</th>\n",
       "      <th>label</th>\n",
       "      <th>patient_id</th>\n",
       "      <th>scan_id</th>\n",
       "      <th>n_slice</th>\n",
       "      <th>num_clips</th>\n",
       "      <th>seq_num</th>\n",
       "      <th>clip_num</th>\n",
       "      <th>img_features</th>\n",
       "      <th>img_probs</th>\n",
       "    </tr>\n",
       "  </thead>\n",
       "  <tbody>\n",
       "    <tr>\n",
       "      <th>0</th>\n",
       "      <td>NCP/880/2415/0000.jpg</td>\n",
       "      <td>NCP</td>\n",
       "      <td>880</td>\n",
       "      <td>2415</td>\n",
       "      <td>312</td>\n",
       "      <td>5</td>\n",
       "      <td>0</td>\n",
       "      <td>0</td>\n",
       "      <td>[0.0, 5.270750045776367, 0.0, 5.07415866851806...</td>\n",
       "      <td>[0.006345381494611502, 0.2938346266746521, 0.6...</td>\n",
       "    </tr>\n",
       "    <tr>\n",
       "      <th>1</th>\n",
       "      <td>NCP/880/2415/0001.jpg</td>\n",
       "      <td>NCP</td>\n",
       "      <td>880</td>\n",
       "      <td>2415</td>\n",
       "      <td>312</td>\n",
       "      <td>5</td>\n",
       "      <td>1</td>\n",
       "      <td>0</td>\n",
       "      <td>[0.0, 2.8091320991516113, 0.0, 2.9504299163818...</td>\n",
       "      <td>[0.003827716689556837, 0.3122704327106476, 0.6...</td>\n",
       "    </tr>\n",
       "    <tr>\n",
       "      <th>2</th>\n",
       "      <td>NCP/880/2415/0002.jpg</td>\n",
       "      <td>NCP</td>\n",
       "      <td>880</td>\n",
       "      <td>2415</td>\n",
       "      <td>312</td>\n",
       "      <td>5</td>\n",
       "      <td>2</td>\n",
       "      <td>0</td>\n",
       "      <td>[0.0, 3.616379737854004, 0.19390609860420227, ...</td>\n",
       "      <td>[0.005725017748773098, 0.38320884108543396, 0....</td>\n",
       "    </tr>\n",
       "    <tr>\n",
       "      <th>3</th>\n",
       "      <td>NCP/880/2415/0003.jpg</td>\n",
       "      <td>NCP</td>\n",
       "      <td>880</td>\n",
       "      <td>2415</td>\n",
       "      <td>312</td>\n",
       "      <td>5</td>\n",
       "      <td>3</td>\n",
       "      <td>0</td>\n",
       "      <td>[0.0, 2.734466314315796, 0.0, 2.81957268714904...</td>\n",
       "      <td>[0.00022382025781553239, 0.29181888699531555, ...</td>\n",
       "    </tr>\n",
       "    <tr>\n",
       "      <th>4</th>\n",
       "      <td>NCP/880/2415/0004.jpg</td>\n",
       "      <td>NCP</td>\n",
       "      <td>880</td>\n",
       "      <td>2415</td>\n",
       "      <td>312</td>\n",
       "      <td>5</td>\n",
       "      <td>4</td>\n",
       "      <td>0</td>\n",
       "      <td>[0.0, 9.06471061706543, 0.0, 7.898210525512695...</td>\n",
       "      <td>[3.348174141137861e-05, 0.18306158483028412, 0...</td>\n",
       "    </tr>\n",
       "  </tbody>\n",
       "</table>\n",
       "</div>"
      ],
      "text/plain": [
       "                    file label  patient_id  scan_id  n_slice  num_clips  \\\n",
       "0  NCP/880/2415/0000.jpg   NCP         880     2415      312          5   \n",
       "1  NCP/880/2415/0001.jpg   NCP         880     2415      312          5   \n",
       "2  NCP/880/2415/0002.jpg   NCP         880     2415      312          5   \n",
       "3  NCP/880/2415/0003.jpg   NCP         880     2415      312          5   \n",
       "4  NCP/880/2415/0004.jpg   NCP         880     2415      312          5   \n",
       "\n",
       "   seq_num  clip_num                                       img_features  \\\n",
       "0        0         0  [0.0, 5.270750045776367, 0.0, 5.07415866851806...   \n",
       "1        1         0  [0.0, 2.8091320991516113, 0.0, 2.9504299163818...   \n",
       "2        2         0  [0.0, 3.616379737854004, 0.19390609860420227, ...   \n",
       "3        3         0  [0.0, 2.734466314315796, 0.0, 2.81957268714904...   \n",
       "4        4         0  [0.0, 9.06471061706543, 0.0, 7.898210525512695...   \n",
       "\n",
       "                                           img_probs  \n",
       "0  [0.006345381494611502, 0.2938346266746521, 0.6...  \n",
       "1  [0.003827716689556837, 0.3122704327106476, 0.6...  \n",
       "2  [0.005725017748773098, 0.38320884108543396, 0....  \n",
       "3  [0.00022382025781553239, 0.29181888699531555, ...  \n",
       "4  [3.348174141137861e-05, 0.18306158483028412, 0...  "
      ]
     },
     "execution_count": 17,
     "metadata": {},
     "output_type": "execute_result"
    }
   ],
   "source": [
    "train_feats[\"img_probs\"] = raw_train_probs.tolist()\n",
    "train_feats.head(5)"
   ]
  },
  {
   "cell_type": "code",
   "execution_count": 25,
   "metadata": {},
   "outputs": [
    {
     "data": {
      "text/plain": [
       "True"
      ]
     },
     "execution_count": 25,
     "metadata": {},
     "output_type": "execute_result"
    }
   ],
   "source": [
    "repo.save(\"train_features\", train_feats)"
   ]
  },
  {
   "cell_type": "markdown",
   "metadata": {},
   "source": [
    "## Validation"
   ]
  },
  {
   "cell_type": "code",
   "execution_count": 14,
   "metadata": {},
   "outputs": [
    {
     "name": "stdout",
     "output_type": "stream",
     "text": [
      "Found 39828 validated image filenames belonging to 3 classes.\n"
     ]
    }
   ],
   "source": [
    "val_df = repo.load(\"val_df\")\n",
    "\n",
    "val_generator = test_datagen.flow_from_dataframe(\n",
    "    dataframe=val_df,\n",
    "    directory=str(images_input_dir),\n",
    "    x_col=\"file\",\n",
    "    y_col=\"label\",\n",
    "    batch_size=batch_size,\n",
    "    seed=seed,\n",
    "    shuffle=False,\n",
    "    class_mode=\"categorical\",\n",
    "    target_size=image_target_size)\n",
    "\n",
    "NUM_VAL_BATCHES = val_generator.n // val_generator.batch_size + 1"
   ]
  },
  {
   "cell_type": "code",
   "execution_count": null,
   "metadata": {},
   "outputs": [],
   "source": [
    "raw_val_feats = new_model.predict(val_generator, steps=NUM_VAL_BATCHES, verbose=1)\n",
    "raw_val_feats.shape"
   ]
  },
  {
   "cell_type": "code",
   "execution_count": 132,
   "metadata": {},
   "outputs": [
    {
     "data": {
      "text/html": [
       "<div>\n",
       "<style scoped>\n",
       "    .dataframe tbody tr th:only-of-type {\n",
       "        vertical-align: middle;\n",
       "    }\n",
       "\n",
       "    .dataframe tbody tr th {\n",
       "        vertical-align: top;\n",
       "    }\n",
       "\n",
       "    .dataframe thead th {\n",
       "        text-align: right;\n",
       "    }\n",
       "</style>\n",
       "<table border=\"1\" class=\"dataframe\">\n",
       "  <thead>\n",
       "    <tr style=\"text-align: right;\">\n",
       "      <th></th>\n",
       "      <th>file</th>\n",
       "      <th>img_features</th>\n",
       "    </tr>\n",
       "  </thead>\n",
       "  <tbody>\n",
       "    <tr>\n",
       "      <th>0</th>\n",
       "      <td>CP/1075/3118/0543.jpg</td>\n",
       "      <td>[0.5893998742103577, 0.0, 3.105539083480835, 0...</td>\n",
       "    </tr>\n",
       "    <tr>\n",
       "      <th>1</th>\n",
       "      <td>CP/1075/3118/0174.jpg</td>\n",
       "      <td>[2.171123504638672, 0.0, 5.15280818939209, 0.0...</td>\n",
       "    </tr>\n",
       "    <tr>\n",
       "      <th>2</th>\n",
       "      <td>CP/1075/3118/0130.jpg</td>\n",
       "      <td>[2.2265334129333496, 0.0, 6.776073455810547, 0...</td>\n",
       "    </tr>\n",
       "    <tr>\n",
       "      <th>3</th>\n",
       "      <td>CP/1075/3118/0525.jpg</td>\n",
       "      <td>[1.0836143493652344, 0.0, 3.375173330307007, 0...</td>\n",
       "    </tr>\n",
       "    <tr>\n",
       "      <th>4</th>\n",
       "      <td>CP/1075/3118/0152.jpg</td>\n",
       "      <td>[2.058112621307373, 0.0, 5.975271224975586, 0....</td>\n",
       "    </tr>\n",
       "  </tbody>\n",
       "</table>\n",
       "</div>"
      ],
      "text/plain": [
       "                    file                                       img_features\n",
       "0  CP/1075/3118/0543.jpg  [0.5893998742103577, 0.0, 3.105539083480835, 0...\n",
       "1  CP/1075/3118/0174.jpg  [2.171123504638672, 0.0, 5.15280818939209, 0.0...\n",
       "2  CP/1075/3118/0130.jpg  [2.2265334129333496, 0.0, 6.776073455810547, 0...\n",
       "3  CP/1075/3118/0525.jpg  [1.0836143493652344, 0.0, 3.375173330307007, 0...\n",
       "4  CP/1075/3118/0152.jpg  [2.058112621307373, 0.0, 5.975271224975586, 0...."
      ]
     },
     "execution_count": 132,
     "metadata": {},
     "output_type": "execute_result"
    }
   ],
   "source": [
    "val_df[\"img_features\"] = raw_val_feats.tolist()\n",
    "val_df.head()"
   ]
  },
  {
   "cell_type": "code",
   "execution_count": 134,
   "metadata": {},
   "outputs": [
    {
     "data": {
      "text/plain": [
       "True"
      ]
     },
     "execution_count": 134,
     "metadata": {},
     "output_type": "execute_result"
    }
   ],
   "source": [
    "repo.save(\"val_features\", val_df)"
   ]
  },
  {
   "cell_type": "code",
   "execution_count": 15,
   "metadata": {},
   "outputs": [
    {
     "data": {
      "text/html": [
       "<div>\n",
       "<style scoped>\n",
       "    .dataframe tbody tr th:only-of-type {\n",
       "        vertical-align: middle;\n",
       "    }\n",
       "\n",
       "    .dataframe tbody tr th {\n",
       "        vertical-align: top;\n",
       "    }\n",
       "\n",
       "    .dataframe thead th {\n",
       "        text-align: right;\n",
       "    }\n",
       "</style>\n",
       "<table border=\"1\" class=\"dataframe\">\n",
       "  <thead>\n",
       "    <tr style=\"text-align: right;\">\n",
       "      <th></th>\n",
       "      <th>file</th>\n",
       "      <th>label</th>\n",
       "      <th>patient_id</th>\n",
       "      <th>scan_id</th>\n",
       "      <th>n_slice</th>\n",
       "      <th>num_clips</th>\n",
       "      <th>seq_num</th>\n",
       "      <th>clip_num</th>\n",
       "      <th>img_features</th>\n",
       "    </tr>\n",
       "  </thead>\n",
       "  <tbody>\n",
       "    <tr>\n",
       "      <th>0</th>\n",
       "      <td>NCP/450/2055/0000.png</td>\n",
       "      <td>NCP</td>\n",
       "      <td>450</td>\n",
       "      <td>2055</td>\n",
       "      <td>34</td>\n",
       "      <td>1</td>\n",
       "      <td>0</td>\n",
       "      <td>0</td>\n",
       "      <td>[0.0, 6.997844696044922, 5.284853458404541, 6....</td>\n",
       "    </tr>\n",
       "    <tr>\n",
       "      <th>1</th>\n",
       "      <td>NCP/450/2055/0001.png</td>\n",
       "      <td>NCP</td>\n",
       "      <td>450</td>\n",
       "      <td>2055</td>\n",
       "      <td>34</td>\n",
       "      <td>1</td>\n",
       "      <td>1</td>\n",
       "      <td>0</td>\n",
       "      <td>[0.0, 3.0591254234313965, 3.159388780593872, 2...</td>\n",
       "    </tr>\n",
       "    <tr>\n",
       "      <th>2</th>\n",
       "      <td>NCP/450/2055/0002.png</td>\n",
       "      <td>NCP</td>\n",
       "      <td>450</td>\n",
       "      <td>2055</td>\n",
       "      <td>34</td>\n",
       "      <td>1</td>\n",
       "      <td>2</td>\n",
       "      <td>0</td>\n",
       "      <td>[0.0, 2.3002514839172363, 0.0, 1.5852916240692...</td>\n",
       "    </tr>\n",
       "    <tr>\n",
       "      <th>3</th>\n",
       "      <td>NCP/450/2055/0003.png</td>\n",
       "      <td>NCP</td>\n",
       "      <td>450</td>\n",
       "      <td>2055</td>\n",
       "      <td>34</td>\n",
       "      <td>1</td>\n",
       "      <td>3</td>\n",
       "      <td>0</td>\n",
       "      <td>[0.0, 2.1299352645874023, 0.0, 2.0093741416931...</td>\n",
       "    </tr>\n",
       "    <tr>\n",
       "      <th>4</th>\n",
       "      <td>NCP/450/2055/0004.png</td>\n",
       "      <td>NCP</td>\n",
       "      <td>450</td>\n",
       "      <td>2055</td>\n",
       "      <td>34</td>\n",
       "      <td>1</td>\n",
       "      <td>4</td>\n",
       "      <td>0</td>\n",
       "      <td>[0.16992336511611938, 0.8546663522720337, 0.0,...</td>\n",
       "    </tr>\n",
       "  </tbody>\n",
       "</table>\n",
       "</div>"
      ],
      "text/plain": [
       "                    file label  patient_id  scan_id  n_slice  num_clips  \\\n",
       "0  NCP/450/2055/0000.png   NCP         450     2055       34          1   \n",
       "1  NCP/450/2055/0001.png   NCP         450     2055       34          1   \n",
       "2  NCP/450/2055/0002.png   NCP         450     2055       34          1   \n",
       "3  NCP/450/2055/0003.png   NCP         450     2055       34          1   \n",
       "4  NCP/450/2055/0004.png   NCP         450     2055       34          1   \n",
       "\n",
       "   seq_num  clip_num                                       img_features  \n",
       "0        0         0  [0.0, 6.997844696044922, 5.284853458404541, 6....  \n",
       "1        1         0  [0.0, 3.0591254234313965, 3.159388780593872, 2...  \n",
       "2        2         0  [0.0, 2.3002514839172363, 0.0, 1.5852916240692...  \n",
       "3        3         0  [0.0, 2.1299352645874023, 0.0, 2.0093741416931...  \n",
       "4        4         0  [0.16992336511611938, 0.8546663522720337, 0.0,...  "
      ]
     },
     "execution_count": 15,
     "metadata": {},
     "output_type": "execute_result"
    }
   ],
   "source": [
    "val_feats = repo.load(\"val_features\")\n",
    "val_feats.head(5)"
   ]
  },
  {
   "cell_type": "code",
   "execution_count": 16,
   "metadata": {},
   "outputs": [
    {
     "name": "stdout",
     "output_type": "stream",
     "text": [
      "1245/1245 [==============================] - 292s 234ms/step\n"
     ]
    },
    {
     "data": {
      "text/plain": [
       "(39828, 3)"
      ]
     },
     "execution_count": 16,
     "metadata": {},
     "output_type": "execute_result"
    }
   ],
   "source": [
    "val_generator.reset()\n",
    "raw_val_probs = model.predict(val_generator, steps=NUM_VAL_BATCHES, verbose=1)\n",
    "raw_val_probs.shape"
   ]
  },
  {
   "cell_type": "code",
   "execution_count": 18,
   "metadata": {},
   "outputs": [
    {
     "data": {
      "text/html": [
       "<div>\n",
       "<style scoped>\n",
       "    .dataframe tbody tr th:only-of-type {\n",
       "        vertical-align: middle;\n",
       "    }\n",
       "\n",
       "    .dataframe tbody tr th {\n",
       "        vertical-align: top;\n",
       "    }\n",
       "\n",
       "    .dataframe thead th {\n",
       "        text-align: right;\n",
       "    }\n",
       "</style>\n",
       "<table border=\"1\" class=\"dataframe\">\n",
       "  <thead>\n",
       "    <tr style=\"text-align: right;\">\n",
       "      <th></th>\n",
       "      <th>file</th>\n",
       "      <th>label</th>\n",
       "      <th>patient_id</th>\n",
       "      <th>scan_id</th>\n",
       "      <th>n_slice</th>\n",
       "      <th>num_clips</th>\n",
       "      <th>seq_num</th>\n",
       "      <th>clip_num</th>\n",
       "      <th>img_features</th>\n",
       "      <th>img_probs</th>\n",
       "    </tr>\n",
       "  </thead>\n",
       "  <tbody>\n",
       "    <tr>\n",
       "      <th>0</th>\n",
       "      <td>NCP/450/2055/0000.png</td>\n",
       "      <td>NCP</td>\n",
       "      <td>450</td>\n",
       "      <td>2055</td>\n",
       "      <td>34</td>\n",
       "      <td>1</td>\n",
       "      <td>0</td>\n",
       "      <td>0</td>\n",
       "      <td>[0.0, 6.997844696044922, 5.284853458404541, 6....</td>\n",
       "      <td>[0.9772856831550598, 0.021649900823831558, 0.0...</td>\n",
       "    </tr>\n",
       "    <tr>\n",
       "      <th>1</th>\n",
       "      <td>NCP/450/2055/0001.png</td>\n",
       "      <td>NCP</td>\n",
       "      <td>450</td>\n",
       "      <td>2055</td>\n",
       "      <td>34</td>\n",
       "      <td>1</td>\n",
       "      <td>1</td>\n",
       "      <td>0</td>\n",
       "      <td>[0.0, 3.0591254234313965, 3.159388780593872, 2...</td>\n",
       "      <td>[0.999860405921936, 0.0001300825533689931, 9.5...</td>\n",
       "    </tr>\n",
       "    <tr>\n",
       "      <th>2</th>\n",
       "      <td>NCP/450/2055/0002.png</td>\n",
       "      <td>NCP</td>\n",
       "      <td>450</td>\n",
       "      <td>2055</td>\n",
       "      <td>34</td>\n",
       "      <td>1</td>\n",
       "      <td>2</td>\n",
       "      <td>0</td>\n",
       "      <td>[0.0, 2.3002514839172363, 0.0, 1.5852916240692...</td>\n",
       "      <td>[0.9999388456344604, 6.0918377130292356e-05, 2...</td>\n",
       "    </tr>\n",
       "    <tr>\n",
       "      <th>3</th>\n",
       "      <td>NCP/450/2055/0003.png</td>\n",
       "      <td>NCP</td>\n",
       "      <td>450</td>\n",
       "      <td>2055</td>\n",
       "      <td>34</td>\n",
       "      <td>1</td>\n",
       "      <td>3</td>\n",
       "      <td>0</td>\n",
       "      <td>[0.0, 2.1299352645874023, 0.0, 2.0093741416931...</td>\n",
       "      <td>[0.9952221512794495, 0.004254407715052366, 0.0...</td>\n",
       "    </tr>\n",
       "    <tr>\n",
       "      <th>4</th>\n",
       "      <td>NCP/450/2055/0004.png</td>\n",
       "      <td>NCP</td>\n",
       "      <td>450</td>\n",
       "      <td>2055</td>\n",
       "      <td>34</td>\n",
       "      <td>1</td>\n",
       "      <td>4</td>\n",
       "      <td>0</td>\n",
       "      <td>[0.16992336511611938, 0.8546663522720337, 0.0,...</td>\n",
       "      <td>[0.9998757839202881, 0.00012230794527567923, 1...</td>\n",
       "    </tr>\n",
       "  </tbody>\n",
       "</table>\n",
       "</div>"
      ],
      "text/plain": [
       "                    file label  patient_id  scan_id  n_slice  num_clips  \\\n",
       "0  NCP/450/2055/0000.png   NCP         450     2055       34          1   \n",
       "1  NCP/450/2055/0001.png   NCP         450     2055       34          1   \n",
       "2  NCP/450/2055/0002.png   NCP         450     2055       34          1   \n",
       "3  NCP/450/2055/0003.png   NCP         450     2055       34          1   \n",
       "4  NCP/450/2055/0004.png   NCP         450     2055       34          1   \n",
       "\n",
       "   seq_num  clip_num                                       img_features  \\\n",
       "0        0         0  [0.0, 6.997844696044922, 5.284853458404541, 6....   \n",
       "1        1         0  [0.0, 3.0591254234313965, 3.159388780593872, 2...   \n",
       "2        2         0  [0.0, 2.3002514839172363, 0.0, 1.5852916240692...   \n",
       "3        3         0  [0.0, 2.1299352645874023, 0.0, 2.0093741416931...   \n",
       "4        4         0  [0.16992336511611938, 0.8546663522720337, 0.0,...   \n",
       "\n",
       "                                           img_probs  \n",
       "0  [0.9772856831550598, 0.021649900823831558, 0.0...  \n",
       "1  [0.999860405921936, 0.0001300825533689931, 9.5...  \n",
       "2  [0.9999388456344604, 6.0918377130292356e-05, 2...  \n",
       "3  [0.9952221512794495, 0.004254407715052366, 0.0...  \n",
       "4  [0.9998757839202881, 0.00012230794527567923, 1...  "
      ]
     },
     "execution_count": 18,
     "metadata": {},
     "output_type": "execute_result"
    }
   ],
   "source": [
    "val_feats[\"img_probs\"] = raw_val_probs.tolist()\n",
    "val_feats.head(5)"
   ]
  },
  {
   "cell_type": "code",
   "execution_count": 24,
   "metadata": {},
   "outputs": [
    {
     "data": {
      "text/plain": [
       "True"
      ]
     },
     "execution_count": 24,
     "metadata": {},
     "output_type": "execute_result"
    }
   ],
   "source": [
    "repo.save(\"val_features\", val_feats)"
   ]
  },
  {
   "cell_type": "markdown",
   "metadata": {},
   "source": [
    "## Test"
   ]
  },
  {
   "cell_type": "code",
   "execution_count": 19,
   "metadata": {},
   "outputs": [
    {
     "name": "stdout",
     "output_type": "stream",
     "text": [
      "Found 40415 validated image filenames belonging to 3 classes.\n"
     ]
    }
   ],
   "source": [
    "test_df = repo.load(\"test_df\")\n",
    "\n",
    "test_generator = test_datagen.flow_from_dataframe(\n",
    "    dataframe=test_df,\n",
    "    directory=str(images_input_dir),\n",
    "    x_col=\"file\",\n",
    "    y_col=\"label\",\n",
    "    batch_size=batch_size,\n",
    "    seed=seed,\n",
    "    shuffle=False,\n",
    "    class_mode=\"categorical\",\n",
    "    target_size=image_target_size)\n",
    "\n",
    "NUM_TEST_BATCHES = test_generator.n // test_generator.batch_size + 1"
   ]
  },
  {
   "cell_type": "code",
   "execution_count": null,
   "metadata": {},
   "outputs": [],
   "source": [
    "raw_test_feats = new_model.predict(test_generator, steps=NUM_TEST_BATCHES, verbose=1)\n",
    "raw_test_feats.shape"
   ]
  },
  {
   "cell_type": "code",
   "execution_count": null,
   "metadata": {},
   "outputs": [],
   "source": [
    "test_df[\"img_features\"] = raw_test_feats.tolist()\n",
    "repo.save(\"test_features\", test_df)"
   ]
  },
  {
   "cell_type": "code",
   "execution_count": 20,
   "metadata": {},
   "outputs": [
    {
     "data": {
      "text/html": [
       "<div>\n",
       "<style scoped>\n",
       "    .dataframe tbody tr th:only-of-type {\n",
       "        vertical-align: middle;\n",
       "    }\n",
       "\n",
       "    .dataframe tbody tr th {\n",
       "        vertical-align: top;\n",
       "    }\n",
       "\n",
       "    .dataframe thead th {\n",
       "        text-align: right;\n",
       "    }\n",
       "</style>\n",
       "<table border=\"1\" class=\"dataframe\">\n",
       "  <thead>\n",
       "    <tr style=\"text-align: right;\">\n",
       "      <th></th>\n",
       "      <th>file</th>\n",
       "      <th>label</th>\n",
       "      <th>patient_id</th>\n",
       "      <th>scan_id</th>\n",
       "      <th>n_slice</th>\n",
       "      <th>num_clips</th>\n",
       "      <th>seq_num</th>\n",
       "      <th>clip_num</th>\n",
       "      <th>img_features</th>\n",
       "    </tr>\n",
       "  </thead>\n",
       "  <tbody>\n",
       "    <tr>\n",
       "      <th>0</th>\n",
       "      <td>NCP/86/1305/0000.png</td>\n",
       "      <td>NCP</td>\n",
       "      <td>86</td>\n",
       "      <td>1305</td>\n",
       "      <td>117</td>\n",
       "      <td>2</td>\n",
       "      <td>0</td>\n",
       "      <td>0</td>\n",
       "      <td>[0.0, 2.5630719661712646, 2.0887129306793213, ...</td>\n",
       "    </tr>\n",
       "    <tr>\n",
       "      <th>1</th>\n",
       "      <td>NCP/86/1305/0001.png</td>\n",
       "      <td>NCP</td>\n",
       "      <td>86</td>\n",
       "      <td>1305</td>\n",
       "      <td>117</td>\n",
       "      <td>2</td>\n",
       "      <td>1</td>\n",
       "      <td>0</td>\n",
       "      <td>[0.0, 5.186458110809326, 4.386926651000977, 4....</td>\n",
       "    </tr>\n",
       "    <tr>\n",
       "      <th>2</th>\n",
       "      <td>NCP/86/1305/0002.png</td>\n",
       "      <td>NCP</td>\n",
       "      <td>86</td>\n",
       "      <td>1305</td>\n",
       "      <td>117</td>\n",
       "      <td>2</td>\n",
       "      <td>2</td>\n",
       "      <td>0</td>\n",
       "      <td>[0.0, 3.0205512046813965, 2.701319694519043, 2...</td>\n",
       "    </tr>\n",
       "    <tr>\n",
       "      <th>3</th>\n",
       "      <td>NCP/86/1305/0003.png</td>\n",
       "      <td>NCP</td>\n",
       "      <td>86</td>\n",
       "      <td>1305</td>\n",
       "      <td>117</td>\n",
       "      <td>2</td>\n",
       "      <td>3</td>\n",
       "      <td>0</td>\n",
       "      <td>[0.0, 3.357377529144287, 3.4147069454193115, 3...</td>\n",
       "    </tr>\n",
       "    <tr>\n",
       "      <th>4</th>\n",
       "      <td>NCP/86/1305/0004.png</td>\n",
       "      <td>NCP</td>\n",
       "      <td>86</td>\n",
       "      <td>1305</td>\n",
       "      <td>117</td>\n",
       "      <td>2</td>\n",
       "      <td>4</td>\n",
       "      <td>0</td>\n",
       "      <td>[0.0, 2.5539140701293945, 1.9913949966430664, ...</td>\n",
       "    </tr>\n",
       "  </tbody>\n",
       "</table>\n",
       "</div>"
      ],
      "text/plain": [
       "                   file label  patient_id  scan_id  n_slice  num_clips  \\\n",
       "0  NCP/86/1305/0000.png   NCP          86     1305      117          2   \n",
       "1  NCP/86/1305/0001.png   NCP          86     1305      117          2   \n",
       "2  NCP/86/1305/0002.png   NCP          86     1305      117          2   \n",
       "3  NCP/86/1305/0003.png   NCP          86     1305      117          2   \n",
       "4  NCP/86/1305/0004.png   NCP          86     1305      117          2   \n",
       "\n",
       "   seq_num  clip_num                                       img_features  \n",
       "0        0         0  [0.0, 2.5630719661712646, 2.0887129306793213, ...  \n",
       "1        1         0  [0.0, 5.186458110809326, 4.386926651000977, 4....  \n",
       "2        2         0  [0.0, 3.0205512046813965, 2.701319694519043, 2...  \n",
       "3        3         0  [0.0, 3.357377529144287, 3.4147069454193115, 3...  \n",
       "4        4         0  [0.0, 2.5539140701293945, 1.9913949966430664, ...  "
      ]
     },
     "execution_count": 20,
     "metadata": {},
     "output_type": "execute_result"
    }
   ],
   "source": [
    "test_feats = repo.load(\"test_features\")\n",
    "test_feats.head(5)"
   ]
  },
  {
   "cell_type": "code",
   "execution_count": 21,
   "metadata": {},
   "outputs": [
    {
     "name": "stdout",
     "output_type": "stream",
     "text": [
      "1263/1263 [==============================] - 288s 228ms/step\n"
     ]
    },
    {
     "data": {
      "text/plain": [
       "(40415, 3)"
      ]
     },
     "execution_count": 21,
     "metadata": {},
     "output_type": "execute_result"
    }
   ],
   "source": [
    "test_generator.reset()\n",
    "raw_test_probs = model.predict(test_generator, steps=NUM_TEST_BATCHES, verbose=1)\n",
    "raw_test_probs.shape"
   ]
  },
  {
   "cell_type": "code",
   "execution_count": 22,
   "metadata": {},
   "outputs": [
    {
     "data": {
      "text/html": [
       "<div>\n",
       "<style scoped>\n",
       "    .dataframe tbody tr th:only-of-type {\n",
       "        vertical-align: middle;\n",
       "    }\n",
       "\n",
       "    .dataframe tbody tr th {\n",
       "        vertical-align: top;\n",
       "    }\n",
       "\n",
       "    .dataframe thead th {\n",
       "        text-align: right;\n",
       "    }\n",
       "</style>\n",
       "<table border=\"1\" class=\"dataframe\">\n",
       "  <thead>\n",
       "    <tr style=\"text-align: right;\">\n",
       "      <th></th>\n",
       "      <th>file</th>\n",
       "      <th>label</th>\n",
       "      <th>patient_id</th>\n",
       "      <th>scan_id</th>\n",
       "      <th>n_slice</th>\n",
       "      <th>num_clips</th>\n",
       "      <th>seq_num</th>\n",
       "      <th>clip_num</th>\n",
       "      <th>img_features</th>\n",
       "      <th>img_probs</th>\n",
       "    </tr>\n",
       "  </thead>\n",
       "  <tbody>\n",
       "    <tr>\n",
       "      <th>0</th>\n",
       "      <td>NCP/86/1305/0000.png</td>\n",
       "      <td>NCP</td>\n",
       "      <td>86</td>\n",
       "      <td>1305</td>\n",
       "      <td>117</td>\n",
       "      <td>2</td>\n",
       "      <td>0</td>\n",
       "      <td>0</td>\n",
       "      <td>[0.0, 2.5630719661712646, 2.0887129306793213, ...</td>\n",
       "      <td>[0.9408046007156372, 0.02861386351287365, 0.03...</td>\n",
       "    </tr>\n",
       "    <tr>\n",
       "      <th>1</th>\n",
       "      <td>NCP/86/1305/0001.png</td>\n",
       "      <td>NCP</td>\n",
       "      <td>86</td>\n",
       "      <td>1305</td>\n",
       "      <td>117</td>\n",
       "      <td>2</td>\n",
       "      <td>1</td>\n",
       "      <td>0</td>\n",
       "      <td>[0.0, 5.186458110809326, 4.386926651000977, 4....</td>\n",
       "      <td>[0.903782308101654, 0.037787966430187225, 0.05...</td>\n",
       "    </tr>\n",
       "    <tr>\n",
       "      <th>2</th>\n",
       "      <td>NCP/86/1305/0002.png</td>\n",
       "      <td>NCP</td>\n",
       "      <td>86</td>\n",
       "      <td>1305</td>\n",
       "      <td>117</td>\n",
       "      <td>2</td>\n",
       "      <td>2</td>\n",
       "      <td>0</td>\n",
       "      <td>[0.0, 3.0205512046813965, 2.701319694519043, 2...</td>\n",
       "      <td>[0.8599315285682678, 0.09497204422950745, 0.04...</td>\n",
       "    </tr>\n",
       "    <tr>\n",
       "      <th>3</th>\n",
       "      <td>NCP/86/1305/0003.png</td>\n",
       "      <td>NCP</td>\n",
       "      <td>86</td>\n",
       "      <td>1305</td>\n",
       "      <td>117</td>\n",
       "      <td>2</td>\n",
       "      <td>3</td>\n",
       "      <td>0</td>\n",
       "      <td>[0.0, 3.357377529144287, 3.4147069454193115, 3...</td>\n",
       "      <td>[0.9514102339744568, 0.03267701342701912, 0.01...</td>\n",
       "    </tr>\n",
       "    <tr>\n",
       "      <th>4</th>\n",
       "      <td>NCP/86/1305/0004.png</td>\n",
       "      <td>NCP</td>\n",
       "      <td>86</td>\n",
       "      <td>1305</td>\n",
       "      <td>117</td>\n",
       "      <td>2</td>\n",
       "      <td>4</td>\n",
       "      <td>0</td>\n",
       "      <td>[0.0, 2.5539140701293945, 1.9913949966430664, ...</td>\n",
       "      <td>[0.4622824192047119, 0.5283748507499695, 0.009...</td>\n",
       "    </tr>\n",
       "  </tbody>\n",
       "</table>\n",
       "</div>"
      ],
      "text/plain": [
       "                   file label  patient_id  scan_id  n_slice  num_clips  \\\n",
       "0  NCP/86/1305/0000.png   NCP          86     1305      117          2   \n",
       "1  NCP/86/1305/0001.png   NCP          86     1305      117          2   \n",
       "2  NCP/86/1305/0002.png   NCP          86     1305      117          2   \n",
       "3  NCP/86/1305/0003.png   NCP          86     1305      117          2   \n",
       "4  NCP/86/1305/0004.png   NCP          86     1305      117          2   \n",
       "\n",
       "   seq_num  clip_num                                       img_features  \\\n",
       "0        0         0  [0.0, 2.5630719661712646, 2.0887129306793213, ...   \n",
       "1        1         0  [0.0, 5.186458110809326, 4.386926651000977, 4....   \n",
       "2        2         0  [0.0, 3.0205512046813965, 2.701319694519043, 2...   \n",
       "3        3         0  [0.0, 3.357377529144287, 3.4147069454193115, 3...   \n",
       "4        4         0  [0.0, 2.5539140701293945, 1.9913949966430664, ...   \n",
       "\n",
       "                                           img_probs  \n",
       "0  [0.9408046007156372, 0.02861386351287365, 0.03...  \n",
       "1  [0.903782308101654, 0.037787966430187225, 0.05...  \n",
       "2  [0.8599315285682678, 0.09497204422950745, 0.04...  \n",
       "3  [0.9514102339744568, 0.03267701342701912, 0.01...  \n",
       "4  [0.4622824192047119, 0.5283748507499695, 0.009...  "
      ]
     },
     "execution_count": 22,
     "metadata": {},
     "output_type": "execute_result"
    }
   ],
   "source": [
    "test_feats[\"img_probs\"] = raw_test_probs.tolist()\n",
    "test_feats.head(5)"
   ]
  },
  {
   "cell_type": "code",
   "execution_count": 23,
   "metadata": {},
   "outputs": [
    {
     "data": {
      "text/plain": [
       "True"
      ]
     },
     "execution_count": 23,
     "metadata": {},
     "output_type": "execute_result"
    }
   ],
   "source": [
    "repo.save(\"test_features\", test_feats)"
   ]
  },
  {
   "cell_type": "markdown",
   "metadata": {},
   "source": [
    "# Group features into clips"
   ]
  },
  {
   "cell_type": "code",
   "execution_count": 5,
   "metadata": {},
   "outputs": [],
   "source": [
    "train_feats = repo.load(\"train_features\")\n",
    "val_feats = repo.load(\"val_features\")\n",
    "test_feats = repo.load(\"test_features\")"
   ]
  },
  {
   "cell_type": "code",
   "execution_count": 6,
   "metadata": {},
   "outputs": [
    {
     "data": {
      "text/html": [
       "<div>\n",
       "<style scoped>\n",
       "    .dataframe tbody tr th:only-of-type {\n",
       "        vertical-align: middle;\n",
       "    }\n",
       "\n",
       "    .dataframe tbody tr th {\n",
       "        vertical-align: top;\n",
       "    }\n",
       "\n",
       "    .dataframe thead th {\n",
       "        text-align: right;\n",
       "    }\n",
       "</style>\n",
       "<table border=\"1\" class=\"dataframe\">\n",
       "  <thead>\n",
       "    <tr style=\"text-align: right;\">\n",
       "      <th></th>\n",
       "      <th>file</th>\n",
       "      <th>label</th>\n",
       "      <th>patient_id</th>\n",
       "      <th>scan_id</th>\n",
       "      <th>n_slice</th>\n",
       "      <th>num_clips</th>\n",
       "      <th>seq_num</th>\n",
       "      <th>clip_num</th>\n",
       "      <th>img_features</th>\n",
       "      <th>img_probs</th>\n",
       "    </tr>\n",
       "  </thead>\n",
       "  <tbody>\n",
       "    <tr>\n",
       "      <th>0</th>\n",
       "      <td>NCP/880/2415/0000.jpg</td>\n",
       "      <td>NCP</td>\n",
       "      <td>880</td>\n",
       "      <td>2415</td>\n",
       "      <td>312</td>\n",
       "      <td>5</td>\n",
       "      <td>0</td>\n",
       "      <td>0</td>\n",
       "      <td>[0.0, 5.270750045776367, 0.0, 5.07415866851806...</td>\n",
       "      <td>[0.006345381494611502, 0.2938346266746521, 0.6...</td>\n",
       "    </tr>\n",
       "    <tr>\n",
       "      <th>1</th>\n",
       "      <td>NCP/880/2415/0001.jpg</td>\n",
       "      <td>NCP</td>\n",
       "      <td>880</td>\n",
       "      <td>2415</td>\n",
       "      <td>312</td>\n",
       "      <td>5</td>\n",
       "      <td>1</td>\n",
       "      <td>0</td>\n",
       "      <td>[0.0, 2.8091320991516113, 0.0, 2.9504299163818...</td>\n",
       "      <td>[0.003827716689556837, 0.3122704327106476, 0.6...</td>\n",
       "    </tr>\n",
       "    <tr>\n",
       "      <th>2</th>\n",
       "      <td>NCP/880/2415/0002.jpg</td>\n",
       "      <td>NCP</td>\n",
       "      <td>880</td>\n",
       "      <td>2415</td>\n",
       "      <td>312</td>\n",
       "      <td>5</td>\n",
       "      <td>2</td>\n",
       "      <td>0</td>\n",
       "      <td>[0.0, 3.616379737854004, 0.19390609860420227, ...</td>\n",
       "      <td>[0.005725017748773098, 0.38320884108543396, 0....</td>\n",
       "    </tr>\n",
       "    <tr>\n",
       "      <th>3</th>\n",
       "      <td>NCP/880/2415/0003.jpg</td>\n",
       "      <td>NCP</td>\n",
       "      <td>880</td>\n",
       "      <td>2415</td>\n",
       "      <td>312</td>\n",
       "      <td>5</td>\n",
       "      <td>3</td>\n",
       "      <td>0</td>\n",
       "      <td>[0.0, 2.734466314315796, 0.0, 2.81957268714904...</td>\n",
       "      <td>[0.00022382025781553239, 0.29181888699531555, ...</td>\n",
       "    </tr>\n",
       "    <tr>\n",
       "      <th>4</th>\n",
       "      <td>NCP/880/2415/0004.jpg</td>\n",
       "      <td>NCP</td>\n",
       "      <td>880</td>\n",
       "      <td>2415</td>\n",
       "      <td>312</td>\n",
       "      <td>5</td>\n",
       "      <td>4</td>\n",
       "      <td>0</td>\n",
       "      <td>[0.0, 9.06471061706543, 0.0, 7.898210525512695...</td>\n",
       "      <td>[3.348174141137861e-05, 0.18306158483028412, 0...</td>\n",
       "    </tr>\n",
       "  </tbody>\n",
       "</table>\n",
       "</div>"
      ],
      "text/plain": [
       "                    file label  patient_id  scan_id  n_slice  num_clips  \\\n",
       "0  NCP/880/2415/0000.jpg   NCP         880     2415      312          5   \n",
       "1  NCP/880/2415/0001.jpg   NCP         880     2415      312          5   \n",
       "2  NCP/880/2415/0002.jpg   NCP         880     2415      312          5   \n",
       "3  NCP/880/2415/0003.jpg   NCP         880     2415      312          5   \n",
       "4  NCP/880/2415/0004.jpg   NCP         880     2415      312          5   \n",
       "\n",
       "   seq_num  clip_num                                       img_features  \\\n",
       "0        0         0  [0.0, 5.270750045776367, 0.0, 5.07415866851806...   \n",
       "1        1         0  [0.0, 2.8091320991516113, 0.0, 2.9504299163818...   \n",
       "2        2         0  [0.0, 3.616379737854004, 0.19390609860420227, ...   \n",
       "3        3         0  [0.0, 2.734466314315796, 0.0, 2.81957268714904...   \n",
       "4        4         0  [0.0, 9.06471061706543, 0.0, 7.898210525512695...   \n",
       "\n",
       "                                           img_probs  \n",
       "0  [0.006345381494611502, 0.2938346266746521, 0.6...  \n",
       "1  [0.003827716689556837, 0.3122704327106476, 0.6...  \n",
       "2  [0.005725017748773098, 0.38320884108543396, 0....  \n",
       "3  [0.00022382025781553239, 0.29181888699531555, ...  \n",
       "4  [3.348174141137861e-05, 0.18306158483028412, 0...  "
      ]
     },
     "execution_count": 6,
     "metadata": {},
     "output_type": "execute_result"
    }
   ],
   "source": [
    "train_feats.head(5)"
   ]
  },
  {
   "cell_type": "code",
   "execution_count": 7,
   "metadata": {},
   "outputs": [
    {
     "data": {
      "text/html": [
       "<div>\n",
       "<style scoped>\n",
       "    .dataframe tbody tr th:only-of-type {\n",
       "        vertical-align: middle;\n",
       "    }\n",
       "\n",
       "    .dataframe tbody tr th {\n",
       "        vertical-align: top;\n",
       "    }\n",
       "\n",
       "    .dataframe thead th {\n",
       "        text-align: right;\n",
       "    }\n",
       "</style>\n",
       "<table border=\"1\" class=\"dataframe\">\n",
       "  <thead>\n",
       "    <tr style=\"text-align: right;\">\n",
       "      <th></th>\n",
       "      <th>file</th>\n",
       "      <th>label</th>\n",
       "      <th>patient_id</th>\n",
       "      <th>scan_id</th>\n",
       "      <th>n_slice</th>\n",
       "      <th>num_clips</th>\n",
       "      <th>seq_num</th>\n",
       "      <th>clip_num</th>\n",
       "      <th>img_features</th>\n",
       "      <th>img_probs</th>\n",
       "    </tr>\n",
       "  </thead>\n",
       "  <tbody>\n",
       "    <tr>\n",
       "      <th>0</th>\n",
       "      <td>NCP/450/2055/0000.png</td>\n",
       "      <td>NCP</td>\n",
       "      <td>450</td>\n",
       "      <td>2055</td>\n",
       "      <td>34</td>\n",
       "      <td>1</td>\n",
       "      <td>0</td>\n",
       "      <td>0</td>\n",
       "      <td>[0.0, 6.997844696044922, 5.284853458404541, 6....</td>\n",
       "      <td>[0.9772856831550598, 0.021649900823831558, 0.0...</td>\n",
       "    </tr>\n",
       "    <tr>\n",
       "      <th>1</th>\n",
       "      <td>NCP/450/2055/0001.png</td>\n",
       "      <td>NCP</td>\n",
       "      <td>450</td>\n",
       "      <td>2055</td>\n",
       "      <td>34</td>\n",
       "      <td>1</td>\n",
       "      <td>1</td>\n",
       "      <td>0</td>\n",
       "      <td>[0.0, 3.0591254234313965, 3.159388780593872, 2...</td>\n",
       "      <td>[0.999860405921936, 0.0001300825533689931, 9.5...</td>\n",
       "    </tr>\n",
       "    <tr>\n",
       "      <th>2</th>\n",
       "      <td>NCP/450/2055/0002.png</td>\n",
       "      <td>NCP</td>\n",
       "      <td>450</td>\n",
       "      <td>2055</td>\n",
       "      <td>34</td>\n",
       "      <td>1</td>\n",
       "      <td>2</td>\n",
       "      <td>0</td>\n",
       "      <td>[0.0, 2.3002514839172363, 0.0, 1.5852916240692...</td>\n",
       "      <td>[0.9999388456344604, 6.0918377130292356e-05, 2...</td>\n",
       "    </tr>\n",
       "    <tr>\n",
       "      <th>3</th>\n",
       "      <td>NCP/450/2055/0003.png</td>\n",
       "      <td>NCP</td>\n",
       "      <td>450</td>\n",
       "      <td>2055</td>\n",
       "      <td>34</td>\n",
       "      <td>1</td>\n",
       "      <td>3</td>\n",
       "      <td>0</td>\n",
       "      <td>[0.0, 2.1299352645874023, 0.0, 2.0093741416931...</td>\n",
       "      <td>[0.9952221512794495, 0.004254407715052366, 0.0...</td>\n",
       "    </tr>\n",
       "    <tr>\n",
       "      <th>4</th>\n",
       "      <td>NCP/450/2055/0004.png</td>\n",
       "      <td>NCP</td>\n",
       "      <td>450</td>\n",
       "      <td>2055</td>\n",
       "      <td>34</td>\n",
       "      <td>1</td>\n",
       "      <td>4</td>\n",
       "      <td>0</td>\n",
       "      <td>[0.16992336511611938, 0.8546663522720337, 0.0,...</td>\n",
       "      <td>[0.9998757839202881, 0.00012230794527567923, 1...</td>\n",
       "    </tr>\n",
       "  </tbody>\n",
       "</table>\n",
       "</div>"
      ],
      "text/plain": [
       "                    file label  patient_id  scan_id  n_slice  num_clips  \\\n",
       "0  NCP/450/2055/0000.png   NCP         450     2055       34          1   \n",
       "1  NCP/450/2055/0001.png   NCP         450     2055       34          1   \n",
       "2  NCP/450/2055/0002.png   NCP         450     2055       34          1   \n",
       "3  NCP/450/2055/0003.png   NCP         450     2055       34          1   \n",
       "4  NCP/450/2055/0004.png   NCP         450     2055       34          1   \n",
       "\n",
       "   seq_num  clip_num                                       img_features  \\\n",
       "0        0         0  [0.0, 6.997844696044922, 5.284853458404541, 6....   \n",
       "1        1         0  [0.0, 3.0591254234313965, 3.159388780593872, 2...   \n",
       "2        2         0  [0.0, 2.3002514839172363, 0.0, 1.5852916240692...   \n",
       "3        3         0  [0.0, 2.1299352645874023, 0.0, 2.0093741416931...   \n",
       "4        4         0  [0.16992336511611938, 0.8546663522720337, 0.0,...   \n",
       "\n",
       "                                           img_probs  \n",
       "0  [0.9772856831550598, 0.021649900823831558, 0.0...  \n",
       "1  [0.999860405921936, 0.0001300825533689931, 9.5...  \n",
       "2  [0.9999388456344604, 6.0918377130292356e-05, 2...  \n",
       "3  [0.9952221512794495, 0.004254407715052366, 0.0...  \n",
       "4  [0.9998757839202881, 0.00012230794527567923, 1...  "
      ]
     },
     "execution_count": 7,
     "metadata": {},
     "output_type": "execute_result"
    }
   ],
   "source": [
    "val_feats.head(5)"
   ]
  },
  {
   "cell_type": "code",
   "execution_count": 8,
   "metadata": {},
   "outputs": [
    {
     "data": {
      "text/html": [
       "<div>\n",
       "<style scoped>\n",
       "    .dataframe tbody tr th:only-of-type {\n",
       "        vertical-align: middle;\n",
       "    }\n",
       "\n",
       "    .dataframe tbody tr th {\n",
       "        vertical-align: top;\n",
       "    }\n",
       "\n",
       "    .dataframe thead th {\n",
       "        text-align: right;\n",
       "    }\n",
       "</style>\n",
       "<table border=\"1\" class=\"dataframe\">\n",
       "  <thead>\n",
       "    <tr style=\"text-align: right;\">\n",
       "      <th></th>\n",
       "      <th>file</th>\n",
       "      <th>label</th>\n",
       "      <th>patient_id</th>\n",
       "      <th>scan_id</th>\n",
       "      <th>n_slice</th>\n",
       "      <th>num_clips</th>\n",
       "      <th>seq_num</th>\n",
       "      <th>clip_num</th>\n",
       "      <th>img_features</th>\n",
       "      <th>img_probs</th>\n",
       "    </tr>\n",
       "  </thead>\n",
       "  <tbody>\n",
       "    <tr>\n",
       "      <th>0</th>\n",
       "      <td>NCP/86/1305/0000.png</td>\n",
       "      <td>NCP</td>\n",
       "      <td>86</td>\n",
       "      <td>1305</td>\n",
       "      <td>117</td>\n",
       "      <td>2</td>\n",
       "      <td>0</td>\n",
       "      <td>0</td>\n",
       "      <td>[0.0, 2.5630719661712646, 2.0887129306793213, ...</td>\n",
       "      <td>[0.9408046007156372, 0.02861386351287365, 0.03...</td>\n",
       "    </tr>\n",
       "    <tr>\n",
       "      <th>1</th>\n",
       "      <td>NCP/86/1305/0001.png</td>\n",
       "      <td>NCP</td>\n",
       "      <td>86</td>\n",
       "      <td>1305</td>\n",
       "      <td>117</td>\n",
       "      <td>2</td>\n",
       "      <td>1</td>\n",
       "      <td>0</td>\n",
       "      <td>[0.0, 5.186458110809326, 4.386926651000977, 4....</td>\n",
       "      <td>[0.903782308101654, 0.037787966430187225, 0.05...</td>\n",
       "    </tr>\n",
       "    <tr>\n",
       "      <th>2</th>\n",
       "      <td>NCP/86/1305/0002.png</td>\n",
       "      <td>NCP</td>\n",
       "      <td>86</td>\n",
       "      <td>1305</td>\n",
       "      <td>117</td>\n",
       "      <td>2</td>\n",
       "      <td>2</td>\n",
       "      <td>0</td>\n",
       "      <td>[0.0, 3.0205512046813965, 2.701319694519043, 2...</td>\n",
       "      <td>[0.8599315285682678, 0.09497204422950745, 0.04...</td>\n",
       "    </tr>\n",
       "    <tr>\n",
       "      <th>3</th>\n",
       "      <td>NCP/86/1305/0003.png</td>\n",
       "      <td>NCP</td>\n",
       "      <td>86</td>\n",
       "      <td>1305</td>\n",
       "      <td>117</td>\n",
       "      <td>2</td>\n",
       "      <td>3</td>\n",
       "      <td>0</td>\n",
       "      <td>[0.0, 3.357377529144287, 3.4147069454193115, 3...</td>\n",
       "      <td>[0.9514102339744568, 0.03267701342701912, 0.01...</td>\n",
       "    </tr>\n",
       "    <tr>\n",
       "      <th>4</th>\n",
       "      <td>NCP/86/1305/0004.png</td>\n",
       "      <td>NCP</td>\n",
       "      <td>86</td>\n",
       "      <td>1305</td>\n",
       "      <td>117</td>\n",
       "      <td>2</td>\n",
       "      <td>4</td>\n",
       "      <td>0</td>\n",
       "      <td>[0.0, 2.5539140701293945, 1.9913949966430664, ...</td>\n",
       "      <td>[0.4622824192047119, 0.5283748507499695, 0.009...</td>\n",
       "    </tr>\n",
       "  </tbody>\n",
       "</table>\n",
       "</div>"
      ],
      "text/plain": [
       "                   file label  patient_id  scan_id  n_slice  num_clips  \\\n",
       "0  NCP/86/1305/0000.png   NCP          86     1305      117          2   \n",
       "1  NCP/86/1305/0001.png   NCP          86     1305      117          2   \n",
       "2  NCP/86/1305/0002.png   NCP          86     1305      117          2   \n",
       "3  NCP/86/1305/0003.png   NCP          86     1305      117          2   \n",
       "4  NCP/86/1305/0004.png   NCP          86     1305      117          2   \n",
       "\n",
       "   seq_num  clip_num                                       img_features  \\\n",
       "0        0         0  [0.0, 2.5630719661712646, 2.0887129306793213, ...   \n",
       "1        1         0  [0.0, 5.186458110809326, 4.386926651000977, 4....   \n",
       "2        2         0  [0.0, 3.0205512046813965, 2.701319694519043, 2...   \n",
       "3        3         0  [0.0, 3.357377529144287, 3.4147069454193115, 3...   \n",
       "4        4         0  [0.0, 2.5539140701293945, 1.9913949966430664, ...   \n",
       "\n",
       "                                           img_probs  \n",
       "0  [0.9408046007156372, 0.02861386351287365, 0.03...  \n",
       "1  [0.903782308101654, 0.037787966430187225, 0.05...  \n",
       "2  [0.8599315285682678, 0.09497204422950745, 0.04...  \n",
       "3  [0.9514102339744568, 0.03267701342701912, 0.01...  \n",
       "4  [0.4622824192047119, 0.5283748507499695, 0.009...  "
      ]
     },
     "execution_count": 8,
     "metadata": {},
     "output_type": "execute_result"
    }
   ],
   "source": [
    "test_feats.head(5)"
   ]
  },
  {
   "cell_type": "code",
   "execution_count": 9,
   "metadata": {},
   "outputs": [],
   "source": [
    "def agg_features(series):\n",
    "    series = sorted(series, key=lambda t: t[0])\n",
    "    \n",
    "    return [seq_feats[1] for seq_feats in series]\n",
    "\n",
    "def agg_probs(series):\n",
    "    series = sorted(series, key=lambda t: t[0])\n",
    "    \n",
    "    return [seq_probs[1] for seq_probs in series]"
   ]
  },
  {
   "cell_type": "code",
   "execution_count": 10,
   "metadata": {},
   "outputs": [],
   "source": [
    "def make_clips(df):\n",
    "    df[\"seq_features\"] = list(zip(df.seq_num, df.img_features))\n",
    "    df[\"seq_probs\"] = list(zip(df.seq_num, df.img_probs))\n",
    "    df_clips = df\\\n",
    "        .groupby(by=[\"patient_id\", \"scan_id\", \"label\", \"n_slice\", \"clip_num\"])\\\n",
    "        .agg({\n",
    "            'file': [\"min\", \"max\"],\n",
    "            'seq_features': [agg_features],\n",
    "            'seq_probs': [agg_probs]\n",
    "        })\\\n",
    "        .reset_index()\n",
    "\n",
    "    # Takes care of the multi-index after the groupby\n",
    "    df_clips.columns = df_clips.columns.map(lambda t: '_'.join(t).rstrip(\"_\"))\n",
    "\n",
    "    df_clips = df_clips.rename(columns={\n",
    "        \"seq_features_agg_features\": \"seq_features\",\n",
    "        \"seq_probs_agg_probs\": \"seq_probs\",\n",
    "        \"file_min\": \"clip_start_file\",\n",
    "        \"file_max\": \"clip_end_file\",\n",
    "    })\n",
    "    \n",
    "    return df_clips"
   ]
  },
  {
   "cell_type": "code",
   "execution_count": 11,
   "metadata": {},
   "outputs": [
    {
     "data": {
      "text/html": [
       "<div>\n",
       "<style scoped>\n",
       "    .dataframe tbody tr th:only-of-type {\n",
       "        vertical-align: middle;\n",
       "    }\n",
       "\n",
       "    .dataframe tbody tr th {\n",
       "        vertical-align: top;\n",
       "    }\n",
       "\n",
       "    .dataframe thead th {\n",
       "        text-align: right;\n",
       "    }\n",
       "</style>\n",
       "<table border=\"1\" class=\"dataframe\">\n",
       "  <thead>\n",
       "    <tr style=\"text-align: right;\">\n",
       "      <th></th>\n",
       "      <th>patient_id</th>\n",
       "      <th>scan_id</th>\n",
       "      <th>label</th>\n",
       "      <th>n_slice</th>\n",
       "      <th>clip_num</th>\n",
       "      <th>clip_start_file</th>\n",
       "      <th>clip_end_file</th>\n",
       "      <th>seq_features</th>\n",
       "      <th>seq_probs</th>\n",
       "    </tr>\n",
       "  </thead>\n",
       "  <tbody>\n",
       "    <tr>\n",
       "      <th>0</th>\n",
       "      <td>0</td>\n",
       "      <td>3131</td>\n",
       "      <td>CP</td>\n",
       "      <td>285</td>\n",
       "      <td>0</td>\n",
       "      <td>CP/0/3131/0000.png</td>\n",
       "      <td>CP/0/3131/0069.png</td>\n",
       "      <td>[[0.0, 0.0, 2.9882235527038574, 0.0, 0.0, 0.0,...</td>\n",
       "      <td>[[0.995826005935669, 0.002047961810603738, 0.0...</td>\n",
       "    </tr>\n",
       "    <tr>\n",
       "      <th>1</th>\n",
       "      <td>0</td>\n",
       "      <td>3131</td>\n",
       "      <td>CP</td>\n",
       "      <td>285</td>\n",
       "      <td>1</td>\n",
       "      <td>CP/0/3131/0070.png</td>\n",
       "      <td>CP/0/3131/0139.png</td>\n",
       "      <td>[[0.0, 0.015588469803333282, 2.548190832138061...</td>\n",
       "      <td>[[0.9611499309539795, 0.0388215146958828, 2.85...</td>\n",
       "    </tr>\n",
       "    <tr>\n",
       "      <th>2</th>\n",
       "      <td>0</td>\n",
       "      <td>3131</td>\n",
       "      <td>CP</td>\n",
       "      <td>285</td>\n",
       "      <td>2</td>\n",
       "      <td>CP/0/3131/0140.png</td>\n",
       "      <td>CP/0/3131/0209.png</td>\n",
       "      <td>[[0.3391307592391968, 0.016530275344848633, 2....</td>\n",
       "      <td>[[0.9554761648178101, 0.04128715768456459, 0.0...</td>\n",
       "    </tr>\n",
       "    <tr>\n",
       "      <th>3</th>\n",
       "      <td>0</td>\n",
       "      <td>3131</td>\n",
       "      <td>CP</td>\n",
       "      <td>285</td>\n",
       "      <td>3</td>\n",
       "      <td>CP/0/3131/0210.png</td>\n",
       "      <td>CP/0/3131/0279.png</td>\n",
       "      <td>[[0.29484760761260986, 0.0, 1.7729129791259766...</td>\n",
       "      <td>[[0.9988947510719299, 0.00042690912960097194, ...</td>\n",
       "    </tr>\n",
       "    <tr>\n",
       "      <th>4</th>\n",
       "      <td>0</td>\n",
       "      <td>3131</td>\n",
       "      <td>CP</td>\n",
       "      <td>285</td>\n",
       "      <td>4</td>\n",
       "      <td>CP/0/3131/0280.png</td>\n",
       "      <td>CP/0/3131/0284.png</td>\n",
       "      <td>[[2.112011671066284, 0.0, 3.815093755722046, 0...</td>\n",
       "      <td>[[0.9980648159980774, 0.0014690179377794266, 0...</td>\n",
       "    </tr>\n",
       "  </tbody>\n",
       "</table>\n",
       "</div>"
      ],
      "text/plain": [
       "   patient_id  scan_id label  n_slice  clip_num     clip_start_file  \\\n",
       "0           0     3131    CP      285         0  CP/0/3131/0000.png   \n",
       "1           0     3131    CP      285         1  CP/0/3131/0070.png   \n",
       "2           0     3131    CP      285         2  CP/0/3131/0140.png   \n",
       "3           0     3131    CP      285         3  CP/0/3131/0210.png   \n",
       "4           0     3131    CP      285         4  CP/0/3131/0280.png   \n",
       "\n",
       "        clip_end_file                                       seq_features  \\\n",
       "0  CP/0/3131/0069.png  [[0.0, 0.0, 2.9882235527038574, 0.0, 0.0, 0.0,...   \n",
       "1  CP/0/3131/0139.png  [[0.0, 0.015588469803333282, 2.548190832138061...   \n",
       "2  CP/0/3131/0209.png  [[0.3391307592391968, 0.016530275344848633, 2....   \n",
       "3  CP/0/3131/0279.png  [[0.29484760761260986, 0.0, 1.7729129791259766...   \n",
       "4  CP/0/3131/0284.png  [[2.112011671066284, 0.0, 3.815093755722046, 0...   \n",
       "\n",
       "                                           seq_probs  \n",
       "0  [[0.995826005935669, 0.002047961810603738, 0.0...  \n",
       "1  [[0.9611499309539795, 0.0388215146958828, 2.85...  \n",
       "2  [[0.9554761648178101, 0.04128715768456459, 0.0...  \n",
       "3  [[0.9988947510719299, 0.00042690912960097194, ...  \n",
       "4  [[0.9980648159980774, 0.0014690179377794266, 0...  "
      ]
     },
     "execution_count": 11,
     "metadata": {},
     "output_type": "execute_result"
    }
   ],
   "source": [
    "train_feats = repo.load(\"train_features\")\n",
    "train_clips = make_clips(train_feats)\n",
    "train_clips.head()"
   ]
  },
  {
   "cell_type": "code",
   "execution_count": 12,
   "metadata": {},
   "outputs": [
    {
     "data": {
      "text/plain": [
       "(6117, 9)"
      ]
     },
     "execution_count": 12,
     "metadata": {},
     "output_type": "execute_result"
    }
   ],
   "source": [
    "train_clips.shape"
   ]
  },
  {
   "cell_type": "code",
   "execution_count": 13,
   "metadata": {},
   "outputs": [
    {
     "data": {
      "text/plain": [
       "True"
      ]
     },
     "execution_count": 13,
     "metadata": {},
     "output_type": "execute_result"
    }
   ],
   "source": [
    "repo.save(\"train_clips\", train_clips)"
   ]
  },
  {
   "cell_type": "code",
   "execution_count": 14,
   "metadata": {},
   "outputs": [
    {
     "data": {
      "text/html": [
       "<div>\n",
       "<style scoped>\n",
       "    .dataframe tbody tr th:only-of-type {\n",
       "        vertical-align: middle;\n",
       "    }\n",
       "\n",
       "    .dataframe tbody tr th {\n",
       "        vertical-align: top;\n",
       "    }\n",
       "\n",
       "    .dataframe thead th {\n",
       "        text-align: right;\n",
       "    }\n",
       "</style>\n",
       "<table border=\"1\" class=\"dataframe\">\n",
       "  <thead>\n",
       "    <tr style=\"text-align: right;\">\n",
       "      <th></th>\n",
       "      <th>patient_id</th>\n",
       "      <th>scan_id</th>\n",
       "      <th>label</th>\n",
       "      <th>n_slice</th>\n",
       "      <th>clip_num</th>\n",
       "      <th>clip_start_file</th>\n",
       "      <th>clip_end_file</th>\n",
       "      <th>seq_features</th>\n",
       "      <th>seq_probs</th>\n",
       "    </tr>\n",
       "  </thead>\n",
       "  <tbody>\n",
       "    <tr>\n",
       "      <th>0</th>\n",
       "      <td>4</td>\n",
       "      <td>3505</td>\n",
       "      <td>CP</td>\n",
       "      <td>298</td>\n",
       "      <td>0</td>\n",
       "      <td>CP/4/3505/0000.png</td>\n",
       "      <td>CP/4/3505/0069.png</td>\n",
       "      <td>[[2.613647699356079, 0.0, 0.9890813827514648, ...</td>\n",
       "      <td>[[0.9998388290405273, 2.6595776034810115e-06, ...</td>\n",
       "    </tr>\n",
       "    <tr>\n",
       "      <th>1</th>\n",
       "      <td>4</td>\n",
       "      <td>3505</td>\n",
       "      <td>CP</td>\n",
       "      <td>298</td>\n",
       "      <td>1</td>\n",
       "      <td>CP/4/3505/0070.png</td>\n",
       "      <td>CP/4/3505/0139.png</td>\n",
       "      <td>[[3.2934000492095947, 0.0, 5.15690279006958, 0...</td>\n",
       "      <td>[[1.0, 3.73688280319584e-09, 2.112125196962466...</td>\n",
       "    </tr>\n",
       "    <tr>\n",
       "      <th>2</th>\n",
       "      <td>4</td>\n",
       "      <td>3505</td>\n",
       "      <td>CP</td>\n",
       "      <td>298</td>\n",
       "      <td>2</td>\n",
       "      <td>CP/4/3505/0140.png</td>\n",
       "      <td>CP/4/3505/0209.png</td>\n",
       "      <td>[[3.833109140396118, 0.0, 5.286610126495361, 0...</td>\n",
       "      <td>[[0.9999998807907104, 6.390022377900095e-08, 2...</td>\n",
       "    </tr>\n",
       "    <tr>\n",
       "      <th>3</th>\n",
       "      <td>4</td>\n",
       "      <td>3505</td>\n",
       "      <td>CP</td>\n",
       "      <td>298</td>\n",
       "      <td>3</td>\n",
       "      <td>CP/4/3505/0210.png</td>\n",
       "      <td>CP/4/3505/0279.png</td>\n",
       "      <td>[[3.43273663520813, 0.0, 0.621675968170166, 0....</td>\n",
       "      <td>[[0.9999997615814209, 2.8103993798822557e-08, ...</td>\n",
       "    </tr>\n",
       "    <tr>\n",
       "      <th>4</th>\n",
       "      <td>4</td>\n",
       "      <td>3505</td>\n",
       "      <td>CP</td>\n",
       "      <td>298</td>\n",
       "      <td>4</td>\n",
       "      <td>CP/4/3505/0280.png</td>\n",
       "      <td>CP/4/3505/0297.png</td>\n",
       "      <td>[[4.024286270141602, 0.0, 1.0903337001800537, ...</td>\n",
       "      <td>[[0.9956602454185486, 0.0034320885315537453, 0...</td>\n",
       "    </tr>\n",
       "  </tbody>\n",
       "</table>\n",
       "</div>"
      ],
      "text/plain": [
       "   patient_id  scan_id label  n_slice  clip_num     clip_start_file  \\\n",
       "0           4     3505    CP      298         0  CP/4/3505/0000.png   \n",
       "1           4     3505    CP      298         1  CP/4/3505/0070.png   \n",
       "2           4     3505    CP      298         2  CP/4/3505/0140.png   \n",
       "3           4     3505    CP      298         3  CP/4/3505/0210.png   \n",
       "4           4     3505    CP      298         4  CP/4/3505/0280.png   \n",
       "\n",
       "        clip_end_file                                       seq_features  \\\n",
       "0  CP/4/3505/0069.png  [[2.613647699356079, 0.0, 0.9890813827514648, ...   \n",
       "1  CP/4/3505/0139.png  [[3.2934000492095947, 0.0, 5.15690279006958, 0...   \n",
       "2  CP/4/3505/0209.png  [[3.833109140396118, 0.0, 5.286610126495361, 0...   \n",
       "3  CP/4/3505/0279.png  [[3.43273663520813, 0.0, 0.621675968170166, 0....   \n",
       "4  CP/4/3505/0297.png  [[4.024286270141602, 0.0, 1.0903337001800537, ...   \n",
       "\n",
       "                                           seq_probs  \n",
       "0  [[0.9998388290405273, 2.6595776034810115e-06, ...  \n",
       "1  [[1.0, 3.73688280319584e-09, 2.112125196962466...  \n",
       "2  [[0.9999998807907104, 6.390022377900095e-08, 2...  \n",
       "3  [[0.9999997615814209, 2.8103993798822557e-08, ...  \n",
       "4  [[0.9956602454185486, 0.0034320885315537453, 0...  "
      ]
     },
     "execution_count": 14,
     "metadata": {},
     "output_type": "execute_result"
    }
   ],
   "source": [
    "val_feats = repo.load(\"val_features\")\n",
    "val_clips = make_clips(val_feats)\n",
    "val_clips.head()"
   ]
  },
  {
   "cell_type": "code",
   "execution_count": 15,
   "metadata": {},
   "outputs": [
    {
     "data": {
      "text/plain": [
       "(744, 9)"
      ]
     },
     "execution_count": 15,
     "metadata": {},
     "output_type": "execute_result"
    }
   ],
   "source": [
    "val_clips.shape"
   ]
  },
  {
   "cell_type": "code",
   "execution_count": 16,
   "metadata": {},
   "outputs": [
    {
     "data": {
      "text/plain": [
       "True"
      ]
     },
     "execution_count": 16,
     "metadata": {},
     "output_type": "execute_result"
    }
   ],
   "source": [
    "repo.save(\"val_clips\", val_clips)"
   ]
  },
  {
   "cell_type": "code",
   "execution_count": 17,
   "metadata": {},
   "outputs": [
    {
     "data": {
      "text/html": [
       "<div>\n",
       "<style scoped>\n",
       "    .dataframe tbody tr th:only-of-type {\n",
       "        vertical-align: middle;\n",
       "    }\n",
       "\n",
       "    .dataframe tbody tr th {\n",
       "        vertical-align: top;\n",
       "    }\n",
       "\n",
       "    .dataframe thead th {\n",
       "        text-align: right;\n",
       "    }\n",
       "</style>\n",
       "<table border=\"1\" class=\"dataframe\">\n",
       "  <thead>\n",
       "    <tr style=\"text-align: right;\">\n",
       "      <th></th>\n",
       "      <th>patient_id</th>\n",
       "      <th>scan_id</th>\n",
       "      <th>label</th>\n",
       "      <th>n_slice</th>\n",
       "      <th>clip_num</th>\n",
       "      <th>clip_start_file</th>\n",
       "      <th>clip_end_file</th>\n",
       "      <th>seq_features</th>\n",
       "      <th>seq_probs</th>\n",
       "    </tr>\n",
       "  </thead>\n",
       "  <tbody>\n",
       "    <tr>\n",
       "      <th>0</th>\n",
       "      <td>1</td>\n",
       "      <td>3143</td>\n",
       "      <td>CP</td>\n",
       "      <td>300</td>\n",
       "      <td>0</td>\n",
       "      <td>CP/1/3143/0000.png</td>\n",
       "      <td>CP/1/3143/0069.png</td>\n",
       "      <td>[[0.7901433110237122, 0.0, 0.4899705648422241,...</td>\n",
       "      <td>[[0.00038642995059490204, 0.9995524287223816, ...</td>\n",
       "    </tr>\n",
       "    <tr>\n",
       "      <th>1</th>\n",
       "      <td>1</td>\n",
       "      <td>3143</td>\n",
       "      <td>CP</td>\n",
       "      <td>300</td>\n",
       "      <td>1</td>\n",
       "      <td>CP/1/3143/0070.png</td>\n",
       "      <td>CP/1/3143/0139.png</td>\n",
       "      <td>[[0.39713576436042786, 0.0, 0.7319959402084351...</td>\n",
       "      <td>[[0.8839597105979919, 0.1155131608247757, 0.00...</td>\n",
       "    </tr>\n",
       "    <tr>\n",
       "      <th>2</th>\n",
       "      <td>1</td>\n",
       "      <td>3143</td>\n",
       "      <td>CP</td>\n",
       "      <td>300</td>\n",
       "      <td>2</td>\n",
       "      <td>CP/1/3143/0140.png</td>\n",
       "      <td>CP/1/3143/0209.png</td>\n",
       "      <td>[[0.655151903629303, 0.0, 1.253217101097107, 0...</td>\n",
       "      <td>[[6.136636337972234e-13, 1.0, 6.40540608394686...</td>\n",
       "    </tr>\n",
       "    <tr>\n",
       "      <th>3</th>\n",
       "      <td>1</td>\n",
       "      <td>3143</td>\n",
       "      <td>CP</td>\n",
       "      <td>300</td>\n",
       "      <td>3</td>\n",
       "      <td>CP/1/3143/0210.png</td>\n",
       "      <td>CP/1/3143/0279.png</td>\n",
       "      <td>[[1.5254734754562378, 0.0, 3.0512397289276123,...</td>\n",
       "      <td>[[2.5315930992156344e-14, 1.0, 2.8795503876405...</td>\n",
       "    </tr>\n",
       "    <tr>\n",
       "      <th>4</th>\n",
       "      <td>1</td>\n",
       "      <td>3143</td>\n",
       "      <td>CP</td>\n",
       "      <td>300</td>\n",
       "      <td>4</td>\n",
       "      <td>CP/1/3143/0280.png</td>\n",
       "      <td>CP/1/3143/0299.png</td>\n",
       "      <td>[[0.0, 0.09542667120695114, 1.2658686637878418...</td>\n",
       "      <td>[[2.890363560200792e-15, 1.0, 1.21821189507737...</td>\n",
       "    </tr>\n",
       "  </tbody>\n",
       "</table>\n",
       "</div>"
      ],
      "text/plain": [
       "   patient_id  scan_id label  n_slice  clip_num     clip_start_file  \\\n",
       "0           1     3143    CP      300         0  CP/1/3143/0000.png   \n",
       "1           1     3143    CP      300         1  CP/1/3143/0070.png   \n",
       "2           1     3143    CP      300         2  CP/1/3143/0140.png   \n",
       "3           1     3143    CP      300         3  CP/1/3143/0210.png   \n",
       "4           1     3143    CP      300         4  CP/1/3143/0280.png   \n",
       "\n",
       "        clip_end_file                                       seq_features  \\\n",
       "0  CP/1/3143/0069.png  [[0.7901433110237122, 0.0, 0.4899705648422241,...   \n",
       "1  CP/1/3143/0139.png  [[0.39713576436042786, 0.0, 0.7319959402084351...   \n",
       "2  CP/1/3143/0209.png  [[0.655151903629303, 0.0, 1.253217101097107, 0...   \n",
       "3  CP/1/3143/0279.png  [[1.5254734754562378, 0.0, 3.0512397289276123,...   \n",
       "4  CP/1/3143/0299.png  [[0.0, 0.09542667120695114, 1.2658686637878418...   \n",
       "\n",
       "                                           seq_probs  \n",
       "0  [[0.00038642995059490204, 0.9995524287223816, ...  \n",
       "1  [[0.8839597105979919, 0.1155131608247757, 0.00...  \n",
       "2  [[6.136636337972234e-13, 1.0, 6.40540608394686...  \n",
       "3  [[2.5315930992156344e-14, 1.0, 2.8795503876405...  \n",
       "4  [[2.890363560200792e-15, 1.0, 1.21821189507737...  "
      ]
     },
     "execution_count": 17,
     "metadata": {},
     "output_type": "execute_result"
    }
   ],
   "source": [
    "test_feats = repo.load(\"test_features\")\n",
    "test_clips = make_clips(test_feats)\n",
    "test_clips.head()"
   ]
  },
  {
   "cell_type": "code",
   "execution_count": 18,
   "metadata": {},
   "outputs": [
    {
     "data": {
      "text/plain": [
       "(752, 9)"
      ]
     },
     "execution_count": 18,
     "metadata": {},
     "output_type": "execute_result"
    }
   ],
   "source": [
    "test_clips.shape"
   ]
  },
  {
   "cell_type": "code",
   "execution_count": 19,
   "metadata": {},
   "outputs": [
    {
     "data": {
      "text/plain": [
       "True"
      ]
     },
     "execution_count": 19,
     "metadata": {},
     "output_type": "execute_result"
    }
   ],
   "source": [
    "repo.save(\"test_clips\", test_clips)"
   ]
  },
  {
   "cell_type": "code",
   "execution_count": null,
   "metadata": {},
   "outputs": [],
   "source": []
  }
 ],
 "metadata": {
  "kernelspec": {
   "display_name": "Python 3",
   "language": "python",
   "name": "python3"
  },
  "language_info": {
   "codemirror_mode": {
    "name": "ipython",
    "version": 3
   },
   "file_extension": ".py",
   "mimetype": "text/x-python",
   "name": "python",
   "nbconvert_exporter": "python",
   "pygments_lexer": "ipython3",
   "version": "3.8.5"
  }
 },
 "nbformat": 4,
 "nbformat_minor": 4
}
