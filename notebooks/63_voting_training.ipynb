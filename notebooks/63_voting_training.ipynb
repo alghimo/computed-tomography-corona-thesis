{
 "cells": [
  {
   "cell_type": "markdown",
   "metadata": {},
   "source": [
    "# Notebook Initialization"
   ]
  },
  {
   "cell_type": "code",
   "execution_count": 1,
   "metadata": {},
   "outputs": [],
   "source": [
    "# %load nb_init.py\n",
    "\n",
    "from pathlib import Path\n",
    "import pandas as pd\n",
    "\n",
    "base_dir = Path.cwd().parent\n",
    "config_dir = base_dir / \"config\"\n",
    "data_dir = base_dir / \"data\"\n",
    "docs_dir = base_dir / \"docs\"\n",
    "figures_dir = docs_dir / \"figures\"\n",
    "models_dir = base_dir / \"models\"\n",
    "logs_dir = base_dir / \"logs\"\n",
    "images_input_dir = data_dir / \"COVID19\"\n",
    "preprocessed_dir = data_dir / \"preprocessed\"\n",
    "output_dir = data_dir / \"output\"\n",
    "\n",
    "# Directories used to train the CNN (image by image) \n",
    "cnn_data_dir = data_dir / \"modelling\" / \"cnn\"\n",
    "cnn_train_dir = cnn_data_dir / \"train\"\n",
    "cnn_test_dir = cnn_data_dir / \"test\"\n",
    "\n",
    "metadata_file = images_input_dir / \"metadata.csv\"\n",
    "labels_file = images_input_dir / \"unzip_filenames.csv\"\n",
    "preprocessed_labels_file = preprocessed_dir / \"labels.parquet\"\n",
    "\n",
    "feature_extractor_model_file = models_dir / \"feature_extractor.tf\"\n",
    "\n",
    "from pyspark.sql import SparkSession\n",
    "from pyspark.sql import functions as F\n",
    "\n",
    "spark = SparkSession.builder.getOrCreate()\n",
    "\n",
    "config_file = config_dir / \"tfg.conf\"\n",
    "\n",
    "from pyhocon import ConfigFactory\n",
    "config = None\n",
    "\n",
    "def load_config():\n",
    "    return ConfigFactory.parse_file(config_file)\n",
    "\n",
    "config = load_config()\n",
    "    \n",
    "import sys\n",
    "\n",
    "if str(base_dir / \"src\") not in sys.path:\n",
    "    sys.path.append(str(base_dir / \"src\"))\n",
    "\n",
    "%load_ext autoreload\n",
    "\n",
    "%autoreload 2"
   ]
  },
  {
   "cell_type": "code",
   "execution_count": 2,
   "metadata": {},
   "outputs": [
    {
     "data": {
      "text/html": [
       "\n",
       "            <div>\n",
       "                <p><b>SparkSession - in-memory</b></p>\n",
       "                \n",
       "        <div>\n",
       "            <p><b>SparkContext</b></p>\n",
       "\n",
       "            <p><a href=\"http://192.168.0.235:4040\">Spark UI</a></p>\n",
       "\n",
       "            <dl>\n",
       "              <dt>Version</dt>\n",
       "                <dd><code>v3.0.1</code></dd>\n",
       "              <dt>Master</dt>\n",
       "                <dd><code>local[*]</code></dd>\n",
       "              <dt>AppName</dt>\n",
       "                <dd><code>pyspark-shell</code></dd>\n",
       "            </dl>\n",
       "        </div>\n",
       "        \n",
       "            </div>\n",
       "        "
      ],
      "text/plain": [
       "<pyspark.sql.session.SparkSession at 0x7f89599c2340>"
      ]
     },
     "execution_count": 2,
     "metadata": {},
     "output_type": "execute_result"
    }
   ],
   "source": [
    "spark"
   ]
  },
  {
   "cell_type": "code",
   "execution_count": 3,
   "metadata": {},
   "outputs": [],
   "source": [
    "from tfg import DataRepository\n",
    "\n",
    "repo = DataRepository(config=config, base_data_path=data_dir)"
   ]
  },
  {
   "cell_type": "markdown",
   "metadata": {},
   "source": [
    "# Load CNN"
   ]
  },
  {
   "cell_type": "code",
   "execution_count": 4,
   "metadata": {},
   "outputs": [
    {
     "name": "stdout",
     "output_type": "stream",
     "text": [
      "Model: \"covid_classifier\"\n",
      "_________________________________________________________________\n",
      "Layer (type)                 Output Shape              Param #   \n",
      "=================================================================\n",
      "input_images (InputLayer)    [(None, 64, 64, 3)]       0         \n",
      "_________________________________________________________________\n",
      "conv2d_01 (Conv2D)           (None, 64, 64, 6)         168       \n",
      "_________________________________________________________________\n",
      "maxpool2d_01 (MaxPooling2D)  (None, 32, 32, 6)         0         \n",
      "_________________________________________________________________\n",
      "conv2d_02 (Conv2D)           (None, 32, 32, 12)        660       \n",
      "_________________________________________________________________\n",
      "maxpool2d_02 (MaxPooling2D)  (None, 16, 16, 12)        0         \n",
      "_________________________________________________________________\n",
      "conv2d_03 (Conv2D)           (None, 16, 16, 18)        1962      \n",
      "_________________________________________________________________\n",
      "maxpool2d_03 (MaxPooling2D)  (None, 8, 8, 18)          0         \n",
      "_________________________________________________________________\n",
      "conv2d_04 (Conv2D)           (None, 8, 8, 24)          3912      \n",
      "_________________________________________________________________\n",
      "maxpool2d_04 (MaxPooling2D)  (None, 4, 4, 24)          0         \n",
      "_________________________________________________________________\n",
      "conv2d_05 (Conv2D)           (None, 4, 4, 30)          6510      \n",
      "_________________________________________________________________\n",
      "dropout__05 (Dropout)        (None, 4, 4, 30)          0         \n",
      "_________________________________________________________________\n",
      "maxpool2d_05 (MaxPooling2D)  (None, 2, 2, 30)          0         \n",
      "_________________________________________________________________\n",
      "conv2d_06 (Conv2D)           (None, 2, 2, 36)          9756      \n",
      "_________________________________________________________________\n",
      "dropout__06 (Dropout)        (None, 2, 2, 36)          0         \n",
      "_________________________________________________________________\n",
      "maxpool2d_06 (MaxPooling2D)  (None, 1, 1, 36)          0         \n",
      "_________________________________________________________________\n",
      "flatten (Flatten)            (None, 36)                0         \n",
      "_________________________________________________________________\n",
      "dense_01 (Dense)             (None, 32)                1184      \n",
      "_________________________________________________________________\n",
      "dropout_01 (Dropout)         (None, 32)                0         \n",
      "_________________________________________________________________\n",
      "dense_02 (Dense)             (None, 24)                792       \n",
      "_________________________________________________________________\n",
      "dropout_02 (Dropout)         (None, 24)                0         \n",
      "_________________________________________________________________\n",
      "dense_03 (Dense)             (None, 16)                400       \n",
      "_________________________________________________________________\n",
      "dropout_03 (Dropout)         (None, 16)                0         \n",
      "_________________________________________________________________\n",
      "output (Dense)               (None, 3)                 51        \n",
      "=================================================================\n",
      "Total params: 25,395\n",
      "Trainable params: 25,395\n",
      "Non-trainable params: 0\n",
      "_________________________________________________________________\n"
     ]
    }
   ],
   "source": [
    "from tensorflow.keras.models import load_model\n",
    "cnn_model_suffix = \"07\"\n",
    "model_file = models_dir / f\"feature_extractor_{cnn_model_suffix}.tf\"\n",
    "model = load_model(str(model_file))\n",
    "\n",
    "model.summary()"
   ]
  },
  {
   "cell_type": "markdown",
   "metadata": {},
   "source": [
    "# Load datasets"
   ]
  },
  {
   "cell_type": "code",
   "execution_count": 5,
   "metadata": {},
   "outputs": [],
   "source": [
    "# img_size = config.get_int(\"tfg.training.img_size\")\n",
    "img_size = 64\n",
    "image_target_size = (img_size, img_size)\n",
    "seed = config.get_int(\"tfg.seed\")\n",
    "batch_size = config.get_int(\"tfg.training.batch_size\")"
   ]
  },
  {
   "cell_type": "code",
   "execution_count": 6,
   "metadata": {},
   "outputs": [],
   "source": [
    "from keras_preprocessing.image import ImageDataGenerator\n",
    "\n",
    "test_datagen = ImageDataGenerator(\n",
    "    rescale=1./255.,\n",
    ")"
   ]
  },
  {
   "cell_type": "markdown",
   "metadata": {},
   "source": [
    "# Predictions function"
   ]
  },
  {
   "cell_type": "code",
   "execution_count": 14,
   "metadata": {},
   "outputs": [],
   "source": [
    "from pyspark.sql import functions as F\n",
    "from pyspark.sql.types import StringType\n",
    "\n",
    "\n",
    "def create_vote_predictions(df, datagen, config, img_base_dir, spark):\n",
    "    #img_size = config.get_int(\"tfg.training.img_size\")\n",
    "    img_size = 64#config.get_int(\"tfg.training.img_size\")\n",
    "    image_target_size = (img_size, img_size)\n",
    "    seed = config.get_int(\"tfg.seed\")\n",
    "    batch_size = config.get_int(\"tfg.training.batch_size\")\n",
    "    \n",
    "    df_generator = datagen.flow_from_dataframe(\n",
    "        dataframe=df,\n",
    "        directory=str(img_base_dir),\n",
    "        x_col=\"file\",\n",
    "        y_col=\"label\",\n",
    "        batch_size=batch_size,\n",
    "        seed=seed,\n",
    "        shuffle=False,\n",
    "        class_mode=\"categorical\",\n",
    "        target_size=image_target_size)\n",
    "    \n",
    "    class_to_idx = df_generator.class_indices\n",
    "    idx_to_class = { v: k for k, v in class_to_idx.items() }\n",
    "    \n",
    "    NUM_BATCHES = df_generator.n // df_generator.batch_size + 1\n",
    "    \n",
    "    raw_preds = model.predict(df_generator, steps=NUM_BATCHES, verbose=1)\n",
    "    preds = raw_preds.argmax(axis=1)\n",
    "    raw_preds_list = raw_preds.tolist()\n",
    "    \n",
    "    cp_index = class_to_idx[\"CP\"]\n",
    "    ncp_index = class_to_idx[\"NCP\"]\n",
    "    normal_index = class_to_idx[\"Normal\"]\n",
    "    \n",
    "    cp_probs = list(map(lambda probs: probs[cp_index], raw_preds_list))\n",
    "    ncp_probs = list(map(lambda probs: probs[ncp_index], raw_preds_list))\n",
    "    normal_probs = list(map(lambda probs: probs[normal_index], raw_preds_list))\n",
    "    \n",
    "    cp_preds = (preds == cp_index).astype(\"int\")\n",
    "    ncp_preds = (preds == ncp_index).astype(\"int\")\n",
    "    normal_preds = (preds == normal_index).astype(\"int\")\n",
    "    \n",
    "    df[\"cp_prob\"] = cp_probs\n",
    "    df[\"ncp_prob\"] = ncp_probs\n",
    "    df[\"normal_prob\"] = normal_probs\n",
    "    df[\"cp_pred\"] = cp_preds\n",
    "    df[\"ncp_pred\"] = ncp_preds\n",
    "    df[\"normal_pred\"] = normal_preds\n",
    "    df[\"pred\"] = list(map(lambda idx: idx_to_class[idx], preds.tolist()))\n",
    "    \n",
    "    sdf = spark.createDataFrame(df)\n",
    "    scan_preds = sdf\\\n",
    "        .groupBy(\"patient_id\", \"scan_id\")\\\n",
    "        .agg(\n",
    "            F.first(\"label\").alias(\"label\"),\n",
    "            F.first(\"n_slice\").alias(\"n_slice\"),\n",
    "            F.first(\"num_clips\").alias(\"num_clips\"),\n",
    "            F.avg(\"cp_prob\").alias(\"cp_prob\"),\n",
    "            F.avg(\"ncp_prob\").alias(\"ncp_prob\"),\n",
    "            F.avg(\"normal_prob\").alias(\"normal_prob\"),\n",
    "            F.sum(\"cp_pred\").alias(\"cp_votes\"),\n",
    "            F.sum(\"ncp_pred\").alias(\"ncp_votes\"),\n",
    "            F.sum(\"normal_pred\").alias(\"normal_votes\"),\n",
    "            F.stddev(\"cp_prob\").alias(\"stddev_cp_prob\"),\n",
    "            F.stddev(\"ncp_prob\").alias(\"stddev_ncp_prob\"),\n",
    "            F.stddev(\"normal_prob\").alias(\"stddev_normal_prob\")\n",
    "        )\n",
    "\n",
    "\n",
    "    def _get_pred_prob(cp_prob, ncp_prob, normal_prob, stddev_cp_prob, stddev_ncp_prob, stddev_normal_prob):\n",
    "        max_prob = max(cp_prob, ncp_prob, normal_prob)\n",
    "        \n",
    "        preds = [\n",
    "            (\"CP\", cp_prob, stddev_cp_prob),\n",
    "            (\"NCP\", ncp_prob, stddev_ncp_prob),\n",
    "            (\"Normal\", normal_prob, stddev_normal_prob),\n",
    "        ]\n",
    "        \n",
    "        # keep only the predictions that have the maximum probability. This should return only 1 in most cases\n",
    "        max_prob_preds = list(filter(lambda t: t[1] == max_prob, preds))\n",
    "        \n",
    "        if len(max_prob_preds) == 1:\n",
    "            return max_prob_preds[0][0]\n",
    "        else:\n",
    "            # if we had more than 1 max prob, keep only the ones with the lowest stddev\n",
    "            # This should return only 1 in most cases\n",
    "            min_stddev = min(list(map(lambda t: t[2], max_prob_preds)))\n",
    "            min_stddev_preds = list(filter(lambda t: t[2] == min_stddev, max_prob_preds))\n",
    "            possible_preds = [t[0] for t in min_stddev_preds]\n",
    "            # if we have more than 1 possibility, we just return the first in alphabetical order\n",
    "            return sorted(possible_preds)[0]\n",
    "    \n",
    "    def _get_pred_vote(cp_votes, ncp_votes, normal_votes, cp_prob, ncp_prob, normal_prob, stddev_cp_prob, stddev_ncp_prob, stddev_normal_prob):\n",
    "        # First, try to return the option with the most votes\n",
    "        max_votes = max(cp_votes, ncp_votes, normal_votes)\n",
    "        if cp_prob > ncp_prob and cp_prob > normal_prob:\n",
    "            return \"CP\"\n",
    "        elif ncp_prob > cp_prob and ncp_prob > normal_prob:\n",
    "            return \"NCP\"\n",
    "        elif normal_prob > cp_prob and normal_prob > ncp_prob:\n",
    "            return \"Normal\"\n",
    "        else:\n",
    "            # there's more than one option with the most votes, fall back to probabilities\n",
    "            return _get_pred_prob(cp_prob, ncp_prob, normal_prob, stddev_cp_prob, stddev_ncp_prob, stddev_normal_prob)\n",
    "\n",
    "    get_pred_udf = F.udf(_get_pred_vote, StringType())\n",
    "\n",
    "    scan_preds = scan_preds\\\n",
    "        .withColumn(\n",
    "            \"pred\",\n",
    "            get_pred_udf(\n",
    "                F.col(\"cp_votes\"), F.col(\"ncp_votes\"), F.col(\"normal_votes\"),\n",
    "                F.col(\"cp_prob\"), F.col(\"ncp_prob\"), F.col(\"normal_prob\"),\n",
    "                F.col(\"stddev_cp_prob\"), F.col(\"stddev_ncp_prob\"), F.col(\"stddev_normal_prob\"),\n",
    "            )\n",
    "        )\n",
    "    head_cols = [\"patient_id\", \"scan_id\", \"label\", \"pred\", \"cp_votes\", \"ncp_votes\", \"normal_votes\", \"cp_prob\", \"ncp_prob\", \"normal_prob\", \"stddev_cp_prob\", \"stddev_ncp_prob\", \"stddev_normal_prob\"]\n",
    "    select_cols = head_cols + list(set(scan_preds.columns) - set(head_cols))\n",
    "    scan_preds = scan_preds.select(*select_cols)\n",
    "    scan_preds_df = scan_preds.toPandas()\n",
    "    \n",
    "    return scan_preds_df"
   ]
  },
  {
   "cell_type": "markdown",
   "metadata": {},
   "source": [
    "## Training"
   ]
  },
  {
   "cell_type": "code",
   "execution_count": 15,
   "metadata": {},
   "outputs": [
    {
     "name": "stdout",
     "output_type": "stream",
     "text": [
      "Found 331286 validated image filenames belonging to 3 classes.\n",
      "10353/10353 [==============================] - 2355s 227ms/step\n"
     ]
    },
    {
     "data": {
      "text/html": [
       "<div>\n",
       "<style scoped>\n",
       "    .dataframe tbody tr th:only-of-type {\n",
       "        vertical-align: middle;\n",
       "    }\n",
       "\n",
       "    .dataframe tbody tr th {\n",
       "        vertical-align: top;\n",
       "    }\n",
       "\n",
       "    .dataframe thead th {\n",
       "        text-align: right;\n",
       "    }\n",
       "</style>\n",
       "<table border=\"1\" class=\"dataframe\">\n",
       "  <thead>\n",
       "    <tr style=\"text-align: right;\">\n",
       "      <th></th>\n",
       "      <th>patient_id</th>\n",
       "      <th>scan_id</th>\n",
       "      <th>label</th>\n",
       "      <th>pred</th>\n",
       "      <th>cp_votes</th>\n",
       "      <th>ncp_votes</th>\n",
       "      <th>normal_votes</th>\n",
       "      <th>cp_prob</th>\n",
       "      <th>ncp_prob</th>\n",
       "      <th>normal_prob</th>\n",
       "      <th>stddev_cp_prob</th>\n",
       "      <th>stddev_ncp_prob</th>\n",
       "      <th>stddev_normal_prob</th>\n",
       "      <th>n_slice</th>\n",
       "      <th>num_clips</th>\n",
       "    </tr>\n",
       "  </thead>\n",
       "  <tbody>\n",
       "    <tr>\n",
       "      <th>0</th>\n",
       "      <td>880</td>\n",
       "      <td>2415</td>\n",
       "      <td>NCP</td>\n",
       "      <td>Normal</td>\n",
       "      <td>0</td>\n",
       "      <td>0</td>\n",
       "      <td>312</td>\n",
       "      <td>0.004712</td>\n",
       "      <td>0.183258</td>\n",
       "      <td>0.812030</td>\n",
       "      <td>0.004037</td>\n",
       "      <td>0.007462</td>\n",
       "      <td>0.004063</td>\n",
       "      <td>312</td>\n",
       "      <td>5</td>\n",
       "    </tr>\n",
       "    <tr>\n",
       "      <th>1</th>\n",
       "      <td>1346</td>\n",
       "      <td>3735</td>\n",
       "      <td>CP</td>\n",
       "      <td>CP</td>\n",
       "      <td>53</td>\n",
       "      <td>0</td>\n",
       "      <td>0</td>\n",
       "      <td>0.859106</td>\n",
       "      <td>0.084425</td>\n",
       "      <td>0.056469</td>\n",
       "      <td>0.036074</td>\n",
       "      <td>0.005347</td>\n",
       "      <td>0.032357</td>\n",
       "      <td>53</td>\n",
       "      <td>1</td>\n",
       "    </tr>\n",
       "    <tr>\n",
       "      <th>2</th>\n",
       "      <td>1373</td>\n",
       "      <td>3800</td>\n",
       "      <td>CP</td>\n",
       "      <td>CP</td>\n",
       "      <td>55</td>\n",
       "      <td>0</td>\n",
       "      <td>0</td>\n",
       "      <td>0.892330</td>\n",
       "      <td>0.085726</td>\n",
       "      <td>0.021944</td>\n",
       "      <td>0.008092</td>\n",
       "      <td>0.001624</td>\n",
       "      <td>0.009304</td>\n",
       "      <td>55</td>\n",
       "      <td>1</td>\n",
       "    </tr>\n",
       "    <tr>\n",
       "      <th>3</th>\n",
       "      <td>1413</td>\n",
       "      <td>3890</td>\n",
       "      <td>CP</td>\n",
       "      <td>CP</td>\n",
       "      <td>66</td>\n",
       "      <td>0</td>\n",
       "      <td>0</td>\n",
       "      <td>0.873117</td>\n",
       "      <td>0.099753</td>\n",
       "      <td>0.027130</td>\n",
       "      <td>0.028105</td>\n",
       "      <td>0.024027</td>\n",
       "      <td>0.013049</td>\n",
       "      <td>66</td>\n",
       "      <td>1</td>\n",
       "    </tr>\n",
       "    <tr>\n",
       "      <th>4</th>\n",
       "      <td>1819</td>\n",
       "      <td>274</td>\n",
       "      <td>Normal</td>\n",
       "      <td>Normal</td>\n",
       "      <td>0</td>\n",
       "      <td>0</td>\n",
       "      <td>91</td>\n",
       "      <td>0.010699</td>\n",
       "      <td>0.172375</td>\n",
       "      <td>0.816926</td>\n",
       "      <td>0.005961</td>\n",
       "      <td>0.005714</td>\n",
       "      <td>0.001637</td>\n",
       "      <td>91</td>\n",
       "      <td>2</td>\n",
       "    </tr>\n",
       "  </tbody>\n",
       "</table>\n",
       "</div>"
      ],
      "text/plain": [
       "   patient_id  scan_id   label    pred  cp_votes  ncp_votes  normal_votes  \\\n",
       "0         880     2415     NCP  Normal         0          0           312   \n",
       "1        1346     3735      CP      CP        53          0             0   \n",
       "2        1373     3800      CP      CP        55          0             0   \n",
       "3        1413     3890      CP      CP        66          0             0   \n",
       "4        1819      274  Normal  Normal         0          0            91   \n",
       "\n",
       "    cp_prob  ncp_prob  normal_prob  stddev_cp_prob  stddev_ncp_prob  \\\n",
       "0  0.004712  0.183258     0.812030        0.004037         0.007462   \n",
       "1  0.859106  0.084425     0.056469        0.036074         0.005347   \n",
       "2  0.892330  0.085726     0.021944        0.008092         0.001624   \n",
       "3  0.873117  0.099753     0.027130        0.028105         0.024027   \n",
       "4  0.010699  0.172375     0.816926        0.005961         0.005714   \n",
       "\n",
       "   stddev_normal_prob  n_slice  num_clips  \n",
       "0            0.004063      312          5  \n",
       "1            0.032357       53          1  \n",
       "2            0.009304       55          1  \n",
       "3            0.013049       66          1  \n",
       "4            0.001637       91          2  "
      ]
     },
     "execution_count": 15,
     "metadata": {},
     "output_type": "execute_result"
    }
   ],
   "source": [
    "train_df = repo.load(\"train_df\")\n",
    "train_scan_preds = create_vote_predictions(train_df, test_datagen, config=config, img_base_dir=images_input_dir, spark=spark)\n",
    "train_scan_preds.head(5)"
   ]
  },
  {
   "cell_type": "code",
   "execution_count": 16,
   "metadata": {},
   "outputs": [
    {
     "data": {
      "text/plain": [
       "True"
      ]
     },
     "execution_count": 16,
     "metadata": {},
     "output_type": "execute_result"
    }
   ],
   "source": [
    "repo.save(\"train_preds_vote_final\", train_scan_preds)"
   ]
  },
  {
   "cell_type": "markdown",
   "metadata": {},
   "source": [
    "## Validation"
   ]
  },
  {
   "cell_type": "code",
   "execution_count": 17,
   "metadata": {},
   "outputs": [
    {
     "name": "stdout",
     "output_type": "stream",
     "text": [
      "Found 39828 validated image filenames belonging to 3 classes.\n",
      "1245/1245 [==============================] - 292s 234ms/step\n"
     ]
    },
    {
     "data": {
      "text/html": [
       "<div>\n",
       "<style scoped>\n",
       "    .dataframe tbody tr th:only-of-type {\n",
       "        vertical-align: middle;\n",
       "    }\n",
       "\n",
       "    .dataframe tbody tr th {\n",
       "        vertical-align: top;\n",
       "    }\n",
       "\n",
       "    .dataframe thead th {\n",
       "        text-align: right;\n",
       "    }\n",
       "</style>\n",
       "<table border=\"1\" class=\"dataframe\">\n",
       "  <thead>\n",
       "    <tr style=\"text-align: right;\">\n",
       "      <th></th>\n",
       "      <th>patient_id</th>\n",
       "      <th>scan_id</th>\n",
       "      <th>label</th>\n",
       "      <th>pred</th>\n",
       "      <th>cp_votes</th>\n",
       "      <th>ncp_votes</th>\n",
       "      <th>normal_votes</th>\n",
       "      <th>cp_prob</th>\n",
       "      <th>ncp_prob</th>\n",
       "      <th>normal_prob</th>\n",
       "      <th>stddev_cp_prob</th>\n",
       "      <th>stddev_ncp_prob</th>\n",
       "      <th>stddev_normal_prob</th>\n",
       "      <th>n_slice</th>\n",
       "      <th>num_clips</th>\n",
       "    </tr>\n",
       "  </thead>\n",
       "  <tbody>\n",
       "    <tr>\n",
       "      <th>0</th>\n",
       "      <td>450</td>\n",
       "      <td>2055</td>\n",
       "      <td>NCP</td>\n",
       "      <td>NCP</td>\n",
       "      <td>7</td>\n",
       "      <td>27</td>\n",
       "      <td>0</td>\n",
       "      <td>0.240975</td>\n",
       "      <td>0.754822</td>\n",
       "      <td>0.004203</td>\n",
       "      <td>0.264456</td>\n",
       "      <td>0.271900</td>\n",
       "      <td>0.009033</td>\n",
       "      <td>34</td>\n",
       "      <td>1</td>\n",
       "    </tr>\n",
       "    <tr>\n",
       "      <th>1</th>\n",
       "      <td>566</td>\n",
       "      <td>2290</td>\n",
       "      <td>NCP</td>\n",
       "      <td>NCP</td>\n",
       "      <td>32</td>\n",
       "      <td>128</td>\n",
       "      <td>0</td>\n",
       "      <td>0.213859</td>\n",
       "      <td>0.782471</td>\n",
       "      <td>0.003670</td>\n",
       "      <td>0.283149</td>\n",
       "      <td>0.289650</td>\n",
       "      <td>0.007590</td>\n",
       "      <td>160</td>\n",
       "      <td>3</td>\n",
       "    </tr>\n",
       "    <tr>\n",
       "      <th>2</th>\n",
       "      <td>602</td>\n",
       "      <td>2964</td>\n",
       "      <td>CP</td>\n",
       "      <td>CP</td>\n",
       "      <td>82</td>\n",
       "      <td>0</td>\n",
       "      <td>2</td>\n",
       "      <td>0.864852</td>\n",
       "      <td>0.084099</td>\n",
       "      <td>0.051049</td>\n",
       "      <td>0.084814</td>\n",
       "      <td>0.004144</td>\n",
       "      <td>0.085850</td>\n",
       "      <td>84</td>\n",
       "      <td>2</td>\n",
       "    </tr>\n",
       "    <tr>\n",
       "      <th>3</th>\n",
       "      <td>1737</td>\n",
       "      <td>1040</td>\n",
       "      <td>Normal</td>\n",
       "      <td>CP</td>\n",
       "      <td>72</td>\n",
       "      <td>0</td>\n",
       "      <td>8</td>\n",
       "      <td>0.732916</td>\n",
       "      <td>0.087574</td>\n",
       "      <td>0.179510</td>\n",
       "      <td>0.152542</td>\n",
       "      <td>0.010095</td>\n",
       "      <td>0.156785</td>\n",
       "      <td>80</td>\n",
       "      <td>2</td>\n",
       "    </tr>\n",
       "    <tr>\n",
       "      <th>4</th>\n",
       "      <td>3705</td>\n",
       "      <td>5532</td>\n",
       "      <td>NCP</td>\n",
       "      <td>CP</td>\n",
       "      <td>59</td>\n",
       "      <td>0</td>\n",
       "      <td>4</td>\n",
       "      <td>0.803221</td>\n",
       "      <td>0.083520</td>\n",
       "      <td>0.113259</td>\n",
       "      <td>0.147026</td>\n",
       "      <td>0.006690</td>\n",
       "      <td>0.148754</td>\n",
       "      <td>63</td>\n",
       "      <td>1</td>\n",
       "    </tr>\n",
       "  </tbody>\n",
       "</table>\n",
       "</div>"
      ],
      "text/plain": [
       "   patient_id  scan_id   label pred  cp_votes  ncp_votes  normal_votes  \\\n",
       "0         450     2055     NCP  NCP         7         27             0   \n",
       "1         566     2290     NCP  NCP        32        128             0   \n",
       "2         602     2964      CP   CP        82          0             2   \n",
       "3        1737     1040  Normal   CP        72          0             8   \n",
       "4        3705     5532     NCP   CP        59          0             4   \n",
       "\n",
       "    cp_prob  ncp_prob  normal_prob  stddev_cp_prob  stddev_ncp_prob  \\\n",
       "0  0.240975  0.754822     0.004203        0.264456         0.271900   \n",
       "1  0.213859  0.782471     0.003670        0.283149         0.289650   \n",
       "2  0.864852  0.084099     0.051049        0.084814         0.004144   \n",
       "3  0.732916  0.087574     0.179510        0.152542         0.010095   \n",
       "4  0.803221  0.083520     0.113259        0.147026         0.006690   \n",
       "\n",
       "   stddev_normal_prob  n_slice  num_clips  \n",
       "0            0.009033       34          1  \n",
       "1            0.007590      160          3  \n",
       "2            0.085850       84          2  \n",
       "3            0.156785       80          2  \n",
       "4            0.148754       63          1  "
      ]
     },
     "execution_count": 17,
     "metadata": {},
     "output_type": "execute_result"
    }
   ],
   "source": [
    "val_df = repo.load(\"val_df\")\n",
    "val_scan_preds = create_vote_predictions(val_df, test_datagen, config=config, img_base_dir=images_input_dir, spark=spark)\n",
    "val_scan_preds.head(5)"
   ]
  },
  {
   "cell_type": "code",
   "execution_count": 18,
   "metadata": {},
   "outputs": [
    {
     "data": {
      "text/plain": [
       "True"
      ]
     },
     "execution_count": 18,
     "metadata": {},
     "output_type": "execute_result"
    }
   ],
   "source": [
    "repo.save(\"val_preds_vote_final\", val_scan_preds)"
   ]
  },
  {
   "cell_type": "markdown",
   "metadata": {},
   "source": [
    "## Test"
   ]
  },
  {
   "cell_type": "code",
   "execution_count": 19,
   "metadata": {},
   "outputs": [
    {
     "name": "stdout",
     "output_type": "stream",
     "text": [
      "Found 40415 validated image filenames belonging to 3 classes.\n",
      "1263/1263 [==============================] - 291s 231ms/step\n"
     ]
    },
    {
     "data": {
      "text/html": [
       "<div>\n",
       "<style scoped>\n",
       "    .dataframe tbody tr th:only-of-type {\n",
       "        vertical-align: middle;\n",
       "    }\n",
       "\n",
       "    .dataframe tbody tr th {\n",
       "        vertical-align: top;\n",
       "    }\n",
       "\n",
       "    .dataframe thead th {\n",
       "        text-align: right;\n",
       "    }\n",
       "</style>\n",
       "<table border=\"1\" class=\"dataframe\">\n",
       "  <thead>\n",
       "    <tr style=\"text-align: right;\">\n",
       "      <th></th>\n",
       "      <th>patient_id</th>\n",
       "      <th>scan_id</th>\n",
       "      <th>label</th>\n",
       "      <th>pred</th>\n",
       "      <th>cp_votes</th>\n",
       "      <th>ncp_votes</th>\n",
       "      <th>normal_votes</th>\n",
       "      <th>cp_prob</th>\n",
       "      <th>ncp_prob</th>\n",
       "      <th>normal_prob</th>\n",
       "      <th>stddev_cp_prob</th>\n",
       "      <th>stddev_ncp_prob</th>\n",
       "      <th>stddev_normal_prob</th>\n",
       "      <th>n_slice</th>\n",
       "      <th>num_clips</th>\n",
       "    </tr>\n",
       "  </thead>\n",
       "  <tbody>\n",
       "    <tr>\n",
       "      <th>0</th>\n",
       "      <td>86</td>\n",
       "      <td>1305</td>\n",
       "      <td>NCP</td>\n",
       "      <td>NCP</td>\n",
       "      <td>9</td>\n",
       "      <td>108</td>\n",
       "      <td>0</td>\n",
       "      <td>0.152548</td>\n",
       "      <td>0.846165</td>\n",
       "      <td>0.001286</td>\n",
       "      <td>0.199917</td>\n",
       "      <td>0.202795</td>\n",
       "      <td>0.003852</td>\n",
       "      <td>117</td>\n",
       "      <td>2</td>\n",
       "    </tr>\n",
       "    <tr>\n",
       "      <th>1</th>\n",
       "      <td>171</td>\n",
       "      <td>1486</td>\n",
       "      <td>NCP</td>\n",
       "      <td>NCP</td>\n",
       "      <td>5</td>\n",
       "      <td>138</td>\n",
       "      <td>0</td>\n",
       "      <td>0.051072</td>\n",
       "      <td>0.947658</td>\n",
       "      <td>0.001270</td>\n",
       "      <td>0.137140</td>\n",
       "      <td>0.140139</td>\n",
       "      <td>0.007970</td>\n",
       "      <td>143</td>\n",
       "      <td>3</td>\n",
       "    </tr>\n",
       "    <tr>\n",
       "      <th>2</th>\n",
       "      <td>1713</td>\n",
       "      <td>980</td>\n",
       "      <td>Normal</td>\n",
       "      <td>CP</td>\n",
       "      <td>71</td>\n",
       "      <td>0</td>\n",
       "      <td>0</td>\n",
       "      <td>0.884853</td>\n",
       "      <td>0.090829</td>\n",
       "      <td>0.024318</td>\n",
       "      <td>0.023292</td>\n",
       "      <td>0.018831</td>\n",
       "      <td>0.010790</td>\n",
       "      <td>71</td>\n",
       "      <td>2</td>\n",
       "    </tr>\n",
       "    <tr>\n",
       "      <th>3</th>\n",
       "      <td>2206</td>\n",
       "      <td>661</td>\n",
       "      <td>Normal</td>\n",
       "      <td>Normal</td>\n",
       "      <td>0</td>\n",
       "      <td>0</td>\n",
       "      <td>77</td>\n",
       "      <td>0.006042</td>\n",
       "      <td>0.181106</td>\n",
       "      <td>0.812852</td>\n",
       "      <td>0.005773</td>\n",
       "      <td>0.008514</td>\n",
       "      <td>0.003722</td>\n",
       "      <td>77</td>\n",
       "      <td>2</td>\n",
       "    </tr>\n",
       "    <tr>\n",
       "      <th>4</th>\n",
       "      <td>2758</td>\n",
       "      <td>3289</td>\n",
       "      <td>CP</td>\n",
       "      <td>CP</td>\n",
       "      <td>34</td>\n",
       "      <td>0</td>\n",
       "      <td>1</td>\n",
       "      <td>0.824932</td>\n",
       "      <td>0.084177</td>\n",
       "      <td>0.090891</td>\n",
       "      <td>0.141332</td>\n",
       "      <td>0.006034</td>\n",
       "      <td>0.143610</td>\n",
       "      <td>35</td>\n",
       "      <td>1</td>\n",
       "    </tr>\n",
       "  </tbody>\n",
       "</table>\n",
       "</div>"
      ],
      "text/plain": [
       "   patient_id  scan_id   label    pred  cp_votes  ncp_votes  normal_votes  \\\n",
       "0          86     1305     NCP     NCP         9        108             0   \n",
       "1         171     1486     NCP     NCP         5        138             0   \n",
       "2        1713      980  Normal      CP        71          0             0   \n",
       "3        2206      661  Normal  Normal         0          0            77   \n",
       "4        2758     3289      CP      CP        34          0             1   \n",
       "\n",
       "    cp_prob  ncp_prob  normal_prob  stddev_cp_prob  stddev_ncp_prob  \\\n",
       "0  0.152548  0.846165     0.001286        0.199917         0.202795   \n",
       "1  0.051072  0.947658     0.001270        0.137140         0.140139   \n",
       "2  0.884853  0.090829     0.024318        0.023292         0.018831   \n",
       "3  0.006042  0.181106     0.812852        0.005773         0.008514   \n",
       "4  0.824932  0.084177     0.090891        0.141332         0.006034   \n",
       "\n",
       "   stddev_normal_prob  n_slice  num_clips  \n",
       "0            0.003852      117          2  \n",
       "1            0.007970      143          3  \n",
       "2            0.010790       71          2  \n",
       "3            0.003722       77          2  \n",
       "4            0.143610       35          1  "
      ]
     },
     "execution_count": 19,
     "metadata": {},
     "output_type": "execute_result"
    }
   ],
   "source": [
    "test_df = repo.load(\"test_df\")\n",
    "test_scan_preds = create_vote_predictions(test_df, test_datagen, config=config, img_base_dir=images_input_dir, spark=spark)\n",
    "test_scan_preds.head(5)"
   ]
  },
  {
   "cell_type": "code",
   "execution_count": 20,
   "metadata": {},
   "outputs": [
    {
     "data": {
      "text/plain": [
       "True"
      ]
     },
     "execution_count": 20,
     "metadata": {},
     "output_type": "execute_result"
    }
   ],
   "source": [
    "repo.save(\"test_preds_vote_final\", test_scan_preds)"
   ]
  },
  {
   "cell_type": "markdown",
   "metadata": {},
   "source": [
    "# Evaluation of the different sets"
   ]
  },
  {
   "cell_type": "code",
   "execution_count": 21,
   "metadata": {},
   "outputs": [],
   "source": [
    "from sklearn.metrics import confusion_matrix, precision_recall_fscore_support\n",
    "import seaborn as sns\n",
    "import matplotlib.pyplot as plt\n",
    "\n",
    "sns.set_style(\"whitegrid\")\n",
    "sns.set(rc={'figure.figsize':(13, 9)})"
   ]
  },
  {
   "cell_type": "code",
   "execution_count": 22,
   "metadata": {},
   "outputs": [],
   "source": [
    "import numpy as np\n",
    "import itertools\n",
    "\n",
    "sns.set_style(\"whitegrid\", {'axes.grid' : False})\n",
    "\n",
    "# based on answer from https://datascience.stackexchange.com/questions/40067/confusion-matrix-three-classes-python\n",
    "def plot_confusion_matrix(cm, classes,\n",
    "                          save_to=None,\n",
    "                          normalize=True,\n",
    "                          title='Confusion matrix',\n",
    "                          cmap=plt.cm.Blues):\n",
    "    \"\"\"\n",
    "    This function prints and plots the confusion matrix.\n",
    "    Normalization can be applied by setting `normalize=True`.\n",
    "    \"\"\"\n",
    "    \n",
    "    if normalize:\n",
    "        cm = cm.astype('float') / cm.sum(axis=1)[:, np.newaxis]\n",
    "        print(\"Normalized confusion matrix\")\n",
    "    else:\n",
    "        print('Confusion matrix, without normalization')\n",
    "\n",
    "    print(cm)\n",
    "\n",
    "    plt.imshow(cm, interpolation='nearest', cmap=cmap)\n",
    "    plt.title(title, fontdict={'fontsize' : 26})\n",
    "    plt.colorbar()\n",
    "    tick_marks = np.arange(len(classes))\n",
    "    plt.xticks(tick_marks, classes, fontsize=18)\n",
    "    plt.yticks(tick_marks, classes, fontsize=18)\n",
    "\n",
    "    fmt_pct = lambda pct: f\"{100 * pct:.2f}%\" if normalize else f\"{int(100 * pct)}%\"\n",
    "    thresh = cm.max() / 2.\n",
    "    for i, j in itertools.product(range(cm.shape[0]), range(cm.shape[1])):\n",
    "        plt.text(j, i, fmt_pct(cm[i, j]),\n",
    "                 horizontalalignment=\"center\",\n",
    "                 color=\"white\" if cm[i, j] > thresh else \"black\",\n",
    "                 fontdict={'fontsize' : 16})\n",
    "\n",
    "    plt.ylabel('True label', fontdict={'fontsize' : 22})\n",
    "    plt.xlabel('Predicted label', fontdict={'fontsize' : 22})\n",
    "    plt.tight_layout()\n",
    "    \n",
    "    if save_to:\n",
    "        plt.savefig(save_to)"
   ]
  },
  {
   "cell_type": "code",
   "execution_count": 23,
   "metadata": {},
   "outputs": [],
   "source": [
    "def print_metrics(dataset, true_labels, pred_labels):\n",
    "    prec, rec, f1, _ = precision_recall_fscore_support(true_labels, pred_labels, average=\"weighted\")\n",
    "    print(f\"{dataset} F1 Score: {100 * f1: .2f}%\")\n",
    "    print(f\"{dataset} Precision: {100 * prec: .2f}%\")\n",
    "    print(f\"{dataset} Recall: {100 * rec: .2f}%\")"
   ]
  },
  {
   "cell_type": "code",
   "execution_count": 24,
   "metadata": {},
   "outputs": [],
   "source": [
    "class_to_idx = {'CP': 0, 'NCP': 1, 'Normal': 2}\n",
    "idx_to_class = { v: k for k, v in class_to_idx.items() }\n",
    "class_labels = [k for k in class_to_idx.keys()]"
   ]
  },
  {
   "cell_type": "markdown",
   "metadata": {},
   "source": [
    "## Vote-based"
   ]
  },
  {
   "cell_type": "markdown",
   "metadata": {},
   "source": [
    "### Training"
   ]
  },
  {
   "cell_type": "code",
   "execution_count": 25,
   "metadata": {},
   "outputs": [
    {
     "name": "stdout",
     "output_type": "stream",
     "text": [
      "Normalized confusion matrix\n",
      "[[0.99593165 0.         0.00406835]\n",
      " [0.13995118 0.75264443 0.10740439]\n",
      " [0.41704036 0.         0.58295964]]\n"
     ]
    },
    {
     "data": {
      "image/png": "[encoded data removed]",
      "text/plain": [
       "<Figure size 936x648 with 2 Axes>"
      ]
     },
     "metadata": {},
     "output_type": "display_data"
    }
   ],
   "source": [
    "train_preds_df = repo.load(\"train_preds_vote_final\")\n",
    "train_preds_df[\"label_idx\"] = train_preds_df[\"label\"].apply(class_to_idx.get)\n",
    "train_preds_df[\"pred_idx\"] = train_preds_df[\"pred\"].apply(class_to_idx.get)\n",
    "train_true = train_preds_df[\"label_idx\"].values\n",
    "train_pred = train_preds_df[\"pred_idx\"].values\n",
    "train_cm = confusion_matrix(train_true, train_pred)\n",
    "\n",
    "plot_confusion_matrix(\n",
    "    train_cm,\n",
    "    classes=class_labels,\n",
    "    title='Baseline - Confusion matrix for the Training Set - Vote based',\n",
    "    save_to=figures_dir / \"models\" / \"voting\" / f\"train_conf_matrix.png\")"
   ]
  },
  {
   "cell_type": "code",
   "execution_count": 26,
   "metadata": {},
   "outputs": [
    {
     "name": "stdout",
     "output_type": "stream",
     "text": [
      "Training F1 Score:  79.35%\n",
      "Training Precision:  83.16%\n",
      "Training Recall:  79.67%\n"
     ]
    }
   ],
   "source": [
    "print_metrics(\"Training\", train_true, train_pred)"
   ]
  },
  {
   "cell_type": "markdown",
   "metadata": {},
   "source": [
    "## Validation"
   ]
  },
  {
   "cell_type": "code",
   "execution_count": 27,
   "metadata": {},
   "outputs": [
    {
     "name": "stdout",
     "output_type": "stream",
     "text": [
      "Normalized confusion matrix\n",
      "[[1.         0.         0.        ]\n",
      " [0.14556962 0.7721519  0.08227848]\n",
      " [0.45652174 0.         0.54347826]]\n"
     ]
    },
    {
     "data": {
      "image/png": "[encoded data removed]",
      "text/plain": [
       "<Figure size 936x648 with 2 Axes>"
      ]
     },
     "metadata": {},
     "output_type": "display_data"
    }
   ],
   "source": [
    "val_preds_df = repo.load(\"val_preds_vote_final\")\n",
    "val_preds_df[\"label_idx\"] = val_preds_df[\"label\"].apply(class_to_idx.get)\n",
    "val_preds_df[\"pred_idx\"] = val_preds_df[\"pred\"].apply(class_to_idx.get)\n",
    "val_true = val_preds_df[\"label_idx\"].values\n",
    "val_pred = val_preds_df[\"pred_idx\"].values\n",
    "val_cm = confusion_matrix(val_true, val_pred)\n",
    "\n",
    "plot_confusion_matrix(\n",
    "    val_cm,\n",
    "    classes=class_labels,\n",
    "    title='Voting Model - Confusion matrix for the Validation Set',\n",
    "    save_to=figures_dir / \"models\" / \"voting\" / f\"val_conf_matrix.png\")"
   ]
  },
  {
   "cell_type": "code",
   "execution_count": 28,
   "metadata": {},
   "outputs": [
    {
     "name": "stdout",
     "output_type": "stream",
     "text": [
      "Validation F1 Score:  80.17%\n",
      "Validation Precision:  83.95%\n",
      "Validation Recall:  80.60%\n"
     ]
    }
   ],
   "source": [
    "print_metrics(\"Validation\", val_true, val_pred)"
   ]
  },
  {
   "cell_type": "markdown",
   "metadata": {},
   "source": [
    "## Test"
   ]
  },
  {
   "cell_type": "code",
   "execution_count": 29,
   "metadata": {},
   "outputs": [
    {
     "name": "stdout",
     "output_type": "stream",
     "text": [
      "Normalized confusion matrix\n",
      "[[1.         0.         0.        ]\n",
      " [0.1910828  0.73248408 0.07643312]\n",
      " [0.27659574 0.         0.72340426]]\n"
     ]
    },
    {
     "data": {
      "image/png": "[encoded data removed]",
      "text/plain": [
       "<Figure size 936x648 with 2 Axes>"
      ]
     },
     "metadata": {},
     "output_type": "display_data"
    }
   ],
   "source": [
    "test_preds_df = repo.load(\"test_preds_vote_final\")\n",
    "test_preds_df[\"label_idx\"] = test_preds_df[\"label\"].apply(class_to_idx.get)\n",
    "test_preds_df[\"pred_idx\"] = test_preds_df[\"pred\"].apply(class_to_idx.get)\n",
    "test_true = test_preds_df[\"label_idx\"].values\n",
    "test_pred = test_preds_df[\"pred_idx\"].values\n",
    "test_cm = confusion_matrix(test_true, test_pred)\n",
    "\n",
    "plot_confusion_matrix(\n",
    "    test_cm,\n",
    "    classes=class_labels,\n",
    "    title='Voting Model - Confusion matrix for the Test Set',\n",
    "    save_to=figures_dir / \"models\" / \"voting\" / f\"test_conf_matrix.png\")"
   ]
  },
  {
   "cell_type": "code",
   "execution_count": 30,
   "metadata": {},
   "outputs": [
    {
     "name": "stdout",
     "output_type": "stream",
     "text": [
      "Test F1 Score:  83.82%\n",
      "Test Precision:  86.73%\n",
      "Test Recall:  84.04%\n"
     ]
    }
   ],
   "source": [
    "print_metrics(\"Test\", test_true, test_pred)"
   ]
  },
  {
   "cell_type": "code",
   "execution_count": null,
   "metadata": {},
   "outputs": [],
   "source": []
  }
 ],
 "metadata": {
  "kernelspec": {
   "display_name": "Python 3",
   "language": "python",
   "name": "python3"
  },
  "language_info": {
   "codemirror_mode": {
    "name": "ipython",
    "version": 3
   },
   "file_extension": ".py",
   "mimetype": "text/x-python",
   "name": "python",
   "nbconvert_exporter": "python",
   "pygments_lexer": "ipython3",
   "version": "3.8.5"
  }
 },
 "nbformat": 4,
 "nbformat_minor": 4
}
