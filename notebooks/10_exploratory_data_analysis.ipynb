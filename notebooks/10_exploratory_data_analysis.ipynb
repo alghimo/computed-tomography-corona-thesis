{
 "cells": [
  {
   "cell_type": "markdown",
   "metadata": {},
   "source": [
    "# Notebook Initialization"
   ]
  },
  {
   "cell_type": "code",
   "execution_count": 104,
   "metadata": {},
   "outputs": [],
   "source": [
    "# %load nb_init.py\n",
    "\n",
    "from pathlib import Path\n",
    "import pandas as pd\n",
    "\n",
    "base_dir = Path.cwd().parent\n",
    "config_dir = base_dir / \"config\"\n",
    "data_dir = base_dir / \"data\"\n",
    "input_dir = data_dir / \"COVID19\"\n",
    "preprocessed_dir = data_dir / \"preprocessed\"\n",
    "output_dir = data_dir / \"output\"\n",
    "\n",
    "metadata_file = input_dir / \"metadata.csv\"\n",
    "labels_file = input_dir / \"unzip_filenames.csv\"\n",
    "preprocessed_labels_file = preprocessed_dir / \"labels.parquet\"\n",
    "\n",
    "from pyspark.sql import SparkSession\n",
    "from pyspark.sql import functions as F\n",
    "\n",
    "spark = SparkSession.builder.getOrCreate()\n",
    "\n",
    "config_file = config_dir / \"tfg.conf\"\n",
    "\n",
    "config = ConfigFactory.parse_file(config_file).tfg\n"
   ]
  },
  {
   "cell_type": "code",
   "execution_count": 106,
   "metadata": {},
   "outputs": [
    {
     "data": {
      "text/plain": [
       "ConfigTree([('seed', 42),\n",
       "            ('eda',\n",
       "             ConfigTree([('csv_options',\n",
       "                          ConfigTree([('header', 'true'),\n",
       "                                      ('sep', ','),\n",
       "                                      ('inferSchema', 'true')]))]))])"
      ]
     },
     "execution_count": 106,
     "metadata": {},
     "output_type": "execute_result"
    }
   ],
   "source": [
    "config"
   ]
  },
  {
   "cell_type": "code",
   "execution_count": 107,
   "metadata": {},
   "outputs": [
    {
     "data": {
      "text/html": [
       "\n",
       "            <div>\n",
       "                <p><b>SparkSession - in-memory</b></p>\n",
       "                \n",
       "        <div>\n",
       "            <p><b>SparkContext</b></p>\n",
       "\n",
       "            <p><a href=\"http://192.168.0.235:4041\">Spark UI</a></p>\n",
       "\n",
       "            <dl>\n",
       "              <dt>Version</dt>\n",
       "                <dd><code>v3.0.1</code></dd>\n",
       "              <dt>Master</dt>\n",
       "                <dd><code>local[*]</code></dd>\n",
       "              <dt>AppName</dt>\n",
       "                <dd><code>pyspark-shell</code></dd>\n",
       "            </dl>\n",
       "        </div>\n",
       "        \n",
       "            </div>\n",
       "        "
      ],
      "text/plain": [
       "<pyspark.sql.session.SparkSession at 0x7f20be0c9c40>"
      ]
     },
     "execution_count": 107,
     "metadata": {},
     "output_type": "execute_result"
    }
   ],
   "source": [
    "spark"
   ]
  },
  {
   "cell_type": "code",
   "execution_count": 117,
   "metadata": {},
   "outputs": [
    {
     "data": {
      "text/plain": [
       "OrderedDict([('header', 'true'), ('sep', ','), ('inferSchema', 'true')])"
      ]
     },
     "execution_count": 117,
     "metadata": {},
     "output_type": "execute_result"
    }
   ],
   "source": [
    "csv_options = config.get(\"eda.csv_options\").as_plain_ordered_dict()\n",
    "csv_options"
   ]
  },
  {
   "cell_type": "markdown",
   "metadata": {},
   "source": [
    "# Demographics\n",
    "## Metadata file"
   ]
  },
  {
   "cell_type": "code",
   "execution_count": 8,
   "metadata": {},
   "outputs": [
    {
     "name": "stdout",
     "output_type": "stream",
     "text": [
      "patient_id,scan_id,Age,Sex(Male1/Female2),Critical_illness,Liver_function,Lung_function,Progression (Days)\n",
      "1399,127,57,1,1,5,2,0.08\n"
     ]
    }
   ],
   "source": [
    "!head -n2 {metadata_file}"
   ]
  },
  {
   "cell_type": "code",
   "execution_count": 118,
   "metadata": {},
   "outputs": [
    {
     "name": "stdout",
     "output_type": "stream",
     "text": [
      "+----------+-------+---+------------------+----------------+--------------+-------------+------------------+\n",
      "|patient_id|scan_id|Age|Sex(Male1/Female2)|Critical_illness|Liver_function|Lung_function|Progression (Days)|\n",
      "+----------+-------+---+------------------+----------------+--------------+-------------+------------------+\n",
      "|      1399|    127| 57|                 1|               1|             5|            2|              0.08|\n",
      "|      1297|     82| 55|                 1|               1|             3|            2|              0.88|\n",
      "|      2255|    549|  3|                 1|               1|          null|         null|              0.02|\n",
      "|      1184|     26|  5|                 2|               1|             0|            2|              0.02|\n",
      "|      1186|     27|  2|                 2|               1|             2|            2|              0.02|\n",
      "+----------+-------+---+------------------+----------------+--------------+-------------+------------------+\n",
      "only showing top 5 rows\n",
      "\n"
     ]
    }
   ],
   "source": [
    "metadata = spark.read\\\n",
    "    .options(**csv_options)\\\n",
    "    .csv(str(metadata_file))\n",
    "\n",
    "metadata.show(5)"
   ]
  },
  {
   "cell_type": "code",
   "execution_count": 10,
   "metadata": {},
   "outputs": [
    {
     "name": "stdout",
     "output_type": "stream",
     "text": [
      "root\n",
      " |-- patient_id: integer (nullable = true)\n",
      " |-- scan_id: integer (nullable = true)\n",
      " |-- Age: integer (nullable = true)\n",
      " |-- Sex(Male1/Female2): integer (nullable = true)\n",
      " |-- Critical_illness: integer (nullable = true)\n",
      " |-- Liver_function: integer (nullable = true)\n",
      " |-- Lung_function: integer (nullable = true)\n",
      " |-- Progression (Days): double (nullable = true)\n",
      "\n"
     ]
    }
   ],
   "source": [
    "metadata.printSchema()"
   ]
  },
  {
   "cell_type": "code",
   "execution_count": 11,
   "metadata": {},
   "outputs": [
    {
     "name": "stdout",
     "output_type": "stream",
     "text": [
      "+----------+-------+---+------+----------------+--------------+-------------+----------------+\n",
      "|patient_id|scan_id|age|gender|critical_illness|liver_function|lung_function|progression_days|\n",
      "+----------+-------+---+------+----------------+--------------+-------------+----------------+\n",
      "|      1399|    127| 57|     1|               1|             5|            2|            0.08|\n",
      "|      1297|     82| 55|     1|               1|             3|            2|            0.88|\n",
      "|      2255|    549|  3|     1|               1|          null|         null|            0.02|\n",
      "|      1184|     26|  5|     2|               1|             0|            2|            0.02|\n",
      "|      1186|     27|  2|     2|               1|             2|            2|            0.02|\n",
      "+----------+-------+---+------+----------------+--------------+-------------+----------------+\n",
      "only showing top 5 rows\n",
      "\n"
     ]
    }
   ],
   "source": [
    "metadata_exprs = [\n",
    "    \"patient_id AS patient_id\",\n",
    "    \"scan_id AS scan_id\",\n",
    "    \"Age AS age\",\n",
    "    \"`Sex(Male1/Female2)` AS gender\",\n",
    "    \"Critical_illness AS critical_illness\",\n",
    "    \"Liver_function AS liver_function\",\n",
    "    \"Lung_function AS lung_function\",\n",
    "    \"`Progression (Days)` AS progression_days\",\n",
    "]\n",
    "\n",
    "metadata = metadata.selectExpr(*metadata_exprs)\n",
    "\n",
    "metadata.show(5)"
   ]
  },
  {
   "cell_type": "code",
   "execution_count": 12,
   "metadata": {},
   "outputs": [
    {
     "data": {
      "text/plain": [
       "408"
      ]
     },
     "execution_count": 12,
     "metadata": {},
     "output_type": "execute_result"
    }
   ],
   "source": [
    "metadata.count()"
   ]
  },
  {
   "cell_type": "markdown",
   "metadata": {},
   "source": [
    "## Labels"
   ]
  },
  {
   "cell_type": "code",
   "execution_count": 66,
   "metadata": {},
   "outputs": [
    {
     "name": "stdout",
     "output_type": "stream",
     "text": [
      "+--------+-----+----------+-------+-------+\n",
      "|zip_file|label|patient_id|scan_id|n_slice|\n",
      "+--------+-----+----------+-------+-------+\n",
      "|CP-1.zip|   CP|         0|   3131|    285|\n",
      "|CP-1.zip|   CP|         0|   3132|     42|\n",
      "|CP-1.zip|   CP|         0|   3133|    290|\n",
      "|CP-1.zip|   CP|         0|   3134|     37|\n",
      "|CP-1.zip|   CP|         0|   3135|    269|\n",
      "+--------+-----+----------+-------+-------+\n",
      "only showing top 5 rows\n",
      "\n"
     ]
    }
   ],
   "source": [
    "labels = spark.read.options(**csv_options).csv(str(labels_file))\n",
    "\n",
    "labels.show(5)"
   ]
  },
  {
   "cell_type": "code",
   "execution_count": 55,
   "metadata": {},
   "outputs": [
    {
     "name": "stdout",
     "output_type": "stream",
     "text": [
      "root\n",
      " |-- zip_file: string (nullable = true)\n",
      " |-- label: string (nullable = true)\n",
      " |-- patient_id: integer (nullable = true)\n",
      " |-- scan_id: integer (nullable = true)\n",
      " |-- n_slice: integer (nullable = true)\n",
      "\n"
     ]
    }
   ],
   "source": [
    "labels.printSchema()"
   ]
  },
  {
   "cell_type": "code",
   "execution_count": 67,
   "metadata": {},
   "outputs": [
    {
     "name": "stdout",
     "output_type": "stream",
     "text": [
      "+----------+-------+-------+-----+\n",
      "|patient_id|scan_id|n_slice|label|\n",
      "+----------+-------+-------+-----+\n",
      "|         0|   3131|    285|   CP|\n",
      "|         0|   3132|     42|   CP|\n",
      "|         0|   3133|    290|   CP|\n",
      "|         0|   3134|     37|   CP|\n",
      "|         0|   3135|    269|   CP|\n",
      "+----------+-------+-------+-----+\n",
      "only showing top 5 rows\n",
      "\n"
     ]
    }
   ],
   "source": [
    "labels_expr = [\n",
    "    \"patient_id AS patient_id\",\n",
    "    \"scan_id AS scan_id\",\n",
    "    \"n_slice AS n_slice\",\n",
    "    \"label\",\n",
    "]\n",
    "\n",
    "labels = labels.selectExpr(*labels_expr)\n",
    "\n",
    "labels.show(5)"
   ]
  },
  {
   "cell_type": "code",
   "execution_count": 57,
   "metadata": {},
   "outputs": [
    {
     "data": {
      "text/plain": [
       "4178"
      ]
     },
     "execution_count": 57,
     "metadata": {},
     "output_type": "execute_result"
    }
   ],
   "source": [
    "total_labels = labels.count()\n",
    "total_labels"
   ]
  },
  {
   "cell_type": "markdown",
   "metadata": {},
   "source": [
    "## Analyse number of slices per CT\n",
    "\n",
    "We already know that we'll be dividing the CTs into clips of a fixed size, where each clip will contain a specific number of images N."
   ]
  },
  {
   "cell_type": "code",
   "execution_count": 36,
   "metadata": {},
   "outputs": [
    {
     "name": "stdout",
     "output_type": "stream",
     "text": [
      "+-------+-----------------+\n",
      "|summary|          n_slice|\n",
      "+-------+-----------------+\n",
      "|  count|             4178|\n",
      "|   mean|98.49904260411681|\n",
      "| stddev|75.42249762024355|\n",
      "|    min|               16|\n",
      "|    max|              690|\n",
      "+-------+-----------------+\n",
      "\n"
     ]
    }
   ],
   "source": [
    "labels.describe(\"n_slice\").show()"
   ]
  },
  {
   "cell_type": "code",
   "execution_count": 68,
   "metadata": {},
   "outputs": [
    {
     "name": "stdout",
     "output_type": "stream",
     "text": [
      "There are 735 / 4178 (17.59%) CTs with <= 50 images\n",
      "There are 2122 / 4178 (50.79%) CTs with <= 70 images\n",
      "There are 2827 / 4178 (67.66%) CTs with <= 100 images\n",
      "There are 3553 / 4178 (85.04%) CTs with <= 150 images\n",
      "There are 3824 / 4178 (91.53%) CTs with <= 200 images\n",
      "There are 4079 / 4178 (97.63%) CTs with <= 300 images\n"
     ]
    }
   ],
   "source": [
    "n_values = [50, 70, 100, 150, 200, 300]\n",
    "for n in n_values:\n",
    "    labels_in_n = labels.filter(f\"n_slice <= {n}\").count()\n",
    "    print(f\"There are {labels_in_n} / {total_labels} ({100 * labels_in_n / total_labels:.2f}%) CTs with <= {n} images\")"
   ]
  },
  {
   "cell_type": "markdown",
   "metadata": {},
   "source": [
    "Check how many \"clips\" we'd get for each value of N. i.e. if we have a CT with 100 slices, and we chose N = 50, we'd get 2 clips.\n",
    "\n",
    "To be checked if it would be better to have overlapping clips instead, e.g. for 100 slices and N=50, have a clip for images 0-50, another one for images 25-75, and another one for 50-100."
   ]
  },
  {
   "cell_type": "code",
   "execution_count": 70,
   "metadata": {},
   "outputs": [
    {
     "name": "stdout",
     "output_type": "stream",
     "text": [
      "+----------+-------+-------+-----+------------+------------+-------------+-------------+-------------+-------------+\n",
      "|patient_id|scan_id|n_slice|label|num_clips_50|num_clips_70|num_clips_100|num_clips_150|num_clips_200|num_clips_300|\n",
      "+----------+-------+-------+-----+------------+------------+-------------+-------------+-------------+-------------+\n",
      "|         0|   3131|    285|   CP|           6|           5|            3|            2|            2|            1|\n",
      "|         0|   3132|     42|   CP|           1|           1|            1|            1|            1|            1|\n",
      "|         0|   3133|    290|   CP|           6|           5|            3|            2|            2|            1|\n",
      "|         0|   3134|     37|   CP|           1|           1|            1|            1|            1|            1|\n",
      "|         0|   3135|    269|   CP|           6|           4|            3|            2|            2|            1|\n",
      "|         0|   3136|    290|   CP|           6|           5|            3|            2|            2|            1|\n",
      "|         0|   3137|     37|   CP|           1|           1|            1|            1|            1|            1|\n",
      "|         0|   3138|    245|   CP|           5|           4|            3|            2|            2|            1|\n",
      "|         0|   3139|     39|   CP|           1|           1|            1|            1|            1|            1|\n",
      "|         0|   3140|    269|   CP|           6|           4|            3|            2|            2|            1|\n",
      "|         1|   3143|    300|   CP|           6|           5|            3|            2|            2|            1|\n",
      "|         1|   3144|    248|   CP|           5|           4|            3|            2|            2|            1|\n",
      "|         1|   3145|    248|   CP|           5|           4|            3|            2|            2|            1|\n",
      "|         1|   3146|     70|   CP|           2|           1|            1|            1|            1|            1|\n",
      "|         1|   3147|     70|   CP|           2|           1|            1|            1|            1|            1|\n",
      "|        10|   3152|    297|   CP|           6|           5|            3|            2|            2|            1|\n",
      "|        10|   3153|    297|   CP|           6|           5|            3|            2|            2|            1|\n",
      "|        10|   3154|    297|   CP|           6|           5|            3|            2|            2|            1|\n",
      "|        10|   3155|    297|   CP|           6|           5|            3|            2|            2|            1|\n",
      "|        10|   3156|    289|   CP|           6|           5|            3|            2|            2|            1|\n",
      "+----------+-------+-------+-----+------------+------------+-------------+-------------+-------------+-------------+\n",
      "only showing top 20 rows\n",
      "\n"
     ]
    }
   ],
   "source": [
    "label_clips = labels\n",
    "\n",
    "for n in n_values:\n",
    "    label_clips = label_clips\\\n",
    "        .withColumn(f\"num_clips_{n}\", F.ceil(labels.n_slice / n))\n",
    "\n",
    "label_clips.show()"
   ]
  },
  {
   "cell_type": "code",
   "execution_count": 71,
   "metadata": {},
   "outputs": [
    {
     "name": "stdout",
     "output_type": "stream",
     "text": [
      "+------------+------------+-------------+-------------+-------------+-------------+\n",
      "|num_clips_50|num_clips_70|num_clips_100|num_clips_150|num_clips_200|num_clips_300|\n",
      "+------------+------------+-------------+-------------+-------------+-------------+\n",
      "|       10430|        7613|         6042|         4937|         4575|         4284|\n",
      "+------------+------------+-------------+-------------+-------------+-------------+\n",
      "\n"
     ]
    }
   ],
   "source": [
    "agg_expressions = []\n",
    "\n",
    "for n in n_values:\n",
    "    agg_expressions.append(F.sum(f\"num_clips_{n}\").alias(f\"num_clips_{n}\"))\n",
    "\n",
    "label_clips\\\n",
    "    .groupBy()\\\n",
    "    .agg(*agg_expressions)\\\n",
    "    .show()"
   ]
  },
  {
   "cell_type": "markdown",
   "metadata": {},
   "source": [
    "## Conclusion\n",
    "\n",
    "We'll pick a value of N=70. This value is relatively small, gives us a decent amount of clips, and around 50% of all the CTs can be fit into a single clip."
   ]
  },
  {
   "cell_type": "code",
   "execution_count": 72,
   "metadata": {},
   "outputs": [
    {
     "name": "stdout",
     "output_type": "stream",
     "text": [
      "+----------+-------+-------+-----+---------+\n",
      "|patient_id|scan_id|n_slice|label|num_clips|\n",
      "+----------+-------+-------+-----+---------+\n",
      "|         0|   3131|    285|   CP|        5|\n",
      "|         0|   3132|     42|   CP|        1|\n",
      "|         0|   3133|    290|   CP|        5|\n",
      "|         0|   3134|     37|   CP|        1|\n",
      "|         0|   3135|    269|   CP|        4|\n",
      "|         0|   3136|    290|   CP|        5|\n",
      "|         0|   3137|     37|   CP|        1|\n",
      "|         0|   3138|    245|   CP|        4|\n",
      "|         0|   3139|     39|   CP|        1|\n",
      "|         0|   3140|    269|   CP|        4|\n",
      "|         1|   3143|    300|   CP|        5|\n",
      "|         1|   3144|    248|   CP|        4|\n",
      "|         1|   3145|    248|   CP|        4|\n",
      "|         1|   3146|     70|   CP|        1|\n",
      "|         1|   3147|     70|   CP|        1|\n",
      "|        10|   3152|    297|   CP|        5|\n",
      "|        10|   3153|    297|   CP|        5|\n",
      "|        10|   3154|    297|   CP|        5|\n",
      "|        10|   3155|    297|   CP|        5|\n",
      "|        10|   3156|    289|   CP|        5|\n",
      "+----------+-------+-------+-----+---------+\n",
      "only showing top 20 rows\n",
      "\n"
     ]
    }
   ],
   "source": [
    "labels = labels.withColumn(\"num_clips\", F.ceil(labels.n_slice / 70))\n",
    "\n",
    "labels.show()"
   ]
  },
  {
   "cell_type": "code",
   "execution_count": 76,
   "metadata": {},
   "outputs": [],
   "source": [
    "labels.coalesce(1).write.parquet(str(preprocessed_labels_file))\n",
    "\n",
    "labels = spark.read.parquet(str(preprocessed_labels_file))"
   ]
  },
  {
   "cell_type": "markdown",
   "metadata": {},
   "source": [
    "## Check overlap between labels and metadata\n",
    "\n",
    "Do we have demographics for patients for which we have data?"
   ]
  },
  {
   "cell_type": "code",
   "execution_count": 17,
   "metadata": {},
   "outputs": [
    {
     "name": "stdout",
     "output_type": "stream",
     "text": [
      "We have demographics for 378 / 4178 observations (9.05%)\n"
     ]
    }
   ],
   "source": [
    "total_labels = labels.count()\n",
    "total_labels_with_demo = labels.join(metadata, [\"patient_id\"], \"left_semi\").count()\n",
    "\n",
    "print(f\"We have demographics for {total_labels_with_demo} / {total_labels} observations ({100 * total_labels_with_demo / total_labels:.2f}%)\")"
   ]
  },
  {
   "cell_type": "code",
   "execution_count": 18,
   "metadata": {},
   "outputs": [
    {
     "data": {
      "text/plain": [
       "378"
      ]
     },
     "execution_count": 18,
     "metadata": {},
     "output_type": "execute_result"
    }
   ],
   "source": [
    "labels_with_metadata = labels.join(metadata, [\"patient_id\"], \"left_semi\")\n",
    "\n",
    "labels_with_metadata.count()"
   ]
  },
  {
   "cell_type": "code",
   "execution_count": 19,
   "metadata": {},
   "outputs": [
    {
     "name": "stdout",
     "output_type": "stream",
     "text": [
      "+------+-----+\n",
      "| label|count|\n",
      "+------+-----+\n",
      "|    CP|  170|\n",
      "|   NCP|   13|\n",
      "|Normal|  195|\n",
      "+------+-----+\n",
      "\n"
     ]
    }
   ],
   "source": [
    "labels_with_metadata.groupBy(\"label\").count().show()"
   ]
  },
  {
   "cell_type": "markdown",
   "metadata": {},
   "source": [
    "Is there also overlap on patient_id AND scan_id level?"
   ]
  },
  {
   "cell_type": "code",
   "execution_count": 20,
   "metadata": {},
   "outputs": [
    {
     "name": "stdout",
     "output_type": "stream",
     "text": [
      "+-----+-----+\n",
      "|label|count|\n",
      "+-----+-----+\n",
      "+-----+-----+\n",
      "\n"
     ]
    }
   ],
   "source": [
    "labels.join(metadata, [\"patient_id\", \"scan_id\"], \"left_semi\").groupBy(\"label\").count().show()"
   ]
  },
  {
   "cell_type": "code",
   "execution_count": 21,
   "metadata": {},
   "outputs": [
    {
     "data": {
      "text/html": [
       "<div>\n",
       "<style scoped>\n",
       "    .dataframe tbody tr th:only-of-type {\n",
       "        vertical-align: middle;\n",
       "    }\n",
       "\n",
       "    .dataframe tbody tr th {\n",
       "        vertical-align: top;\n",
       "    }\n",
       "\n",
       "    .dataframe thead th {\n",
       "        text-align: right;\n",
       "    }\n",
       "</style>\n",
       "<table border=\"1\" class=\"dataframe\">\n",
       "  <thead>\n",
       "    <tr style=\"text-align: right;\">\n",
       "      <th></th>\n",
       "      <th>patient_id</th>\n",
       "      <th>scan_id</th>\n",
       "      <th>n_slice</th>\n",
       "      <th>label</th>\n",
       "    </tr>\n",
       "  </thead>\n",
       "  <tbody>\n",
       "    <tr>\n",
       "      <th>0</th>\n",
       "      <td>0</td>\n",
       "      <td>3131</td>\n",
       "      <td>285</td>\n",
       "      <td>CP</td>\n",
       "    </tr>\n",
       "    <tr>\n",
       "      <th>1</th>\n",
       "      <td>0</td>\n",
       "      <td>3132</td>\n",
       "      <td>42</td>\n",
       "      <td>CP</td>\n",
       "    </tr>\n",
       "    <tr>\n",
       "      <th>2</th>\n",
       "      <td>0</td>\n",
       "      <td>3133</td>\n",
       "      <td>290</td>\n",
       "      <td>CP</td>\n",
       "    </tr>\n",
       "    <tr>\n",
       "      <th>3</th>\n",
       "      <td>0</td>\n",
       "      <td>3134</td>\n",
       "      <td>37</td>\n",
       "      <td>CP</td>\n",
       "    </tr>\n",
       "    <tr>\n",
       "      <th>4</th>\n",
       "      <td>0</td>\n",
       "      <td>3135</td>\n",
       "      <td>269</td>\n",
       "      <td>CP</td>\n",
       "    </tr>\n",
       "    <tr>\n",
       "      <th>...</th>\n",
       "      <td>...</td>\n",
       "      <td>...</td>\n",
       "      <td>...</td>\n",
       "      <td>...</td>\n",
       "    </tr>\n",
       "    <tr>\n",
       "      <th>4173</th>\n",
       "      <td>1919</td>\n",
       "      <td>374</td>\n",
       "      <td>99</td>\n",
       "      <td>Normal</td>\n",
       "    </tr>\n",
       "    <tr>\n",
       "      <th>4174</th>\n",
       "      <td>1920</td>\n",
       "      <td>375</td>\n",
       "      <td>100</td>\n",
       "      <td>Normal</td>\n",
       "    </tr>\n",
       "    <tr>\n",
       "      <th>4175</th>\n",
       "      <td>1921</td>\n",
       "      <td>376</td>\n",
       "      <td>80</td>\n",
       "      <td>Normal</td>\n",
       "    </tr>\n",
       "    <tr>\n",
       "      <th>4176</th>\n",
       "      <td>1922</td>\n",
       "      <td>377</td>\n",
       "      <td>87</td>\n",
       "      <td>Normal</td>\n",
       "    </tr>\n",
       "    <tr>\n",
       "      <th>4177</th>\n",
       "      <td>1924</td>\n",
       "      <td>379</td>\n",
       "      <td>98</td>\n",
       "      <td>Normal</td>\n",
       "    </tr>\n",
       "  </tbody>\n",
       "</table>\n",
       "<p>4178 rows × 4 columns</p>\n",
       "</div>"
      ],
      "text/plain": [
       "      patient_id  scan_id  n_slice   label\n",
       "0              0     3131      285      CP\n",
       "1              0     3132       42      CP\n",
       "2              0     3133      290      CP\n",
       "3              0     3134       37      CP\n",
       "4              0     3135      269      CP\n",
       "...          ...      ...      ...     ...\n",
       "4173        1919      374       99  Normal\n",
       "4174        1920      375      100  Normal\n",
       "4175        1921      376       80  Normal\n",
       "4176        1922      377       87  Normal\n",
       "4177        1924      379       98  Normal\n",
       "\n",
       "[4178 rows x 4 columns]"
      ]
     },
     "execution_count": 21,
     "metadata": {},
     "output_type": "execute_result"
    }
   ],
   "source": [
    "labels_pd = labels.toPandas()\n",
    "\n",
    "labels_pd"
   ]
  },
  {
   "cell_type": "code",
   "execution_count": 22,
   "metadata": {},
   "outputs": [
    {
     "data": {
      "text/plain": [
       "(4178, 2742)"
      ]
     },
     "execution_count": 22,
     "metadata": {},
     "output_type": "execute_result"
    }
   ],
   "source": [
    "labels.select(\"patient_id\").count(), labels.select(\"patient_id\").distinct().count()"
   ]
  },
  {
   "cell_type": "markdown",
   "metadata": {},
   "source": [
    "## Do any patient_ids have more than 1 label?"
   ]
  },
  {
   "cell_type": "code",
   "execution_count": 23,
   "metadata": {},
   "outputs": [],
   "source": [
    "from pyspark.sql import functions as F"
   ]
  },
  {
   "cell_type": "code",
   "execution_count": 24,
   "metadata": {},
   "outputs": [
    {
     "data": {
      "text/plain": [
       "0"
      ]
     },
     "execution_count": 24,
     "metadata": {},
     "output_type": "execute_result"
    }
   ],
   "source": [
    "labels\\\n",
    "    .groupBy(\"patient_id\")\\\n",
    "    .agg(F.countDistinct(\"label\").alias(\"num_labels\"))\\\n",
    "    .filter(\"num_labels > 1\")\\\n",
    "    .count()"
   ]
  },
  {
   "cell_type": "markdown",
   "metadata": {},
   "source": [
    "## Check number labels with / without unique patient ids"
   ]
  },
  {
   "cell_type": "code",
   "execution_count": 25,
   "metadata": {},
   "outputs": [
    {
     "data": {
      "text/plain": [
       "(4178, 411529)"
      ]
     },
     "execution_count": 25,
     "metadata": {},
     "output_type": "execute_result"
    }
   ],
   "source": [
    "total_labels = labels.count()\n",
    "total_slices = labels.selectExpr(\"sum(n_slice) AS total\").first().total\n",
    "\n",
    "total_labels, total_slices"
   ]
  },
  {
   "cell_type": "code",
   "execution_count": 26,
   "metadata": {},
   "outputs": [
    {
     "name": "stdout",
     "output_type": "stream",
     "text": [
      "+------+-----+-------+---------+---------+\n",
      "| label|count|n_slice|count_pct|slice_pct|\n",
      "+------+-----+-------+---------+---------+\n",
      "|    CP| 1556| 159702|   0.3724|   0.3881|\n",
      "|   NCP| 1544| 156071|   0.3696|   0.3792|\n",
      "|Normal| 1078|  95756|    0.258|   0.2327|\n",
      "+------+-----+-------+---------+---------+\n",
      "\n"
     ]
    }
   ],
   "source": [
    "labels\\\n",
    "    .groupBy(\"label\")\\\n",
    "    .agg(\n",
    "        F.count(\"*\").alias(\"count\"),\n",
    "        F.sum(\"n_slice\").alias(\"n_slice\")\n",
    "    )\\\n",
    "    .withColumn(\"count_pct\", F.expr(f\"ROUND(count / {total_labels}, 4)\"))\\\n",
    "    .withColumn(\"slice_pct\", F.expr(f\"ROUND(n_slice / {total_slices}, 4)\"))\\\n",
    "    .orderBy(\"label\")\\\n",
    "    .show()"
   ]
  },
  {
   "cell_type": "code",
   "execution_count": 149,
   "metadata": {},
   "outputs": [
    {
     "name": "stdout",
     "output_type": "stream",
     "text": [
      "+------+-----+------+\n",
      "| label|count|   pct|\n",
      "+------+-----+------+\n",
      "|    CP|  964|0.3516|\n",
      "|   NCP|  929|0.3388|\n",
      "|Normal|  849|0.3096|\n",
      "+------+-----+------+\n",
      "\n"
     ]
    }
   ],
   "source": [
    "unique_patients = labels.select(\"patient_id\").distinct().count()\n",
    "labels\\\n",
    "    .dropDuplicates([\"patient_id\"])\\\n",
    "    .groupBy(\"label\")\\\n",
    "    .count()\\\n",
    "    .withColumn(\"pct\", F.expr(f\"ROUND(count / {unique_patients}, 4)\"))\\\n",
    "    .orderBy(\"label\")\\\n",
    "    .show()"
   ]
  },
  {
   "cell_type": "markdown",
   "metadata": {},
   "source": [
    "## Check labels with metadata only"
   ]
  },
  {
   "cell_type": "code",
   "execution_count": 27,
   "metadata": {},
   "outputs": [
    {
     "name": "stdout",
     "output_type": "stream",
     "text": [
      "Total labels with metadata: 378\n",
      "Total slices with metadata: 31616\n",
      "+------+-----+-------+---------+---------+\n",
      "| label|count|n_slice|count_pct|slice_pct|\n",
      "+------+-----+-------+---------+---------+\n",
      "|    CP|  170|  16084|   0.4497|   0.5087|\n",
      "|   NCP|   13|    661|   0.0344|   0.0209|\n",
      "|Normal|  195|  14871|   0.5159|   0.4704|\n",
      "+------+-----+-------+---------+---------+\n",
      "\n"
     ]
    }
   ],
   "source": [
    "total_labels_with_metadata = labels_with_metadata.count()\n",
    "total_slices_with_metadata = labels_with_metadata.selectExpr(\"sum(n_slice) AS total\").first().total\n",
    "\n",
    "print(f\"Total labels with metadata: {total_labels_with_metadata}\")\n",
    "print(f\"Total slices with metadata: {total_slices_with_metadata}\")\n",
    "\n",
    "labels_with_metadata\\\n",
    "    .groupBy(\"label\")\\\n",
    "    .agg(\n",
    "        F.count(\"*\").alias(\"count\"),\n",
    "        F.sum(\"n_slice\").alias(\"n_slice\")\n",
    "    )\\\n",
    "    .withColumn(\"count_pct\", F.expr(f\"ROUND(count / {total_labels_with_metadata}, 4)\"))\\\n",
    "    .withColumn(\"slice_pct\", F.expr(f\"ROUND(n_slice / {total_slices_with_metadata}, 4)\"))\\\n",
    "    .orderBy(\"label\")\\\n",
    "    .show()"
   ]
  },
  {
   "cell_type": "code",
   "execution_count": 28,
   "metadata": {},
   "outputs": [
    {
     "name": "stdout",
     "output_type": "stream",
     "text": [
      "There are 276 unique patients with metadata\n",
      "+------+-----+------+\n",
      "| label|count|   pct|\n",
      "+------+-----+------+\n",
      "|    CP|   99|0.3587|\n",
      "|   NCP|   13|0.0471|\n",
      "|Normal|  164|0.5942|\n",
      "+------+-----+------+\n",
      "\n"
     ]
    }
   ],
   "source": [
    "unique_patients_with_metadata = labels_with_metadata.select(\"patient_id\").distinct().count()\n",
    "\n",
    "print(f\"There are {unique_patients_with_metadata} unique patients with metadata\")\n",
    "labels_with_metadata\\\n",
    "    .dropDuplicates([\"patient_id\"])\\\n",
    "    .groupBy(\"label\")\\\n",
    "    .count()\\\n",
    "    .withColumn(\"pct\", F.expr(f\"ROUND(count / {unique_patients_with_metadata}, 4)\"))\\\n",
    "    .orderBy(\"label\")\\\n",
    "    .show()"
   ]
  },
  {
   "cell_type": "markdown",
   "metadata": {},
   "source": [
    "## Conclusion\n",
    "\n",
    "There is almost no metadata for patients with NCP (there's metadata only for 13). It could be usable if we only want to consider e.g. CP VS Normal, but won't be useful for NCP."
   ]
  },
  {
   "cell_type": "code",
   "execution_count": 30,
   "metadata": {},
   "outputs": [],
   "source": [
    "import sweetviz as sv"
   ]
  },
  {
   "cell_type": "code",
   "execution_count": 31,
   "metadata": {},
   "outputs": [
    {
     "data": {
      "application/vnd.jupyter.widget-view+json": {
       "model_id": "3a816e5bd3c444038f0a75415bb1e472",
       "version_major": 2,
       "version_minor": 0
      },
      "text/plain": [
       "HBox(children=(HTML(value=''), FloatProgress(value=0.0, layout=Layout(flex='2'), max=5.0), HTML(value='')), la…"
      ]
     },
     "metadata": {},
     "output_type": "display_data"
    },
    {
     "name": "stdout",
     "output_type": "stream",
     "text": [
      "\n"
     ]
    },
    {
     "data": {
      "application/vnd.jupyter.widget-view+json": {
       "model_id": "b06bee3271bd4d1aab7acf2813b3e764",
       "version_major": 2,
       "version_minor": 0
      },
      "text/plain": [
       "HBox(children=(HTML(value=''), FloatProgress(value=0.0, layout=Layout(flex='2'), max=4.0), HTML(value='')), la…"
      ]
     },
     "metadata": {},
     "output_type": "display_data"
    },
    {
     "name": "stdout",
     "output_type": "stream",
     "text": [
      "\n"
     ]
    },
    {
     "data": {
      "application/vnd.jupyter.widget-view+json": {
       "model_id": "a394f7a6ad0749eeb5a6670d5c5eb279",
       "version_major": 2,
       "version_minor": 0
      },
      "text/plain": [
       "HBox(children=(HTML(value=''), FloatProgress(value=0.0, layout=Layout(flex='2'), max=1.0), HTML(value='')), la…"
      ]
     },
     "metadata": {},
     "output_type": "display_data"
    },
    {
     "name": "stdout",
     "output_type": "stream",
     "text": [
      "\n"
     ]
    }
   ],
   "source": [
    "report = sv.analyze(labels_pd)"
   ]
  },
  {
   "cell_type": "code",
   "execution_count": 34,
   "metadata": {},
   "outputs": [
    {
     "name": "stdout",
     "output_type": "stream",
     "text": [
      "Report /home/albert/projects/tfg/docs/1_eda_labels.html was generated! NOTEBOOK/COLAB USERS: the web browser MAY not pop up, regardless, the report IS saved in your notebook/colab files.\n"
     ]
    }
   ],
   "source": [
    "report.show_html(filepath=base_dir / \"docs\" / \"1_eda_labels.html\")"
   ]
  },
  {
   "cell_type": "markdown",
   "metadata": {},
   "source": [
    "# Train / test split\n",
    "\n"
   ]
  }
 ],
 "metadata": {
  "kernelspec": {
   "display_name": "Python 3",
   "language": "python",
   "name": "python3"
  },
  "language_info": {
   "codemirror_mode": {
    "name": "ipython",
    "version": 3
   },
   "file_extension": ".py",
   "mimetype": "text/x-python",
   "name": "python",
   "nbconvert_exporter": "python",
   "pygments_lexer": "ipython3",
   "version": "3.8.5"
  }
 },
 "nbformat": 4,
 "nbformat_minor": 4
}
