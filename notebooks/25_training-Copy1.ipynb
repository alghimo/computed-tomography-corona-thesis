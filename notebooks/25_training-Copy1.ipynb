{
 "cells": [
  {
   "cell_type": "markdown",
   "metadata": {},
   "source": [
    "# Notebook Initialization"
   ]
  },
  {
   "cell_type": "code",
   "execution_count": 6,
   "metadata": {},
   "outputs": [],
   "source": [
    "# %load nb_init.py\n",
    "\n",
    "from pathlib import Path\n",
    "import pandas as pd\n",
    "\n",
    "base_dir = Path.cwd().parent\n",
    "config_dir = base_dir / \"config\"\n",
    "data_dir = base_dir / \"data\"\n",
    "docs_dir = base_dir / \"docs\"\n",
    "figures_dir = docs_dir / \"figures\"\n",
    "models_dir = base_dir / \"models\"\n",
    "logs_dir = base_dir / \"logs\"\n",
    "images_input_dir = data_dir / \"COVID19\"\n",
    "images_pp_dir = data_dir / \"COVID19-preprocessed\"\n",
    "preprocessed_dir = data_dir / \"preprocessed\"\n",
    "output_dir = data_dir / \"output\"\n",
    "\n",
    "# Directories used to train the CNN (image by image) \n",
    "cnn_data_dir = data_dir / \"modelling\" / \"cnn\"\n",
    "cnn_train_dir = cnn_data_dir / \"train\"\n",
    "cnn_test_dir = cnn_data_dir / \"test\"\n",
    "\n",
    "metadata_file = images_input_dir / \"metadata.csv\"\n",
    "labels_file = images_input_dir / \"unzip_filenames.csv\"\n",
    "preprocessed_labels_file = preprocessed_dir / \"labels.parquet\"\n",
    "\n",
    "feature_extractor_model_file = models_dir / \"feature_extractor.tf\"\n",
    "\n",
    "from pyspark.sql import SparkSession\n",
    "from pyspark.sql import functions as F\n",
    "\n",
    "spark = SparkSession.builder.getOrCreate()\n",
    "\n",
    "config_file = config_dir / \"tfg.conf\"\n",
    "\n",
    "from pyhocon import ConfigFactory\n",
    "config = None\n",
    "\n",
    "def load_config():\n",
    "    return ConfigFactory.parse_file(config_file)\n",
    "\n",
    "config = load_config()\n",
    "    \n",
    "import sys\n",
    "\n",
    "if str(base_dir / \"src\") not in sys.path:\n",
    "    sys.path.append(str(base_dir / \"src\"))\n",
    "\n",
    "%load_ext autoreload\n",
    "\n",
    "%autoreload 2"
   ]
  },
  {
   "cell_type": "code",
   "execution_count": 7,
   "metadata": {},
   "outputs": [
    {
     "data": {
      "text/html": [
       "\n",
       "            <div>\n",
       "                <p><b>SparkSession - in-memory</b></p>\n",
       "                \n",
       "        <div>\n",
       "            <p><b>SparkContext</b></p>\n",
       "\n",
       "            <p><a href=\"http://192.168.0.235:4040\">Spark UI</a></p>\n",
       "\n",
       "            <dl>\n",
       "              <dt>Version</dt>\n",
       "                <dd><code>v3.0.1</code></dd>\n",
       "              <dt>Master</dt>\n",
       "                <dd><code>local[*]</code></dd>\n",
       "              <dt>AppName</dt>\n",
       "                <dd><code>pyspark-shell</code></dd>\n",
       "            </dl>\n",
       "        </div>\n",
       "        \n",
       "            </div>\n",
       "        "
      ],
      "text/plain": [
       "<pyspark.sql.session.SparkSession at 0x7f0bb934c820>"
      ]
     },
     "execution_count": 7,
     "metadata": {},
     "output_type": "execute_result"
    }
   ],
   "source": [
    "spark"
   ]
  },
  {
   "cell_type": "code",
   "execution_count": 8,
   "metadata": {},
   "outputs": [],
   "source": [
    "from tfg import DataRepository\n",
    "\n",
    "repo = DataRepository(config=config, base_data_path=data_dir)"
   ]
  },
  {
   "cell_type": "markdown",
   "metadata": {},
   "source": [
    "# Load labels"
   ]
  },
  {
   "cell_type": "code",
   "execution_count": 5,
   "metadata": {},
   "outputs": [
    {
     "name": "stdout",
     "output_type": "stream",
     "text": [
      "+----------+-------+-------+-----+---------+\n",
      "|patient_id|scan_id|n_slice|label|num_clips|\n",
      "+----------+-------+-------+-----+---------+\n",
      "|         0|   3131|    285|   CP|        5|\n",
      "|         0|   3132|     42|   CP|        1|\n",
      "|         0|   3133|    290|   CP|        5|\n",
      "|         0|   3134|     37|   CP|        1|\n",
      "|         0|   3135|    269|   CP|        4|\n",
      "+----------+-------+-------+-----+---------+\n",
      "only showing top 5 rows\n",
      "\n"
     ]
    }
   ],
   "source": [
    "labels = spark.read.parquet(str(preprocessed_labels_file))\n",
    "\n",
    "labels.show(5)"
   ]
  },
  {
   "cell_type": "code",
   "execution_count": 6,
   "metadata": {},
   "outputs": [
    {
     "data": {
      "text/plain": [
       "4178"
      ]
     },
     "execution_count": 6,
     "metadata": {},
     "output_type": "execute_result"
    }
   ],
   "source": [
    "num_labels = labels.count()\n",
    "num_labels"
   ]
  },
  {
   "cell_type": "code",
   "execution_count": 7,
   "metadata": {},
   "outputs": [
    {
     "name": "stdout",
     "output_type": "stream",
     "text": [
      "+------+-----+------+\n",
      "| label|count|   pct|\n",
      "+------+-----+------+\n",
      "|    CP| 1556|0.3724|\n",
      "|   NCP| 1544|0.3696|\n",
      "|Normal| 1078| 0.258|\n",
      "+------+-----+------+\n",
      "\n"
     ]
    }
   ],
   "source": [
    "labels\\\n",
    "    .groupBy(\"label\")\\\n",
    "    .agg(\n",
    "        F.count(\"*\").alias(\"count\"),\n",
    "        F.round((F.count(\"*\") / num_labels), 4).alias(\"pct\"),\n",
    "    )\\\n",
    "    .show()"
   ]
  },
  {
   "cell_type": "code",
   "execution_count": 8,
   "metadata": {},
   "outputs": [
    {
     "data": {
      "text/plain": [
       "2742"
      ]
     },
     "execution_count": 8,
     "metadata": {},
     "output_type": "execute_result"
    }
   ],
   "source": [
    "labels.select(\"patient_id\").distinct().count()"
   ]
  },
  {
   "cell_type": "markdown",
   "metadata": {},
   "source": [
    "# Split patient ids into train / test"
   ]
  },
  {
   "cell_type": "code",
   "execution_count": 9,
   "metadata": {},
   "outputs": [
    {
     "data": {
      "text/plain": [
       "[0.8, 0.1, 0.1]"
      ]
     },
     "execution_count": 9,
     "metadata": {},
     "output_type": "execute_result"
    }
   ],
   "source": [
    "seed = config.get_int(\"tfg.seed\")\n",
    "test_fraction = config.get_float(\"tfg.training.test_fraction\")\n",
    "val_fraction = config.get_float(\"tfg.training.val_fraction\")\n",
    "train_fraction = 1 - test_fraction - val_fraction\n",
    "split_weights = [train_fraction, val_fraction, test_fraction]\n",
    "split_weights"
   ]
  },
  {
   "cell_type": "code",
   "execution_count": 10,
   "metadata": {},
   "outputs": [
    {
     "name": "stdout",
     "output_type": "stream",
     "text": [
      "Training rows: 3350\n",
      "Validation rows: 402\n",
      "Test rows: 426\n",
      "+----------+-------+-------+-----+---------+\n",
      "|patient_id|scan_id|n_slice|label|num_clips|\n",
      "+----------+-------+-------+-----+---------+\n",
      "|         0|   3131|    285|   CP|        5|\n",
      "|         0|   3132|     42|   CP|        1|\n",
      "|         0|   3133|    290|   CP|        5|\n",
      "|         0|   3134|     37|   CP|        1|\n",
      "|         0|   3135|    269|   CP|        4|\n",
      "+----------+-------+-------+-----+---------+\n",
      "only showing top 5 rows\n",
      "\n",
      "+----------+-------+-------+-----+---------+\n",
      "|patient_id|scan_id|n_slice|label|num_clips|\n",
      "+----------+-------+-------+-----+---------+\n",
      "|      1075|   3118|    553|   CP|        8|\n",
      "|      1075|   3119|     70|   CP|        1|\n",
      "|      1080|   3125|     64|   CP|        1|\n",
      "|      1093|   3311|    173|   CP|        3|\n",
      "|      1394|   3847|     62|   CP|        1|\n",
      "+----------+-------+-------+-----+---------+\n",
      "only showing top 5 rows\n",
      "\n",
      "+----------+-------+-------+-----+---------+\n",
      "|patient_id|scan_id|n_slice|label|num_clips|\n",
      "+----------+-------+-------+-----+---------+\n",
      "|         1|   3143|    300|   CP|        5|\n",
      "|         1|   3144|    248|   CP|        4|\n",
      "|         1|   3145|    248|   CP|        4|\n",
      "|         1|   3146|     70|   CP|        1|\n",
      "|         1|   3147|     70|   CP|        1|\n",
      "+----------+-------+-------+-----+---------+\n",
      "only showing top 5 rows\n",
      "\n"
     ]
    }
   ],
   "source": [
    "patient_ids = labels.select(\"patient_id\").distinct()\n",
    "\n",
    "id_dfs = patient_ids.randomSplit(split_weights, seed=seed)\n",
    "train_ids = id_dfs[0]\n",
    "val_ids =  id_dfs[1]\n",
    "test_ids =  id_dfs[2]\n",
    "\n",
    "train_labels = labels.join(train_ids, [\"patient_id\"], \"inner\")\n",
    "val_labels = labels.join(val_ids, [\"patient_id\"], \"inner\")\n",
    "test_labels = labels.join(test_ids, [\"patient_id\"], \"inner\")\n",
    "\n",
    "train_count = train_labels.count()\n",
    "val_count = val_labels.count()\n",
    "test_count = test_labels.count()\n",
    "\n",
    "print(f\"Training rows: {train_count}\")\n",
    "print(f\"Validation rows: {val_count}\")\n",
    "print(f\"Test rows: {test_count}\")\n",
    "\n",
    "train_labels.show(5)\n",
    "val_labels.show(5)\n",
    "test_labels.show(5)"
   ]
  },
  {
   "cell_type": "code",
   "execution_count": 11,
   "metadata": {},
   "outputs": [
    {
     "name": "stdout",
     "output_type": "stream",
     "text": [
      "Train label counts and percentages\n",
      "+------+-----+----+\n",
      "| label|count| pct|\n",
      "+------+-----+----+\n",
      "|    CP| 1229|0.37|\n",
      "|   NCP| 1229|0.37|\n",
      "|Normal|  892|0.27|\n",
      "+------+-----+----+\n",
      "\n",
      "Validation label counts and percentages\n",
      "+------+-----+----+\n",
      "| label|count| pct|\n",
      "+------+-----+----+\n",
      "|    CP|  152|0.38|\n",
      "|   NCP|  158|0.39|\n",
      "|Normal|   92|0.23|\n",
      "+------+-----+----+\n",
      "\n",
      "Test label counts and labels\n",
      "+------+-----+----+\n",
      "| label|count| pct|\n",
      "+------+-----+----+\n",
      "|    CP|  175|0.41|\n",
      "|   NCP|  157|0.37|\n",
      "|Normal|   94|0.22|\n",
      "+------+-----+----+\n",
      "\n"
     ]
    }
   ],
   "source": [
    "print(\"Train label counts and percentages\")\n",
    "train_labels\\\n",
    "    .groupBy(\"label\")\\\n",
    "    .agg(\n",
    "        F.count(\"*\").alias(\"count\"),\n",
    "        F.round((F.count(\"*\") / train_count), 2).alias(\"pct\"),\n",
    "    )\\\n",
    "    .show()\n",
    "\n",
    "print(\"Validation label counts and percentages\")\n",
    "val_labels\\\n",
    "    .groupBy(\"label\")\\\n",
    "    .agg(\n",
    "        F.count(\"*\").alias(\"count\"),\n",
    "        F.round((F.count(\"*\") / val_count), 2).alias(\"pct\"),\n",
    "    )\\\n",
    "    .show()\n",
    "\n",
    "print(\"Test label counts and labels\")\n",
    "test_labels\\\n",
    "    .groupBy(\"label\")\\\n",
    "    .agg(\n",
    "        F.count(\"*\").alias(\"count\"),\n",
    "        F.round((F.count(\"*\") / test_count), 2).alias(\"pct\"),\n",
    "    )\\\n",
    "    .show()"
   ]
  },
  {
   "cell_type": "markdown",
   "metadata": {},
   "source": [
    "# Create datasets for the CNN\n",
    "\n",
    "For each of the train/validation/test sets we have, we will create a pandas dataframe, and we'll use these dataframe to create the data generators for our model."
   ]
  },
  {
   "cell_type": "code",
   "execution_count": 12,
   "metadata": {},
   "outputs": [],
   "source": [
    "from dataclasses import dataclass\n",
    "\n",
    "from pyspark.sql import Row\n",
    "\n",
    "\n",
    "@dataclass\n",
    "class Observation:\n",
    "    patient_id: int\n",
    "    scan_id: int\n",
    "    n_slice: int\n",
    "    num_clips: int\n",
    "    label: str\n",
    "\n",
    "    @staticmethod\n",
    "    def from_row(r: Row) -> \"Observation\":\n",
    "        return Observation(\n",
    "            patient_id=r.patient_id,\n",
    "            scan_id=r.scan_id,\n",
    "            n_slice=r.n_slice,\n",
    "            num_clips=r.num_clips,\n",
    "            label=r.label,\n",
    "        )"
   ]
  },
  {
   "cell_type": "code",
   "execution_count": 20,
   "metadata": {},
   "outputs": [],
   "source": [
    "from tqdm.notebook import tqdm\n",
    "import pandas as pd\n",
    "from pathlib import Path\n",
    "\n",
    "def create_df(config, labels):\n",
    "    raw_images = {\n",
    "        \"label\": [],\n",
    "        \"file\": [],\n",
    "        \"patient_id\": [],\n",
    "        \"scan_id\": [],\n",
    "        \"n_slice\": [],\n",
    "        \"num_clips\": [],\n",
    "        \"seq_num\": [],\n",
    "        \"clip_num\": [],\n",
    "    }\n",
    "\n",
    "    IMAGES_PER_CLIP = config.get_int(\"tfg.training.images_per_clip\")\n",
    "\n",
    "    for r in labels.collect():\n",
    "        obs = Observation.from_row(r)\n",
    "        scan_path = Path(f\"{obs.label}/{obs.patient_id}/{obs.scan_id}\")\n",
    "        absolute_scan_path = images_input_dir / scan_path\n",
    "        # different directories have different formats\n",
    "        img_ext = next(absolute_scan_path.glob(\"*.*\")).suffix\n",
    "\n",
    "        scan_images = []\n",
    "        seq_nums = []\n",
    "        clip_nums = []\n",
    "\n",
    "        seq_num = 0\n",
    "        images_input_dir_str = str(images_input_dir)\n",
    "        path_offset = len(images_input_dir_str) + 1\n",
    "        for seq_num, img in enumerate(absolute_scan_path.glob(f\"*{img_ext}\")):\n",
    "            img_to_append = str(img)[path_offset:]\n",
    "            scan_images.append(img_to_append)\n",
    "            seq_nums.append(seq_num)\n",
    "            clip_nums.append(seq_num // IMAGES_PER_CLIP)\n",
    "            seq_num = seq_num + 1\n",
    "\n",
    "        raw_images[\"label\"].extend([obs.label] * obs.n_slice)\n",
    "        raw_images[\"file\"].extend(scan_images)\n",
    "        raw_images[\"patient_id\"].extend([obs.patient_id] * obs.n_slice)\n",
    "        raw_images[\"scan_id\"].extend([obs.scan_id] * obs.n_slice)\n",
    "        raw_images[\"n_slice\"].extend([obs.n_slice] * obs.n_slice)\n",
    "        raw_images[\"num_clips\"].extend([obs.patient_id] * obs.n_slice)\n",
    "        raw_images[\"seq_num\"].extend(seq_nums)\n",
    "        raw_images[\"clip_num\"].extend(clip_nums)\n",
    "        \n",
    "    return pd.DataFrame(raw_images)"
   ]
  },
  {
   "cell_type": "code",
   "execution_count": 21,
   "metadata": {},
   "outputs": [
    {
     "name": "stdout",
     "output_type": "stream",
     "text": [
      "(331286, 8)\n"
     ]
    },
    {
     "data": {
      "text/html": [
       "<div>\n",
       "<style scoped>\n",
       "    .dataframe tbody tr th:only-of-type {\n",
       "        vertical-align: middle;\n",
       "    }\n",
       "\n",
       "    .dataframe tbody tr th {\n",
       "        vertical-align: top;\n",
       "    }\n",
       "\n",
       "    .dataframe thead th {\n",
       "        text-align: right;\n",
       "    }\n",
       "</style>\n",
       "<table border=\"1\" class=\"dataframe\">\n",
       "  <thead>\n",
       "    <tr style=\"text-align: right;\">\n",
       "      <th></th>\n",
       "      <th>label</th>\n",
       "      <th>file</th>\n",
       "      <th>patient_id</th>\n",
       "      <th>scan_id</th>\n",
       "      <th>n_slice</th>\n",
       "      <th>num_clips</th>\n",
       "      <th>seq_num</th>\n",
       "      <th>clip_num</th>\n",
       "    </tr>\n",
       "  </thead>\n",
       "  <tbody>\n",
       "    <tr>\n",
       "      <th>0</th>\n",
       "      <td>CP</td>\n",
       "      <td>CP/0/3131/0275.png</td>\n",
       "      <td>0</td>\n",
       "      <td>3131</td>\n",
       "      <td>285</td>\n",
       "      <td>0</td>\n",
       "      <td>0</td>\n",
       "      <td>0</td>\n",
       "    </tr>\n",
       "    <tr>\n",
       "      <th>1</th>\n",
       "      <td>CP</td>\n",
       "      <td>CP/0/3131/0064.png</td>\n",
       "      <td>0</td>\n",
       "      <td>3131</td>\n",
       "      <td>285</td>\n",
       "      <td>0</td>\n",
       "      <td>1</td>\n",
       "      <td>0</td>\n",
       "    </tr>\n",
       "    <tr>\n",
       "      <th>2</th>\n",
       "      <td>CP</td>\n",
       "      <td>CP/0/3131/0083.png</td>\n",
       "      <td>0</td>\n",
       "      <td>3131</td>\n",
       "      <td>285</td>\n",
       "      <td>0</td>\n",
       "      <td>2</td>\n",
       "      <td>0</td>\n",
       "    </tr>\n",
       "    <tr>\n",
       "      <th>3</th>\n",
       "      <td>CP</td>\n",
       "      <td>CP/0/3131/0160.png</td>\n",
       "      <td>0</td>\n",
       "      <td>3131</td>\n",
       "      <td>285</td>\n",
       "      <td>0</td>\n",
       "      <td>3</td>\n",
       "      <td>0</td>\n",
       "    </tr>\n",
       "    <tr>\n",
       "      <th>4</th>\n",
       "      <td>CP</td>\n",
       "      <td>CP/0/3131/0127.png</td>\n",
       "      <td>0</td>\n",
       "      <td>3131</td>\n",
       "      <td>285</td>\n",
       "      <td>0</td>\n",
       "      <td>4</td>\n",
       "      <td>0</td>\n",
       "    </tr>\n",
       "    <tr>\n",
       "      <th>...</th>\n",
       "      <td>...</td>\n",
       "      <td>...</td>\n",
       "      <td>...</td>\n",
       "      <td>...</td>\n",
       "      <td>...</td>\n",
       "      <td>...</td>\n",
       "      <td>...</td>\n",
       "      <td>...</td>\n",
       "    </tr>\n",
       "    <tr>\n",
       "      <th>331281</th>\n",
       "      <td>Normal</td>\n",
       "      <td>Normal/1924/379/0014.png</td>\n",
       "      <td>1924</td>\n",
       "      <td>379</td>\n",
       "      <td>98</td>\n",
       "      <td>1924</td>\n",
       "      <td>93</td>\n",
       "      <td>1</td>\n",
       "    </tr>\n",
       "    <tr>\n",
       "      <th>331282</th>\n",
       "      <td>Normal</td>\n",
       "      <td>Normal/1924/379/0001.png</td>\n",
       "      <td>1924</td>\n",
       "      <td>379</td>\n",
       "      <td>98</td>\n",
       "      <td>1924</td>\n",
       "      <td>94</td>\n",
       "      <td>1</td>\n",
       "    </tr>\n",
       "    <tr>\n",
       "      <th>331283</th>\n",
       "      <td>Normal</td>\n",
       "      <td>Normal/1924/379/0027.png</td>\n",
       "      <td>1924</td>\n",
       "      <td>379</td>\n",
       "      <td>98</td>\n",
       "      <td>1924</td>\n",
       "      <td>95</td>\n",
       "      <td>1</td>\n",
       "    </tr>\n",
       "    <tr>\n",
       "      <th>331284</th>\n",
       "      <td>Normal</td>\n",
       "      <td>Normal/1924/379/0031.png</td>\n",
       "      <td>1924</td>\n",
       "      <td>379</td>\n",
       "      <td>98</td>\n",
       "      <td>1924</td>\n",
       "      <td>96</td>\n",
       "      <td>1</td>\n",
       "    </tr>\n",
       "    <tr>\n",
       "      <th>331285</th>\n",
       "      <td>Normal</td>\n",
       "      <td>Normal/1924/379/0057.png</td>\n",
       "      <td>1924</td>\n",
       "      <td>379</td>\n",
       "      <td>98</td>\n",
       "      <td>1924</td>\n",
       "      <td>97</td>\n",
       "      <td>1</td>\n",
       "    </tr>\n",
       "  </tbody>\n",
       "</table>\n",
       "<p>331286 rows × 8 columns</p>\n",
       "</div>"
      ],
      "text/plain": [
       "         label                      file  patient_id  scan_id  n_slice  \\\n",
       "0           CP        CP/0/3131/0275.png           0     3131      285   \n",
       "1           CP        CP/0/3131/0064.png           0     3131      285   \n",
       "2           CP        CP/0/3131/0083.png           0     3131      285   \n",
       "3           CP        CP/0/3131/0160.png           0     3131      285   \n",
       "4           CP        CP/0/3131/0127.png           0     3131      285   \n",
       "...        ...                       ...         ...      ...      ...   \n",
       "331281  Normal  Normal/1924/379/0014.png        1924      379       98   \n",
       "331282  Normal  Normal/1924/379/0001.png        1924      379       98   \n",
       "331283  Normal  Normal/1924/379/0027.png        1924      379       98   \n",
       "331284  Normal  Normal/1924/379/0031.png        1924      379       98   \n",
       "331285  Normal  Normal/1924/379/0057.png        1924      379       98   \n",
       "\n",
       "        num_clips  seq_num  clip_num  \n",
       "0               0        0         0  \n",
       "1               0        1         0  \n",
       "2               0        2         0  \n",
       "3               0        3         0  \n",
       "4               0        4         0  \n",
       "...           ...      ...       ...  \n",
       "331281       1924       93         1  \n",
       "331282       1924       94         1  \n",
       "331283       1924       95         1  \n",
       "331284       1924       96         1  \n",
       "331285       1924       97         1  \n",
       "\n",
       "[331286 rows x 8 columns]"
      ]
     },
     "execution_count": 21,
     "metadata": {},
     "output_type": "execute_result"
    }
   ],
   "source": [
    "train_df = create_df(config, train_labels)\n",
    "print(f\"{train_df.shape}\")\n",
    "train_df"
   ]
  },
  {
   "cell_type": "code",
   "execution_count": 26,
   "metadata": {},
   "outputs": [
    {
     "data": {
      "text/plain": [
       "True"
      ]
     },
     "execution_count": 26,
     "metadata": {},
     "output_type": "execute_result"
    }
   ],
   "source": [
    "repo.save(\"train_df\", train_df)"
   ]
  },
  {
   "cell_type": "code",
   "execution_count": 27,
   "metadata": {},
   "outputs": [
    {
     "name": "stdout",
     "output_type": "stream",
     "text": [
      "(39828, 8)\n"
     ]
    },
    {
     "data": {
      "text/html": [
       "<div>\n",
       "<style scoped>\n",
       "    .dataframe tbody tr th:only-of-type {\n",
       "        vertical-align: middle;\n",
       "    }\n",
       "\n",
       "    .dataframe tbody tr th {\n",
       "        vertical-align: top;\n",
       "    }\n",
       "\n",
       "    .dataframe thead th {\n",
       "        text-align: right;\n",
       "    }\n",
       "</style>\n",
       "<table border=\"1\" class=\"dataframe\">\n",
       "  <thead>\n",
       "    <tr style=\"text-align: right;\">\n",
       "      <th></th>\n",
       "      <th>label</th>\n",
       "      <th>file</th>\n",
       "      <th>patient_id</th>\n",
       "      <th>scan_id</th>\n",
       "      <th>n_slice</th>\n",
       "      <th>num_clips</th>\n",
       "      <th>seq_num</th>\n",
       "      <th>clip_num</th>\n",
       "    </tr>\n",
       "  </thead>\n",
       "  <tbody>\n",
       "    <tr>\n",
       "      <th>0</th>\n",
       "      <td>CP</td>\n",
       "      <td>CP/1075/3118/0543.jpg</td>\n",
       "      <td>1075</td>\n",
       "      <td>3118</td>\n",
       "      <td>553</td>\n",
       "      <td>1075</td>\n",
       "      <td>0</td>\n",
       "      <td>0</td>\n",
       "    </tr>\n",
       "    <tr>\n",
       "      <th>1</th>\n",
       "      <td>CP</td>\n",
       "      <td>CP/1075/3118/0174.jpg</td>\n",
       "      <td>1075</td>\n",
       "      <td>3118</td>\n",
       "      <td>553</td>\n",
       "      <td>1075</td>\n",
       "      <td>1</td>\n",
       "      <td>0</td>\n",
       "    </tr>\n",
       "    <tr>\n",
       "      <th>2</th>\n",
       "      <td>CP</td>\n",
       "      <td>CP/1075/3118/0130.jpg</td>\n",
       "      <td>1075</td>\n",
       "      <td>3118</td>\n",
       "      <td>553</td>\n",
       "      <td>1075</td>\n",
       "      <td>2</td>\n",
       "      <td>0</td>\n",
       "    </tr>\n",
       "    <tr>\n",
       "      <th>3</th>\n",
       "      <td>CP</td>\n",
       "      <td>CP/1075/3118/0525.jpg</td>\n",
       "      <td>1075</td>\n",
       "      <td>3118</td>\n",
       "      <td>553</td>\n",
       "      <td>1075</td>\n",
       "      <td>3</td>\n",
       "      <td>0</td>\n",
       "    </tr>\n",
       "    <tr>\n",
       "      <th>4</th>\n",
       "      <td>CP</td>\n",
       "      <td>CP/1075/3118/0152.jpg</td>\n",
       "      <td>1075</td>\n",
       "      <td>3118</td>\n",
       "      <td>553</td>\n",
       "      <td>1075</td>\n",
       "      <td>4</td>\n",
       "      <td>0</td>\n",
       "    </tr>\n",
       "    <tr>\n",
       "      <th>...</th>\n",
       "      <td>...</td>\n",
       "      <td>...</td>\n",
       "      <td>...</td>\n",
       "      <td>...</td>\n",
       "      <td>...</td>\n",
       "      <td>...</td>\n",
       "      <td>...</td>\n",
       "      <td>...</td>\n",
       "    </tr>\n",
       "    <tr>\n",
       "      <th>39823</th>\n",
       "      <td>Normal</td>\n",
       "      <td>Normal/1920/375/0014.png</td>\n",
       "      <td>1920</td>\n",
       "      <td>375</td>\n",
       "      <td>100</td>\n",
       "      <td>1920</td>\n",
       "      <td>95</td>\n",
       "      <td>1</td>\n",
       "    </tr>\n",
       "    <tr>\n",
       "      <th>39824</th>\n",
       "      <td>Normal</td>\n",
       "      <td>Normal/1920/375/0001.png</td>\n",
       "      <td>1920</td>\n",
       "      <td>375</td>\n",
       "      <td>100</td>\n",
       "      <td>1920</td>\n",
       "      <td>96</td>\n",
       "      <td>1</td>\n",
       "    </tr>\n",
       "    <tr>\n",
       "      <th>39825</th>\n",
       "      <td>Normal</td>\n",
       "      <td>Normal/1920/375/0027.png</td>\n",
       "      <td>1920</td>\n",
       "      <td>375</td>\n",
       "      <td>100</td>\n",
       "      <td>1920</td>\n",
       "      <td>97</td>\n",
       "      <td>1</td>\n",
       "    </tr>\n",
       "    <tr>\n",
       "      <th>39826</th>\n",
       "      <td>Normal</td>\n",
       "      <td>Normal/1920/375/0031.png</td>\n",
       "      <td>1920</td>\n",
       "      <td>375</td>\n",
       "      <td>100</td>\n",
       "      <td>1920</td>\n",
       "      <td>98</td>\n",
       "      <td>1</td>\n",
       "    </tr>\n",
       "    <tr>\n",
       "      <th>39827</th>\n",
       "      <td>Normal</td>\n",
       "      <td>Normal/1920/375/0057.png</td>\n",
       "      <td>1920</td>\n",
       "      <td>375</td>\n",
       "      <td>100</td>\n",
       "      <td>1920</td>\n",
       "      <td>99</td>\n",
       "      <td>1</td>\n",
       "    </tr>\n",
       "  </tbody>\n",
       "</table>\n",
       "<p>39828 rows × 8 columns</p>\n",
       "</div>"
      ],
      "text/plain": [
       "        label                      file  patient_id  scan_id  n_slice  \\\n",
       "0          CP     CP/1075/3118/0543.jpg        1075     3118      553   \n",
       "1          CP     CP/1075/3118/0174.jpg        1075     3118      553   \n",
       "2          CP     CP/1075/3118/0130.jpg        1075     3118      553   \n",
       "3          CP     CP/1075/3118/0525.jpg        1075     3118      553   \n",
       "4          CP     CP/1075/3118/0152.jpg        1075     3118      553   \n",
       "...       ...                       ...         ...      ...      ...   \n",
       "39823  Normal  Normal/1920/375/0014.png        1920      375      100   \n",
       "39824  Normal  Normal/1920/375/0001.png        1920      375      100   \n",
       "39825  Normal  Normal/1920/375/0027.png        1920      375      100   \n",
       "39826  Normal  Normal/1920/375/0031.png        1920      375      100   \n",
       "39827  Normal  Normal/1920/375/0057.png        1920      375      100   \n",
       "\n",
       "       num_clips  seq_num  clip_num  \n",
       "0           1075        0         0  \n",
       "1           1075        1         0  \n",
       "2           1075        2         0  \n",
       "3           1075        3         0  \n",
       "4           1075        4         0  \n",
       "...          ...      ...       ...  \n",
       "39823       1920       95         1  \n",
       "39824       1920       96         1  \n",
       "39825       1920       97         1  \n",
       "39826       1920       98         1  \n",
       "39827       1920       99         1  \n",
       "\n",
       "[39828 rows x 8 columns]"
      ]
     },
     "execution_count": 27,
     "metadata": {},
     "output_type": "execute_result"
    }
   ],
   "source": [
    "val_df = create_df(config, val_labels)\n",
    "print(f\"{val_df.shape}\")\n",
    "val_df"
   ]
  },
  {
   "cell_type": "code",
   "execution_count": 28,
   "metadata": {},
   "outputs": [
    {
     "data": {
      "text/plain": [
       "True"
      ]
     },
     "execution_count": 28,
     "metadata": {},
     "output_type": "execute_result"
    }
   ],
   "source": [
    "repo.save(\"val_df\", val_df)"
   ]
  },
  {
   "cell_type": "code",
   "execution_count": 29,
   "metadata": {},
   "outputs": [
    {
     "name": "stdout",
     "output_type": "stream",
     "text": [
      "(40415, 8)\n"
     ]
    },
    {
     "data": {
      "text/html": [
       "<div>\n",
       "<style scoped>\n",
       "    .dataframe tbody tr th:only-of-type {\n",
       "        vertical-align: middle;\n",
       "    }\n",
       "\n",
       "    .dataframe tbody tr th {\n",
       "        vertical-align: top;\n",
       "    }\n",
       "\n",
       "    .dataframe thead th {\n",
       "        text-align: right;\n",
       "    }\n",
       "</style>\n",
       "<table border=\"1\" class=\"dataframe\">\n",
       "  <thead>\n",
       "    <tr style=\"text-align: right;\">\n",
       "      <th></th>\n",
       "      <th>label</th>\n",
       "      <th>file</th>\n",
       "      <th>patient_id</th>\n",
       "      <th>scan_id</th>\n",
       "      <th>n_slice</th>\n",
       "      <th>num_clips</th>\n",
       "      <th>seq_num</th>\n",
       "      <th>clip_num</th>\n",
       "    </tr>\n",
       "  </thead>\n",
       "  <tbody>\n",
       "    <tr>\n",
       "      <th>0</th>\n",
       "      <td>CP</td>\n",
       "      <td>CP/1/3143/0275.png</td>\n",
       "      <td>1</td>\n",
       "      <td>3143</td>\n",
       "      <td>300</td>\n",
       "      <td>1</td>\n",
       "      <td>0</td>\n",
       "      <td>0</td>\n",
       "    </tr>\n",
       "    <tr>\n",
       "      <th>1</th>\n",
       "      <td>CP</td>\n",
       "      <td>CP/1/3143/0064.png</td>\n",
       "      <td>1</td>\n",
       "      <td>3143</td>\n",
       "      <td>300</td>\n",
       "      <td>1</td>\n",
       "      <td>1</td>\n",
       "      <td>0</td>\n",
       "    </tr>\n",
       "    <tr>\n",
       "      <th>2</th>\n",
       "      <td>CP</td>\n",
       "      <td>CP/1/3143/0083.png</td>\n",
       "      <td>1</td>\n",
       "      <td>3143</td>\n",
       "      <td>300</td>\n",
       "      <td>1</td>\n",
       "      <td>2</td>\n",
       "      <td>0</td>\n",
       "    </tr>\n",
       "    <tr>\n",
       "      <th>3</th>\n",
       "      <td>CP</td>\n",
       "      <td>CP/1/3143/0160.png</td>\n",
       "      <td>1</td>\n",
       "      <td>3143</td>\n",
       "      <td>300</td>\n",
       "      <td>1</td>\n",
       "      <td>3</td>\n",
       "      <td>0</td>\n",
       "    </tr>\n",
       "    <tr>\n",
       "      <th>4</th>\n",
       "      <td>CP</td>\n",
       "      <td>CP/1/3143/0286.png</td>\n",
       "      <td>1</td>\n",
       "      <td>3143</td>\n",
       "      <td>300</td>\n",
       "      <td>1</td>\n",
       "      <td>4</td>\n",
       "      <td>0</td>\n",
       "    </tr>\n",
       "    <tr>\n",
       "      <th>...</th>\n",
       "      <td>...</td>\n",
       "      <td>...</td>\n",
       "      <td>...</td>\n",
       "      <td>...</td>\n",
       "      <td>...</td>\n",
       "      <td>...</td>\n",
       "      <td>...</td>\n",
       "      <td>...</td>\n",
       "    </tr>\n",
       "    <tr>\n",
       "      <th>40410</th>\n",
       "      <td>Normal</td>\n",
       "      <td>Normal/1917/372/0014.png</td>\n",
       "      <td>1917</td>\n",
       "      <td>372</td>\n",
       "      <td>96</td>\n",
       "      <td>1917</td>\n",
       "      <td>91</td>\n",
       "      <td>1</td>\n",
       "    </tr>\n",
       "    <tr>\n",
       "      <th>40411</th>\n",
       "      <td>Normal</td>\n",
       "      <td>Normal/1917/372/0001.png</td>\n",
       "      <td>1917</td>\n",
       "      <td>372</td>\n",
       "      <td>96</td>\n",
       "      <td>1917</td>\n",
       "      <td>92</td>\n",
       "      <td>1</td>\n",
       "    </tr>\n",
       "    <tr>\n",
       "      <th>40412</th>\n",
       "      <td>Normal</td>\n",
       "      <td>Normal/1917/372/0027.png</td>\n",
       "      <td>1917</td>\n",
       "      <td>372</td>\n",
       "      <td>96</td>\n",
       "      <td>1917</td>\n",
       "      <td>93</td>\n",
       "      <td>1</td>\n",
       "    </tr>\n",
       "    <tr>\n",
       "      <th>40413</th>\n",
       "      <td>Normal</td>\n",
       "      <td>Normal/1917/372/0031.png</td>\n",
       "      <td>1917</td>\n",
       "      <td>372</td>\n",
       "      <td>96</td>\n",
       "      <td>1917</td>\n",
       "      <td>94</td>\n",
       "      <td>1</td>\n",
       "    </tr>\n",
       "    <tr>\n",
       "      <th>40414</th>\n",
       "      <td>Normal</td>\n",
       "      <td>Normal/1917/372/0057.png</td>\n",
       "      <td>1917</td>\n",
       "      <td>372</td>\n",
       "      <td>96</td>\n",
       "      <td>1917</td>\n",
       "      <td>95</td>\n",
       "      <td>1</td>\n",
       "    </tr>\n",
       "  </tbody>\n",
       "</table>\n",
       "<p>40415 rows × 8 columns</p>\n",
       "</div>"
      ],
      "text/plain": [
       "        label                      file  patient_id  scan_id  n_slice  \\\n",
       "0          CP        CP/1/3143/0275.png           1     3143      300   \n",
       "1          CP        CP/1/3143/0064.png           1     3143      300   \n",
       "2          CP        CP/1/3143/0083.png           1     3143      300   \n",
       "3          CP        CP/1/3143/0160.png           1     3143      300   \n",
       "4          CP        CP/1/3143/0286.png           1     3143      300   \n",
       "...       ...                       ...         ...      ...      ...   \n",
       "40410  Normal  Normal/1917/372/0014.png        1917      372       96   \n",
       "40411  Normal  Normal/1917/372/0001.png        1917      372       96   \n",
       "40412  Normal  Normal/1917/372/0027.png        1917      372       96   \n",
       "40413  Normal  Normal/1917/372/0031.png        1917      372       96   \n",
       "40414  Normal  Normal/1917/372/0057.png        1917      372       96   \n",
       "\n",
       "       num_clips  seq_num  clip_num  \n",
       "0              1        0         0  \n",
       "1              1        1         0  \n",
       "2              1        2         0  \n",
       "3              1        3         0  \n",
       "4              1        4         0  \n",
       "...          ...      ...       ...  \n",
       "40410       1917       91         1  \n",
       "40411       1917       92         1  \n",
       "40412       1917       93         1  \n",
       "40413       1917       94         1  \n",
       "40414       1917       95         1  \n",
       "\n",
       "[40415 rows x 8 columns]"
      ]
     },
     "execution_count": 29,
     "metadata": {},
     "output_type": "execute_result"
    }
   ],
   "source": [
    "test_df = create_df(config, test_labels)\n",
    "print(f\"{test_df.shape}\")\n",
    "test_df"
   ]
  },
  {
   "cell_type": "code",
   "execution_count": 30,
   "metadata": {},
   "outputs": [
    {
     "data": {
      "text/plain": [
       "True"
      ]
     },
     "execution_count": 30,
     "metadata": {},
     "output_type": "execute_result"
    }
   ],
   "source": [
    "repo.save(\"test_df\", test_df)"
   ]
  },
  {
   "cell_type": "markdown",
   "metadata": {},
   "source": [
    "# Data Generators"
   ]
  },
  {
   "cell_type": "code",
   "execution_count": 9,
   "metadata": {},
   "outputs": [
    {
     "data": {
      "text/html": [
       "<div>\n",
       "<style scoped>\n",
       "    .dataframe tbody tr th:only-of-type {\n",
       "        vertical-align: middle;\n",
       "    }\n",
       "\n",
       "    .dataframe tbody tr th {\n",
       "        vertical-align: top;\n",
       "    }\n",
       "\n",
       "    .dataframe thead th {\n",
       "        text-align: right;\n",
       "    }\n",
       "</style>\n",
       "<table border=\"1\" class=\"dataframe\">\n",
       "  <thead>\n",
       "    <tr style=\"text-align: right;\">\n",
       "      <th></th>\n",
       "      <th>label</th>\n",
       "      <th>file</th>\n",
       "      <th>patient_id</th>\n",
       "      <th>scan_id</th>\n",
       "      <th>n_slice</th>\n",
       "      <th>num_clips</th>\n",
       "      <th>seq_num</th>\n",
       "      <th>clip_num</th>\n",
       "    </tr>\n",
       "  </thead>\n",
       "  <tbody>\n",
       "    <tr>\n",
       "      <th>0</th>\n",
       "      <td>CP</td>\n",
       "      <td>CP/0/3131/0275.png</td>\n",
       "      <td>0</td>\n",
       "      <td>3131</td>\n",
       "      <td>285</td>\n",
       "      <td>0</td>\n",
       "      <td>0</td>\n",
       "      <td>0</td>\n",
       "    </tr>\n",
       "    <tr>\n",
       "      <th>1</th>\n",
       "      <td>CP</td>\n",
       "      <td>CP/0/3131/0064.png</td>\n",
       "      <td>0</td>\n",
       "      <td>3131</td>\n",
       "      <td>285</td>\n",
       "      <td>0</td>\n",
       "      <td>1</td>\n",
       "      <td>0</td>\n",
       "    </tr>\n",
       "    <tr>\n",
       "      <th>2</th>\n",
       "      <td>CP</td>\n",
       "      <td>CP/0/3131/0083.png</td>\n",
       "      <td>0</td>\n",
       "      <td>3131</td>\n",
       "      <td>285</td>\n",
       "      <td>0</td>\n",
       "      <td>2</td>\n",
       "      <td>0</td>\n",
       "    </tr>\n",
       "    <tr>\n",
       "      <th>3</th>\n",
       "      <td>CP</td>\n",
       "      <td>CP/0/3131/0160.png</td>\n",
       "      <td>0</td>\n",
       "      <td>3131</td>\n",
       "      <td>285</td>\n",
       "      <td>0</td>\n",
       "      <td>3</td>\n",
       "      <td>0</td>\n",
       "    </tr>\n",
       "    <tr>\n",
       "      <th>4</th>\n",
       "      <td>CP</td>\n",
       "      <td>CP/0/3131/0127.png</td>\n",
       "      <td>0</td>\n",
       "      <td>3131</td>\n",
       "      <td>285</td>\n",
       "      <td>0</td>\n",
       "      <td>4</td>\n",
       "      <td>0</td>\n",
       "    </tr>\n",
       "  </tbody>\n",
       "</table>\n",
       "</div>"
      ],
      "text/plain": [
       "  label                file  patient_id  scan_id  n_slice  num_clips  seq_num  \\\n",
       "0    CP  CP/0/3131/0275.png           0     3131      285          0        0   \n",
       "1    CP  CP/0/3131/0064.png           0     3131      285          0        1   \n",
       "2    CP  CP/0/3131/0083.png           0     3131      285          0        2   \n",
       "3    CP  CP/0/3131/0160.png           0     3131      285          0        3   \n",
       "4    CP  CP/0/3131/0127.png           0     3131      285          0        4   \n",
       "\n",
       "   clip_num  \n",
       "0         0  \n",
       "1         0  \n",
       "2         0  \n",
       "3         0  \n",
       "4         0  "
      ]
     },
     "execution_count": 9,
     "metadata": {},
     "output_type": "execute_result"
    }
   ],
   "source": [
    "train_df = repo.load(\"train_df\")\n",
    "train_df.head(5)"
   ]
  },
  {
   "cell_type": "code",
   "execution_count": 10,
   "metadata": {},
   "outputs": [
    {
     "data": {
      "text/html": [
       "<div>\n",
       "<style scoped>\n",
       "    .dataframe tbody tr th:only-of-type {\n",
       "        vertical-align: middle;\n",
       "    }\n",
       "\n",
       "    .dataframe tbody tr th {\n",
       "        vertical-align: top;\n",
       "    }\n",
       "\n",
       "    .dataframe thead th {\n",
       "        text-align: right;\n",
       "    }\n",
       "</style>\n",
       "<table border=\"1\" class=\"dataframe\">\n",
       "  <thead>\n",
       "    <tr style=\"text-align: right;\">\n",
       "      <th></th>\n",
       "      <th>label</th>\n",
       "      <th>file</th>\n",
       "      <th>patient_id</th>\n",
       "      <th>scan_id</th>\n",
       "      <th>n_slice</th>\n",
       "      <th>num_clips</th>\n",
       "      <th>seq_num</th>\n",
       "      <th>clip_num</th>\n",
       "    </tr>\n",
       "  </thead>\n",
       "  <tbody>\n",
       "    <tr>\n",
       "      <th>0</th>\n",
       "      <td>CP</td>\n",
       "      <td>CP/1075/3118/0543.jpg</td>\n",
       "      <td>1075</td>\n",
       "      <td>3118</td>\n",
       "      <td>553</td>\n",
       "      <td>1075</td>\n",
       "      <td>0</td>\n",
       "      <td>0</td>\n",
       "    </tr>\n",
       "    <tr>\n",
       "      <th>1</th>\n",
       "      <td>CP</td>\n",
       "      <td>CP/1075/3118/0174.jpg</td>\n",
       "      <td>1075</td>\n",
       "      <td>3118</td>\n",
       "      <td>553</td>\n",
       "      <td>1075</td>\n",
       "      <td>1</td>\n",
       "      <td>0</td>\n",
       "    </tr>\n",
       "    <tr>\n",
       "      <th>2</th>\n",
       "      <td>CP</td>\n",
       "      <td>CP/1075/3118/0130.jpg</td>\n",
       "      <td>1075</td>\n",
       "      <td>3118</td>\n",
       "      <td>553</td>\n",
       "      <td>1075</td>\n",
       "      <td>2</td>\n",
       "      <td>0</td>\n",
       "    </tr>\n",
       "    <tr>\n",
       "      <th>3</th>\n",
       "      <td>CP</td>\n",
       "      <td>CP/1075/3118/0525.jpg</td>\n",
       "      <td>1075</td>\n",
       "      <td>3118</td>\n",
       "      <td>553</td>\n",
       "      <td>1075</td>\n",
       "      <td>3</td>\n",
       "      <td>0</td>\n",
       "    </tr>\n",
       "    <tr>\n",
       "      <th>4</th>\n",
       "      <td>CP</td>\n",
       "      <td>CP/1075/3118/0152.jpg</td>\n",
       "      <td>1075</td>\n",
       "      <td>3118</td>\n",
       "      <td>553</td>\n",
       "      <td>1075</td>\n",
       "      <td>4</td>\n",
       "      <td>0</td>\n",
       "    </tr>\n",
       "  </tbody>\n",
       "</table>\n",
       "</div>"
      ],
      "text/plain": [
       "  label                   file  patient_id  scan_id  n_slice  num_clips  \\\n",
       "0    CP  CP/1075/3118/0543.jpg        1075     3118      553       1075   \n",
       "1    CP  CP/1075/3118/0174.jpg        1075     3118      553       1075   \n",
       "2    CP  CP/1075/3118/0130.jpg        1075     3118      553       1075   \n",
       "3    CP  CP/1075/3118/0525.jpg        1075     3118      553       1075   \n",
       "4    CP  CP/1075/3118/0152.jpg        1075     3118      553       1075   \n",
       "\n",
       "   seq_num  clip_num  \n",
       "0        0         0  \n",
       "1        1         0  \n",
       "2        2         0  \n",
       "3        3         0  \n",
       "4        4         0  "
      ]
     },
     "execution_count": 10,
     "metadata": {},
     "output_type": "execute_result"
    }
   ],
   "source": [
    "val_df = repo.load(\"val_df\")\n",
    "val_df.head(5)"
   ]
  },
  {
   "cell_type": "code",
   "execution_count": 34,
   "metadata": {},
   "outputs": [
    {
     "data": {
      "application/vnd.jupyter.widget-view+json": {
       "model_id": "9c51630100294bdab057f79882116850",
       "version_major": 2,
       "version_minor": 0
      },
      "text/plain": [
       "HBox(children=(HTML(value=''), FloatProgress(value=1.0, bar_style='info', layout=Layout(width='20px'), max=1.0…"
      ]
     },
     "metadata": {},
     "output_type": "display_data"
    },
    {
     "name": "stdout",
     "output_type": "stream",
     "text": [
      "\n"
     ]
    },
    {
     "data": {
      "text/plain": [
       "{(512, 512), (768, 768), (1024, 1024), (1168, 1168)}"
      ]
     },
     "execution_count": 34,
     "metadata": {},
     "output_type": "execute_result"
    }
   ],
   "source": [
    "from tqdm.notebook import tqdm\n",
    "from tensorflow.keras.preprocessing.image import load_img\n",
    "\n",
    "img_sizes = set()\n",
    "\n",
    "for r in tqdm(train_df.drop_duplicates([\"patient_id\", \"scan_id\"]).iterrows()):\n",
    "    img_path = images_input_dir / r[1][\"file\"]\n",
    "    img_sizes.add(load_img(img_path).size)\n",
    "\n",
    "img_sizes"
   ]
  },
  {
   "cell_type": "code",
   "execution_count": 35,
   "metadata": {},
   "outputs": [
    {
     "data": {
      "application/vnd.jupyter.widget-view+json": {
       "model_id": "796027e9697d438d936c95655f92494f",
       "version_major": 2,
       "version_minor": 0
      },
      "text/plain": [
       "HBox(children=(HTML(value=''), FloatProgress(value=1.0, bar_style='info', layout=Layout(width='20px'), max=1.0…"
      ]
     },
     "metadata": {},
     "output_type": "display_data"
    },
    {
     "name": "stdout",
     "output_type": "stream",
     "text": [
      "\n"
     ]
    },
    {
     "data": {
      "text/plain": [
       "{(512, 512)}"
      ]
     },
     "execution_count": 35,
     "metadata": {},
     "output_type": "execute_result"
    }
   ],
   "source": [
    "val_img_sizes = set()\n",
    "\n",
    "for r in tqdm(val_df.drop_duplicates([\"patient_id\", \"scan_id\"]).iterrows()):\n",
    "    img_path = images_input_dir / r[1][\"file\"]\n",
    "    val_img_sizes.add(load_img(img_path).size)\n",
    "\n",
    "val_img_sizes"
   ]
  },
  {
   "cell_type": "code",
   "execution_count": 309,
   "metadata": {},
   "outputs": [],
   "source": [
    "train_datagen = ImageDataGenerator(\n",
    "    rescale=1./255.,\n",
    "    rotation_range=180,\n",
    ")\n",
    "test_datagen = ImageDataGenerator(\n",
    "    rescale=1./255.,\n",
    ")"
   ]
  },
  {
   "cell_type": "code",
   "execution_count": 310,
   "metadata": {},
   "outputs": [
    {
     "name": "stdout",
     "output_type": "stream",
     "text": [
      "Found 331286 validated image filenames belonging to 3 classes.\n",
      "Found 39828 validated image filenames belonging to 3 classes.\n"
     ]
    }
   ],
   "source": [
    "from keras_preprocessing.image import ImageDataGenerator\n",
    "\n",
    "img_size = 128\n",
    "image_target_size = (img_size, img_size)\n",
    "seed = config.get_int(\"tfg.seed\")\n",
    "val_fraction = config.get_float(\"tfg.training.val_fraction\")\n",
    "# train_datagen = ImageDataGenerator(rescale=1./255.)\n",
    "# val_datagen = ImageDataGenerator(rescale=1./255.)\n",
    "batch_size = config.get_int(\"tfg.training.batch_size\")\n",
    "\n",
    "train_generator = train_datagen.flow_from_dataframe(\n",
    "    dataframe=train_df,\n",
    "    directory=str(images_input_dir),\n",
    "    x_col=\"file\",\n",
    "    y_col=\"label\",\n",
    "    subset=\"training\",\n",
    "    batch_size=batch_size,\n",
    "    seed=seed,\n",
    "    shuffle=True,\n",
    "    class_mode=\"categorical\",\n",
    "    target_size=image_target_size)\n",
    "\n",
    "valid_generator = test_datagen.flow_from_dataframe(\n",
    "    dataframe=val_df,\n",
    "    directory=str(images_input_dir),\n",
    "    x_col=\"file\",\n",
    "    y_col=\"label\",\n",
    "    batch_size=batch_size,\n",
    "    seed=seed,\n",
    "    shuffle=True,\n",
    "    class_mode=\"categorical\",\n",
    "    target_size=image_target_size)"
   ]
  },
  {
   "cell_type": "markdown",
   "metadata": {},
   "source": [
    "# Create model"
   ]
  },
  {
   "cell_type": "code",
   "execution_count": 299,
   "metadata": {},
   "outputs": [
    {
     "data": {
      "text/plain": [
       "[PhysicalDevice(name='/physical_device:GPU:0', device_type='GPU')]"
      ]
     },
     "execution_count": 299,
     "metadata": {},
     "output_type": "execute_result"
    }
   ],
   "source": [
    "import tensorflow as tf\n",
    "\n",
    "tf.config.list_physical_devices(\"GPU\")"
   ]
  },
  {
   "cell_type": "code",
   "execution_count": 311,
   "metadata": {},
   "outputs": [],
   "source": [
    "from tensorflow import keras\n",
    "from tensorflow.keras import layers\n",
    "from tensorflow.keras import regularizers as reg\n",
    "from tensorflow.keras import callbacks"
   ]
  },
  {
   "cell_type": "code",
   "execution_count": 312,
   "metadata": {},
   "outputs": [],
   "source": [
    "input_images = keras.Input(shape=(img_size, img_size, 3), name=\"input_images\")"
   ]
  },
  {
   "cell_type": "code",
   "execution_count": 313,
   "metadata": {},
   "outputs": [],
   "source": [
    "filters = 6\n",
    "initial_dense_features = 64\n",
    "num_features = 32\n",
    "num_classes = 3\n",
    "num_layers = 0\n",
    "cnn_net = input_images\n",
    "\n",
    "cnn_net = layers.Conv2D(filters=filters, kernel_size=3, padding=\"same\", activation=\"relu\", name=f\"conv2d_{num_layers+1:02d}\")(cnn_net)\n",
    "cnn_net = layers.MaxPool2D(2, name=f\"maxpool2d_{num_layers+1:02d}\")(cnn_net)\n",
    "filters = filters * 2\n",
    "num_layers = num_layers + 1\n",
    "\n",
    "cnn_net = layers.Conv2D(filters=filters, kernel_size=3, padding=\"same\", activation=\"relu\", name=f\"conv2d_{num_layers+1:02d}\")(cnn_net)\n",
    "cnn_net = layers.MaxPool2D(2, name=f\"maxpool2d_{num_layers+1:02d}\")(cnn_net)\n",
    "filters = filters * 2\n",
    "num_layers = num_layers + 1\n",
    "\n",
    "cnn_net = layers.Conv2D(filters=filters, kernel_size=3, padding=\"same\", activation=\"relu\", name=f\"conv2d_{num_layers+1:02d}\")(cnn_net)\n",
    "cnn_net = layers.MaxPool2D(2, name=f\"maxpool2d_{num_layers+1:02d}\")(cnn_net)\n",
    "filters = filters * 2\n",
    "num_layers = num_layers + 1\n",
    "\n",
    "cnn_net = layers.Conv2D(filters=filters, kernel_size=3, padding=\"same\", activation=\"relu\", name=f\"conv2d_{num_layers+1:02d}\")(cnn_net)\n",
    "cnn_net = layers.MaxPool2D(2, name=f\"maxpool2d_{num_layers+1:02d}\")(cnn_net)\n",
    "filters = filters * 2\n",
    "num_layers = num_layers + 1\n",
    "\n",
    "cnn_net = layers.Conv2D(filters=filters, kernel_size=3, padding=\"same\", activation=\"relu\", name=f\"conv2d_{num_layers+1:02d}\", kernel_regularizer=reg.l2(l=0.01))(cnn_net)\n",
    "cnn_net = layers.MaxPool2D(2, name=f\"maxpool2d_{num_layers+1:02d}\")(cnn_net)\n",
    "filters = filters * 2\n",
    "num_layers = num_layers + 1\n",
    "\n",
    "cnn_net = layers.Conv2D(filters=filters, kernel_size=3, padding=\"same\", activation=\"relu\", name=f\"conv2d_{num_layers+1:02d}\", kernel_regularizer=reg.l2(l=0.01))(cnn_net)\n",
    "cnn_net = layers.Dropout(0.3, name=f\"dropout__{num_layers+1:02d}\")(cnn_net)\n",
    "cnn_net = layers.MaxPool2D(2, name=f\"maxpool2d_{num_layers+1:02d}\")(cnn_net)\n",
    "filters = filters * 2\n",
    "num_layers = num_layers + 1\n",
    "\n",
    "# cnn_net = layers.Conv2D(filters=filters, kernel_size=3, padding=\"same\", activation=\"relu\", name=f\"conv2d_{num_layers+1:02d}\", kernel_regularizer=reg.l2(l=0.01))(cnn_net)\n",
    "# cnn_net = layers.MaxPool2D(2, name=f\"maxpool2d_{num_layers+1:02d}\")(cnn_net)\n",
    "# num_layers = num_layers + 1\n",
    "\n",
    "cnn_net = layers.Flatten(name=f\"flatten\")(cnn_net)\n",
    "\n",
    "# cnn_net = layers.Dense(initial_dense_features, activation=\"relu\", name=\"dense_01\")(cnn_net)\n",
    "# cnn_net = layers.Dropout(0.2, name=\"dropout_01\")(cnn_net)\n",
    "\n",
    "cnn_net = layers.Dense(initial_dense_features, activation=\"relu\", name=\"dense_01\")(cnn_net)\n",
    "cnn_net = layers.Dropout(0.5, name=\"dropout_01\")(cnn_net)\n",
    "\n",
    "\n",
    "cnn_net = layers.Dense(num_features, activation=\"relu\", name=\"dense_02\")(cnn_net)\n",
    "cnn_net = layers.Dropout(0.5, name=\"dropout_02\")(cnn_net)\n",
    "\n",
    "output_layer = layers.Dense(num_classes, activation=\"softmax\", name=\"output\")\n",
    "outputs = output_layer(cnn_net)\n",
    "\n",
    "model = keras.Model(inputs=input_images, outputs=outputs, name=\"covid_classifier\")"
   ]
  },
  {
   "cell_type": "code",
   "execution_count": 314,
   "metadata": {},
   "outputs": [
    {
     "name": "stdout",
     "output_type": "stream",
     "text": [
      "Model: \"covid_classifier\"\n",
      "_________________________________________________________________\n",
      "Layer (type)                 Output Shape              Param #   \n",
      "=================================================================\n",
      "input_images (InputLayer)    [(None, 128, 128, 3)]     0         \n",
      "_________________________________________________________________\n",
      "conv2d_01 (Conv2D)           (None, 128, 128, 6)       168       \n",
      "_________________________________________________________________\n",
      "maxpool2d_01 (MaxPooling2D)  (None, 64, 64, 6)         0         \n",
      "_________________________________________________________________\n",
      "conv2d_02 (Conv2D)           (None, 64, 64, 12)        660       \n",
      "_________________________________________________________________\n",
      "maxpool2d_02 (MaxPooling2D)  (None, 32, 32, 12)        0         \n",
      "_________________________________________________________________\n",
      "conv2d_03 (Conv2D)           (None, 32, 32, 24)        2616      \n",
      "_________________________________________________________________\n",
      "maxpool2d_03 (MaxPooling2D)  (None, 16, 16, 24)        0         \n",
      "_________________________________________________________________\n",
      "conv2d_04 (Conv2D)           (None, 16, 16, 48)        10416     \n",
      "_________________________________________________________________\n",
      "maxpool2d_04 (MaxPooling2D)  (None, 8, 8, 48)          0         \n",
      "_________________________________________________________________\n",
      "conv2d_05 (Conv2D)           (None, 8, 8, 96)          41568     \n",
      "_________________________________________________________________\n",
      "maxpool2d_05 (MaxPooling2D)  (None, 4, 4, 96)          0         \n",
      "_________________________________________________________________\n",
      "conv2d_06 (Conv2D)           (None, 4, 4, 192)         166080    \n",
      "_________________________________________________________________\n",
      "dropout__06 (Dropout)        (None, 4, 4, 192)         0         \n",
      "_________________________________________________________________\n",
      "maxpool2d_06 (MaxPooling2D)  (None, 2, 2, 192)         0         \n",
      "_________________________________________________________________\n",
      "flatten (Flatten)            (None, 768)               0         \n",
      "_________________________________________________________________\n",
      "dense_01 (Dense)             (None, 64)                49216     \n",
      "_________________________________________________________________\n",
      "dropout_01 (Dropout)         (None, 64)                0         \n",
      "_________________________________________________________________\n",
      "dense_02 (Dense)             (None, 32)                2080      \n",
      "_________________________________________________________________\n",
      "dropout_02 (Dropout)         (None, 32)                0         \n",
      "_________________________________________________________________\n",
      "output (Dense)               (None, 3)                 99        \n",
      "=================================================================\n",
      "Total params: 272,903\n",
      "Trainable params: 272,903\n",
      "Non-trainable params: 0\n",
      "_________________________________________________________________\n"
     ]
    }
   ],
   "source": [
    "model.summary()"
   ]
  },
  {
   "cell_type": "code",
   "execution_count": 315,
   "metadata": {},
   "outputs": [],
   "source": [
    "model.compile(optimizer='adam',\n",
    "              loss=\"categorical_crossentropy\",\n",
    "              metrics=['categorical_accuracy'])"
   ]
  },
  {
   "cell_type": "code",
   "execution_count": 316,
   "metadata": {},
   "outputs": [
    {
     "data": {
      "text/plain": [
       "10352"
      ]
     },
     "execution_count": 316,
     "metadata": {},
     "output_type": "execute_result"
    }
   ],
   "source": [
    "train_generator.n // train_generator.batch_size"
   ]
  },
  {
   "cell_type": "code",
   "execution_count": 319,
   "metadata": {},
   "outputs": [
    {
     "name": "stdout",
     "output_type": "stream",
     "text": [
      "CNN Model dir: /home/albert/projects/tfg/models/cnn_05\n"
     ]
    }
   ],
   "source": [
    "num_models = 1\n",
    "cnn_model_suffix = f\"{num_models:02d}\"\n",
    "cnn_model_dir = models_dir / f\"cnn_{cnn_model_suffix}\"\n",
    "\n",
    "while cnn_model_dir.exists():\n",
    "    num_models += 1\n",
    "    cnn_model_suffix = f\"{num_models:02d}\"\n",
    "    cnn_model_dir = models_dir / f\"cnn_{cnn_model_suffix}\"\n",
    "\n",
    "print(f\"CNN Model dir: {cnn_model_dir}\")\n",
    "cnn_model_dir.mkdir(exist_ok=True)\n",
    "cnn_checkpoint_dir = cnn_model_dir / \"checkpoint\"\n",
    "cnn_checkpoint_dir.mkdir(exist_ok=True)\n",
    "\n",
    "cnn_logs_dir = logs_dir / f\"cnn_{cnn_model_suffix}\"\n",
    "cnn_logs_dir.mkdir()"
   ]
  },
  {
   "cell_type": "code",
   "execution_count": 320,
   "metadata": {},
   "outputs": [],
   "source": [
    "checkpointer = callbacks.ModelCheckpoint(\n",
    "    str(cnn_checkpoint_dir),\n",
    "    monitor=\"val_categorical_accuracy\",\n",
    "    verbose=1,\n",
    "    save_best_only=True,\n",
    "    save_weights_only=False,\n",
    "    mode=\"auto\",\n",
    "    save_freq=\"epoch\"\n",
    ")\n",
    "\n",
    "tensorboard_logger = callbacks.TensorBoard(\n",
    "    log_dir=str(cnn_logs_dir),\n",
    "    histogram_freq=1,\n",
    "    write_graph=False,\n",
    "    write_images=False,\n",
    "    update_freq='epoch',\n",
    "    profile_batch=2,\n",
    "    embeddings_freq=0,\n",
    "    embeddings_metadata=None\n",
    ")\n",
    "\n",
    "model_callbacks = [checkpointer, tensorboard_logger]\n",
    "#model_callbacks = [checkpointer]"
   ]
  },
  {
   "cell_type": "code",
   "execution_count": 321,
   "metadata": {},
   "outputs": [
    {
     "name": "stdout",
     "output_type": "stream",
     "text": [
      "Epoch 1/50\n",
      "2070/2070 [==============================] - ETA: 0s - loss: 0.7833 - categorical_accuracy: 0.6899\n",
      "Epoch 00001: val_categorical_accuracy improved from -inf to 0.78308, saving model to /home/albert/projects/tfg/models/cnn_05/checkpoint\n",
      "INFO:tensorflow:Assets written to: /home/albert/projects/tfg/models/cnn_05/checkpoint/assets\n",
      "2070/2070 [==============================] - 2138s 1s/step - loss: 0.7833 - categorical_accuracy: 0.6899 - val_loss: 0.5700 - val_categorical_accuracy: 0.7831\n",
      "Epoch 2/50\n",
      "2070/2070 [==============================] - ETA: 0s - loss: 0.5854 - categorical_accuracy: 0.7806\n",
      "Epoch 00002: val_categorical_accuracy improved from 0.78308 to 0.79549, saving model to /home/albert/projects/tfg/models/cnn_05/checkpoint\n",
      "INFO:tensorflow:Assets written to: /home/albert/projects/tfg/models/cnn_05/checkpoint/assets\n",
      "2070/2070 [==============================] - 1867s 902ms/step - loss: 0.5854 - categorical_accuracy: 0.7806 - val_loss: 0.5194 - val_categorical_accuracy: 0.7955\n",
      "Epoch 3/50\n",
      "2070/2070 [==============================] - ETA: 0s - loss: 0.5304 - categorical_accuracy: 0.7861\n",
      "Epoch 00003: val_categorical_accuracy improved from 0.79549 to 0.83194, saving model to /home/albert/projects/tfg/models/cnn_05/checkpoint\n",
      "INFO:tensorflow:Assets written to: /home/albert/projects/tfg/models/cnn_05/checkpoint/assets\n",
      "2070/2070 [==============================] - 1872s 904ms/step - loss: 0.5304 - categorical_accuracy: 0.7861 - val_loss: 0.4137 - val_categorical_accuracy: 0.8319\n",
      "Epoch 4/50\n",
      "2070/2070 [==============================] - ETA: 0s - loss: 0.4910 - categorical_accuracy: 0.8041\n",
      "Epoch 00004: val_categorical_accuracy improved from 0.83194 to 0.83204, saving model to /home/albert/projects/tfg/models/cnn_05/checkpoint\n",
      "INFO:tensorflow:Assets written to: /home/albert/projects/tfg/models/cnn_05/checkpoint/assets\n",
      "2070/2070 [==============================] - 1867s 902ms/step - loss: 0.4910 - categorical_accuracy: 0.8041 - val_loss: 0.4087 - val_categorical_accuracy: 0.8320\n",
      "Epoch 5/50\n",
      "2070/2070 [==============================] - ETA: 0s - loss: 0.4760 - categorical_accuracy: 0.8128\n",
      "Epoch 00005: val_categorical_accuracy improved from 0.83204 to 0.85701, saving model to /home/albert/projects/tfg/models/cnn_05/checkpoint\n",
      "INFO:tensorflow:Assets written to: /home/albert/projects/tfg/models/cnn_05/checkpoint/assets\n",
      "2070/2070 [==============================] - 1861s 899ms/step - loss: 0.4760 - categorical_accuracy: 0.8128 - val_loss: 0.3874 - val_categorical_accuracy: 0.8570\n",
      "Epoch 6/50\n",
      "2070/2070 [==============================] - ETA: 0s - loss: 0.4554 - categorical_accuracy: 0.8229\n",
      "Epoch 00006: val_categorical_accuracy improved from 0.85701 to 0.85915, saving model to /home/albert/projects/tfg/models/cnn_05/checkpoint\n",
      "INFO:tensorflow:Assets written to: /home/albert/projects/tfg/models/cnn_05/checkpoint/assets\n",
      "2070/2070 [==============================] - 1491s 720ms/step - loss: 0.4554 - categorical_accuracy: 0.8229 - val_loss: 0.3921 - val_categorical_accuracy: 0.8591\n",
      "Epoch 7/50\n",
      "2070/2070 [==============================] - ETA: 0s - loss: 0.4326 - categorical_accuracy: 0.8334\n",
      "Epoch 00007: val_categorical_accuracy improved from 0.85915 to 0.86051, saving model to /home/albert/projects/tfg/models/cnn_05/checkpoint\n",
      "INFO:tensorflow:Assets written to: /home/albert/projects/tfg/models/cnn_05/checkpoint/assets\n",
      "2070/2070 [==============================] - 1715s 828ms/step - loss: 0.4326 - categorical_accuracy: 0.8334 - val_loss: 0.3726 - val_categorical_accuracy: 0.8605\n",
      "Epoch 8/50\n",
      "2070/2070 [==============================] - ETA: 0s - loss: 0.4372 - categorical_accuracy: 0.8326\n",
      "Epoch 00008: val_categorical_accuracy did not improve from 0.86051\n",
      "2070/2070 [==============================] - 1771s 856ms/step - loss: 0.4372 - categorical_accuracy: 0.8326 - val_loss: 0.4122 - val_categorical_accuracy: 0.8549\n",
      "Epoch 9/50\n",
      "2070/2070 [==============================] - ETA: 0s - loss: 0.4261 - categorical_accuracy: 0.8394\n",
      "Epoch 00009: val_categorical_accuracy did not improve from 0.86051\n",
      "2070/2070 [==============================] - 1769s 854ms/step - loss: 0.4261 - categorical_accuracy: 0.8394 - val_loss: 0.3773 - val_categorical_accuracy: 0.8539\n",
      "Epoch 10/50\n",
      "2070/2070 [==============================] - ETA: 0s - loss: 0.4179 - categorical_accuracy: 0.8414\n",
      "Epoch 00010: val_categorical_accuracy improved from 0.86051 to 0.87070, saving model to /home/albert/projects/tfg/models/cnn_05/checkpoint\n",
      "INFO:tensorflow:Assets written to: /home/albert/projects/tfg/models/cnn_05/checkpoint/assets\n",
      "2070/2070 [==============================] - 1767s 854ms/step - loss: 0.4179 - categorical_accuracy: 0.8414 - val_loss: 0.3592 - val_categorical_accuracy: 0.8707\n",
      "Epoch 11/50\n",
      "2070/2070 [==============================] - ETA: 0s - loss: 0.4203 - categorical_accuracy: 0.8397\n",
      "Epoch 00011: val_categorical_accuracy did not improve from 0.87070\n",
      "2070/2070 [==============================] - 1479s 714ms/step - loss: 0.4203 - categorical_accuracy: 0.8397 - val_loss: 0.3502 - val_categorical_accuracy: 0.8636\n",
      "Epoch 12/50\n",
      "2070/2070 [==============================] - ETA: 0s - loss: 0.4053 - categorical_accuracy: 0.8469\n",
      "Epoch 00012: val_categorical_accuracy improved from 0.87070 to 0.87291, saving model to /home/albert/projects/tfg/models/cnn_05/checkpoint\n",
      "INFO:tensorflow:Assets written to: /home/albert/projects/tfg/models/cnn_05/checkpoint/assets\n",
      "2070/2070 [==============================] - 1712s 827ms/step - loss: 0.4053 - categorical_accuracy: 0.8469 - val_loss: 0.3156 - val_categorical_accuracy: 0.8729\n",
      "Epoch 13/50\n",
      "2070/2070 [==============================] - ETA: 0s - loss: 0.4003 - categorical_accuracy: 0.8465\n",
      "Epoch 00013: val_categorical_accuracy did not improve from 0.87291\n",
      "2070/2070 [==============================] - 1768s 854ms/step - loss: 0.4003 - categorical_accuracy: 0.8465 - val_loss: 0.3257 - val_categorical_accuracy: 0.8705\n",
      "Epoch 14/50\n",
      "2070/2070 [==============================] - ETA: 0s - loss: 0.3955 - categorical_accuracy: 0.8487\n",
      "Epoch 00014: val_categorical_accuracy improved from 0.87291 to 0.87844, saving model to /home/albert/projects/tfg/models/cnn_05/checkpoint\n",
      "INFO:tensorflow:Assets written to: /home/albert/projects/tfg/models/cnn_05/checkpoint/assets\n",
      "2070/2070 [==============================] - 1768s 854ms/step - loss: 0.3955 - categorical_accuracy: 0.8487 - val_loss: 0.3226 - val_categorical_accuracy: 0.8784\n",
      "Epoch 15/50\n",
      "2070/2070 [==============================] - ETA: 0s - loss: 0.3936 - categorical_accuracy: 0.8498\n",
      "Epoch 00015: val_categorical_accuracy improved from 0.87844 to 0.87902, saving model to /home/albert/projects/tfg/models/cnn_05/checkpoint\n",
      "INFO:tensorflow:Assets written to: /home/albert/projects/tfg/models/cnn_05/checkpoint/assets\n",
      "2070/2070 [==============================] - 1768s 854ms/step - loss: 0.3936 - categorical_accuracy: 0.8498 - val_loss: 0.3174 - val_categorical_accuracy: 0.8790\n",
      "Epoch 16/50\n",
      "2070/2070 [==============================] - ETA: 0s - loss: 0.3883 - categorical_accuracy: 0.8513\n",
      "Epoch 00016: val_categorical_accuracy improved from 0.87902 to 0.87970, saving model to /home/albert/projects/tfg/models/cnn_05/checkpoint\n",
      "INFO:tensorflow:Assets written to: /home/albert/projects/tfg/models/cnn_05/checkpoint/assets\n",
      "2070/2070 [==============================] - 1489s 720ms/step - loss: 0.3883 - categorical_accuracy: 0.8513 - val_loss: 0.3096 - val_categorical_accuracy: 0.8797\n",
      "Epoch 17/50\n",
      "2070/2070 [==============================] - ETA: 0s - loss: 0.3866 - categorical_accuracy: 0.8529\n",
      "Epoch 00017: val_categorical_accuracy did not improve from 0.87970\n",
      "2070/2070 [==============================] - 1707s 825ms/step - loss: 0.3866 - categorical_accuracy: 0.8529 - val_loss: 0.3280 - val_categorical_accuracy: 0.8686\n",
      "Epoch 18/50\n",
      "2070/2070 [==============================] - ETA: 0s - loss: 0.3786 - categorical_accuracy: 0.8533\n",
      "Epoch 00018: val_categorical_accuracy improved from 0.87970 to 0.88402, saving model to /home/albert/projects/tfg/models/cnn_05/checkpoint\n",
      "INFO:tensorflow:Assets written to: /home/albert/projects/tfg/models/cnn_05/checkpoint/assets\n",
      "2070/2070 [==============================] - 1768s 854ms/step - loss: 0.3786 - categorical_accuracy: 0.8533 - val_loss: 0.3021 - val_categorical_accuracy: 0.8840\n",
      "Epoch 19/50\n",
      "2070/2070 [==============================] - ETA: 0s - loss: 0.3755 - categorical_accuracy: 0.8568\n",
      "Epoch 00019: val_categorical_accuracy did not improve from 0.88402\n",
      "2070/2070 [==============================] - 1764s 852ms/step - loss: 0.3755 - categorical_accuracy: 0.8568 - val_loss: 0.2986 - val_categorical_accuracy: 0.8833\n",
      "Epoch 20/50\n",
      "2070/2070 [==============================] - ETA: 0s - loss: 0.3749 - categorical_accuracy: 0.8560\n",
      "Epoch 00020: val_categorical_accuracy did not improve from 0.88402\n",
      "2070/2070 [==============================] - 1771s 856ms/step - loss: 0.3749 - categorical_accuracy: 0.8560 - val_loss: 0.3210 - val_categorical_accuracy: 0.8652\n",
      "Epoch 21/50\n",
      "2070/2070 [==============================] - ETA: 0s - loss: 0.3682 - categorical_accuracy: 0.8581\n",
      "Epoch 00021: val_categorical_accuracy improved from 0.88402 to 0.88490, saving model to /home/albert/projects/tfg/models/cnn_05/checkpoint\n",
      "INFO:tensorflow:Assets written to: /home/albert/projects/tfg/models/cnn_05/checkpoint/assets\n",
      "2070/2070 [==============================] - 1485s 717ms/step - loss: 0.3682 - categorical_accuracy: 0.8581 - val_loss: 0.3111 - val_categorical_accuracy: 0.8849\n",
      "Epoch 22/50\n",
      "2070/2070 [==============================] - ETA: 0s - loss: 0.3657 - categorical_accuracy: 0.8597\n",
      "Epoch 00022: val_categorical_accuracy did not improve from 0.88490\n",
      "2070/2070 [==============================] - 1703s 823ms/step - loss: 0.3657 - categorical_accuracy: 0.8597 - val_loss: 0.2934 - val_categorical_accuracy: 0.8796\n",
      "Epoch 23/50\n",
      "2070/2070 [==============================] - ETA: 0s - loss: 0.3612 - categorical_accuracy: 0.8620\n",
      "Epoch 00023: val_categorical_accuracy did not improve from 0.88490\n",
      "2070/2070 [==============================] - 1759s 850ms/step - loss: 0.3612 - categorical_accuracy: 0.8620 - val_loss: 0.2967 - val_categorical_accuracy: 0.8712\n",
      "Epoch 24/50\n",
      "2070/2070 [==============================] - ETA: 0s - loss: 0.3644 - categorical_accuracy: 0.8575\n",
      "Epoch 00024: val_categorical_accuracy improved from 0.88490 to 0.89015, saving model to /home/albert/projects/tfg/models/cnn_05/checkpoint\n",
      "INFO:tensorflow:Assets written to: /home/albert/projects/tfg/models/cnn_05/checkpoint/assets\n",
      "2070/2070 [==============================] - 1763s 852ms/step - loss: 0.3644 - categorical_accuracy: 0.8575 - val_loss: 0.2829 - val_categorical_accuracy: 0.8901\n",
      "Epoch 25/50\n",
      "2070/2070 [==============================] - ETA: 0s - loss: 0.3590 - categorical_accuracy: 0.8635\n",
      "Epoch 00025: val_categorical_accuracy did not improve from 0.89015\n",
      "2070/2070 [==============================] - 1778s 859ms/step - loss: 0.3590 - categorical_accuracy: 0.8635 - val_loss: 0.2819 - val_categorical_accuracy: 0.8895\n",
      "Epoch 26/50\n",
      "2070/2070 [==============================] - ETA: 0s - loss: 0.3548 - categorical_accuracy: 0.8620\n",
      "Epoch 00026: val_categorical_accuracy did not improve from 0.89015\n",
      "2070/2070 [==============================] - 1486s 718ms/step - loss: 0.3548 - categorical_accuracy: 0.8620 - val_loss: 0.2826 - val_categorical_accuracy: 0.8804\n",
      "Epoch 27/50\n",
      "2070/2070 [==============================] - ETA: 0s - loss: 0.3532 - categorical_accuracy: 0.8650\n",
      "Epoch 00027: val_categorical_accuracy did not improve from 0.89015\n",
      "2070/2070 [==============================] - 1718s 830ms/step - loss: 0.3532 - categorical_accuracy: 0.8650 - val_loss: 0.3133 - val_categorical_accuracy: 0.8793\n",
      "Epoch 28/50\n",
      "2070/2070 [==============================] - ETA: 0s - loss: 0.3553 - categorical_accuracy: 0.8634\n",
      "Epoch 00028: val_categorical_accuracy did not improve from 0.89015\n",
      "2070/2070 [==============================] - 1763s 851ms/step - loss: 0.3553 - categorical_accuracy: 0.8634 - val_loss: 0.3466 - val_categorical_accuracy: 0.8520\n",
      "Epoch 29/50\n",
      "2070/2070 [==============================] - ETA: 0s - loss: 0.3544 - categorical_accuracy: 0.8625\n",
      "Epoch 00029: val_categorical_accuracy did not improve from 0.89015\n",
      "2070/2070 [==============================] - 1767s 854ms/step - loss: 0.3544 - categorical_accuracy: 0.8625 - val_loss: 0.3111 - val_categorical_accuracy: 0.8796\n",
      "Epoch 30/50\n",
      "2070/2070 [==============================] - ETA: 0s - loss: 0.3488 - categorical_accuracy: 0.8648\n",
      "Epoch 00030: val_categorical_accuracy did not improve from 0.89015\n",
      "2070/2070 [==============================] - 1766s 853ms/step - loss: 0.3488 - categorical_accuracy: 0.8648 - val_loss: 0.2993 - val_categorical_accuracy: 0.8748\n",
      "Epoch 31/50\n",
      "2070/2070 [==============================] - ETA: 0s - loss: 0.3461 - categorical_accuracy: 0.8667\n",
      "Epoch 00031: val_categorical_accuracy did not improve from 0.89015\n",
      "2070/2070 [==============================] - 1491s 720ms/step - loss: 0.3461 - categorical_accuracy: 0.8667 - val_loss: 0.2889 - val_categorical_accuracy: 0.8741\n",
      "Epoch 32/50\n",
      "2070/2070 [==============================] - ETA: 0s - loss: 0.3424 - categorical_accuracy: 0.8673\n",
      "Epoch 00032: val_categorical_accuracy improved from 0.89015 to 0.89133, saving model to /home/albert/projects/tfg/models/cnn_05/checkpoint\n",
      "INFO:tensorflow:Assets written to: /home/albert/projects/tfg/models/cnn_05/checkpoint/assets\n",
      "2070/2070 [==============================] - 1718s 830ms/step - loss: 0.3424 - categorical_accuracy: 0.8673 - val_loss: 0.2751 - val_categorical_accuracy: 0.8913\n",
      "Epoch 33/50\n",
      "2070/2070 [==============================] - ETA: 0s - loss: 0.3446 - categorical_accuracy: 0.8671\n",
      "Epoch 00033: val_categorical_accuracy did not improve from 0.89133\n",
      "2070/2070 [==============================] - 1767s 853ms/step - loss: 0.3446 - categorical_accuracy: 0.8671 - val_loss: 0.3037 - val_categorical_accuracy: 0.8847\n",
      "Epoch 34/50\n",
      "2070/2070 [==============================] - ETA: 0s - loss: 0.3421 - categorical_accuracy: 0.8692\n",
      "Epoch 00034: val_categorical_accuracy improved from 0.89133 to 0.89284, saving model to /home/albert/projects/tfg/models/cnn_05/checkpoint\n",
      "INFO:tensorflow:Assets written to: /home/albert/projects/tfg/models/cnn_05/checkpoint/assets\n",
      "2070/2070 [==============================] - 1765s 853ms/step - loss: 0.3421 - categorical_accuracy: 0.8692 - val_loss: 0.2732 - val_categorical_accuracy: 0.8928\n",
      "Epoch 35/50\n",
      "2070/2070 [==============================] - ETA: 0s - loss: 0.3358 - categorical_accuracy: 0.8745\n",
      "Epoch 00035: val_categorical_accuracy did not improve from 0.89284\n",
      "2070/2070 [==============================] - 1773s 857ms/step - loss: 0.3358 - categorical_accuracy: 0.8745 - val_loss: 0.2788 - val_categorical_accuracy: 0.8848\n",
      "Epoch 36/50\n",
      "2070/2070 [==============================] - ETA: 0s - loss: 0.3421 - categorical_accuracy: 0.8719\n",
      "Epoch 00036: val_categorical_accuracy did not improve from 0.89284\n",
      "2070/2070 [==============================] - 1486s 718ms/step - loss: 0.3421 - categorical_accuracy: 0.8719 - val_loss: 0.3183 - val_categorical_accuracy: 0.8722\n",
      "Epoch 37/50\n",
      "2070/2070 [==============================] - ETA: 0s - loss: 0.3370 - categorical_accuracy: 0.8747\n",
      "Epoch 00037: val_categorical_accuracy did not improve from 0.89284\n",
      "2070/2070 [==============================] - 1709s 825ms/step - loss: 0.3370 - categorical_accuracy: 0.8747 - val_loss: 0.2893 - val_categorical_accuracy: 0.8860\n",
      "Epoch 38/50\n",
      "2070/2070 [==============================] - ETA: 0s - loss: 0.3272 - categorical_accuracy: 0.8790\n",
      "Epoch 00038: val_categorical_accuracy did not improve from 0.89284\n",
      "2070/2070 [==============================] - 1764s 852ms/step - loss: 0.3272 - categorical_accuracy: 0.8790 - val_loss: 0.3210 - val_categorical_accuracy: 0.8786\n",
      "Epoch 39/50\n",
      "2070/2070 [==============================] - ETA: 0s - loss: 0.3263 - categorical_accuracy: 0.8795\n",
      "Epoch 00039: val_categorical_accuracy improved from 0.89284 to 0.91019, saving model to /home/albert/projects/tfg/models/cnn_05/checkpoint\n",
      "INFO:tensorflow:Assets written to: /home/albert/projects/tfg/models/cnn_05/checkpoint/assets\n",
      "2070/2070 [==============================] - 1766s 853ms/step - loss: 0.3263 - categorical_accuracy: 0.8795 - val_loss: 0.2479 - val_categorical_accuracy: 0.9102\n",
      "Epoch 40/50\n",
      "2070/2070 [==============================] - ETA: 0s - loss: 0.3293 - categorical_accuracy: 0.8826\n",
      "Epoch 00040: val_categorical_accuracy did not improve from 0.91019\n",
      "2070/2070 [==============================] - 1775s 857ms/step - loss: 0.3293 - categorical_accuracy: 0.8826 - val_loss: 0.2513 - val_categorical_accuracy: 0.9078\n",
      "Epoch 41/50\n",
      "2070/2070 [==============================] - ETA: 0s - loss: 0.3300 - categorical_accuracy: 0.8801\n",
      "Epoch 00041: val_categorical_accuracy did not improve from 0.91019\n",
      "2070/2070 [==============================] - 1486s 718ms/step - loss: 0.3300 - categorical_accuracy: 0.8801 - val_loss: 0.2957 - val_categorical_accuracy: 0.8826\n",
      "Epoch 42/50\n",
      "2070/2070 [==============================] - ETA: 0s - loss: 0.3204 - categorical_accuracy: 0.8830\n",
      "Epoch 00042: val_categorical_accuracy did not improve from 0.91019\n",
      "2070/2070 [==============================] - 1705s 824ms/step - loss: 0.3204 - categorical_accuracy: 0.8830 - val_loss: 0.2738 - val_categorical_accuracy: 0.8961\n",
      "Epoch 43/50\n",
      "2070/2070 [==============================] - ETA: 0s - loss: 0.3227 - categorical_accuracy: 0.8842\n",
      "Epoch 00043: val_categorical_accuracy did not improve from 0.91019\n",
      "2070/2070 [==============================] - 1770s 855ms/step - loss: 0.3227 - categorical_accuracy: 0.8842 - val_loss: 0.2795 - val_categorical_accuracy: 0.8922\n",
      "Epoch 44/50\n",
      "2070/2070 [==============================] - ETA: 0s - loss: 0.3232 - categorical_accuracy: 0.8825\n",
      "Epoch 00044: val_categorical_accuracy did not improve from 0.91019\n",
      "2070/2070 [==============================] - 1776s 858ms/step - loss: 0.3232 - categorical_accuracy: 0.8825 - val_loss: 0.2602 - val_categorical_accuracy: 0.9013\n",
      "Epoch 45/50\n",
      "2070/2070 [==============================] - ETA: 0s - loss: 0.3131 - categorical_accuracy: 0.8880\n",
      "Epoch 00045: val_categorical_accuracy did not improve from 0.91019\n",
      "2070/2070 [==============================] - 1767s 854ms/step - loss: 0.3131 - categorical_accuracy: 0.8880 - val_loss: 0.2993 - val_categorical_accuracy: 0.8866\n",
      "Epoch 46/50\n",
      "2070/2070 [==============================] - ETA: 0s - loss: 0.3138 - categorical_accuracy: 0.8866\n",
      "Epoch 00046: val_categorical_accuracy did not improve from 0.91019\n",
      "2070/2070 [==============================] - 1487s 718ms/step - loss: 0.3138 - categorical_accuracy: 0.8866 - val_loss: 0.2745 - val_categorical_accuracy: 0.9001\n",
      "Epoch 47/50\n",
      "2070/2070 [==============================] - ETA: 0s - loss: 0.3180 - categorical_accuracy: 0.8864\n",
      "Epoch 00047: val_categorical_accuracy did not improve from 0.91019\n",
      "2070/2070 [==============================] - 1707s 825ms/step - loss: 0.3180 - categorical_accuracy: 0.8864 - val_loss: 0.4223 - val_categorical_accuracy: 0.8495\n",
      "Epoch 48/50\n",
      "2070/2070 [==============================] - ETA: 0s - loss: 0.3122 - categorical_accuracy: 0.8875\n",
      "Epoch 00048: val_categorical_accuracy did not improve from 0.91019\n",
      "2070/2070 [==============================] - 1770s 855ms/step - loss: 0.3122 - categorical_accuracy: 0.8875 - val_loss: 0.2480 - val_categorical_accuracy: 0.9082\n",
      "Epoch 49/50\n",
      "2070/2070 [==============================] - ETA: 0s - loss: 0.3127 - categorical_accuracy: 0.8873\n",
      "Epoch 00049: val_categorical_accuracy did not improve from 0.91019\n",
      "2070/2070 [==============================] - 1769s 854ms/step - loss: 0.3127 - categorical_accuracy: 0.8873 - val_loss: 0.2614 - val_categorical_accuracy: 0.9070\n",
      "Epoch 50/50\n",
      "2070/2070 [==============================] - ETA: 0s - loss: 0.3130 - categorical_accuracy: 0.8877\n",
      "Epoch 00050: val_categorical_accuracy improved from 0.91019 to 0.91467, saving model to /home/albert/projects/tfg/models/cnn_05/checkpoint\n",
      "INFO:tensorflow:Assets written to: /home/albert/projects/tfg/models/cnn_05/checkpoint/assets\n",
      "2070/2070 [==============================] - 1770s 855ms/step - loss: 0.3130 - categorical_accuracy: 0.8877 - val_loss: 0.2376 - val_categorical_accuracy: 0.9147\n"
     ]
    }
   ],
   "source": [
    "# The total passes we want to do over the whole dataset\n",
    "total_epochs = 10\n",
    "# For each pass, how many times do we want to check the performance on the validation data?\n",
    "intermediate_checks = 5\n",
    "epochs = total_epochs * intermediate_checks\n",
    "\n",
    "# If in total we need e.g. 1000 steps to go through the whole dataset, and we want to check 2 times the validation, each epoch will be 500 steps instead\n",
    "STEP_SIZE_TRAIN=train_generator.n//(intermediate_checks * train_generator.batch_size) \n",
    "STEP_SIZE_VALID=valid_generator.n//valid_generator.batch_size\n",
    "#STEP_SIZE_TEST=test_generator.n//test_generator.batch_size\n",
    "\n",
    "fit_history = model.fit_generator(generator=train_generator,\n",
    "                    steps_per_epoch=STEP_SIZE_TRAIN,\n",
    "                    validation_data=valid_generator,\n",
    "                    validation_steps=STEP_SIZE_VALID,\n",
    "                    epochs=epochs,\n",
    "                    callbacks=model_callbacks\n",
    ")"
   ]
  },
  {
   "cell_type": "code",
   "execution_count": 322,
   "metadata": {},
   "outputs": [
    {
     "data": {
      "text/plain": [
       "{'loss': [0.7832583785057068,\n",
       "  0.5853813886642456,\n",
       "  0.5303654074668884,\n",
       "  0.49096325039863586,\n",
       "  0.4760124981403351,\n",
       "  0.455400675535202,\n",
       "  0.43259191513061523,\n",
       "  0.437164843082428,\n",
       "  0.42606693506240845,\n",
       "  0.4178713262081146,\n",
       "  0.42032167315483093,\n",
       "  0.40529826283454895,\n",
       "  0.4003477394580841,\n",
       "  0.39553606510162354,\n",
       "  0.3936304748058319,\n",
       "  0.38826191425323486,\n",
       "  0.3865986466407776,\n",
       "  0.3786349594593048,\n",
       "  0.3754526972770691,\n",
       "  0.37493234872817993,\n",
       "  0.3681800365447998,\n",
       "  0.3656807541847229,\n",
       "  0.36117023229599,\n",
       "  0.3643691837787628,\n",
       "  0.3589935302734375,\n",
       "  0.3548383116722107,\n",
       "  0.3532125949859619,\n",
       "  0.3552699089050293,\n",
       "  0.3544093072414398,\n",
       "  0.34880325198173523,\n",
       "  0.3461189270019531,\n",
       "  0.3423857092857361,\n",
       "  0.34456419944763184,\n",
       "  0.342121958732605,\n",
       "  0.33584651350975037,\n",
       "  0.3421180248260498,\n",
       "  0.33704492449760437,\n",
       "  0.32716238498687744,\n",
       "  0.3262959122657776,\n",
       "  0.32931244373321533,\n",
       "  0.32996222376823425,\n",
       "  0.3203931152820587,\n",
       "  0.3227320611476898,\n",
       "  0.32316622138023376,\n",
       "  0.3130866587162018,\n",
       "  0.31378766894340515,\n",
       "  0.3180089294910431,\n",
       "  0.31216317415237427,\n",
       "  0.3127111494541168,\n",
       "  0.3130415380001068],\n",
       " 'categorical_accuracy': [0.689945638179779,\n",
       "  0.7806159257888794,\n",
       "  0.7860808968544006,\n",
       "  0.8041364550590515,\n",
       "  0.8127566576004028,\n",
       "  0.8228899240493774,\n",
       "  0.8334088325500488,\n",
       "  0.832608699798584,\n",
       "  0.8393719792366028,\n",
       "  0.8413647413253784,\n",
       "  0.8397101163864136,\n",
       "  0.8468599319458008,\n",
       "  0.8464975953102112,\n",
       "  0.8486714959144592,\n",
       "  0.8497735261917114,\n",
       "  0.8513211607933044,\n",
       "  0.8528532385826111,\n",
       "  0.8533212542533875,\n",
       "  0.856808602809906,\n",
       "  0.8559631705284119,\n",
       "  0.8580703735351562,\n",
       "  0.8597373366355896,\n",
       "  0.8619565367698669,\n",
       "  0.8574879169464111,\n",
       "  0.8635416626930237,\n",
       "  0.861996054649353,\n",
       "  0.8650211095809937,\n",
       "  0.8633756041526794,\n",
       "  0.862500011920929,\n",
       "  0.8647795915603638,\n",
       "  0.8667371273040771,\n",
       "  0.8672705292701721,\n",
       "  0.8671497702598572,\n",
       "  0.8692029118537903,\n",
       "  0.874456524848938,\n",
       "  0.8719009757041931,\n",
       "  0.8747131824493408,\n",
       "  0.8790006041526794,\n",
       "  0.8795440793037415,\n",
       "  0.8825634121894836,\n",
       "  0.880129873752594,\n",
       "  0.88303142786026,\n",
       "  0.8841636180877686,\n",
       "  0.8825483322143555,\n",
       "  0.8879981637001038,\n",
       "  0.8866223692893982,\n",
       "  0.8864432573318481,\n",
       "  0.8874698281288147,\n",
       "  0.8873037695884705,\n",
       "  0.8876811861991882],\n",
       " 'val_loss': [0.5699779987335205,\n",
       "  0.5193929672241211,\n",
       "  0.4137435257434845,\n",
       "  0.4086669683456421,\n",
       "  0.3873664140701294,\n",
       "  0.39210405945777893,\n",
       "  0.37255874276161194,\n",
       "  0.4121784567832947,\n",
       "  0.37734702229499817,\n",
       "  0.35916921496391296,\n",
       "  0.35016268491744995,\n",
       "  0.3155788779258728,\n",
       "  0.3257095217704773,\n",
       "  0.32255616784095764,\n",
       "  0.31735798716545105,\n",
       "  0.3095681965351105,\n",
       "  0.3280430734157562,\n",
       "  0.30210182070732117,\n",
       "  0.2985503077507019,\n",
       "  0.3209629952907562,\n",
       "  0.311124712228775,\n",
       "  0.29342809319496155,\n",
       "  0.29666879773139954,\n",
       "  0.2829493582248688,\n",
       "  0.2818921208381653,\n",
       "  0.2826404869556427,\n",
       "  0.3132999837398529,\n",
       "  0.3465695381164551,\n",
       "  0.31113970279693604,\n",
       "  0.2992994785308838,\n",
       "  0.2889499366283417,\n",
       "  0.2750861644744873,\n",
       "  0.3036976754665375,\n",
       "  0.27324768900871277,\n",
       "  0.27877509593963623,\n",
       "  0.3183201551437378,\n",
       "  0.28929710388183594,\n",
       "  0.3210189640522003,\n",
       "  0.2479275017976761,\n",
       "  0.2512575387954712,\n",
       "  0.2957038879394531,\n",
       "  0.27377915382385254,\n",
       "  0.27948665618896484,\n",
       "  0.26021233201026917,\n",
       "  0.2993086278438568,\n",
       "  0.2745358347892761,\n",
       "  0.42226019501686096,\n",
       "  0.24796158075332642,\n",
       "  0.2613971531391144,\n",
       "  0.23756465315818787],\n",
       " 'val_categorical_accuracy': [0.7830837965011597,\n",
       "  0.7954933643341064,\n",
       "  0.8319433331489563,\n",
       "  0.8320438265800476,\n",
       "  0.8570136427879333,\n",
       "  0.8591489195823669,\n",
       "  0.8605054020881653,\n",
       "  0.8549286723136902,\n",
       "  0.8539238572120667,\n",
       "  0.8707043528556824,\n",
       "  0.8636454939842224,\n",
       "  0.8729149699211121,\n",
       "  0.8704531788825989,\n",
       "  0.8784415125846863,\n",
       "  0.8790193200111389,\n",
       "  0.8796975612640381,\n",
       "  0.8686444759368896,\n",
       "  0.8840183019638062,\n",
       "  0.883340060710907,\n",
       "  0.8652029633522034,\n",
       "  0.8848975300788879,\n",
       "  0.8796221613883972,\n",
       "  0.8711816668510437,\n",
       "  0.8901476860046387,\n",
       "  0.8894694447517395,\n",
       "  0.8804260492324829,\n",
       "  0.8793207406997681,\n",
       "  0.8520398139953613,\n",
       "  0.8796473145484924,\n",
       "  0.8748241662979126,\n",
       "  0.8741207718849182,\n",
       "  0.8913283944129944,\n",
       "  0.8846965432167053,\n",
       "  0.8928356170654297,\n",
       "  0.8847970366477966,\n",
       "  0.8721864819526672,\n",
       "  0.8860279321670532,\n",
       "  0.8785922527313232,\n",
       "  0.910193920135498,\n",
       "  0.9078326225280762,\n",
       "  0.8826115131378174,\n",
       "  0.896126389503479,\n",
       "  0.8922076225280762,\n",
       "  0.9013263583183289,\n",
       "  0.8865554928779602,\n",
       "  0.9000954627990723,\n",
       "  0.8495277166366577,\n",
       "  0.908184289932251,\n",
       "  0.90700364112854,\n",
       "  0.9146654009819031]}"
      ]
     },
     "execution_count": 322,
     "metadata": {},
     "output_type": "execute_result"
    }
   ],
   "source": [
    "fit_history.history"
   ]
  },
  {
   "cell_type": "code",
   "execution_count": 323,
   "metadata": {},
   "outputs": [],
   "source": [
    "import seaborn as sns\n",
    "\n",
    "sns.set_style(\"whitegrid\")\n",
    "sns.set(rc={'figure.figsize':(13, 9)})"
   ]
  },
  {
   "cell_type": "code",
   "execution_count": 324,
   "metadata": {},
   "outputs": [
    {
     "data": {
      "image/png": "[encoded data removed]",
      "text/plain": [
       "<Figure size 936x648 with 1 Axes>"
      ]
     },
     "metadata": {},
     "output_type": "display_data"
    }
   ],
   "source": [
    "import matplotlib.pyplot as plt\n",
    "\n",
    "plt.plot(fit_history.history[\"loss\"], label=\"training\")\n",
    "plt.plot(fit_history.history[\"val_loss\"], label=\"validation\")\n",
    "plt.title(\"CNN Training and Validation Losses\")\n",
    "plt.xlabel(\"Epoch\")\n",
    "plt.ylabel(\"Loss\")\n",
    "plt.legend()\n",
    "plt.savefig(figures_dir / f\"cnn_{cnn_model_suffix}_loss.png\")\n",
    "plt.show()"
   ]
  },
  {
   "cell_type": "code",
   "execution_count": 325,
   "metadata": {},
   "outputs": [
    {
     "data": {
      "image/png": "[encoded data removed]",
      "text/plain": [
       "<Figure size 936x648 with 1 Axes>"
      ]
     },
     "metadata": {},
     "output_type": "display_data"
    }
   ],
   "source": [
    "import matplotlib.pyplot as plt\n",
    "\n",
    "plt.plot(fit_history.history[\"categorical_accuracy\"], label=\"training\")\n",
    "plt.plot(fit_history.history[\"val_categorical_accuracy\"], label=\"validation\")\n",
    "plt.title(\"CNN Training and Validation Categorical Accuracy\")\n",
    "plt.xlabel(\"Epoch\")\n",
    "plt.ylabel(\"Categorical Accuracy\")\n",
    "plt.legend()\n",
    "plt.savefig(figures_dir / f\"cnn_{cnn_model_suffix}_cat_accuracy.png\")\n",
    "plt.show()"
   ]
  },
  {
   "cell_type": "code",
   "execution_count": 326,
   "metadata": {},
   "outputs": [
    {
     "name": "stdout",
     "output_type": "stream",
     "text": [
      "INFO:tensorflow:Assets written to: /home/albert/projects/tfg/models/feature_extractor.tf/assets\n"
     ]
    }
   ],
   "source": [
    "model.save(str(feature_extractor_model_file))\n",
    "\n",
    "del model"
   ]
  },
  {
   "cell_type": "code",
   "execution_count": 327,
   "metadata": {},
   "outputs": [
    {
     "name": "stdout",
     "output_type": "stream",
     "text": [
      "Model: \"covid_classifier\"\n",
      "_________________________________________________________________\n",
      "Layer (type)                 Output Shape              Param #   \n",
      "=================================================================\n",
      "input_images (InputLayer)    [(None, 128, 128, 3)]     0         \n",
      "_________________________________________________________________\n",
      "conv2d_01 (Conv2D)           (None, 128, 128, 6)       168       \n",
      "_________________________________________________________________\n",
      "maxpool2d_01 (MaxPooling2D)  (None, 64, 64, 6)         0         \n",
      "_________________________________________________________________\n",
      "conv2d_02 (Conv2D)           (None, 64, 64, 12)        660       \n",
      "_________________________________________________________________\n",
      "maxpool2d_02 (MaxPooling2D)  (None, 32, 32, 12)        0         \n",
      "_________________________________________________________________\n",
      "conv2d_03 (Conv2D)           (None, 32, 32, 24)        2616      \n",
      "_________________________________________________________________\n",
      "maxpool2d_03 (MaxPooling2D)  (None, 16, 16, 24)        0         \n",
      "_________________________________________________________________\n",
      "conv2d_04 (Conv2D)           (None, 16, 16, 48)        10416     \n",
      "_________________________________________________________________\n",
      "maxpool2d_04 (MaxPooling2D)  (None, 8, 8, 48)          0         \n",
      "_________________________________________________________________\n",
      "conv2d_05 (Conv2D)           (None, 8, 8, 96)          41568     \n",
      "_________________________________________________________________\n",
      "maxpool2d_05 (MaxPooling2D)  (None, 4, 4, 96)          0         \n",
      "_________________________________________________________________\n",
      "conv2d_06 (Conv2D)           (None, 4, 4, 192)         166080    \n",
      "_________________________________________________________________\n",
      "dropout__06 (Dropout)        (None, 4, 4, 192)         0         \n",
      "_________________________________________________________________\n",
      "maxpool2d_06 (MaxPooling2D)  (None, 2, 2, 192)         0         \n",
      "_________________________________________________________________\n",
      "flatten (Flatten)            (None, 768)               0         \n",
      "_________________________________________________________________\n",
      "dense_01 (Dense)             (None, 64)                49216     \n",
      "_________________________________________________________________\n",
      "dropout_01 (Dropout)         (None, 64)                0         \n",
      "_________________________________________________________________\n",
      "dense_02 (Dense)             (None, 32)                2080      \n",
      "_________________________________________________________________\n",
      "dropout_02 (Dropout)         (None, 32)                0         \n",
      "_________________________________________________________________\n",
      "output (Dense)               (None, 3)                 99        \n",
      "=================================================================\n",
      "Total params: 272,903\n",
      "Trainable params: 272,903\n",
      "Non-trainable params: 0\n",
      "_________________________________________________________________\n"
     ]
    }
   ],
   "source": [
    "from tensorflow.keras.models import load_model\n",
    "\n",
    "loaded_model = load_model(str(feature_extractor_model_file))\n",
    "\n",
    "loaded_model.summary()"
   ]
  },
  {
   "cell_type": "code",
   "execution_count": 329,
   "metadata": {},
   "outputs": [
    {
     "name": "stdout",
     "output_type": "stream",
     "text": [
      "Found 39828 validated image filenames belonging to 3 classes.\n"
     ]
    }
   ],
   "source": [
    "valid_generator2 = test_datagen.flow_from_dataframe(\n",
    "    dataframe=val_df,\n",
    "    directory=str(images_input_dir),\n",
    "    x_col=\"file\",\n",
    "    y_col=\"label\",\n",
    "    batch_size=batch_size,\n",
    "    seed=seed,\n",
    "    shuffle=False,\n",
    "    class_mode=\"categorical\",\n",
    "    target_size=image_target_size)"
   ]
  },
  {
   "cell_type": "markdown",
   "metadata": {},
   "source": [
    "# Evaluation / Confusion matrix"
   ]
  },
  {
   "cell_type": "code",
   "execution_count": 330,
   "metadata": {},
   "outputs": [],
   "source": [
    "from sklearn.metrics import confusion_matrix, precision_recall_fscore_support"
   ]
  },
  {
   "cell_type": "code",
   "execution_count": 331,
   "metadata": {},
   "outputs": [],
   "source": [
    "import numpy as np\n",
    "import itertools\n",
    "\n",
    "sns.set_style(\"whitegrid\", {'axes.grid' : False})\n",
    "\n",
    "# based on answer from https://datascience.stackexchange.com/questions/40067/confusion-matrix-three-classes-python\n",
    "def plot_confusion_matrix(cm, classes,\n",
    "                          save_to=None,\n",
    "                          normalize=True,\n",
    "                          title='Confusion matrix',\n",
    "                          cmap=plt.cm.Blues):\n",
    "    \"\"\"\n",
    "    This function prints and plots the confusion matrix.\n",
    "    Normalization can be applied by setting `normalize=True`.\n",
    "    \"\"\"\n",
    "    \n",
    "    if normalize:\n",
    "        cm = cm.astype('float') / cm.sum(axis=1)[:, np.newaxis]\n",
    "        print(\"Normalized confusion matrix\")\n",
    "    else:\n",
    "        print('Confusion matrix, without normalization')\n",
    "\n",
    "    print(cm)\n",
    "\n",
    "    plt.imshow(cm, interpolation='nearest', cmap=cmap)\n",
    "    plt.title(title, fontdict={'fontsize' : 26})\n",
    "    plt.colorbar()\n",
    "    tick_marks = np.arange(len(classes))\n",
    "    plt.xticks(tick_marks, classes, fontsize=18)\n",
    "    plt.yticks(tick_marks, classes, fontsize=18)\n",
    "\n",
    "    fmt_pct = lambda pct: f\"{100 * pct:.2f}%\" if normalize else f\"{int(100 * pct)}%\"\n",
    "    thresh = cm.max() / 2.\n",
    "    for i, j in itertools.product(range(cm.shape[0]), range(cm.shape[1])):\n",
    "        plt.text(j, i, fmt_pct(cm[i, j]),\n",
    "                 horizontalalignment=\"center\",\n",
    "                 color=\"white\" if cm[i, j] > thresh else \"black\",\n",
    "                 fontdict={'fontsize' : 16})\n",
    "\n",
    "    plt.ylabel('True label', fontdict={'fontsize' : 22})\n",
    "    plt.xlabel('Predicted label', fontdict={'fontsize' : 22})\n",
    "    plt.tight_layout()\n",
    "    \n",
    "    if save_to:\n",
    "        plt.savefig(save_to)"
   ]
  },
  {
   "cell_type": "code",
   "execution_count": 332,
   "metadata": {},
   "outputs": [],
   "source": [
    "STEP_SIZE_TRAIN2=train_generator.n//train_generator.batch_size \n",
    "STEP_SIZE_VALID2=valid_generator.n//valid_generator.batch_size"
   ]
  },
  {
   "cell_type": "code",
   "execution_count": 333,
   "metadata": {},
   "outputs": [
    {
     "name": "stdout",
     "output_type": "stream",
     "text": [
      "1245/1245 [==============================] - 118s 94ms/step\n"
     ]
    },
    {
     "data": {
      "text/plain": [
       "(39828, 3)"
      ]
     },
     "execution_count": 333,
     "metadata": {},
     "output_type": "execute_result"
    }
   ],
   "source": [
    "raw_val_preds = loaded_model.predict(valid_generator2, steps=STEP_SIZE_VALID2 + 1, verbose=1)\n",
    "raw_val_preds.shape"
   ]
  },
  {
   "cell_type": "code",
   "execution_count": 334,
   "metadata": {},
   "outputs": [
    {
     "data": {
      "text/plain": [
       "array([[9.86675799e-01, 1.30069470e-02, 3.17255646e-04],\n",
       "       [9.83255506e-01, 1.65914483e-02, 1.53059358e-04],\n",
       "       [9.87043023e-01, 1.27255190e-02, 2.31498416e-04],\n",
       "       [9.86097813e-01, 1.34156169e-02, 4.86595352e-04],\n",
       "       [9.87158775e-01, 1.26283495e-02, 2.12872939e-04]], dtype=float32)"
      ]
     },
     "execution_count": 334,
     "metadata": {},
     "output_type": "execute_result"
    }
   ],
   "source": [
    "raw_val_preds[:5]"
   ]
  },
  {
   "cell_type": "code",
   "execution_count": 335,
   "metadata": {},
   "outputs": [
    {
     "data": {
      "text/plain": [
       "array([0, 0, 0, 0, 0, 0, 0, 0, 0, 0])"
      ]
     },
     "execution_count": 335,
     "metadata": {},
     "output_type": "execute_result"
    }
   ],
   "source": [
    "val_preds = raw_val_preds.argmax(axis=1)\n",
    "val_preds[:10]"
   ]
  },
  {
   "cell_type": "code",
   "execution_count": 336,
   "metadata": {},
   "outputs": [
    {
     "data": {
      "text/plain": [
       "{'CP': 0, 'NCP': 1, 'Normal': 2}"
      ]
     },
     "execution_count": 336,
     "metadata": {},
     "output_type": "execute_result"
    }
   ],
   "source": [
    "valid_generator2.class_indices"
   ]
  },
  {
   "cell_type": "code",
   "execution_count": 337,
   "metadata": {},
   "outputs": [],
   "source": [
    "val_true = valid_generator2.labels"
   ]
  },
  {
   "cell_type": "code",
   "execution_count": 338,
   "metadata": {},
   "outputs": [
    {
     "data": {
      "text/plain": [
       "[0, 0, 0, 0, 0, 0, 0, 0, 0, 0]"
      ]
     },
     "execution_count": 338,
     "metadata": {},
     "output_type": "execute_result"
    }
   ],
   "source": [
    "val_true[:10]"
   ]
  },
  {
   "cell_type": "code",
   "execution_count": 339,
   "metadata": {},
   "outputs": [],
   "source": [
    "val_cm = confusion_matrix(val_true, val_preds)"
   ]
  },
  {
   "cell_type": "code",
   "execution_count": 340,
   "metadata": {},
   "outputs": [],
   "source": [
    "class_labels = [k for k in valid_generator2.class_indices.keys()]"
   ]
  },
  {
   "cell_type": "code",
   "execution_count": 341,
   "metadata": {},
   "outputs": [
    {
     "name": "stdout",
     "output_type": "stream",
     "text": [
      "Normalized confusion matrix\n",
      "[[0.97125623 0.01477196 0.01397181]\n",
      " [0.0486645  0.92605863 0.02527687]\n",
      " [0.25525453 0.14481837 0.5999271 ]]\n"
     ]
    },
    {
     "data": {
      "image/png": "[encoded data removed]",
      "text/plain": [
       "<Figure size 936x648 with 2 Axes>"
      ]
     },
     "metadata": {},
     "output_type": "display_data"
    }
   ],
   "source": [
    "plot_confusion_matrix(\n",
    "    val_cm,\n",
    "    classes=class_labels,\n",
    "    title='Confusion matrix for Validation Set',\n",
    "    save_to=figures_dir / f\"feature_generator_val_conf_matrix.png\")"
   ]
  },
  {
   "cell_type": "code",
   "execution_count": 342,
   "metadata": {},
   "outputs": [
    {
     "name": "stdout",
     "output_type": "stream",
     "text": [
      "Validation F1 Score:  87.07\n",
      "Validation Precision:  87.95\n",
      "Validation Recall:  87.71\n"
     ]
    }
   ],
   "source": [
    "val_precision, val_recall, val_f1, _ = precision_recall_fscore_support(val_true, val_preds, average=\"weighted\")\n",
    "print(f\"Validation F1 Score: {100 * val_f1: .2f}\")\n",
    "print(f\"Validation Precision: {100 * val_precision: .2f}\")\n",
    "print(f\"Validation Recall: {100 * val_recall: .2f}\")"
   ]
  },
  {
   "cell_type": "markdown",
   "metadata": {},
   "source": [
    "#### precision_recall_fscore_support(val_true, val_preds)"
   ]
  },
  {
   "cell_type": "code",
   "execution_count": 346,
   "metadata": {},
   "outputs": [
    {
     "name": "stdout",
     "output_type": "stream",
     "text": [
      "Found 331286 validated image filenames belonging to 3 classes.\n"
     ]
    }
   ],
   "source": [
    "train_generator2 = test_datagen.flow_from_dataframe(\n",
    "    dataframe=train_df,\n",
    "    directory=str(images_input_dir),\n",
    "    x_col=\"file\",\n",
    "    y_col=\"label\",\n",
    "    batch_size=batch_size,\n",
    "    seed=seed,\n",
    "    shuffle=False,\n",
    "    class_mode=\"categorical\",\n",
    "    target_size=image_target_size)"
   ]
  },
  {
   "cell_type": "code",
   "execution_count": 347,
   "metadata": {},
   "outputs": [
    {
     "name": "stdout",
     "output_type": "stream",
     "text": [
      "10353/10353 [==============================] - 2075s 200ms/step\n"
     ]
    },
    {
     "data": {
      "text/plain": [
       "(331286, 3)"
      ]
     },
     "execution_count": 347,
     "metadata": {},
     "output_type": "execute_result"
    }
   ],
   "source": [
    "raw_train_preds = loaded_model.predict(train_generator2, steps=STEP_SIZE_TRAIN2 + 1, verbose=1)\n",
    "raw_train_preds.shape"
   ]
  },
  {
   "cell_type": "code",
   "execution_count": 348,
   "metadata": {},
   "outputs": [
    {
     "data": {
      "text/plain": [
       "array([1, 0, 0, 0, 0, 1, 0, 1, 0, 0])"
      ]
     },
     "execution_count": 348,
     "metadata": {},
     "output_type": "execute_result"
    }
   ],
   "source": [
    "train_preds = raw_train_preds.argmax(axis=1)\n",
    "train_preds[:10]"
   ]
  },
  {
   "cell_type": "code",
   "execution_count": 349,
   "metadata": {},
   "outputs": [
    {
     "data": {
      "text/plain": [
       "{'CP': 0, 'NCP': 1, 'Normal': 2}"
      ]
     },
     "execution_count": 349,
     "metadata": {},
     "output_type": "execute_result"
    }
   ],
   "source": [
    "train_generator2.class_indices"
   ]
  },
  {
   "cell_type": "code",
   "execution_count": 350,
   "metadata": {},
   "outputs": [
    {
     "data": {
      "text/plain": [
       "[0, 0, 0, 0, 0, 0, 0, 0, 0, 0]"
      ]
     },
     "execution_count": 350,
     "metadata": {},
     "output_type": "execute_result"
    }
   ],
   "source": [
    "train_true = train_generator2.labels\n",
    "train_true[:10]"
   ]
  },
  {
   "cell_type": "code",
   "execution_count": 351,
   "metadata": {},
   "outputs": [
    {
     "name": "stdout",
     "output_type": "stream",
     "text": [
      "Normalized confusion matrix\n",
      "[[0.94876329 0.03191834 0.01931837]\n",
      " [0.04921536 0.9012732  0.04951145]\n",
      " [0.29796128 0.15484948 0.54718923]]\n"
     ]
    },
    {
     "data": {
      "image/png": "[encoded data removed]",
      "text/plain": [
       "<Figure size 936x648 with 2 Axes>"
      ]
     },
     "metadata": {},
     "output_type": "display_data"
    }
   ],
   "source": [
    "train_cm = confusion_matrix(train_true, train_preds)\n",
    "plot_confusion_matrix(\n",
    "    train_cm,\n",
    "    classes=[k for k in train_generator2.class_indices.keys()],\n",
    "    title='Confusion matrix for Training Set',\n",
    "    save_to=figures_dir / f\"feature_generator_train_conf_matrix.png\")"
   ]
  },
  {
   "cell_type": "code",
   "execution_count": 352,
   "metadata": {},
   "outputs": [
    {
     "data": {
      "text/plain": [
       "(array([0.80084898, 0.87304073, 0.83466738]),\n",
       " array([0.94876329, 0.9012732 , 0.54718923]),\n",
       " array([0.86855371, 0.88693235, 0.66102517]),\n",
       " array([126667, 124961,  79658]))"
      ]
     },
     "execution_count": 352,
     "metadata": {},
     "output_type": "execute_result"
    }
   ],
   "source": [
    "precision_recall_fscore_support(train_true, train_preds)"
   ]
  },
  {
   "cell_type": "code",
   "execution_count": 353,
   "metadata": {},
   "outputs": [
    {
     "data": {
      "text/plain": [
       "(0.8361856973448843, 0.7990752413136532, 0.8055037447355543, None)"
      ]
     },
     "execution_count": 353,
     "metadata": {},
     "output_type": "execute_result"
    }
   ],
   "source": [
    "precision_recall_fscore_support(train_true, train_preds, average=\"macro\")"
   ]
  },
  {
   "cell_type": "markdown",
   "metadata": {},
   "source": [
    "## Evaluate test set"
   ]
  },
  {
   "cell_type": "code",
   "execution_count": 354,
   "metadata": {},
   "outputs": [],
   "source": [
    "test_df = repo.load(\"test_df\")"
   ]
  },
  {
   "cell_type": "code",
   "execution_count": 355,
   "metadata": {},
   "outputs": [
    {
     "name": "stdout",
     "output_type": "stream",
     "text": [
      "Found 40415 validated image filenames belonging to 3 classes.\n"
     ]
    }
   ],
   "source": [
    "test_generator = test_datagen.flow_from_dataframe(\n",
    "    dataframe=test_df,\n",
    "    directory=str(images_input_dir),\n",
    "    x_col=\"file\",\n",
    "    y_col=\"label\",\n",
    "    batch_size=batch_size,\n",
    "    seed=seed,\n",
    "    shuffle=False,\n",
    "    class_mode=\"categorical\",\n",
    "    target_size=image_target_size)"
   ]
  },
  {
   "cell_type": "code",
   "execution_count": 356,
   "metadata": {},
   "outputs": [
    {
     "name": "stdout",
     "output_type": "stream",
     "text": [
      "1263/1263 [==============================] - 296s 234ms/step\n",
      "Normalized confusion matrix\n",
      "[[0.91857279 0.06135335 0.02007386]\n",
      " [0.04714467 0.92176396 0.03109137]\n",
      " [0.18609381 0.18228041 0.63162578]]\n"
     ]
    },
    {
     "data": {
      "image/png": "[encoded data removed]",
      "text/plain": [
       "<Figure size 936x648 with 2 Axes>"
      ]
     },
     "metadata": {},
     "output_type": "display_data"
    }
   ],
   "source": [
    "STEP_SIZE_TEST = test_generator.n//test_generator.batch_size\n",
    "\n",
    "raw_test_preds = loaded_model.predict(test_generator, steps=STEP_SIZE_TEST + 1, verbose=1)\n",
    "raw_test_preds.shape\n",
    "test_preds = raw_test_preds.argmax(axis=1)\n",
    "test_preds[:10]\n",
    "test_generator.class_indices\n",
    "test_true = test_generator.labels\n",
    "test_true[:10]\n",
    "test_cm = confusion_matrix(test_true, test_preds)\n",
    "plot_confusion_matrix(\n",
    "    test_cm,\n",
    "    classes=[k for k in test_generator.class_indices.keys()],\n",
    "    title='Confusion matrix for Test Set',\n",
    "    save_to=figures_dir / f\"feature_generator_test_conf_matrix.png\")"
   ]
  },
  {
   "cell_type": "code",
   "execution_count": 357,
   "metadata": {},
   "outputs": [
    {
     "data": {
      "text/plain": [
       "(array([0.87480145, 0.85498205, 0.85731539]),\n",
       " array([0.91857279, 0.92176396, 0.63162578]),\n",
       " array([0.89615295, 0.88711795, 0.72736588]),\n",
       " array([16788, 15760,  7867]))"
      ]
     },
     "execution_count": 357,
     "metadata": {},
     "output_type": "execute_result"
    }
   ],
   "source": [
    "precision_recall_fscore_support(test_true, test_preds)"
   ]
  },
  {
   "cell_type": "code",
   "execution_count": 358,
   "metadata": {},
   "outputs": [
    {
     "data": {
      "text/plain": [
       "(0.8623662971597982, 0.823987509349242, 0.8368789271208644, None)"
      ]
     },
     "execution_count": 358,
     "metadata": {},
     "output_type": "execute_result"
    }
   ],
   "source": [
    "precision_recall_fscore_support(test_true, test_preds, average=\"macro\")"
   ]
  },
  {
   "cell_type": "code",
   "execution_count": null,
   "metadata": {},
   "outputs": [],
   "source": []
  }
 ],
 "metadata": {
  "kernelspec": {
   "display_name": "Python 3",
   "language": "python",
   "name": "python3"
  },
  "language_info": {
   "codemirror_mode": {
    "name": "ipython",
    "version": 3
   },
   "file_extension": ".py",
   "mimetype": "text/x-python",
   "name": "python",
   "nbconvert_exporter": "python",
   "pygments_lexer": "ipython3",
   "version": "3.8.5"
  }
 },
 "nbformat": 4,
 "nbformat_minor": 4
}
