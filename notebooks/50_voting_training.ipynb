{
 "cells": [
  {
   "cell_type": "markdown",
   "metadata": {},
   "source": [
    "# Notebook Initialization"
   ]
  },
  {
   "cell_type": "code",
   "execution_count": 144,
   "metadata": {},
   "outputs": [
    {
     "name": "stdout",
     "output_type": "stream",
     "text": [
      "The autoreload extension is already loaded. To reload it, use:\n",
      "  %reload_ext autoreload\n"
     ]
    }
   ],
   "source": [
    "# %load nb_init.py\n",
    "\n",
    "from pathlib import Path\n",
    "import pandas as pd\n",
    "\n",
    "base_dir = Path.cwd().parent\n",
    "config_dir = base_dir / \"config\"\n",
    "data_dir = base_dir / \"data\"\n",
    "docs_dir = base_dir / \"docs\"\n",
    "figures_dir = docs_dir / \"figures\"\n",
    "models_dir = base_dir / \"models\"\n",
    "logs_dir = base_dir / \"logs\"\n",
    "images_input_dir = data_dir / \"COVID19\"\n",
    "preprocessed_dir = data_dir / \"preprocessed\"\n",
    "output_dir = data_dir / \"output\"\n",
    "\n",
    "# Directories used to train the CNN (image by image) \n",
    "cnn_data_dir = data_dir / \"modelling\" / \"cnn\"\n",
    "cnn_train_dir = cnn_data_dir / \"train\"\n",
    "cnn_test_dir = cnn_data_dir / \"test\"\n",
    "\n",
    "metadata_file = images_input_dir / \"metadata.csv\"\n",
    "labels_file = images_input_dir / \"unzip_filenames.csv\"\n",
    "preprocessed_labels_file = preprocessed_dir / \"labels.parquet\"\n",
    "\n",
    "feature_extractor_model_file = models_dir / \"feature_extractor.tf\"\n",
    "\n",
    "from pyspark.sql import SparkSession\n",
    "from pyspark.sql import functions as F\n",
    "\n",
    "spark = SparkSession.builder.getOrCreate()\n",
    "\n",
    "config_file = config_dir / \"tfg.conf\"\n",
    "\n",
    "from pyhocon import ConfigFactory\n",
    "config = None\n",
    "\n",
    "def load_config():\n",
    "    return ConfigFactory.parse_file(config_file)\n",
    "\n",
    "config = load_config()\n",
    "    \n",
    "import sys\n",
    "\n",
    "if str(base_dir / \"src\") not in sys.path:\n",
    "    sys.path.append(str(base_dir / \"src\"))\n",
    "\n",
    "%load_ext autoreload\n",
    "\n",
    "%autoreload 2"
   ]
  },
  {
   "cell_type": "code",
   "execution_count": 2,
   "metadata": {},
   "outputs": [
    {
     "data": {
      "text/html": [
       "\n",
       "            <div>\n",
       "                <p><b>SparkSession - in-memory</b></p>\n",
       "                \n",
       "        <div>\n",
       "            <p><b>SparkContext</b></p>\n",
       "\n",
       "            <p><a href=\"http://192.168.0.235:4040\">Spark UI</a></p>\n",
       "\n",
       "            <dl>\n",
       "              <dt>Version</dt>\n",
       "                <dd><code>v3.0.1</code></dd>\n",
       "              <dt>Master</dt>\n",
       "                <dd><code>local[*]</code></dd>\n",
       "              <dt>AppName</dt>\n",
       "                <dd><code>pyspark-shell</code></dd>\n",
       "            </dl>\n",
       "        </div>\n",
       "        \n",
       "            </div>\n",
       "        "
      ],
      "text/plain": [
       "<pyspark.sql.session.SparkSession at 0x7f5de78d8040>"
      ]
     },
     "execution_count": 2,
     "metadata": {},
     "output_type": "execute_result"
    }
   ],
   "source": [
    "spark"
   ]
  },
  {
   "cell_type": "code",
   "execution_count": 145,
   "metadata": {},
   "outputs": [],
   "source": [
    "from tfg import DataRepository\n",
    "\n",
    "repo = DataRepository(config=config, base_data_path=data_dir)"
   ]
  },
  {
   "cell_type": "markdown",
   "metadata": {},
   "source": [
    "# Load CNN"
   ]
  },
  {
   "cell_type": "code",
   "execution_count": 91,
   "metadata": {},
   "outputs": [
    {
     "name": "stdout",
     "output_type": "stream",
     "text": [
      "Model: \"covid_classifier\"\n",
      "_________________________________________________________________\n",
      "Layer (type)                 Output Shape              Param #   \n",
      "=================================================================\n",
      "input_images (InputLayer)    [(None, 128, 128, 3)]     0         \n",
      "_________________________________________________________________\n",
      "conv2d_01 (Conv2D)           (None, 128, 128, 6)       168       \n",
      "_________________________________________________________________\n",
      "maxpool2d_01 (MaxPooling2D)  (None, 64, 64, 6)         0         \n",
      "_________________________________________________________________\n",
      "conv2d_02 (Conv2D)           (None, 64, 64, 12)        660       \n",
      "_________________________________________________________________\n",
      "maxpool2d_02 (MaxPooling2D)  (None, 32, 32, 12)        0         \n",
      "_________________________________________________________________\n",
      "conv2d_03 (Conv2D)           (None, 32, 32, 24)        2616      \n",
      "_________________________________________________________________\n",
      "maxpool2d_03 (MaxPooling2D)  (None, 16, 16, 24)        0         \n",
      "_________________________________________________________________\n",
      "conv2d_04 (Conv2D)           (None, 16, 16, 48)        10416     \n",
      "_________________________________________________________________\n",
      "maxpool2d_04 (MaxPooling2D)  (None, 8, 8, 48)          0         \n",
      "_________________________________________________________________\n",
      "conv2d_05 (Conv2D)           (None, 8, 8, 96)          41568     \n",
      "_________________________________________________________________\n",
      "dropout__05 (Dropout)        (None, 8, 8, 96)          0         \n",
      "_________________________________________________________________\n",
      "maxpool2d_05 (MaxPooling2D)  (None, 4, 4, 96)          0         \n",
      "_________________________________________________________________\n",
      "flatten (Flatten)            (None, 1536)              0         \n",
      "_________________________________________________________________\n",
      "dense_01 (Dense)             (None, 64)                98368     \n",
      "_________________________________________________________________\n",
      "dropout_01 (Dropout)         (None, 64)                0         \n",
      "_________________________________________________________________\n",
      "dense_02 (Dense)             (None, 32)                2080      \n",
      "_________________________________________________________________\n",
      "dropout_02 (Dropout)         (None, 32)                0         \n",
      "_________________________________________________________________\n",
      "output (Dense)               (None, 3)                 99        \n",
      "=================================================================\n",
      "Total params: 155,975\n",
      "Trainable params: 155,975\n",
      "Non-trainable params: 0\n",
      "_________________________________________________________________\n"
     ]
    }
   ],
   "source": [
    "from tensorflow.keras.models import load_model\n",
    "cnn_model_suffix = \"06\"\n",
    "model_file = models_dir / f\"feature_extractor_{cnn_model_suffix}.tf\"\n",
    "model = load_model(str(model_file))\n",
    "\n",
    "model.summary()"
   ]
  },
  {
   "cell_type": "markdown",
   "metadata": {},
   "source": [
    "# Load datasets"
   ]
  },
  {
   "cell_type": "code",
   "execution_count": null,
   "metadata": {},
   "outputs": [],
   "source": []
  },
  {
   "cell_type": "code",
   "execution_count": null,
   "metadata": {},
   "outputs": [],
   "source": []
  },
  {
   "cell_type": "code",
   "execution_count": 92,
   "metadata": {},
   "outputs": [],
   "source": [
    "img_size = config.get_int(\"tfg.training.img_size\")\n",
    "image_target_size = (img_size, img_size)\n",
    "seed = config.get_int(\"tfg.seed\")\n",
    "batch_size = config.get_int(\"tfg.training.batch_size\")"
   ]
  },
  {
   "cell_type": "code",
   "execution_count": 93,
   "metadata": {},
   "outputs": [],
   "source": [
    "from keras_preprocessing.image import ImageDataGenerator\n",
    "\n",
    "test_datagen = ImageDataGenerator(\n",
    "    rescale=1./255.,\n",
    ")"
   ]
  },
  {
   "cell_type": "markdown",
   "metadata": {},
   "source": [
    "## Train predictions"
   ]
  },
  {
   "cell_type": "code",
   "execution_count": 94,
   "metadata": {},
   "outputs": [
    {
     "name": "stdout",
     "output_type": "stream",
     "text": [
      "Found 331286 validated image filenames belonging to 3 classes.\n"
     ]
    }
   ],
   "source": [
    "train_df = repo.load(\"train_df\")\n",
    "train_generator = test_datagen.flow_from_dataframe(\n",
    "    dataframe=train_df,\n",
    "    directory=str(images_input_dir),\n",
    "    x_col=\"file\",\n",
    "    y_col=\"label\",\n",
    "    batch_size=batch_size,\n",
    "    seed=seed,\n",
    "    shuffle=False,\n",
    "    class_mode=\"categorical\",\n",
    "    target_size=image_target_size)"
   ]
  },
  {
   "cell_type": "code",
   "execution_count": 95,
   "metadata": {},
   "outputs": [
    {
     "data": {
      "text/plain": [
       "{'CP': 0, 'NCP': 1, 'Normal': 2}"
      ]
     },
     "execution_count": 95,
     "metadata": {},
     "output_type": "execute_result"
    }
   ],
   "source": [
    "train_generator.class_indices"
   ]
  },
  {
   "cell_type": "code",
   "execution_count": 96,
   "metadata": {},
   "outputs": [],
   "source": [
    "class_to_idx = train_generator.class_indices\n",
    "idx_to_class = { v: k for k, v in class_to_idx.items() }"
   ]
  },
  {
   "cell_type": "code",
   "execution_count": 97,
   "metadata": {},
   "outputs": [],
   "source": [
    "NUM_TRAIN_BATCHES = train_generator.n // train_generator.batch_size + 1"
   ]
  },
  {
   "cell_type": "code",
   "execution_count": 98,
   "metadata": {},
   "outputs": [
    {
     "name": "stdout",
     "output_type": "stream",
     "text": [
      "10353/10353 [==============================] - 2441s 236ms/step\n"
     ]
    },
    {
     "data": {
      "text/plain": [
       "(331286, 3)"
      ]
     },
     "execution_count": 98,
     "metadata": {},
     "output_type": "execute_result"
    }
   ],
   "source": [
    "raw_train_preds = model.predict(train_generator, steps=NUM_TRAIN_BATCHES, verbose=1)\n",
    "raw_train_preds.shape"
   ]
  },
  {
   "cell_type": "code",
   "execution_count": 119,
   "metadata": {},
   "outputs": [
    {
     "data": {
      "text/plain": [
       "array([2, 2, 2, 2, 2, 2, 2, 2, 2, 2])"
      ]
     },
     "execution_count": 119,
     "metadata": {},
     "output_type": "execute_result"
    }
   ],
   "source": [
    "train_preds = raw_train_preds.argmax(axis=1)\n",
    "train_preds[:10]"
   ]
  },
  {
   "cell_type": "code",
   "execution_count": 102,
   "metadata": {},
   "outputs": [
    {
     "data": {
      "text/plain": [
       "(331286, 3)"
      ]
     },
     "execution_count": 102,
     "metadata": {},
     "output_type": "execute_result"
    }
   ],
   "source": [
    "raw_train_preds.shape"
   ]
  },
  {
   "cell_type": "code",
   "execution_count": 108,
   "metadata": {},
   "outputs": [
    {
     "data": {
      "text/plain": [
       "[[0.006345381494611502, 0.2938346266746521, 0.6998199820518494],\n",
       " [0.003827716689556837, 0.3122704327106476, 0.683901846408844],\n",
       " [0.005725017748773098, 0.38320884108543396, 0.6110661625862122],\n",
       " [0.00022382025781553239, 0.29181888699531555, 0.7079572677612305],\n",
       " [3.348174141137861e-05, 0.18306158483028412, 0.8169049024581909]]"
      ]
     },
     "execution_count": 108,
     "metadata": {},
     "output_type": "execute_result"
    }
   ],
   "source": [
    "raw_train_preds_list = raw_train_preds.tolist()\n",
    "raw_train_preds_list[:5]"
   ]
  },
  {
   "cell_type": "code",
   "execution_count": 110,
   "metadata": {},
   "outputs": [
    {
     "data": {
      "text/plain": [
       "[0.006345381494611502,\n",
       " 0.003827716689556837,\n",
       " 0.005725017748773098,\n",
       " 0.00022382025781553239,\n",
       " 3.348174141137861e-05]"
      ]
     },
     "execution_count": 110,
     "metadata": {},
     "output_type": "execute_result"
    }
   ],
   "source": [
    "cp_index = train_generator.class_indices[\"CP\"]\n",
    "cp_probs = list(map(lambda probs: probs[cp_index], raw_train_preds_list))\n",
    "cp_probs[:5]"
   ]
  },
  {
   "cell_type": "code",
   "execution_count": 111,
   "metadata": {},
   "outputs": [
    {
     "data": {
      "text/plain": [
       "[0.2938346266746521,\n",
       " 0.3122704327106476,\n",
       " 0.38320884108543396,\n",
       " 0.29181888699531555,\n",
       " 0.18306158483028412]"
      ]
     },
     "execution_count": 111,
     "metadata": {},
     "output_type": "execute_result"
    }
   ],
   "source": [
    "ncp_index = train_generator.class_indices[\"NCP\"]\n",
    "ncp_probs = list(map(lambda probs: probs[ncp_index], raw_train_preds_list))\n",
    "ncp_probs[:5]"
   ]
  },
  {
   "cell_type": "code",
   "execution_count": 112,
   "metadata": {},
   "outputs": [
    {
     "data": {
      "text/plain": [
       "[0.6998199820518494,\n",
       " 0.683901846408844,\n",
       " 0.6110661625862122,\n",
       " 0.7079572677612305,\n",
       " 0.8169049024581909]"
      ]
     },
     "execution_count": 112,
     "metadata": {},
     "output_type": "execute_result"
    }
   ],
   "source": [
    "normal_index = train_generator.class_indices[\"Normal\"]\n",
    "normal_probs = list(map(lambda probs: probs[normal_index], raw_train_preds_list))\n",
    "normal_probs[:5]"
   ]
  },
  {
   "cell_type": "code",
   "execution_count": 116,
   "metadata": {},
   "outputs": [
    {
     "data": {
      "text/html": [
       "<div>\n",
       "<style scoped>\n",
       "    .dataframe tbody tr th:only-of-type {\n",
       "        vertical-align: middle;\n",
       "    }\n",
       "\n",
       "    .dataframe tbody tr th {\n",
       "        vertical-align: top;\n",
       "    }\n",
       "\n",
       "    .dataframe thead th {\n",
       "        text-align: right;\n",
       "    }\n",
       "</style>\n",
       "<table border=\"1\" class=\"dataframe\">\n",
       "  <thead>\n",
       "    <tr style=\"text-align: right;\">\n",
       "      <th></th>\n",
       "      <th>label</th>\n",
       "      <th>file</th>\n",
       "      <th>patient_id</th>\n",
       "      <th>scan_id</th>\n",
       "      <th>n_slice</th>\n",
       "      <th>num_clips</th>\n",
       "      <th>seq_num</th>\n",
       "      <th>clip_num</th>\n",
       "      <th>cp_prob</th>\n",
       "      <th>ncp_prob</th>\n",
       "      <th>normal_prob</th>\n",
       "    </tr>\n",
       "  </thead>\n",
       "  <tbody>\n",
       "    <tr>\n",
       "      <th>0</th>\n",
       "      <td>NCP</td>\n",
       "      <td>NCP/880/2415/0000.jpg</td>\n",
       "      <td>880</td>\n",
       "      <td>2415</td>\n",
       "      <td>312</td>\n",
       "      <td>5</td>\n",
       "      <td>0</td>\n",
       "      <td>0</td>\n",
       "      <td>0.006345</td>\n",
       "      <td>0.293835</td>\n",
       "      <td>0.699820</td>\n",
       "    </tr>\n",
       "    <tr>\n",
       "      <th>1</th>\n",
       "      <td>NCP</td>\n",
       "      <td>NCP/880/2415/0001.jpg</td>\n",
       "      <td>880</td>\n",
       "      <td>2415</td>\n",
       "      <td>312</td>\n",
       "      <td>5</td>\n",
       "      <td>1</td>\n",
       "      <td>0</td>\n",
       "      <td>0.003828</td>\n",
       "      <td>0.312270</td>\n",
       "      <td>0.683902</td>\n",
       "    </tr>\n",
       "    <tr>\n",
       "      <th>2</th>\n",
       "      <td>NCP</td>\n",
       "      <td>NCP/880/2415/0002.jpg</td>\n",
       "      <td>880</td>\n",
       "      <td>2415</td>\n",
       "      <td>312</td>\n",
       "      <td>5</td>\n",
       "      <td>2</td>\n",
       "      <td>0</td>\n",
       "      <td>0.005725</td>\n",
       "      <td>0.383209</td>\n",
       "      <td>0.611066</td>\n",
       "    </tr>\n",
       "    <tr>\n",
       "      <th>3</th>\n",
       "      <td>NCP</td>\n",
       "      <td>NCP/880/2415/0003.jpg</td>\n",
       "      <td>880</td>\n",
       "      <td>2415</td>\n",
       "      <td>312</td>\n",
       "      <td>5</td>\n",
       "      <td>3</td>\n",
       "      <td>0</td>\n",
       "      <td>0.000224</td>\n",
       "      <td>0.291819</td>\n",
       "      <td>0.707957</td>\n",
       "    </tr>\n",
       "    <tr>\n",
       "      <th>4</th>\n",
       "      <td>NCP</td>\n",
       "      <td>NCP/880/2415/0004.jpg</td>\n",
       "      <td>880</td>\n",
       "      <td>2415</td>\n",
       "      <td>312</td>\n",
       "      <td>5</td>\n",
       "      <td>4</td>\n",
       "      <td>0</td>\n",
       "      <td>0.000033</td>\n",
       "      <td>0.183062</td>\n",
       "      <td>0.816905</td>\n",
       "    </tr>\n",
       "  </tbody>\n",
       "</table>\n",
       "</div>"
      ],
      "text/plain": [
       "  label                   file  patient_id  scan_id  n_slice  num_clips  \\\n",
       "0   NCP  NCP/880/2415/0000.jpg         880     2415      312          5   \n",
       "1   NCP  NCP/880/2415/0001.jpg         880     2415      312          5   \n",
       "2   NCP  NCP/880/2415/0002.jpg         880     2415      312          5   \n",
       "3   NCP  NCP/880/2415/0003.jpg         880     2415      312          5   \n",
       "4   NCP  NCP/880/2415/0004.jpg         880     2415      312          5   \n",
       "\n",
       "   seq_num  clip_num   cp_prob  ncp_prob  normal_prob  \n",
       "0        0         0  0.006345  0.293835     0.699820  \n",
       "1        1         0  0.003828  0.312270     0.683902  \n",
       "2        2         0  0.005725  0.383209     0.611066  \n",
       "3        3         0  0.000224  0.291819     0.707957  \n",
       "4        4         0  0.000033  0.183062     0.816905  "
      ]
     },
     "execution_count": 116,
     "metadata": {},
     "output_type": "execute_result"
    }
   ],
   "source": [
    "train_df[\"cp_prob\"] = cp_probs\n",
    "train_df[\"ncp_prob\"] = ncp_probs\n",
    "train_df[\"normal_prob\"] = normal_probs\n",
    "train_df.head(5)"
   ]
  },
  {
   "cell_type": "code",
   "execution_count": 123,
   "metadata": {},
   "outputs": [
    {
     "data": {
      "text/plain": [
       "array([0, 0, 0, 0, 0])"
      ]
     },
     "execution_count": 123,
     "metadata": {},
     "output_type": "execute_result"
    }
   ],
   "source": [
    "cp_preds = (train_preds == cp_index).astype(\"int\")\n",
    "cp_preds[:5]"
   ]
  },
  {
   "cell_type": "code",
   "execution_count": 124,
   "metadata": {},
   "outputs": [
    {
     "data": {
      "text/plain": [
       "array([0, 0, 0, 0, 0])"
      ]
     },
     "execution_count": 124,
     "metadata": {},
     "output_type": "execute_result"
    }
   ],
   "source": [
    "ncp_preds = (train_preds == ncp_index).astype(\"int\")\n",
    "ncp_preds[:5]"
   ]
  },
  {
   "cell_type": "code",
   "execution_count": 125,
   "metadata": {},
   "outputs": [
    {
     "data": {
      "text/plain": [
       "array([1, 1, 1, 1, 1])"
      ]
     },
     "execution_count": 125,
     "metadata": {},
     "output_type": "execute_result"
    }
   ],
   "source": [
    "normal_preds = (train_preds == normal_index).astype(\"int\")\n",
    "normal_preds[:5]"
   ]
  },
  {
   "cell_type": "code",
   "execution_count": 126,
   "metadata": {},
   "outputs": [
    {
     "data": {
      "text/plain": [
       "{0: 'CP', 1: 'NCP', 2: 'Normal'}"
      ]
     },
     "execution_count": 126,
     "metadata": {},
     "output_type": "execute_result"
    }
   ],
   "source": [
    "idx_to_class"
   ]
  },
  {
   "cell_type": "code",
   "execution_count": 128,
   "metadata": {},
   "outputs": [
    {
     "data": {
      "text/plain": [
       "['Normal', 'Normal', 'Normal', 'Normal', 'Normal']"
      ]
     },
     "execution_count": 128,
     "metadata": {},
     "output_type": "execute_result"
    }
   ],
   "source": [
    "list(map(lambda idx: idx_to_class[idx], train_preds.tolist()))"
   ]
  },
  {
   "cell_type": "code",
   "execution_count": 129,
   "metadata": {},
   "outputs": [
    {
     "data": {
      "text/html": [
       "<div>\n",
       "<style scoped>\n",
       "    .dataframe tbody tr th:only-of-type {\n",
       "        vertical-align: middle;\n",
       "    }\n",
       "\n",
       "    .dataframe tbody tr th {\n",
       "        vertical-align: top;\n",
       "    }\n",
       "\n",
       "    .dataframe thead th {\n",
       "        text-align: right;\n",
       "    }\n",
       "</style>\n",
       "<table border=\"1\" class=\"dataframe\">\n",
       "  <thead>\n",
       "    <tr style=\"text-align: right;\">\n",
       "      <th></th>\n",
       "      <th>label</th>\n",
       "      <th>file</th>\n",
       "      <th>patient_id</th>\n",
       "      <th>scan_id</th>\n",
       "      <th>n_slice</th>\n",
       "      <th>num_clips</th>\n",
       "      <th>seq_num</th>\n",
       "      <th>clip_num</th>\n",
       "      <th>cp_prob</th>\n",
       "      <th>ncp_prob</th>\n",
       "      <th>normal_prob</th>\n",
       "      <th>cp_pred</th>\n",
       "      <th>ncp_pred</th>\n",
       "      <th>normal_pred</th>\n",
       "      <th>pred</th>\n",
       "    </tr>\n",
       "  </thead>\n",
       "  <tbody>\n",
       "    <tr>\n",
       "      <th>0</th>\n",
       "      <td>NCP</td>\n",
       "      <td>NCP/880/2415/0000.jpg</td>\n",
       "      <td>880</td>\n",
       "      <td>2415</td>\n",
       "      <td>312</td>\n",
       "      <td>5</td>\n",
       "      <td>0</td>\n",
       "      <td>0</td>\n",
       "      <td>0.006345</td>\n",
       "      <td>0.293835</td>\n",
       "      <td>0.699820</td>\n",
       "      <td>0</td>\n",
       "      <td>0</td>\n",
       "      <td>1</td>\n",
       "      <td>Normal</td>\n",
       "    </tr>\n",
       "    <tr>\n",
       "      <th>1</th>\n",
       "      <td>NCP</td>\n",
       "      <td>NCP/880/2415/0001.jpg</td>\n",
       "      <td>880</td>\n",
       "      <td>2415</td>\n",
       "      <td>312</td>\n",
       "      <td>5</td>\n",
       "      <td>1</td>\n",
       "      <td>0</td>\n",
       "      <td>0.003828</td>\n",
       "      <td>0.312270</td>\n",
       "      <td>0.683902</td>\n",
       "      <td>0</td>\n",
       "      <td>0</td>\n",
       "      <td>1</td>\n",
       "      <td>Normal</td>\n",
       "    </tr>\n",
       "    <tr>\n",
       "      <th>2</th>\n",
       "      <td>NCP</td>\n",
       "      <td>NCP/880/2415/0002.jpg</td>\n",
       "      <td>880</td>\n",
       "      <td>2415</td>\n",
       "      <td>312</td>\n",
       "      <td>5</td>\n",
       "      <td>2</td>\n",
       "      <td>0</td>\n",
       "      <td>0.005725</td>\n",
       "      <td>0.383209</td>\n",
       "      <td>0.611066</td>\n",
       "      <td>0</td>\n",
       "      <td>0</td>\n",
       "      <td>1</td>\n",
       "      <td>Normal</td>\n",
       "    </tr>\n",
       "    <tr>\n",
       "      <th>3</th>\n",
       "      <td>NCP</td>\n",
       "      <td>NCP/880/2415/0003.jpg</td>\n",
       "      <td>880</td>\n",
       "      <td>2415</td>\n",
       "      <td>312</td>\n",
       "      <td>5</td>\n",
       "      <td>3</td>\n",
       "      <td>0</td>\n",
       "      <td>0.000224</td>\n",
       "      <td>0.291819</td>\n",
       "      <td>0.707957</td>\n",
       "      <td>0</td>\n",
       "      <td>0</td>\n",
       "      <td>1</td>\n",
       "      <td>Normal</td>\n",
       "    </tr>\n",
       "    <tr>\n",
       "      <th>4</th>\n",
       "      <td>NCP</td>\n",
       "      <td>NCP/880/2415/0004.jpg</td>\n",
       "      <td>880</td>\n",
       "      <td>2415</td>\n",
       "      <td>312</td>\n",
       "      <td>5</td>\n",
       "      <td>4</td>\n",
       "      <td>0</td>\n",
       "      <td>0.000033</td>\n",
       "      <td>0.183062</td>\n",
       "      <td>0.816905</td>\n",
       "      <td>0</td>\n",
       "      <td>0</td>\n",
       "      <td>1</td>\n",
       "      <td>Normal</td>\n",
       "    </tr>\n",
       "  </tbody>\n",
       "</table>\n",
       "</div>"
      ],
      "text/plain": [
       "  label                   file  patient_id  scan_id  n_slice  num_clips  \\\n",
       "0   NCP  NCP/880/2415/0000.jpg         880     2415      312          5   \n",
       "1   NCP  NCP/880/2415/0001.jpg         880     2415      312          5   \n",
       "2   NCP  NCP/880/2415/0002.jpg         880     2415      312          5   \n",
       "3   NCP  NCP/880/2415/0003.jpg         880     2415      312          5   \n",
       "4   NCP  NCP/880/2415/0004.jpg         880     2415      312          5   \n",
       "\n",
       "   seq_num  clip_num   cp_prob  ncp_prob  normal_prob  cp_pred  ncp_pred  \\\n",
       "0        0         0  0.006345  0.293835     0.699820        0         0   \n",
       "1        1         0  0.003828  0.312270     0.683902        0         0   \n",
       "2        2         0  0.005725  0.383209     0.611066        0         0   \n",
       "3        3         0  0.000224  0.291819     0.707957        0         0   \n",
       "4        4         0  0.000033  0.183062     0.816905        0         0   \n",
       "\n",
       "   normal_pred    pred  \n",
       "0            1  Normal  \n",
       "1            1  Normal  \n",
       "2            1  Normal  \n",
       "3            1  Normal  \n",
       "4            1  Normal  "
      ]
     },
     "execution_count": 129,
     "metadata": {},
     "output_type": "execute_result"
    }
   ],
   "source": [
    "train_df[\"cp_pred\"] = cp_preds\n",
    "train_df[\"ncp_pred\"] = ncp_preds\n",
    "train_df[\"normal_pred\"] = normal_preds\n",
    "train_df[\"pred\"] = list(map(lambda idx: idx_to_class[idx], train_preds.tolist()))\n",
    "train_df.head(5)"
   ]
  },
  {
   "cell_type": "code",
   "execution_count": 130,
   "metadata": {},
   "outputs": [
    {
     "name": "stdout",
     "output_type": "stream",
     "text": [
      "+-----+--------------------+----------+-------+-------+---------+-------+--------+--------------------+-------------------+------------------+-------+--------+-----------+------+\n",
      "|label|                file|patient_id|scan_id|n_slice|num_clips|seq_num|clip_num|             cp_prob|           ncp_prob|       normal_prob|cp_pred|ncp_pred|normal_pred|  pred|\n",
      "+-----+--------------------+----------+-------+-------+---------+-------+--------+--------------------+-------------------+------------------+-------+--------+-----------+------+\n",
      "|  NCP|NCP/880/2415/0000...|       880|   2415|    312|        5|      0|       0|0.006345381494611502| 0.2938346266746521|0.6998199820518494|      0|       0|          1|Normal|\n",
      "|  NCP|NCP/880/2415/0001...|       880|   2415|    312|        5|      1|       0|0.003827716689556837| 0.3122704327106476| 0.683901846408844|      0|       0|          1|Normal|\n",
      "|  NCP|NCP/880/2415/0002...|       880|   2415|    312|        5|      2|       0|0.005725017748773098|0.38320884108543396|0.6110661625862122|      0|       0|          1|Normal|\n",
      "|  NCP|NCP/880/2415/0003...|       880|   2415|    312|        5|      3|       0|2.238202578155323...|0.29181888699531555|0.7079572677612305|      0|       0|          1|Normal|\n",
      "|  NCP|NCP/880/2415/0004...|       880|   2415|    312|        5|      4|       0|3.348174141137861E-5|0.18306158483028412|0.8169049024581909|      0|       0|          1|Normal|\n",
      "+-----+--------------------+----------+-------+-------+---------+-------+--------+--------------------+-------------------+------------------+-------+--------+-----------+------+\n",
      "only showing top 5 rows\n",
      "\n"
     ]
    }
   ],
   "source": [
    "train_sdf = spark.createDataFrame(train_df)\n",
    "train_sdf.show(5)"
   ]
  },
  {
   "cell_type": "code",
   "execution_count": 133,
   "metadata": {},
   "outputs": [
    {
     "name": "stdout",
     "output_type": "stream",
     "text": [
      "+----------+-------+------+-------+---------+--------------------+--------------------+--------------------+--------------------+--------------------+--------------------+--------+---------+------------+\n",
      "|patient_id|scan_id| label|n_slice|num_clips|         avg_cp_prob|      stddev_cp_prob|        avg_ncp_prob|     stddev_ncp_prob|     avg_normal_prob|  stddev_normal_prob|cp_preds|ncp_preds|normal_preds|\n",
      "+----------+-------+------+-------+---------+--------------------+--------------------+--------------------+--------------------+--------------------+--------------------+--------+---------+------------+\n",
      "|       880|   2415|   NCP|    312|        5|0.003093833851277...|0.006690080932743595|  0.4743867077602026| 0.24394925333099726|   0.522519455691322|  0.2452731045575023|       0|      126|         186|\n",
      "|      1346|   3735|    CP|     53|        1|  0.8482807885925725| 0.16039896432605463|0.019548055759789247|0.013912538753332005|  0.1321711584215628|  0.1684735085438899|      50|        0|           3|\n",
      "|      1373|   3800|    CP|     55|        1|  0.8816007982600819| 0.18560722127863982|0.011515017438903834|  0.0196978338976846| 0.10688418793253204|  0.1720219199028908|      54|        0|           1|\n",
      "|      1413|   3890|    CP|     66|        1| 0.47629026724614143|  0.3424021899168062|  0.5132465026029174|  0.3480435206994873|0.010463224225735444|0.012078799903691725|      32|       34|           0|\n",
      "|      1819|    274|Normal|     91|        2|0.010118667867483144| 0.04320944278056192|  0.5331355696851081|  0.2853363574247664| 0.45674575824331454| 0.28892111557934663|       0|       43|          48|\n",
      "+----------+-------+------+-------+---------+--------------------+--------------------+--------------------+--------------------+--------------------+--------------------+--------+---------+------------+\n",
      "only showing top 5 rows\n",
      "\n"
     ]
    }
   ],
   "source": [
    "from pyspark.sql import functions as F\n",
    "scan_preds = train_sdf\\\n",
    "    .groupBy(\"patient_id\", \"scan_id\")\\\n",
    "    .agg(\n",
    "        F.first(\"label\").alias(\"label\"),\n",
    "        F.first(\"n_slice\").alias(\"n_slice\"),\n",
    "        F.first(\"num_clips\").alias(\"num_clips\"),\n",
    "        F.avg(\"cp_prob\").alias(\"avg_cp_prob\"),\n",
    "        F.stddev(\"cp_prob\").alias(\"stddev_cp_prob\"),\n",
    "        F.avg(\"ncp_prob\").alias(\"avg_ncp_prob\"),\n",
    "        F.stddev(\"ncp_prob\").alias(\"stddev_ncp_prob\"),\n",
    "        F.avg(\"normal_prob\").alias(\"avg_normal_prob\"),\n",
    "        F.stddev(\"normal_prob\").alias(\"stddev_normal_prob\"),\n",
    "        F.sum(\"cp_pred\").alias(\"cp_preds\"),\n",
    "        F.sum(\"ncp_pred\").alias(\"ncp_preds\"),\n",
    "        F.sum(\"normal_pred\").alias(\"normal_preds\")\n",
    "    )\n",
    "\n",
    "scan_preds.show(5)"
   ]
  },
  {
   "cell_type": "code",
   "execution_count": 140,
   "metadata": {},
   "outputs": [],
   "source": [
    "from pyspark.sql.types import StringType\n",
    "\n",
    "def get_pred(cp_prob, ncp_prob, normal_prob):\n",
    "    if cp_prob > ncp_prob and cp_prob > normal_prob:\n",
    "        return \"CP\"\n",
    "    elif ncp_prob > cp_prob and ncp_prob > normal_prob:\n",
    "        return \"NCP\"\n",
    "    elif normal_prob > cp_prob and normal_prob > ncp_prob:\n",
    "        return \"Normal\"\n",
    "\n",
    "get_pred_udf = F.udf(get_pred, StringType())\n",
    "\n",
    "scan_preds = scan_preds\\\n",
    "    .withColumn(\"pred\", get_pred_udf(F.col(\"avg_cp_prob\"), F.col(\"avg_ncp_prob\"), F.col(\"avg_normal_prob\")))"
   ]
  },
  {
   "cell_type": "code",
   "execution_count": 141,
   "metadata": {},
   "outputs": [
    {
     "name": "stdout",
     "output_type": "stream",
     "text": [
      "+------+------+--------------------+--------------------+--------------------+--------------------+--------------------+--------------------+\n",
      "|  pred| label|         avg_cp_prob|        avg_ncp_prob|     avg_normal_prob|      stddev_cp_prob|     stddev_ncp_prob|  stddev_normal_prob|\n",
      "+------+------+--------------------+--------------------+--------------------+--------------------+--------------------+--------------------+\n",
      "|Normal|   NCP|0.003093833851277...|  0.4743867077602026|   0.522519455691322|0.006690080932743595| 0.24394925333099726|  0.2452731045575023|\n",
      "|    CP|    CP|  0.8482807885925725|0.019548055759789247|  0.1321711584215628| 0.16039896432605463|0.013912538753332005|  0.1684735085438899|\n",
      "|    CP|    CP|  0.8816007982600819|0.011515017438903834| 0.10688418793253204| 0.18560722127863982|  0.0196978338976846|  0.1720219199028908|\n",
      "|   NCP|    CP| 0.47629026724614143|  0.5132465026029174|0.010463224225735444|  0.3424021899168062|  0.3480435206994873|0.012078799903691725|\n",
      "|   NCP|Normal|0.010118667867483144|  0.5331355696851081| 0.45674575824331454| 0.04320944278056192|  0.2853363574247664| 0.28892111557934663|\n",
      "|Normal|Normal|0.002296648323815...| 0.18324472443308942|  0.8144586346177167|0.008815659066478687| 0.09474477828742454| 0.10068080558169434|\n",
      "|Normal|Normal|0.002390523174826...| 0.15281438218274465|  0.8447950954238573|0.010828367423613788| 0.09037491966183246| 0.09784209387777097|\n",
      "|   NCP|Normal|0.003677525471377...|  0.5205212901863787|  0.4758011799098717|0.003010814772210343| 0.20632389378585136| 0.20765554228317376|\n",
      "|    CP|    CP|  0.9663422315017037|0.005560821099409267|0.028096943056032556| 0.06536367553082142|0.005266698121005294| 0.06211659350845307|\n",
      "|    CP|    CP|  0.9309074408129642|0.030404141182340316| 0.03868841429912687| 0.07331324312098883| 0.03800942669989811| 0.06533415420105092|\n",
      "|   NCP|   NCP| 0.04759752626613468|  0.9368941485881805|0.015508328176717009| 0.12423147936438342| 0.15976925977641518| 0.04415275019464349|\n",
      "|   NCP|   NCP|0.013748878451558835|  0.9106646530006243| 0.07558646888703244| 0.06513496040917334| 0.21908351757752428| 0.20444868807081745|\n",
      "|   NCP|   NCP| 0.23989428635477686| 0.40367514099856106|  0.3564305687890364|  0.2435320761771595|  0.3210937853151127| 0.30516971819382765|\n",
      "|   NCP|   NCP|0.029076587510458086|   0.964094078348529|0.006829340856214678| 0.08151358411917795| 0.10213525698943186|0.026123800917926036|\n",
      "|    CP|    CP|  0.9768730245957069|0.021392407384936637|0.001734566142295807| 0.07238135992014645|  0.0718385858997195|0.007602016029580844|\n",
      "|    CP|    CP|  0.9963188826582814|0.002997371690959971|6.837355939801768E-4|0.006417264271655113|0.005944426800427474|0.001143604679831...|\n",
      "|    CP|    CP|  0.9704466952997095| 0.02550739630434834|0.004045907416144924| 0.05719761783389818|0.052072175939172786|0.010862072296998988|\n",
      "|    CP|    CP|  0.8528304734717934|  0.1194083200403369|0.027761204673762193| 0.16610740913337665|  0.1669560919379356|0.022628741285981427|\n",
      "|    CP|    CP|  0.7890405087516859|  0.1302498895674944| 0.08070960897916499| 0.12141931951428778| 0.13363718703317065| 0.06352929266086063|\n",
      "|    CP|    CP|  0.6729601362059193|0.011463329719845206|  0.3155765325552033|  0.1705557451341525|0.008887693925457497|  0.1737783429278719|\n",
      "+------+------+--------------------+--------------------+--------------------+--------------------+--------------------+--------------------+\n",
      "only showing top 20 rows\n",
      "\n"
     ]
    }
   ],
   "source": [
    "scan_preds\\\n",
    "    .withColumn(\"pred\", get_pred_udf(F.col(\"avg_cp_prob\"), F.col(\"avg_ncp_prob\"), F.col(\"avg_normal_prob\")))\\\n",
    "    .select(\"pred\", \"label\", \"avg_cp_prob\", \"avg_ncp_prob\", \"avg_normal_prob\", \"stddev_cp_prob\", \"stddev_ncp_prob\", \"stddev_normal_prob\")\\\n",
    "    .show()"
   ]
  },
  {
   "cell_type": "code",
   "execution_count": 149,
   "metadata": {},
   "outputs": [
    {
     "data": {
      "text/html": [
       "<div>\n",
       "<style scoped>\n",
       "    .dataframe tbody tr th:only-of-type {\n",
       "        vertical-align: middle;\n",
       "    }\n",
       "\n",
       "    .dataframe tbody tr th {\n",
       "        vertical-align: top;\n",
       "    }\n",
       "\n",
       "    .dataframe thead th {\n",
       "        text-align: right;\n",
       "    }\n",
       "</style>\n",
       "<table border=\"1\" class=\"dataframe\">\n",
       "  <thead>\n",
       "    <tr style=\"text-align: right;\">\n",
       "      <th></th>\n",
       "      <th>patient_id</th>\n",
       "      <th>scan_id</th>\n",
       "      <th>label</th>\n",
       "      <th>n_slice</th>\n",
       "      <th>num_clips</th>\n",
       "      <th>avg_cp_prob</th>\n",
       "      <th>stddev_cp_prob</th>\n",
       "      <th>avg_ncp_prob</th>\n",
       "      <th>stddev_ncp_prob</th>\n",
       "      <th>avg_normal_prob</th>\n",
       "      <th>stddev_normal_prob</th>\n",
       "      <th>cp_preds</th>\n",
       "      <th>ncp_preds</th>\n",
       "      <th>normal_preds</th>\n",
       "      <th>pred</th>\n",
       "    </tr>\n",
       "  </thead>\n",
       "  <tbody>\n",
       "    <tr>\n",
       "      <th>0</th>\n",
       "      <td>880</td>\n",
       "      <td>2415</td>\n",
       "      <td>NCP</td>\n",
       "      <td>312</td>\n",
       "      <td>5</td>\n",
       "      <td>0.003094</td>\n",
       "      <td>0.006690</td>\n",
       "      <td>0.474387</td>\n",
       "      <td>0.243949</td>\n",
       "      <td>0.522519</td>\n",
       "      <td>0.245273</td>\n",
       "      <td>0</td>\n",
       "      <td>126</td>\n",
       "      <td>186</td>\n",
       "      <td>Normal</td>\n",
       "    </tr>\n",
       "    <tr>\n",
       "      <th>1</th>\n",
       "      <td>1346</td>\n",
       "      <td>3735</td>\n",
       "      <td>CP</td>\n",
       "      <td>53</td>\n",
       "      <td>1</td>\n",
       "      <td>0.848281</td>\n",
       "      <td>0.160399</td>\n",
       "      <td>0.019548</td>\n",
       "      <td>0.013913</td>\n",
       "      <td>0.132171</td>\n",
       "      <td>0.168474</td>\n",
       "      <td>50</td>\n",
       "      <td>0</td>\n",
       "      <td>3</td>\n",
       "      <td>CP</td>\n",
       "    </tr>\n",
       "    <tr>\n",
       "      <th>2</th>\n",
       "      <td>1373</td>\n",
       "      <td>3800</td>\n",
       "      <td>CP</td>\n",
       "      <td>55</td>\n",
       "      <td>1</td>\n",
       "      <td>0.881601</td>\n",
       "      <td>0.185607</td>\n",
       "      <td>0.011515</td>\n",
       "      <td>0.019698</td>\n",
       "      <td>0.106884</td>\n",
       "      <td>0.172022</td>\n",
       "      <td>54</td>\n",
       "      <td>0</td>\n",
       "      <td>1</td>\n",
       "      <td>CP</td>\n",
       "    </tr>\n",
       "    <tr>\n",
       "      <th>3</th>\n",
       "      <td>1413</td>\n",
       "      <td>3890</td>\n",
       "      <td>CP</td>\n",
       "      <td>66</td>\n",
       "      <td>1</td>\n",
       "      <td>0.476290</td>\n",
       "      <td>0.342402</td>\n",
       "      <td>0.513247</td>\n",
       "      <td>0.348044</td>\n",
       "      <td>0.010463</td>\n",
       "      <td>0.012079</td>\n",
       "      <td>32</td>\n",
       "      <td>34</td>\n",
       "      <td>0</td>\n",
       "      <td>NCP</td>\n",
       "    </tr>\n",
       "    <tr>\n",
       "      <th>4</th>\n",
       "      <td>1819</td>\n",
       "      <td>274</td>\n",
       "      <td>Normal</td>\n",
       "      <td>91</td>\n",
       "      <td>2</td>\n",
       "      <td>0.010119</td>\n",
       "      <td>0.043209</td>\n",
       "      <td>0.533136</td>\n",
       "      <td>0.285336</td>\n",
       "      <td>0.456746</td>\n",
       "      <td>0.288921</td>\n",
       "      <td>0</td>\n",
       "      <td>43</td>\n",
       "      <td>48</td>\n",
       "      <td>NCP</td>\n",
       "    </tr>\n",
       "  </tbody>\n",
       "</table>\n",
       "</div>"
      ],
      "text/plain": [
       "   patient_id  scan_id   label  n_slice  num_clips  avg_cp_prob  \\\n",
       "0         880     2415     NCP      312          5     0.003094   \n",
       "1        1346     3735      CP       53          1     0.848281   \n",
       "2        1373     3800      CP       55          1     0.881601   \n",
       "3        1413     3890      CP       66          1     0.476290   \n",
       "4        1819      274  Normal       91          2     0.010119   \n",
       "\n",
       "   stddev_cp_prob  avg_ncp_prob  stddev_ncp_prob  avg_normal_prob  \\\n",
       "0        0.006690      0.474387         0.243949         0.522519   \n",
       "1        0.160399      0.019548         0.013913         0.132171   \n",
       "2        0.185607      0.011515         0.019698         0.106884   \n",
       "3        0.342402      0.513247         0.348044         0.010463   \n",
       "4        0.043209      0.533136         0.285336         0.456746   \n",
       "\n",
       "   stddev_normal_prob  cp_preds  ncp_preds  normal_preds    pred  \n",
       "0            0.245273         0        126           186  Normal  \n",
       "1            0.168474        50          0             3      CP  \n",
       "2            0.172022        54          0             1      CP  \n",
       "3            0.012079        32         34             0     NCP  \n",
       "4            0.288921         0         43            48     NCP  "
      ]
     },
     "execution_count": 149,
     "metadata": {},
     "output_type": "execute_result"
    }
   ],
   "source": [
    "scan_preds_df = scan_preds.toPandas()\n",
    "scan_preds_df.head(5)"
   ]
  },
  {
   "cell_type": "code",
   "execution_count": 150,
   "metadata": {},
   "outputs": [
    {
     "data": {
      "text/plain": [
       "True"
      ]
     },
     "execution_count": 150,
     "metadata": {},
     "output_type": "execute_result"
    }
   ],
   "source": [
    "repo.save(\"train_preds_vote\", scan_preds_df)"
   ]
  },
  {
   "cell_type": "markdown",
   "metadata": {},
   "source": [
    "## Validation"
   ]
  },
  {
   "cell_type": "code",
   "execution_count": 154,
   "metadata": {},
   "outputs": [],
   "source": [
    "from pyspark.sql import functions as F\n",
    "from pyspark.sql.types import StringType\n",
    "\n",
    "\n",
    "def create_vote_predictions(df, datagen, config, img_base_dir, spark):\n",
    "    img_size = config.get_int(\"tfg.training.img_size\")\n",
    "    image_target_size = (img_size, img_size)\n",
    "    seed = config.get_int(\"tfg.seed\")\n",
    "    batch_size = config.get_int(\"tfg.training.batch_size\")\n",
    "    \n",
    "    df_generator = datagen.flow_from_dataframe(\n",
    "        dataframe=df,\n",
    "        directory=str(img_base_dir),\n",
    "        x_col=\"file\",\n",
    "        y_col=\"label\",\n",
    "        batch_size=batch_size,\n",
    "        seed=seed,\n",
    "        shuffle=False,\n",
    "        class_mode=\"categorical\",\n",
    "        target_size=image_target_size)\n",
    "    \n",
    "    class_to_idx = df_generator.class_indices\n",
    "    idx_to_class = { v: k for k, v in class_to_idx.items() }\n",
    "    \n",
    "    NUM_BATCHES = df_generator.n // df_generator.batch_size + 1\n",
    "    \n",
    "    raw_preds = model.predict(df_generator, steps=NUM_BATCHES, verbose=1)\n",
    "    preds = raw_preds.argmax(axis=1)\n",
    "    raw_preds_list = raw_preds.tolist()\n",
    "    \n",
    "    cp_index = class_to_idx[\"CP\"]\n",
    "    ncp_index = class_to_idx[\"NCP\"]\n",
    "    normal_index = class_to_idx[\"Normal\"]\n",
    "    \n",
    "    cp_probs = list(map(lambda probs: probs[cp_index], raw_preds_list))\n",
    "    ncp_probs = list(map(lambda probs: probs[ncp_index], raw_preds_list))\n",
    "    normal_probs = list(map(lambda probs: probs[normal_index], raw_preds_list))\n",
    "    \n",
    "    cp_preds = (preds == cp_index).astype(\"int\")\n",
    "    ncp_preds = (preds == ncp_index).astype(\"int\")\n",
    "    normal_preds = (preds == normal_index).astype(\"int\")\n",
    "    \n",
    "    df[\"cp_prob\"] = cp_probs\n",
    "    df[\"ncp_prob\"] = ncp_probs\n",
    "    df[\"normal_prob\"] = normal_probs\n",
    "    df[\"cp_pred\"] = cp_preds\n",
    "    df[\"ncp_pred\"] = ncp_preds\n",
    "    df[\"normal_pred\"] = normal_preds\n",
    "    df[\"pred\"] = list(map(lambda idx: idx_to_class[idx], preds.tolist()))\n",
    "    \n",
    "    sdf = spark.createDataFrame(df)\n",
    "    scan_preds = sdf\\\n",
    "        .groupBy(\"patient_id\", \"scan_id\")\\\n",
    "        .agg(\n",
    "            F.first(\"label\").alias(\"label\"),\n",
    "            F.first(\"n_slice\").alias(\"n_slice\"),\n",
    "            F.first(\"num_clips\").alias(\"num_clips\"),\n",
    "            F.avg(\"cp_prob\").alias(\"avg_cp_prob\"),\n",
    "            F.stddev(\"cp_prob\").alias(\"stddev_cp_prob\"),\n",
    "            F.avg(\"ncp_prob\").alias(\"avg_ncp_prob\"),\n",
    "            F.stddev(\"ncp_prob\").alias(\"stddev_ncp_prob\"),\n",
    "            F.avg(\"normal_prob\").alias(\"avg_normal_prob\"),\n",
    "            F.stddev(\"normal_prob\").alias(\"stddev_normal_prob\"),\n",
    "            F.sum(\"cp_pred\").alias(\"cp_preds\"),\n",
    "            F.sum(\"ncp_pred\").alias(\"ncp_preds\"),\n",
    "            F.sum(\"normal_pred\").alias(\"normal_preds\")\n",
    "        )\n",
    "\n",
    "\n",
    "    def _get_pred(cp_prob, ncp_prob, normal_prob):\n",
    "        if cp_prob > ncp_prob and cp_prob > normal_prob:\n",
    "            return \"CP\"\n",
    "        elif ncp_prob > cp_prob and ncp_prob > normal_prob:\n",
    "            return \"NCP\"\n",
    "        elif normal_prob > cp_prob and normal_prob > ncp_prob:\n",
    "            return \"Normal\"\n",
    "\n",
    "    get_pred_udf = F.udf(_get_pred, StringType())\n",
    "\n",
    "    scan_preds = scan_preds\\\n",
    "        .withColumn(\n",
    "            \"pred\",\n",
    "            get_pred_udf(F.col(\"avg_cp_prob\"), F.col(\"avg_ncp_prob\"), F.col(\"avg_normal_prob\"))\n",
    "        )\n",
    "    scan_preds_df = scan_preds.toPandas()\n",
    "    \n",
    "    return scan_preds_df"
   ]
  },
  {
   "cell_type": "code",
   "execution_count": 155,
   "metadata": {},
   "outputs": [
    {
     "name": "stdout",
     "output_type": "stream",
     "text": [
      "Found 39828 validated image filenames belonging to 3 classes.\n",
      "1245/1245 [==============================] - 118s 95ms/step\n"
     ]
    },
    {
     "data": {
      "text/html": [
       "<div>\n",
       "<style scoped>\n",
       "    .dataframe tbody tr th:only-of-type {\n",
       "        vertical-align: middle;\n",
       "    }\n",
       "\n",
       "    .dataframe tbody tr th {\n",
       "        vertical-align: top;\n",
       "    }\n",
       "\n",
       "    .dataframe thead th {\n",
       "        text-align: right;\n",
       "    }\n",
       "</style>\n",
       "<table border=\"1\" class=\"dataframe\">\n",
       "  <thead>\n",
       "    <tr style=\"text-align: right;\">\n",
       "      <th></th>\n",
       "      <th>patient_id</th>\n",
       "      <th>scan_id</th>\n",
       "      <th>label</th>\n",
       "      <th>n_slice</th>\n",
       "      <th>num_clips</th>\n",
       "      <th>avg_cp_prob</th>\n",
       "      <th>stddev_cp_prob</th>\n",
       "      <th>avg_ncp_prob</th>\n",
       "      <th>stddev_ncp_prob</th>\n",
       "      <th>avg_normal_prob</th>\n",
       "      <th>stddev_normal_prob</th>\n",
       "      <th>cp_preds</th>\n",
       "      <th>ncp_preds</th>\n",
       "      <th>normal_preds</th>\n",
       "      <th>pred</th>\n",
       "    </tr>\n",
       "  </thead>\n",
       "  <tbody>\n",
       "    <tr>\n",
       "      <th>0</th>\n",
       "      <td>450</td>\n",
       "      <td>2055</td>\n",
       "      <td>NCP</td>\n",
       "      <td>34</td>\n",
       "      <td>450</td>\n",
       "      <td>0.068885</td>\n",
       "      <td>0.102521</td>\n",
       "      <td>0.850380</td>\n",
       "      <td>0.231608</td>\n",
       "      <td>0.080735</td>\n",
       "      <td>0.217883</td>\n",
       "      <td>0</td>\n",
       "      <td>31</td>\n",
       "      <td>3</td>\n",
       "      <td>NCP</td>\n",
       "    </tr>\n",
       "    <tr>\n",
       "      <th>1</th>\n",
       "      <td>566</td>\n",
       "      <td>2290</td>\n",
       "      <td>NCP</td>\n",
       "      <td>160</td>\n",
       "      <td>566</td>\n",
       "      <td>0.200244</td>\n",
       "      <td>0.316166</td>\n",
       "      <td>0.636572</td>\n",
       "      <td>0.369391</td>\n",
       "      <td>0.163184</td>\n",
       "      <td>0.268835</td>\n",
       "      <td>31</td>\n",
       "      <td>102</td>\n",
       "      <td>27</td>\n",
       "      <td>NCP</td>\n",
       "    </tr>\n",
       "    <tr>\n",
       "      <th>2</th>\n",
       "      <td>602</td>\n",
       "      <td>2964</td>\n",
       "      <td>CP</td>\n",
       "      <td>84</td>\n",
       "      <td>602</td>\n",
       "      <td>0.831133</td>\n",
       "      <td>0.187537</td>\n",
       "      <td>0.061089</td>\n",
       "      <td>0.109699</td>\n",
       "      <td>0.107778</td>\n",
       "      <td>0.122036</td>\n",
       "      <td>79</td>\n",
       "      <td>4</td>\n",
       "      <td>1</td>\n",
       "      <td>CP</td>\n",
       "    </tr>\n",
       "    <tr>\n",
       "      <th>3</th>\n",
       "      <td>1737</td>\n",
       "      <td>1040</td>\n",
       "      <td>Normal</td>\n",
       "      <td>80</td>\n",
       "      <td>1737</td>\n",
       "      <td>0.057877</td>\n",
       "      <td>0.128790</td>\n",
       "      <td>0.005911</td>\n",
       "      <td>0.014034</td>\n",
       "      <td>0.936212</td>\n",
       "      <td>0.128980</td>\n",
       "      <td>3</td>\n",
       "      <td>0</td>\n",
       "      <td>77</td>\n",
       "      <td>Normal</td>\n",
       "    </tr>\n",
       "    <tr>\n",
       "      <th>4</th>\n",
       "      <td>3705</td>\n",
       "      <td>5532</td>\n",
       "      <td>NCP</td>\n",
       "      <td>63</td>\n",
       "      <td>3705</td>\n",
       "      <td>0.454390</td>\n",
       "      <td>0.346227</td>\n",
       "      <td>0.448885</td>\n",
       "      <td>0.405858</td>\n",
       "      <td>0.096725</td>\n",
       "      <td>0.144174</td>\n",
       "      <td>28</td>\n",
       "      <td>31</td>\n",
       "      <td>4</td>\n",
       "      <td>CP</td>\n",
       "    </tr>\n",
       "  </tbody>\n",
       "</table>\n",
       "</div>"
      ],
      "text/plain": [
       "   patient_id  scan_id   label  n_slice  num_clips  avg_cp_prob  \\\n",
       "0         450     2055     NCP       34        450     0.068885   \n",
       "1         566     2290     NCP      160        566     0.200244   \n",
       "2         602     2964      CP       84        602     0.831133   \n",
       "3        1737     1040  Normal       80       1737     0.057877   \n",
       "4        3705     5532     NCP       63       3705     0.454390   \n",
       "\n",
       "   stddev_cp_prob  avg_ncp_prob  stddev_ncp_prob  avg_normal_prob  \\\n",
       "0        0.102521      0.850380         0.231608         0.080735   \n",
       "1        0.316166      0.636572         0.369391         0.163184   \n",
       "2        0.187537      0.061089         0.109699         0.107778   \n",
       "3        0.128790      0.005911         0.014034         0.936212   \n",
       "4        0.346227      0.448885         0.405858         0.096725   \n",
       "\n",
       "   stddev_normal_prob  cp_preds  ncp_preds  normal_preds    pred  \n",
       "0            0.217883         0         31             3     NCP  \n",
       "1            0.268835        31        102            27     NCP  \n",
       "2            0.122036        79          4             1      CP  \n",
       "3            0.128980         3          0            77  Normal  \n",
       "4            0.144174        28         31             4      CP  "
      ]
     },
     "execution_count": 155,
     "metadata": {},
     "output_type": "execute_result"
    }
   ],
   "source": [
    "val_df = repo.load(\"val_df\")\n",
    "val_scan_preds = create_vote_predictions(val_df, test_datagen, config=config, img_base_dir=images_input_dir, spark=spark)\n",
    "val_scan_preds.head(5)"
   ]
  },
  {
   "cell_type": "code",
   "execution_count": 156,
   "metadata": {},
   "outputs": [
    {
     "data": {
      "text/plain": [
       "True"
      ]
     },
     "execution_count": 156,
     "metadata": {},
     "output_type": "execute_result"
    }
   ],
   "source": [
    "repo.save(\"val_preds_vote\", val_scan_preds)"
   ]
  },
  {
   "cell_type": "code",
   "execution_count": 157,
   "metadata": {},
   "outputs": [
    {
     "name": "stdout",
     "output_type": "stream",
     "text": [
      "Found 40415 validated image filenames belonging to 3 classes.\n",
      "1263/1263 [==============================] - 292s 231ms/step\n"
     ]
    },
    {
     "data": {
      "text/html": [
       "<div>\n",
       "<style scoped>\n",
       "    .dataframe tbody tr th:only-of-type {\n",
       "        vertical-align: middle;\n",
       "    }\n",
       "\n",
       "    .dataframe tbody tr th {\n",
       "        vertical-align: top;\n",
       "    }\n",
       "\n",
       "    .dataframe thead th {\n",
       "        text-align: right;\n",
       "    }\n",
       "</style>\n",
       "<table border=\"1\" class=\"dataframe\">\n",
       "  <thead>\n",
       "    <tr style=\"text-align: right;\">\n",
       "      <th></th>\n",
       "      <th>patient_id</th>\n",
       "      <th>scan_id</th>\n",
       "      <th>label</th>\n",
       "      <th>n_slice</th>\n",
       "      <th>num_clips</th>\n",
       "      <th>avg_cp_prob</th>\n",
       "      <th>stddev_cp_prob</th>\n",
       "      <th>avg_ncp_prob</th>\n",
       "      <th>stddev_ncp_prob</th>\n",
       "      <th>avg_normal_prob</th>\n",
       "      <th>stddev_normal_prob</th>\n",
       "      <th>cp_preds</th>\n",
       "      <th>ncp_preds</th>\n",
       "      <th>normal_preds</th>\n",
       "      <th>pred</th>\n",
       "    </tr>\n",
       "  </thead>\n",
       "  <tbody>\n",
       "    <tr>\n",
       "      <th>0</th>\n",
       "      <td>86</td>\n",
       "      <td>1305</td>\n",
       "      <td>NCP</td>\n",
       "      <td>117</td>\n",
       "      <td>86</td>\n",
       "      <td>0.030664</td>\n",
       "      <td>0.077382</td>\n",
       "      <td>0.968109</td>\n",
       "      <td>0.079124</td>\n",
       "      <td>0.001227</td>\n",
       "      <td>0.003326</td>\n",
       "      <td>0</td>\n",
       "      <td>117</td>\n",
       "      <td>0</td>\n",
       "      <td>NCP</td>\n",
       "    </tr>\n",
       "    <tr>\n",
       "      <th>1</th>\n",
       "      <td>171</td>\n",
       "      <td>1486</td>\n",
       "      <td>NCP</td>\n",
       "      <td>143</td>\n",
       "      <td>171</td>\n",
       "      <td>0.117776</td>\n",
       "      <td>0.236235</td>\n",
       "      <td>0.807134</td>\n",
       "      <td>0.295087</td>\n",
       "      <td>0.075090</td>\n",
       "      <td>0.123907</td>\n",
       "      <td>17</td>\n",
       "      <td>121</td>\n",
       "      <td>5</td>\n",
       "      <td>NCP</td>\n",
       "    </tr>\n",
       "    <tr>\n",
       "      <th>2</th>\n",
       "      <td>1713</td>\n",
       "      <td>980</td>\n",
       "      <td>Normal</td>\n",
       "      <td>71</td>\n",
       "      <td>1713</td>\n",
       "      <td>0.598822</td>\n",
       "      <td>0.209418</td>\n",
       "      <td>0.009842</td>\n",
       "      <td>0.013433</td>\n",
       "      <td>0.391336</td>\n",
       "      <td>0.208539</td>\n",
       "      <td>42</td>\n",
       "      <td>0</td>\n",
       "      <td>29</td>\n",
       "      <td>CP</td>\n",
       "    </tr>\n",
       "    <tr>\n",
       "      <th>3</th>\n",
       "      <td>2206</td>\n",
       "      <td>661</td>\n",
       "      <td>Normal</td>\n",
       "      <td>77</td>\n",
       "      <td>2206</td>\n",
       "      <td>0.005455</td>\n",
       "      <td>0.010648</td>\n",
       "      <td>0.432917</td>\n",
       "      <td>0.185457</td>\n",
       "      <td>0.561629</td>\n",
       "      <td>0.187593</td>\n",
       "      <td>0</td>\n",
       "      <td>19</td>\n",
       "      <td>58</td>\n",
       "      <td>Normal</td>\n",
       "    </tr>\n",
       "    <tr>\n",
       "      <th>4</th>\n",
       "      <td>2758</td>\n",
       "      <td>3289</td>\n",
       "      <td>CP</td>\n",
       "      <td>35</td>\n",
       "      <td>2758</td>\n",
       "      <td>0.597576</td>\n",
       "      <td>0.285313</td>\n",
       "      <td>0.006985</td>\n",
       "      <td>0.025373</td>\n",
       "      <td>0.395439</td>\n",
       "      <td>0.290987</td>\n",
       "      <td>18</td>\n",
       "      <td>0</td>\n",
       "      <td>17</td>\n",
       "      <td>CP</td>\n",
       "    </tr>\n",
       "  </tbody>\n",
       "</table>\n",
       "</div>"
      ],
      "text/plain": [
       "   patient_id  scan_id   label  n_slice  num_clips  avg_cp_prob  \\\n",
       "0          86     1305     NCP      117         86     0.030664   \n",
       "1         171     1486     NCP      143        171     0.117776   \n",
       "2        1713      980  Normal       71       1713     0.598822   \n",
       "3        2206      661  Normal       77       2206     0.005455   \n",
       "4        2758     3289      CP       35       2758     0.597576   \n",
       "\n",
       "   stddev_cp_prob  avg_ncp_prob  stddev_ncp_prob  avg_normal_prob  \\\n",
       "0        0.077382      0.968109         0.079124         0.001227   \n",
       "1        0.236235      0.807134         0.295087         0.075090   \n",
       "2        0.209418      0.009842         0.013433         0.391336   \n",
       "3        0.010648      0.432917         0.185457         0.561629   \n",
       "4        0.285313      0.006985         0.025373         0.395439   \n",
       "\n",
       "   stddev_normal_prob  cp_preds  ncp_preds  normal_preds    pred  \n",
       "0            0.003326         0        117             0     NCP  \n",
       "1            0.123907        17        121             5     NCP  \n",
       "2            0.208539        42          0            29      CP  \n",
       "3            0.187593         0         19            58  Normal  \n",
       "4            0.290987        18          0            17      CP  "
      ]
     },
     "execution_count": 157,
     "metadata": {},
     "output_type": "execute_result"
    }
   ],
   "source": [
    "test_df = repo.load(\"test_df\")\n",
    "test_scan_preds = create_vote_predictions(test_df, test_datagen, config=config, img_base_dir=images_input_dir, spark=spark)\n",
    "test_scan_preds.head(5)"
   ]
  },
  {
   "cell_type": "code",
   "execution_count": 158,
   "metadata": {},
   "outputs": [
    {
     "data": {
      "text/plain": [
       "True"
      ]
     },
     "execution_count": 158,
     "metadata": {},
     "output_type": "execute_result"
    }
   ],
   "source": [
    "repo.save(\"test_preds_vote\", test_scan_preds)"
   ]
  },
  {
   "cell_type": "markdown",
   "metadata": {},
   "source": [
    "# Evaluation of the different sets"
   ]
  },
  {
   "cell_type": "code",
   "execution_count": 175,
   "metadata": {},
   "outputs": [],
   "source": [
    "from sklearn.metrics import confusion_matrix, precision_recall_fscore_support\n",
    "import seaborn as sns\n",
    "import matplotlib.pyplot as plt\n",
    "\n",
    "sns.set_style(\"whitegrid\")\n",
    "sns.set(rc={'figure.figsize':(13, 9)})"
   ]
  },
  {
   "cell_type": "code",
   "execution_count": 164,
   "metadata": {},
   "outputs": [],
   "source": [
    "import numpy as np\n",
    "import itertools\n",
    "\n",
    "sns.set_style(\"whitegrid\", {'axes.grid' : False})\n",
    "\n",
    "# based on answer from https://datascience.stackexchange.com/questions/40067/confusion-matrix-three-classes-python\n",
    "def plot_confusion_matrix(cm, classes,\n",
    "                          save_to=None,\n",
    "                          normalize=True,\n",
    "                          title='Confusion matrix',\n",
    "                          cmap=plt.cm.Blues):\n",
    "    \"\"\"\n",
    "    This function prints and plots the confusion matrix.\n",
    "    Normalization can be applied by setting `normalize=True`.\n",
    "    \"\"\"\n",
    "    \n",
    "    if normalize:\n",
    "        cm = cm.astype('float') / cm.sum(axis=1)[:, np.newaxis]\n",
    "        print(\"Normalized confusion matrix\")\n",
    "    else:\n",
    "        print('Confusion matrix, without normalization')\n",
    "\n",
    "    print(cm)\n",
    "\n",
    "    plt.imshow(cm, interpolation='nearest', cmap=cmap)\n",
    "    plt.title(title, fontdict={'fontsize' : 26})\n",
    "    plt.colorbar()\n",
    "    tick_marks = np.arange(len(classes))\n",
    "    plt.xticks(tick_marks, classes, fontsize=18)\n",
    "    plt.yticks(tick_marks, classes, fontsize=18)\n",
    "\n",
    "    fmt_pct = lambda pct: f\"{100 * pct:.2f}%\" if normalize else f\"{int(100 * pct)}%\"\n",
    "    thresh = cm.max() / 2.\n",
    "    for i, j in itertools.product(range(cm.shape[0]), range(cm.shape[1])):\n",
    "        plt.text(j, i, fmt_pct(cm[i, j]),\n",
    "                 horizontalalignment=\"center\",\n",
    "                 color=\"white\" if cm[i, j] > thresh else \"black\",\n",
    "                 fontdict={'fontsize' : 16})\n",
    "\n",
    "    plt.ylabel('True label', fontdict={'fontsize' : 22})\n",
    "    plt.xlabel('Predicted label', fontdict={'fontsize' : 22})\n",
    "    plt.tight_layout()\n",
    "    \n",
    "    if save_to:\n",
    "        plt.savefig(save_to)"
   ]
  },
  {
   "cell_type": "code",
   "execution_count": 184,
   "metadata": {},
   "outputs": [],
   "source": [
    "def print_metrics(dataset, true_labels, pred_labels):\n",
    "    prec, rec, f1, _ = precision_recall_fscore_support(true_labels, pred_labels, average=\"weighted\")\n",
    "    print(f\"{dataset} F1 Score: {100 * f1: .2f}%\")\n",
    "    print(f\"{dataset} Precision: {100 * prec: .2f}%\")\n",
    "    print(f\"{dataset} Recall: {100 * rec: .2f}%\")"
   ]
  },
  {
   "cell_type": "code",
   "execution_count": 166,
   "metadata": {},
   "outputs": [],
   "source": [
    "class_to_idx = {'CP': 0, 'NCP': 1, 'Normal': 2}\n",
    "idx_to_class = { v: k for k, v in class_to_idx.items() }\n",
    "class_labels = [k for k in class_to_idx.keys()]"
   ]
  },
  {
   "cell_type": "markdown",
   "metadata": {},
   "source": [
    "## Training"
   ]
  },
  {
   "cell_type": "code",
   "execution_count": 180,
   "metadata": {},
   "outputs": [
    {
     "name": "stdout",
     "output_type": "stream",
     "text": [
      "Normalized confusion matrix\n",
      "[[0.90317331 0.06102522 0.03580146]\n",
      " [0.03091945 0.92188771 0.04719284]\n",
      " [0.09865471 0.12892377 0.77242152]]\n"
     ]
    },
    {
     "data": {
      "image/png": "[encoded data removed]",
      "text/plain": [
       "<Figure size 936x648 with 2 Axes>"
      ]
     },
     "metadata": {},
     "output_type": "display_data"
    }
   ],
   "source": [
    "train_preds_df = repo.load(\"train_preds_vote\")\n",
    "train_preds_df[\"label_idx\"] = train_preds_df[\"label\"].apply(class_to_idx.get)\n",
    "train_preds_df[\"pred_idx\"] = train_preds_df[\"pred\"].apply(class_to_idx.get)\n",
    "train_true = train_preds_df[\"label_idx\"].values\n",
    "train_pred = train_preds_df[\"pred_idx\"].values\n",
    "train_cm = confusion_matrix(train_true, train_pred)\n",
    "\n",
    "plot_confusion_matrix(\n",
    "    train_cm,\n",
    "    classes=class_labels,\n",
    "    title='Voting Model - Confusion matrix for the Training Set',\n",
    "    save_to=figures_dir / \"models\" / \"voting\" / f\"train_conf_matrix.png\")"
   ]
  },
  {
   "cell_type": "code",
   "execution_count": 185,
   "metadata": {},
   "outputs": [
    {
     "name": "stdout",
     "output_type": "stream",
     "text": [
      "Training F1 Score:  87.42%\n",
      "Training Precision:  87.56%\n",
      "Training Recall:  87.52%\n"
     ]
    }
   ],
   "source": [
    "print_metrics(\"Training\", train_true, train_pred)"
   ]
  },
  {
   "cell_type": "markdown",
   "metadata": {},
   "source": [
    "## Validation"
   ]
  },
  {
   "cell_type": "code",
   "execution_count": 179,
   "metadata": {},
   "outputs": [
    {
     "name": "stdout",
     "output_type": "stream",
     "text": [
      "Normalized confusion matrix\n",
      "[[0.90131579 0.06578947 0.03289474]\n",
      " [0.03164557 0.96202532 0.00632911]\n",
      " [0.11956522 0.09782609 0.7826087 ]]\n"
     ]
    },
    {
     "data": {
      "image/png": "[encoded data removed]",
      "text/plain": [
       "<Figure size 936x648 with 2 Axes>"
      ]
     },
     "metadata": {},
     "output_type": "display_data"
    }
   ],
   "source": [
    "val_preds_df = repo.load(\"val_preds_vote\")\n",
    "val_preds_df[\"label_idx\"] = val_preds_df[\"label\"].apply(class_to_idx.get)\n",
    "val_preds_df[\"pred_idx\"] = val_preds_df[\"pred\"].apply(class_to_idx.get)\n",
    "val_true = val_preds_df[\"label_idx\"].values\n",
    "val_pred = val_preds_df[\"pred_idx\"].values\n",
    "val_cm = confusion_matrix(val_true, val_pred)\n",
    "\n",
    "plot_confusion_matrix(\n",
    "    val_cm,\n",
    "    classes=class_labels,\n",
    "    title='Voting Model - Confusion matrix for the Validation Set',\n",
    "    save_to=figures_dir / \"models\" / \"voting\" / f\"val_conf_matrix.png\")"
   ]
  },
  {
   "cell_type": "code",
   "execution_count": 186,
   "metadata": {},
   "outputs": [
    {
     "name": "stdout",
     "output_type": "stream",
     "text": [
      "Validation F1 Score:  89.67%\n",
      "Validation Precision:  89.92%\n",
      "Validation Recall:  89.80%\n"
     ]
    }
   ],
   "source": [
    "print_metrics(\"Validation\", val_true, val_pred)"
   ]
  },
  {
   "cell_type": "markdown",
   "metadata": {},
   "source": [
    "## Test"
   ]
  },
  {
   "cell_type": "code",
   "execution_count": 181,
   "metadata": {},
   "outputs": [
    {
     "name": "stdout",
     "output_type": "stream",
     "text": [
      "Normalized confusion matrix\n",
      "[[0.87428571 0.07428571 0.05142857]\n",
      " [0.03184713 0.9044586  0.06369427]\n",
      " [0.08510638 0.14893617 0.76595745]]\n"
     ]
    },
    {
     "data": {
      "image/png": "[encoded data removed]",
      "text/plain": [
       "<Figure size 936x648 with 2 Axes>"
      ]
     },
     "metadata": {},
     "output_type": "display_data"
    }
   ],
   "source": [
    "test_preds_df = repo.load(\"test_preds_vote\")\n",
    "test_preds_df[\"label_idx\"] = test_preds_df[\"label\"].apply(class_to_idx.get)\n",
    "test_preds_df[\"pred_idx\"] = test_preds_df[\"pred\"].apply(class_to_idx.get)\n",
    "test_true = test_preds_df[\"label_idx\"].values\n",
    "test_pred = test_preds_df[\"pred_idx\"].values\n",
    "test_cm = confusion_matrix(test_true, test_pred)\n",
    "\n",
    "plot_confusion_matrix(\n",
    "    test_cm,\n",
    "    classes=class_labels,\n",
    "    title='Voting Model - Confusion matrix for the Test Set',\n",
    "    save_to=figures_dir / \"models\" / \"voting\" / f\"test_conf_matrix.png\")"
   ]
  },
  {
   "cell_type": "code",
   "execution_count": 187,
   "metadata": {},
   "outputs": [
    {
     "name": "stdout",
     "output_type": "stream",
     "text": [
      "Test F1 Score:  86.15%\n",
      "Test Precision:  86.29%\n",
      "Test Recall:  86.15%\n"
     ]
    }
   ],
   "source": [
    "print_metrics(\"Test\", test_true, test_pred)"
   ]
  },
  {
   "cell_type": "code",
   "execution_count": null,
   "metadata": {},
   "outputs": [],
   "source": []
  }
 ],
 "metadata": {
  "kernelspec": {
   "display_name": "Python 3",
   "language": "python",
   "name": "python3"
  },
  "language_info": {
   "codemirror_mode": {
    "name": "ipython",
    "version": 3
   },
   "file_extension": ".py",
   "mimetype": "text/x-python",
   "name": "python",
   "nbconvert_exporter": "python",
   "pygments_lexer": "ipython3",
   "version": "3.8.5"
  }
 },
 "nbformat": 4,
 "nbformat_minor": 4
}
