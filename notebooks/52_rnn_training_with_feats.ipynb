{
 "cells": [
  {
   "cell_type": "markdown",
   "metadata": {},
   "source": [
    "# Notebook Initialization"
   ]
  },
  {
   "cell_type": "code",
   "execution_count": 1,
   "metadata": {},
   "outputs": [],
   "source": [
    "# %load nb_init.py\n",
    "\n",
    "from pathlib import Path\n",
    "import pandas as pd\n",
    "\n",
    "base_dir = Path.cwd().parent\n",
    "config_dir = base_dir / \"config\"\n",
    "data_dir = base_dir / \"data\"\n",
    "docs_dir = base_dir / \"docs\"\n",
    "figures_dir = docs_dir / \"figures\"\n",
    "models_dir = base_dir / \"models\"\n",
    "logs_dir = base_dir / \"logs\"\n",
    "images_input_dir = data_dir / \"COVID19\"\n",
    "preprocessed_dir = data_dir / \"preprocessed\"\n",
    "output_dir = data_dir / \"output\"\n",
    "\n",
    "# Directories used to train the CNN (image by image) \n",
    "cnn_data_dir = data_dir / \"modelling\" / \"cnn\"\n",
    "cnn_train_dir = cnn_data_dir / \"train\"\n",
    "cnn_test_dir = cnn_data_dir / \"test\"\n",
    "\n",
    "metadata_file = images_input_dir / \"metadata.csv\"\n",
    "labels_file = images_input_dir / \"unzip_filenames.csv\"\n",
    "preprocessed_labels_file = preprocessed_dir / \"labels.parquet\"\n",
    "\n",
    "feature_extractor_model_file = models_dir / \"feature_extractor.tf\"\n",
    "\n",
    "from pyspark.sql import SparkSession\n",
    "from pyspark.sql import functions as F\n",
    "\n",
    "spark = SparkSession.builder.getOrCreate()\n",
    "\n",
    "config_file = config_dir / \"tfg.conf\"\n",
    "\n",
    "from pyhocon import ConfigFactory\n",
    "config = None\n",
    "\n",
    "def load_config():\n",
    "    return ConfigFactory.parse_file(config_file)\n",
    "\n",
    "config = load_config()\n",
    "    \n",
    "import sys\n",
    "\n",
    "if str(base_dir / \"src\") not in sys.path:\n",
    "    sys.path.append(str(base_dir / \"src\"))\n",
    "\n",
    "%load_ext autoreload\n",
    "\n",
    "%autoreload 2"
   ]
  },
  {
   "cell_type": "code",
   "execution_count": 2,
   "metadata": {},
   "outputs": [
    {
     "data": {
      "text/html": [
       "\n",
       "            <div>\n",
       "                <p><b>SparkSession - in-memory</b></p>\n",
       "                \n",
       "        <div>\n",
       "            <p><b>SparkContext</b></p>\n",
       "\n",
       "            <p><a href=\"http://192.168.0.235:4040\">Spark UI</a></p>\n",
       "\n",
       "            <dl>\n",
       "              <dt>Version</dt>\n",
       "                <dd><code>v3.0.1</code></dd>\n",
       "              <dt>Master</dt>\n",
       "                <dd><code>local[*]</code></dd>\n",
       "              <dt>AppName</dt>\n",
       "                <dd><code>pyspark-shell</code></dd>\n",
       "            </dl>\n",
       "        </div>\n",
       "        \n",
       "            </div>\n",
       "        "
      ],
      "text/plain": [
       "<pyspark.sql.session.SparkSession at 0x7f5c94006040>"
      ]
     },
     "execution_count": 2,
     "metadata": {},
     "output_type": "execute_result"
    }
   ],
   "source": [
    "spark"
   ]
  },
  {
   "cell_type": "code",
   "execution_count": 3,
   "metadata": {},
   "outputs": [],
   "source": [
    "from tfg import DataRepository\n",
    "\n",
    "repo = DataRepository(config=config, base_data_path=data_dir)"
   ]
  },
  {
   "cell_type": "markdown",
   "metadata": {},
   "source": [
    "# Load datasets"
   ]
  },
  {
   "cell_type": "code",
   "execution_count": 4,
   "metadata": {},
   "outputs": [],
   "source": [
    "import numpy as np"
   ]
  },
  {
   "cell_type": "code",
   "execution_count": 5,
   "metadata": {},
   "outputs": [],
   "source": [
    "class_idx = {'CP': 0, 'NCP': 1, 'Normal': 2}\n",
    "idx_to_class = { v: k for k, v in class_idx.items() }"
   ]
  },
  {
   "cell_type": "code",
   "execution_count": 6,
   "metadata": {},
   "outputs": [
    {
     "data": {
      "text/html": [
       "<div>\n",
       "<style scoped>\n",
       "    .dataframe tbody tr th:only-of-type {\n",
       "        vertical-align: middle;\n",
       "    }\n",
       "\n",
       "    .dataframe tbody tr th {\n",
       "        vertical-align: top;\n",
       "    }\n",
       "\n",
       "    .dataframe thead th {\n",
       "        text-align: right;\n",
       "    }\n",
       "</style>\n",
       "<table border=\"1\" class=\"dataframe\">\n",
       "  <thead>\n",
       "    <tr style=\"text-align: right;\">\n",
       "      <th></th>\n",
       "      <th>patient_id</th>\n",
       "      <th>scan_id</th>\n",
       "      <th>label</th>\n",
       "      <th>n_slice</th>\n",
       "      <th>clip_num</th>\n",
       "      <th>clip_start_file</th>\n",
       "      <th>clip_end_file</th>\n",
       "      <th>seq_features</th>\n",
       "      <th>seq_probs</th>\n",
       "    </tr>\n",
       "  </thead>\n",
       "  <tbody>\n",
       "    <tr>\n",
       "      <th>0</th>\n",
       "      <td>0</td>\n",
       "      <td>3131</td>\n",
       "      <td>CP</td>\n",
       "      <td>285</td>\n",
       "      <td>0</td>\n",
       "      <td>CP/0/3131/0000.png</td>\n",
       "      <td>CP/0/3131/0069.png</td>\n",
       "      <td>[[0.0, 0.0, 2.9882235527038574, 0.0, 0.0, 0.0,...</td>\n",
       "      <td>[[0.995826005935669, 0.002047961810603738, 0.0...</td>\n",
       "    </tr>\n",
       "    <tr>\n",
       "      <th>1</th>\n",
       "      <td>0</td>\n",
       "      <td>3131</td>\n",
       "      <td>CP</td>\n",
       "      <td>285</td>\n",
       "      <td>1</td>\n",
       "      <td>CP/0/3131/0070.png</td>\n",
       "      <td>CP/0/3131/0139.png</td>\n",
       "      <td>[[0.0, 0.015588469803333282, 2.548190832138061...</td>\n",
       "      <td>[[0.9611499309539795, 0.0388215146958828, 2.85...</td>\n",
       "    </tr>\n",
       "    <tr>\n",
       "      <th>2</th>\n",
       "      <td>0</td>\n",
       "      <td>3131</td>\n",
       "      <td>CP</td>\n",
       "      <td>285</td>\n",
       "      <td>2</td>\n",
       "      <td>CP/0/3131/0140.png</td>\n",
       "      <td>CP/0/3131/0209.png</td>\n",
       "      <td>[[0.3391307592391968, 0.016530275344848633, 2....</td>\n",
       "      <td>[[0.9554761648178101, 0.04128715768456459, 0.0...</td>\n",
       "    </tr>\n",
       "    <tr>\n",
       "      <th>3</th>\n",
       "      <td>0</td>\n",
       "      <td>3131</td>\n",
       "      <td>CP</td>\n",
       "      <td>285</td>\n",
       "      <td>3</td>\n",
       "      <td>CP/0/3131/0210.png</td>\n",
       "      <td>CP/0/3131/0279.png</td>\n",
       "      <td>[[0.29484760761260986, 0.0, 1.7729129791259766...</td>\n",
       "      <td>[[0.9988947510719299, 0.00042690912960097194, ...</td>\n",
       "    </tr>\n",
       "    <tr>\n",
       "      <th>4</th>\n",
       "      <td>0</td>\n",
       "      <td>3131</td>\n",
       "      <td>CP</td>\n",
       "      <td>285</td>\n",
       "      <td>4</td>\n",
       "      <td>CP/0/3131/0280.png</td>\n",
       "      <td>CP/0/3131/0284.png</td>\n",
       "      <td>[[2.112011671066284, 0.0, 3.815093755722046, 0...</td>\n",
       "      <td>[[0.9980648159980774, 0.0014690179377794266, 0...</td>\n",
       "    </tr>\n",
       "  </tbody>\n",
       "</table>\n",
       "</div>"
      ],
      "text/plain": [
       "   patient_id  scan_id label  n_slice  clip_num     clip_start_file  \\\n",
       "0           0     3131    CP      285         0  CP/0/3131/0000.png   \n",
       "1           0     3131    CP      285         1  CP/0/3131/0070.png   \n",
       "2           0     3131    CP      285         2  CP/0/3131/0140.png   \n",
       "3           0     3131    CP      285         3  CP/0/3131/0210.png   \n",
       "4           0     3131    CP      285         4  CP/0/3131/0280.png   \n",
       "\n",
       "        clip_end_file                                       seq_features  \\\n",
       "0  CP/0/3131/0069.png  [[0.0, 0.0, 2.9882235527038574, 0.0, 0.0, 0.0,...   \n",
       "1  CP/0/3131/0139.png  [[0.0, 0.015588469803333282, 2.548190832138061...   \n",
       "2  CP/0/3131/0209.png  [[0.3391307592391968, 0.016530275344848633, 2....   \n",
       "3  CP/0/3131/0279.png  [[0.29484760761260986, 0.0, 1.7729129791259766...   \n",
       "4  CP/0/3131/0284.png  [[2.112011671066284, 0.0, 3.815093755722046, 0...   \n",
       "\n",
       "                                           seq_probs  \n",
       "0  [[0.995826005935669, 0.002047961810603738, 0.0...  \n",
       "1  [[0.9611499309539795, 0.0388215146958828, 2.85...  \n",
       "2  [[0.9554761648178101, 0.04128715768456459, 0.0...  \n",
       "3  [[0.9988947510719299, 0.00042690912960097194, ...  \n",
       "4  [[0.9980648159980774, 0.0014690179377794266, 0...  "
      ]
     },
     "execution_count": 6,
     "metadata": {},
     "output_type": "execute_result"
    }
   ],
   "source": [
    "train_clips = repo.load(\"train_clips\")\n",
    "train_clips.head(5)"
   ]
  },
  {
   "cell_type": "code",
   "execution_count": 7,
   "metadata": {},
   "outputs": [],
   "source": [
    "def to_single_nparr(arrs):\n",
    "    return np.array([el.tolist() for el  in arrs.tolist()])\n",
    "\n",
    "def ohe_label(label):\n",
    "    ohe_labels = [0, 0, 0]\n",
    "    ohe_labels[class_idx[label]] = 1\n",
    "    \n",
    "    return np.array(ohe_labels)"
   ]
  },
  {
   "cell_type": "code",
   "execution_count": 8,
   "metadata": {},
   "outputs": [
    {
     "data": {
      "text/plain": [
       "(array([[1, 0, 0],\n",
       "        [1, 0, 0],\n",
       "        [1, 0, 0],\n",
       "        [1, 0, 0],\n",
       "        [1, 0, 0]]),\n",
       " array([[1, 0, 0],\n",
       "        [1, 0, 0],\n",
       "        [1, 0, 0],\n",
       "        [1, 0, 0],\n",
       "        [1, 0, 0]]))"
      ]
     },
     "execution_count": 8,
     "metadata": {},
     "output_type": "execute_result"
    }
   ],
   "source": [
    "train_targets = train_clips[\"label\"].apply(ohe_label).values\n",
    "train_targets = to_single_nparr(train_targets)\n",
    "train_targets[:5], train_targets[-5:]"
   ]
  },
  {
   "cell_type": "code",
   "execution_count": 9,
   "metadata": {},
   "outputs": [
    {
     "data": {
      "text/plain": [
       "(array([array([[0.        , 0.        , 2.98822355, ..., 0.72927612, 0.        ,\n",
       "         0.44937783],\n",
       "        [0.36093032, 0.        , 4.37772894, ..., 1.30455339, 0.        ,\n",
       "         1.11693501],\n",
       "        [0.98390299, 0.        , 3.60125709, ..., 1.25560212, 0.        ,\n",
       "         1.22812939],\n",
       "        ...,\n",
       "        [0.        , 0.06825965, 1.86592245, ..., 0.05172634, 0.        ,\n",
       "         0.        ],\n",
       "        [0.81235242, 0.2658385 , 4.02565336, ..., 0.        , 0.56523615,\n",
       "         0.        ],\n",
       "        [2.29294705, 0.        , 4.27155209, ..., 1.46142101, 0.        ,\n",
       "         1.49820328]])], dtype=object),\n",
       " array([array([[0.        , 1.02570331, 0.        , ..., 0.        , 0.77238965,\n",
       "         0.        ],\n",
       "        [0.        , 1.11100841, 0.        , ..., 0.        , 0.84015405,\n",
       "         0.        ],\n",
       "        [0.        , 2.30372715, 0.60316122, ..., 0.        , 1.95132911,\n",
       "         0.        ],\n",
       "        ...,\n",
       "        [0.        , 2.52368426, 0.        , ..., 0.        , 2.12280846,\n",
       "         0.        ],\n",
       "        [0.        , 1.17681611, 0.        , ..., 0.        , 0.91228163,\n",
       "         0.        ],\n",
       "        [0.        , 3.71051121, 1.2288599 , ..., 0.        , 2.91495275,\n",
       "         0.        ]])], dtype=object))"
      ]
     },
     "execution_count": 9,
     "metadata": {},
     "output_type": "execute_result"
    }
   ],
   "source": [
    "train_data = train_clips[\"seq_features\"].apply(to_single_nparr).values\n",
    "train_data[:1], train_data[-1:]"
   ]
  },
  {
   "cell_type": "code",
   "execution_count": 10,
   "metadata": {},
   "outputs": [
    {
     "data": {
      "text/plain": [
       "(6117,)"
      ]
     },
     "execution_count": 10,
     "metadata": {},
     "output_type": "execute_result"
    }
   ],
   "source": [
    "train_data.shape"
   ]
  },
  {
   "cell_type": "code",
   "execution_count": 11,
   "metadata": {},
   "outputs": [
    {
     "data": {
      "text/plain": [
       "(70, 32)"
      ]
     },
     "execution_count": 11,
     "metadata": {},
     "output_type": "execute_result"
    }
   ],
   "source": [
    "train_data[0].shape"
   ]
  },
  {
   "cell_type": "code",
   "execution_count": 12,
   "metadata": {},
   "outputs": [
    {
     "data": {
      "text/plain": [
       "(6117, 70, 32)"
      ]
     },
     "execution_count": 12,
     "metadata": {},
     "output_type": "execute_result"
    }
   ],
   "source": [
    "num_obs, seq_length, num_feats = train_data.shape[0], train_data[0].shape[0], train_data[0].shape[1]\n",
    "new_shape = (num_obs, seq_length, num_feats)\n",
    "new_training_data = np.zeros(new_shape)\n",
    "new_training_data.shape"
   ]
  },
  {
   "cell_type": "code",
   "execution_count": 13,
   "metadata": {},
   "outputs": [],
   "source": [
    "# With this we make sure that the final data is a single numpy array\n",
    "for idx, obs in enumerate(train_data):\n",
    "    if len(obs) < seq_length:\n",
    "        for feat_idx, feats in enumerate(obs):\n",
    "            new_training_data[idx][feat_idx] = feats\n",
    "    else:\n",
    "        new_training_data[idx] = obs"
   ]
  },
  {
   "cell_type": "code",
   "execution_count": 14,
   "metadata": {},
   "outputs": [
    {
     "data": {
      "text/html": [
       "<div>\n",
       "<style scoped>\n",
       "    .dataframe tbody tr th:only-of-type {\n",
       "        vertical-align: middle;\n",
       "    }\n",
       "\n",
       "    .dataframe tbody tr th {\n",
       "        vertical-align: top;\n",
       "    }\n",
       "\n",
       "    .dataframe thead th {\n",
       "        text-align: right;\n",
       "    }\n",
       "</style>\n",
       "<table border=\"1\" class=\"dataframe\">\n",
       "  <thead>\n",
       "    <tr style=\"text-align: right;\">\n",
       "      <th></th>\n",
       "      <th>patient_id</th>\n",
       "      <th>scan_id</th>\n",
       "      <th>label</th>\n",
       "      <th>n_slice</th>\n",
       "      <th>clip_num</th>\n",
       "      <th>clip_start_file</th>\n",
       "      <th>clip_end_file</th>\n",
       "      <th>seq_features</th>\n",
       "      <th>seq_probs</th>\n",
       "    </tr>\n",
       "  </thead>\n",
       "  <tbody>\n",
       "    <tr>\n",
       "      <th>0</th>\n",
       "      <td>4</td>\n",
       "      <td>3505</td>\n",
       "      <td>CP</td>\n",
       "      <td>298</td>\n",
       "      <td>0</td>\n",
       "      <td>CP/4/3505/0000.png</td>\n",
       "      <td>CP/4/3505/0069.png</td>\n",
       "      <td>[[2.613647699356079, 0.0, 0.9890813827514648, ...</td>\n",
       "      <td>[[0.9998388290405273, 2.6595776034810115e-06, ...</td>\n",
       "    </tr>\n",
       "    <tr>\n",
       "      <th>1</th>\n",
       "      <td>4</td>\n",
       "      <td>3505</td>\n",
       "      <td>CP</td>\n",
       "      <td>298</td>\n",
       "      <td>1</td>\n",
       "      <td>CP/4/3505/0070.png</td>\n",
       "      <td>CP/4/3505/0139.png</td>\n",
       "      <td>[[3.2934000492095947, 0.0, 5.15690279006958, 0...</td>\n",
       "      <td>[[1.0, 3.73688280319584e-09, 2.112125196962466...</td>\n",
       "    </tr>\n",
       "    <tr>\n",
       "      <th>2</th>\n",
       "      <td>4</td>\n",
       "      <td>3505</td>\n",
       "      <td>CP</td>\n",
       "      <td>298</td>\n",
       "      <td>2</td>\n",
       "      <td>CP/4/3505/0140.png</td>\n",
       "      <td>CP/4/3505/0209.png</td>\n",
       "      <td>[[3.833109140396118, 0.0, 5.286610126495361, 0...</td>\n",
       "      <td>[[0.9999998807907104, 6.390022377900095e-08, 2...</td>\n",
       "    </tr>\n",
       "    <tr>\n",
       "      <th>3</th>\n",
       "      <td>4</td>\n",
       "      <td>3505</td>\n",
       "      <td>CP</td>\n",
       "      <td>298</td>\n",
       "      <td>3</td>\n",
       "      <td>CP/4/3505/0210.png</td>\n",
       "      <td>CP/4/3505/0279.png</td>\n",
       "      <td>[[3.43273663520813, 0.0, 0.621675968170166, 0....</td>\n",
       "      <td>[[0.9999997615814209, 2.8103993798822557e-08, ...</td>\n",
       "    </tr>\n",
       "    <tr>\n",
       "      <th>4</th>\n",
       "      <td>4</td>\n",
       "      <td>3505</td>\n",
       "      <td>CP</td>\n",
       "      <td>298</td>\n",
       "      <td>4</td>\n",
       "      <td>CP/4/3505/0280.png</td>\n",
       "      <td>CP/4/3505/0297.png</td>\n",
       "      <td>[[4.024286270141602, 0.0, 1.0903337001800537, ...</td>\n",
       "      <td>[[0.9956602454185486, 0.0034320885315537453, 0...</td>\n",
       "    </tr>\n",
       "  </tbody>\n",
       "</table>\n",
       "</div>"
      ],
      "text/plain": [
       "   patient_id  scan_id label  n_slice  clip_num     clip_start_file  \\\n",
       "0           4     3505    CP      298         0  CP/4/3505/0000.png   \n",
       "1           4     3505    CP      298         1  CP/4/3505/0070.png   \n",
       "2           4     3505    CP      298         2  CP/4/3505/0140.png   \n",
       "3           4     3505    CP      298         3  CP/4/3505/0210.png   \n",
       "4           4     3505    CP      298         4  CP/4/3505/0280.png   \n",
       "\n",
       "        clip_end_file                                       seq_features  \\\n",
       "0  CP/4/3505/0069.png  [[2.613647699356079, 0.0, 0.9890813827514648, ...   \n",
       "1  CP/4/3505/0139.png  [[3.2934000492095947, 0.0, 5.15690279006958, 0...   \n",
       "2  CP/4/3505/0209.png  [[3.833109140396118, 0.0, 5.286610126495361, 0...   \n",
       "3  CP/4/3505/0279.png  [[3.43273663520813, 0.0, 0.621675968170166, 0....   \n",
       "4  CP/4/3505/0297.png  [[4.024286270141602, 0.0, 1.0903337001800537, ...   \n",
       "\n",
       "                                           seq_probs  \n",
       "0  [[0.9998388290405273, 2.6595776034810115e-06, ...  \n",
       "1  [[1.0, 3.73688280319584e-09, 2.112125196962466...  \n",
       "2  [[0.9999998807907104, 6.390022377900095e-08, 2...  \n",
       "3  [[0.9999997615814209, 2.8103993798822557e-08, ...  \n",
       "4  [[0.9956602454185486, 0.0034320885315537453, 0...  "
      ]
     },
     "execution_count": 14,
     "metadata": {},
     "output_type": "execute_result"
    }
   ],
   "source": [
    "val_clips = repo.load(\"val_clips\")\n",
    "val_clips.head(5)"
   ]
  },
  {
   "cell_type": "code",
   "execution_count": 15,
   "metadata": {},
   "outputs": [
    {
     "data": {
      "text/plain": [
       "(array([[1, 0, 0],\n",
       "        [1, 0, 0],\n",
       "        [1, 0, 0],\n",
       "        [1, 0, 0],\n",
       "        [1, 0, 0]]),\n",
       " array([[0, 1, 0],\n",
       "        [0, 1, 0],\n",
       "        [0, 1, 0],\n",
       "        [0, 1, 0],\n",
       "        [0, 1, 0]]))"
      ]
     },
     "execution_count": 15,
     "metadata": {},
     "output_type": "execute_result"
    }
   ],
   "source": [
    "val_targets = val_clips[\"label\"].apply(ohe_label).values\n",
    "val_targets = to_single_nparr(val_targets)\n",
    "val_targets[:5], val_targets[-5:]"
   ]
  },
  {
   "cell_type": "code",
   "execution_count": 16,
   "metadata": {},
   "outputs": [
    {
     "data": {
      "text/plain": [
       "(array([array([[2.6136477 , 0.        , 0.98908138, ..., 0.80635095, 0.        ,\n",
       "         0.83522969],\n",
       "        [3.08556819, 0.        , 1.16019964, ..., 0.82768691, 0.        ,\n",
       "         0.94938755],\n",
       "        [3.13986325, 0.        , 2.20502305, ..., 1.3187505 , 0.        ,\n",
       "         1.50978446],\n",
       "        ...,\n",
       "        [3.3429215 , 0.        , 4.32882261, ..., 1.8979671 , 0.        ,\n",
       "         2.183213  ],\n",
       "        [3.63964081, 0.        , 4.41138649, ..., 1.97474813, 0.        ,\n",
       "         2.31390309],\n",
       "        [3.54425406, 0.        , 5.61092615, ..., 2.367167  , 0.        ,\n",
       "         2.77212691]])], dtype=object),\n",
       " array([array([[0.        , 0.40822747, 0.        , ..., 0.        , 0.46930605,\n",
       "         0.        ],\n",
       "        [0.44518673, 0.14363712, 0.        , ..., 0.        , 0.18813239,\n",
       "         0.        ],\n",
       "        [0.74548346, 0.14900705, 0.        , ..., 0.        , 0.20418029,\n",
       "         0.        ],\n",
       "        ...,\n",
       "        [0.22963272, 0.        , 1.32374883, ..., 0.81885922, 0.        ,\n",
       "         0.72018564],\n",
       "        [0.09062506, 0.        , 1.32814097, ..., 0.79093397, 0.        ,\n",
       "         0.6984272 ],\n",
       "        [0.00833891, 0.        , 0.83149099, ..., 0.61896998, 0.        ,\n",
       "         0.49784034]])], dtype=object))"
      ]
     },
     "execution_count": 16,
     "metadata": {},
     "output_type": "execute_result"
    }
   ],
   "source": [
    "val_data = val_clips[\"seq_features\"].apply(to_single_nparr).values\n",
    "val_data[:1], val_data[-1:]"
   ]
  },
  {
   "cell_type": "code",
   "execution_count": 17,
   "metadata": {},
   "outputs": [
    {
     "data": {
      "text/plain": [
       "(744, 70, 32)"
      ]
     },
     "execution_count": 17,
     "metadata": {},
     "output_type": "execute_result"
    }
   ],
   "source": [
    "num_val_obs = val_data.shape[0]\n",
    "new_val_shape = (num_val_obs, seq_length, num_feats)\n",
    "new_val_data = np.zeros(new_val_shape)\n",
    "new_val_data.shape"
   ]
  },
  {
   "cell_type": "code",
   "execution_count": 18,
   "metadata": {},
   "outputs": [],
   "source": [
    "# With this we make sure that the final data is a single numpy array\n",
    "for idx, obs in enumerate(val_data):\n",
    "    if len(obs) < seq_length:\n",
    "        for feat_idx, feats in enumerate(obs):\n",
    "            new_val_data[idx][feat_idx] = feats\n",
    "    else:\n",
    "        new_val_data[idx] = obs"
   ]
  },
  {
   "cell_type": "markdown",
   "metadata": {},
   "source": [
    "# Create model"
   ]
  },
  {
   "cell_type": "code",
   "execution_count": 19,
   "metadata": {},
   "outputs": [],
   "source": [
    "import numpy as np\n",
    "import tensorflow as tf\n",
    "from tensorflow import keras\n",
    "from tensorflow.keras import layers"
   ]
  },
  {
   "cell_type": "code",
   "execution_count": 121,
   "metadata": {},
   "outputs": [
    {
     "name": "stdout",
     "output_type": "stream",
     "text": [
      "Model: \"sequential_37\"\n",
      "_________________________________________________________________\n",
      "Layer (type)                 Output Shape              Param #   \n",
      "=================================================================\n",
      "gru_bidirect_1 (Bidirectiona (None, 8)                 912       \n",
      "_________________________________________________________________\n",
      "dense_68 (Dense)             (None, 3)                 27        \n",
      "_________________________________________________________________\n",
      "dense_69 (Dense)             (None, 3)                 12        \n",
      "=================================================================\n",
      "Total params: 951\n",
      "Trainable params: 951\n",
      "Non-trainable params: 0\n",
      "_________________________________________________________________\n"
     ]
    }
   ],
   "source": [
    "model = keras.Sequential()\n",
    "\n",
    "num_recurrent_units = 4\n",
    "seq_length = 70\n",
    "\n",
    "model.add(\n",
    "    layers.Bidirectional(layers.GRU(num_recurrent_units, return_sequences=False), input_shape=(seq_length, num_feats), name=\"gru_bidirect_1\")\n",
    ")\n",
    "# model.add(layers.Bidirectional(layers.GRU(num_recurrent_units // 2), name=\"gru_bidirect_2\"))\n",
    "# model.add(\n",
    "#     layers.GRU(64, return_sequences=True, input_shape=(seq_length, num_features))\n",
    "# )\n",
    "# model.add(layers.GRU(num_features // 2))\n",
    "\n",
    "# #model.add(layers.GRU(num_recurrent_units // 2, name=\"gru_bidirect_2\"))\n",
    "# model.add(layers.Bidirectional(layers.GRU(num_recurrent_units // 2), name=\"gru_bidirect_2\"))\n",
    "\n",
    "model.add(layers.Dense(3))#min(10, num_recurrent_units // 2))\n",
    "model.add(layers.Dense(3))\n",
    "\n",
    "model.summary()"
   ]
  },
  {
   "cell_type": "code",
   "execution_count": 122,
   "metadata": {},
   "outputs": [],
   "source": [
    "model.compile(optimizer='adam',\n",
    "              loss=\"categorical_crossentropy\",\n",
    "              metrics=['categorical_accuracy'])"
   ]
  },
  {
   "cell_type": "code",
   "execution_count": 123,
   "metadata": {},
   "outputs": [
    {
     "name": "stdout",
     "output_type": "stream",
     "text": [
      "Epoch 1/10\n",
      "192/192 [==============================] - 2s 10ms/step - loss: 3.8321 - categorical_accuracy: 0.4280 - val_loss: 3.3696 - val_categorical_accuracy: 0.1801\n",
      "Epoch 2/10\n",
      "192/192 [==============================] - 1s 8ms/step - loss: 5.1497 - categorical_accuracy: 0.1802 - val_loss: 5.6522 - val_categorical_accuracy: 0.1976\n",
      "Epoch 3/10\n",
      "192/192 [==============================] - 1s 8ms/step - loss: 4.3759 - categorical_accuracy: 0.2593 - val_loss: 3.6327 - val_categorical_accuracy: 0.3468\n",
      "Epoch 4/10\n",
      "192/192 [==============================] - 1s 8ms/step - loss: 3.5856 - categorical_accuracy: 0.3561 - val_loss: 4.1213 - val_categorical_accuracy: 0.4315\n",
      "Epoch 5/10\n",
      "192/192 [==============================] - 1s 8ms/step - loss: 1.2265 - categorical_accuracy: 0.5259 - val_loss: 0.9554 - val_categorical_accuracy: 0.5954\n",
      "Epoch 6/10\n",
      "192/192 [==============================] - 1s 8ms/step - loss: 0.8674 - categorical_accuracy: 0.6050 - val_loss: 0.8976 - val_categorical_accuracy: 0.6613\n",
      "Epoch 7/10\n",
      "192/192 [==============================] - 1s 8ms/step - loss: 0.8078 - categorical_accuracy: 0.6533 - val_loss: 1.0360 - val_categorical_accuracy: 0.6868\n",
      "Epoch 8/10\n",
      "192/192 [==============================] - 1s 8ms/step - loss: 0.9314 - categorical_accuracy: 0.6912 - val_loss: 1.2799 - val_categorical_accuracy: 0.7110\n",
      "Epoch 9/10\n",
      "192/192 [==============================] - 1s 8ms/step - loss: 1.0991 - categorical_accuracy: 0.7406 - val_loss: 1.3290 - val_categorical_accuracy: 0.7392\n",
      "Epoch 10/10\n",
      "192/192 [==============================] - 1s 8ms/step - loss: 1.0963 - categorical_accuracy: 0.7723 - val_loss: 0.9900 - val_categorical_accuracy: 0.7661\n"
     ]
    }
   ],
   "source": [
    "fit_history = model.fit(\n",
    "    x=new_training_data, y=train_targets,\n",
    "    batch_size=32, epochs=10,\n",
    "    verbose=1,\n",
    "    validation_data=(new_val_data, val_targets)\n",
    ")"
   ]
  },
  {
   "cell_type": "code",
   "execution_count": null,
   "metadata": {},
   "outputs": [],
   "source": []
  },
  {
   "cell_type": "markdown",
   "metadata": {},
   "source": [
    "# Evaluation of the different sets"
   ]
  },
  {
   "cell_type": "code",
   "execution_count": 80,
   "metadata": {},
   "outputs": [],
   "source": [
    "from sklearn.metrics import confusion_matrix, precision_recall_fscore_support\n",
    "import seaborn as sns\n",
    "import matplotlib.pyplot as plt\n",
    "\n",
    "sns.set_style(\"whitegrid\")\n",
    "sns.set(rc={'figure.figsize':(13, 9)})"
   ]
  },
  {
   "cell_type": "code",
   "execution_count": 81,
   "metadata": {},
   "outputs": [],
   "source": [
    "import numpy as np\n",
    "import itertools\n",
    "\n",
    "sns.set_style(\"whitegrid\", {'axes.grid' : False})\n",
    "\n",
    "# based on answer from https://datascience.stackexchange.com/questions/40067/confusion-matrix-three-classes-python\n",
    "def plot_confusion_matrix(cm, classes,\n",
    "                          save_to=None,\n",
    "                          normalize=True,\n",
    "                          title='Confusion matrix',\n",
    "                          cmap=plt.cm.Blues):\n",
    "    \"\"\"\n",
    "    This function prints and plots the confusion matrix.\n",
    "    Normalization can be applied by setting `normalize=True`.\n",
    "    \"\"\"\n",
    "    \n",
    "    if normalize:\n",
    "        cm = cm.astype('float') / cm.sum(axis=1)[:, np.newaxis]\n",
    "        print(\"Normalized confusion matrix\")\n",
    "    else:\n",
    "        print('Confusion matrix, without normalization')\n",
    "\n",
    "    print(cm)\n",
    "\n",
    "    plt.imshow(cm, interpolation='nearest', cmap=cmap)\n",
    "    plt.title(title, fontdict={'fontsize' : 26})\n",
    "    plt.colorbar()\n",
    "    tick_marks = np.arange(len(classes))\n",
    "    plt.xticks(tick_marks, classes, fontsize=18)\n",
    "    plt.yticks(tick_marks, classes, fontsize=18)\n",
    "\n",
    "    fmt_pct = lambda pct: f\"{100 * pct:.2f}%\" if normalize else f\"{int(100 * pct)}%\"\n",
    "    thresh = cm.max() / 2.\n",
    "    for i, j in itertools.product(range(cm.shape[0]), range(cm.shape[1])):\n",
    "        plt.text(j, i, fmt_pct(cm[i, j]),\n",
    "                 horizontalalignment=\"center\",\n",
    "                 color=\"white\" if cm[i, j] > thresh else \"black\",\n",
    "                 fontdict={'fontsize' : 16})\n",
    "\n",
    "    plt.ylabel('True label', fontdict={'fontsize' : 22})\n",
    "    plt.xlabel('Predicted label', fontdict={'fontsize' : 22})\n",
    "    plt.tight_layout()\n",
    "    \n",
    "    if save_to:\n",
    "        plt.savefig(save_to)"
   ]
  },
  {
   "cell_type": "code",
   "execution_count": 82,
   "metadata": {},
   "outputs": [],
   "source": [
    "def print_metrics(dataset, true_labels, pred_labels):\n",
    "    prec, rec, f1, _ = precision_recall_fscore_support(true_labels, pred_labels, average=\"weighted\")\n",
    "    print(f\"{dataset} F1 Score: {100 * f1: .2f}%\")\n",
    "    print(f\"{dataset} Precision: {100 * prec: .2f}%\")\n",
    "    print(f\"{dataset} Recall: {100 * rec: .2f}%\")"
   ]
  },
  {
   "cell_type": "code",
   "execution_count": 83,
   "metadata": {},
   "outputs": [],
   "source": [
    "class_to_idx = {'CP': 0, 'NCP': 1, 'Normal': 2}\n",
    "idx_to_class = { v: k for k, v in class_to_idx.items() }\n",
    "class_labels = [k for k in class_to_idx.keys()]"
   ]
  },
  {
   "cell_type": "markdown",
   "metadata": {},
   "source": [
    "## Training"
   ]
  },
  {
   "cell_type": "code",
   "execution_count": 131,
   "metadata": {},
   "outputs": [
    {
     "name": "stdout",
     "output_type": "stream",
     "text": [
      "192/192 [==============================] - 1s 3ms/step\n",
      "Normalized confusion matrix\n",
      "[[0.94528875 0.05036908 0.00434216]\n",
      " [0.07061503 0.89567198 0.03371298]\n",
      " [0.3409512  0.27300803 0.38604077]]\n"
     ]
    },
    {
     "data": {
      "image/png": "[encoded data removed]",
      "text/plain": [
       "<Figure size 936x648 with 2 Axes>"
      ]
     },
     "metadata": {},
     "output_type": "display_data"
    }
   ],
   "source": [
    "raw_train_preds = model.predict(new_training_data, verbose=1)\n",
    "train_preds = raw_train_preds.argmax(axis=1)\n",
    "train_true = train_targets.argmax(axis=1)\n",
    "\n",
    "train_cm = confusion_matrix(train_true, train_preds)\n",
    "\n",
    "plot_confusion_matrix(\n",
    "    train_cm,\n",
    "    classes=class_labels,\n",
    "    title='Baseline - Confusion matrix for the Training Set - RNN',\n",
    "    save_to=figures_dir / \"models\" / \"rnn_feats\" / f\"train_conf_matrix.png\")"
   ]
  },
  {
   "cell_type": "markdown",
   "metadata": {},
   "source": [
    "## Validation"
   ]
  },
  {
   "cell_type": "code",
   "execution_count": 132,
   "metadata": {},
   "outputs": [
    {
     "name": "stdout",
     "output_type": "stream",
     "text": [
      "24/24 [==============================] - 0s 3ms/step\n",
      "Normalized confusion matrix\n",
      "[[0.96271186 0.03728814 0.        ]\n",
      " [0.09854015 0.8649635  0.03649635]\n",
      " [0.39428571 0.32571429 0.28      ]]\n"
     ]
    },
    {
     "data": {
      "image/png": "[encoded data removed]",
      "text/plain": [
       "<Figure size 936x648 with 2 Axes>"
      ]
     },
     "metadata": {},
     "output_type": "display_data"
    }
   ],
   "source": [
    "raw_val_preds = model.predict(new_val_data, verbose=1)\n",
    "val_preds = raw_val_preds.argmax(axis=1)\n",
    "val_true = val_targets.argmax(axis=1)\n",
    "\n",
    "val_cm = confusion_matrix(val_true, val_preds)\n",
    "\n",
    "plot_confusion_matrix(\n",
    "    val_cm,\n",
    "    classes=class_labels,\n",
    "    title='Baseline - Confusion matrix for the Validation Set - RNN',\n",
    "    save_to=figures_dir / \"models\" / \"rnn_feats\" / f\"val_conf_matrix.png\")"
   ]
  },
  {
   "cell_type": "code",
   "execution_count": null,
   "metadata": {},
   "outputs": [],
   "source": []
  }
 ],
 "metadata": {
  "kernelspec": {
   "display_name": "Python 3",
   "language": "python",
   "name": "python3"
  },
  "language_info": {
   "codemirror_mode": {
    "name": "ipython",
    "version": 3
   },
   "file_extension": ".py",
   "mimetype": "text/x-python",
   "name": "python",
   "nbconvert_exporter": "python",
   "pygments_lexer": "ipython3",
   "version": "3.8.5"
  }
 },
 "nbformat": 4,
 "nbformat_minor": 4
}
