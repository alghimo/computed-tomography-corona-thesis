{
 "cells": [
  {
   "cell_type": "markdown",
   "metadata": {},
   "source": [
    "# Notebook Initialization"
   ]
  },
  {
   "cell_type": "code",
   "execution_count": 26,
   "metadata": {},
   "outputs": [
    {
     "name": "stdout",
     "output_type": "stream",
     "text": [
      "The autoreload extension is already loaded. To reload it, use:\n",
      "  %reload_ext autoreload\n"
     ]
    }
   ],
   "source": [
    "# %load nb_init.py\n",
    "\n",
    "from pathlib import Path\n",
    "import pandas as pd\n",
    "\n",
    "base_dir = Path.cwd().parent\n",
    "config_dir = base_dir / \"config\"\n",
    "data_dir = base_dir / \"data\"\n",
    "docs_dir = base_dir / \"docs\"\n",
    "figures_dir = docs_dir / \"figures\"\n",
    "models_dir = base_dir / \"models\"\n",
    "logs_dir = base_dir / \"logs\"\n",
    "images_input_dir = data_dir / \"COVID19\"\n",
    "preprocessed_dir = data_dir / \"preprocessed\"\n",
    "output_dir = data_dir / \"output\"\n",
    "\n",
    "# Directories used to train the CNN (image by image) \n",
    "cnn_data_dir = data_dir / \"modelling\" / \"cnn\"\n",
    "cnn_train_dir = cnn_data_dir / \"train\"\n",
    "cnn_test_dir = cnn_data_dir / \"test\"\n",
    "\n",
    "metadata_file = images_input_dir / \"metadata.csv\"\n",
    "labels_file = images_input_dir / \"unzip_filenames.csv\"\n",
    "preprocessed_labels_file = preprocessed_dir / \"labels.parquet\"\n",
    "\n",
    "from pyspark.sql import SparkSession\n",
    "from pyspark.sql import functions as F\n",
    "\n",
    "spark = SparkSession.builder.getOrCreate()\n",
    "\n",
    "config_file = config_dir / \"tfg.conf\"\n",
    "\n",
    "from pyhocon import ConfigFactory\n",
    "config = None\n",
    "\n",
    "def load_config():\n",
    "    return ConfigFactory.parse_file(config_file)\n",
    "\n",
    "config = load_config()\n",
    "    \n",
    "import sys\n",
    "\n",
    "if str(base_dir / \"src\") not in sys.path:\n",
    "    sys.path.append(str(base_dir / \"src\"))\n",
    "\n",
    "%load_ext autoreload\n",
    "\n",
    "%autoreload 2"
   ]
  },
  {
   "cell_type": "code",
   "execution_count": 2,
   "metadata": {},
   "outputs": [
    {
     "data": {
      "text/plain": [
       "OrderedDict([('tfg',\n",
       "              OrderedDict([('seed', 42),\n",
       "                           ('eda',\n",
       "                            OrderedDict([('csv_options',\n",
       "                                          OrderedDict([('header', 'true'),\n",
       "                                                       ('sep', ','),\n",
       "                                                       ('inferSchema',\n",
       "                                                        'true')]))])),\n",
       "                           ('training',\n",
       "                            OrderedDict([('test_fraction', 0.1),\n",
       "                                         ('val_fraction', 0.1),\n",
       "                                         ('images_per_clip', 70),\n",
       "                                         ('batch_size', 32)]))])),\n",
       "             ('data',\n",
       "              OrderedDict([('train_df',\n",
       "                            OrderedDict([('path',\n",
       "                                          'preprocessed/training_df.csv')])),\n",
       "                           ('val_df',\n",
       "                            OrderedDict([('path',\n",
       "                                          'preprocessed/val_df.csv')])),\n",
       "                           ('test_df',\n",
       "                            OrderedDict([('path',\n",
       "                                          'preprocessed/test_df.csv')]))]))])"
      ]
     },
     "execution_count": 2,
     "metadata": {},
     "output_type": "execute_result"
    }
   ],
   "source": [
    "config.as_plain_ordered_dict()"
   ]
  },
  {
   "cell_type": "code",
   "execution_count": 3,
   "metadata": {},
   "outputs": [
    {
     "data": {
      "text/html": [
       "\n",
       "            <div>\n",
       "                <p><b>SparkSession - in-memory</b></p>\n",
       "                \n",
       "        <div>\n",
       "            <p><b>SparkContext</b></p>\n",
       "\n",
       "            <p><a href=\"http://192.168.0.235:4040\">Spark UI</a></p>\n",
       "\n",
       "            <dl>\n",
       "              <dt>Version</dt>\n",
       "                <dd><code>v3.0.1</code></dd>\n",
       "              <dt>Master</dt>\n",
       "                <dd><code>local[*]</code></dd>\n",
       "              <dt>AppName</dt>\n",
       "                <dd><code>pyspark-shell</code></dd>\n",
       "            </dl>\n",
       "        </div>\n",
       "        \n",
       "            </div>\n",
       "        "
      ],
      "text/plain": [
       "<pyspark.sql.session.SparkSession at 0x7fe2bf99da90>"
      ]
     },
     "execution_count": 3,
     "metadata": {},
     "output_type": "execute_result"
    }
   ],
   "source": [
    "spark"
   ]
  },
  {
   "cell_type": "code",
   "execution_count": 4,
   "metadata": {},
   "outputs": [],
   "source": [
    "from tfg import DataRepository\n",
    "\n",
    "repo = DataRepository(config=config, base_data_path=data_dir)"
   ]
  },
  {
   "cell_type": "markdown",
   "metadata": {},
   "source": [
    "# Load labels"
   ]
  },
  {
   "cell_type": "code",
   "execution_count": 5,
   "metadata": {},
   "outputs": [
    {
     "name": "stdout",
     "output_type": "stream",
     "text": [
      "+----------+-------+-------+-----+---------+\n",
      "|patient_id|scan_id|n_slice|label|num_clips|\n",
      "+----------+-------+-------+-----+---------+\n",
      "|         0|   3131|    285|   CP|        5|\n",
      "|         0|   3132|     42|   CP|        1|\n",
      "|         0|   3133|    290|   CP|        5|\n",
      "|         0|   3134|     37|   CP|        1|\n",
      "|         0|   3135|    269|   CP|        4|\n",
      "+----------+-------+-------+-----+---------+\n",
      "only showing top 5 rows\n",
      "\n"
     ]
    }
   ],
   "source": [
    "labels = spark.read.parquet(str(preprocessed_labels_file))\n",
    "\n",
    "labels.show(5)"
   ]
  },
  {
   "cell_type": "code",
   "execution_count": 6,
   "metadata": {},
   "outputs": [
    {
     "data": {
      "text/plain": [
       "4178"
      ]
     },
     "execution_count": 6,
     "metadata": {},
     "output_type": "execute_result"
    }
   ],
   "source": [
    "num_labels = labels.count()\n",
    "num_labels"
   ]
  },
  {
   "cell_type": "code",
   "execution_count": 7,
   "metadata": {},
   "outputs": [
    {
     "name": "stdout",
     "output_type": "stream",
     "text": [
      "+------+-----+------+\n",
      "| label|count|   pct|\n",
      "+------+-----+------+\n",
      "|    CP| 1556|0.3724|\n",
      "|   NCP| 1544|0.3696|\n",
      "|Normal| 1078| 0.258|\n",
      "+------+-----+------+\n",
      "\n"
     ]
    }
   ],
   "source": [
    "labels\\\n",
    "    .groupBy(\"label\")\\\n",
    "    .agg(\n",
    "        F.count(\"*\").alias(\"count\"),\n",
    "        F.round((F.count(\"*\") / num_labels), 4).alias(\"pct\"),\n",
    "    )\\\n",
    "    .show()"
   ]
  },
  {
   "cell_type": "code",
   "execution_count": 8,
   "metadata": {},
   "outputs": [
    {
     "data": {
      "text/plain": [
       "2742"
      ]
     },
     "execution_count": 8,
     "metadata": {},
     "output_type": "execute_result"
    }
   ],
   "source": [
    "labels.select(\"patient_id\").distinct().count()"
   ]
  },
  {
   "cell_type": "markdown",
   "metadata": {},
   "source": [
    "# Split patient ids into train / test"
   ]
  },
  {
   "cell_type": "code",
   "execution_count": 9,
   "metadata": {},
   "outputs": [
    {
     "data": {
      "text/plain": [
       "[0.8, 0.1, 0.1]"
      ]
     },
     "execution_count": 9,
     "metadata": {},
     "output_type": "execute_result"
    }
   ],
   "source": [
    "seed = config.get_int(\"tfg.seed\")\n",
    "test_fraction = config.get_float(\"tfg.training.test_fraction\")\n",
    "val_fraction = config.get_float(\"tfg.training.val_fraction\")\n",
    "train_fraction = 1 - test_fraction - val_fraction\n",
    "split_weights = [train_fraction, val_fraction, test_fraction]\n",
    "split_weights"
   ]
  },
  {
   "cell_type": "code",
   "execution_count": 10,
   "metadata": {},
   "outputs": [
    {
     "name": "stdout",
     "output_type": "stream",
     "text": [
      "Training rows: 3350\n",
      "Validation rows: 402\n",
      "Test rows: 426\n",
      "+----------+-------+-------+-----+---------+\n",
      "|patient_id|scan_id|n_slice|label|num_clips|\n",
      "+----------+-------+-------+-----+---------+\n",
      "|         0|   3131|    285|   CP|        5|\n",
      "|         0|   3132|     42|   CP|        1|\n",
      "|         0|   3133|    290|   CP|        5|\n",
      "|         0|   3134|     37|   CP|        1|\n",
      "|         0|   3135|    269|   CP|        4|\n",
      "+----------+-------+-------+-----+---------+\n",
      "only showing top 5 rows\n",
      "\n",
      "+----------+-------+-------+-----+---------+\n",
      "|patient_id|scan_id|n_slice|label|num_clips|\n",
      "+----------+-------+-------+-----+---------+\n",
      "|      1075|   3118|    553|   CP|        8|\n",
      "|      1075|   3119|     70|   CP|        1|\n",
      "|      1080|   3125|     64|   CP|        1|\n",
      "|      1093|   3311|    173|   CP|        3|\n",
      "|      1394|   3847|     62|   CP|        1|\n",
      "+----------+-------+-------+-----+---------+\n",
      "only showing top 5 rows\n",
      "\n",
      "+----------+-------+-------+-----+---------+\n",
      "|patient_id|scan_id|n_slice|label|num_clips|\n",
      "+----------+-------+-------+-----+---------+\n",
      "|         1|   3143|    300|   CP|        5|\n",
      "|         1|   3144|    248|   CP|        4|\n",
      "|         1|   3145|    248|   CP|        4|\n",
      "|         1|   3146|     70|   CP|        1|\n",
      "|         1|   3147|     70|   CP|        1|\n",
      "+----------+-------+-------+-----+---------+\n",
      "only showing top 5 rows\n",
      "\n"
     ]
    }
   ],
   "source": [
    "patient_ids = labels.select(\"patient_id\").distinct()\n",
    "\n",
    "id_dfs = patient_ids.randomSplit(split_weights, seed=seed)\n",
    "train_ids = id_dfs[0]\n",
    "val_ids =  id_dfs[1]\n",
    "test_ids =  id_dfs[2]\n",
    "\n",
    "train_labels = labels.join(train_ids, [\"patient_id\"], \"inner\")\n",
    "val_labels = labels.join(val_ids, [\"patient_id\"], \"inner\")\n",
    "test_labels = labels.join(test_ids, [\"patient_id\"], \"inner\")\n",
    "\n",
    "train_count = train_labels.count()\n",
    "val_count = val_labels.count()\n",
    "test_count = test_labels.count()\n",
    "\n",
    "print(f\"Training rows: {train_count}\")\n",
    "print(f\"Validation rows: {val_count}\")\n",
    "print(f\"Test rows: {test_count}\")\n",
    "\n",
    "train_labels.show(5)\n",
    "val_labels.show(5)\n",
    "test_labels.show(5)"
   ]
  },
  {
   "cell_type": "code",
   "execution_count": 11,
   "metadata": {},
   "outputs": [
    {
     "name": "stdout",
     "output_type": "stream",
     "text": [
      "Train label counts and percentages\n",
      "+------+-----+----+\n",
      "| label|count| pct|\n",
      "+------+-----+----+\n",
      "|    CP| 1229|0.37|\n",
      "|   NCP| 1229|0.37|\n",
      "|Normal|  892|0.27|\n",
      "+------+-----+----+\n",
      "\n",
      "Validation label counts and percentages\n",
      "+------+-----+----+\n",
      "| label|count| pct|\n",
      "+------+-----+----+\n",
      "|    CP|  152|0.38|\n",
      "|   NCP|  158|0.39|\n",
      "|Normal|   92|0.23|\n",
      "+------+-----+----+\n",
      "\n",
      "Test label counts and labels\n",
      "+------+-----+----+\n",
      "| label|count| pct|\n",
      "+------+-----+----+\n",
      "|    CP|  175|0.41|\n",
      "|   NCP|  157|0.37|\n",
      "|Normal|   94|0.22|\n",
      "+------+-----+----+\n",
      "\n"
     ]
    }
   ],
   "source": [
    "print(\"Train label counts and percentages\")\n",
    "train_labels\\\n",
    "    .groupBy(\"label\")\\\n",
    "    .agg(\n",
    "        F.count(\"*\").alias(\"count\"),\n",
    "        F.round((F.count(\"*\") / train_count), 2).alias(\"pct\"),\n",
    "    )\\\n",
    "    .show()\n",
    "\n",
    "print(\"Validation label counts and percentages\")\n",
    "val_labels\\\n",
    "    .groupBy(\"label\")\\\n",
    "    .agg(\n",
    "        F.count(\"*\").alias(\"count\"),\n",
    "        F.round((F.count(\"*\") / val_count), 2).alias(\"pct\"),\n",
    "    )\\\n",
    "    .show()\n",
    "\n",
    "print(\"Test label counts and labels\")\n",
    "test_labels\\\n",
    "    .groupBy(\"label\")\\\n",
    "    .agg(\n",
    "        F.count(\"*\").alias(\"count\"),\n",
    "        F.round((F.count(\"*\") / test_count), 2).alias(\"pct\"),\n",
    "    )\\\n",
    "    .show()"
   ]
  },
  {
   "cell_type": "markdown",
   "metadata": {},
   "source": [
    "# Create datasets for the CNN\n",
    "\n",
    "For each of the train/validation/test sets we have, we will create a pandas dataframe, and we'll use these dataframe to create the data generators for our model."
   ]
  },
  {
   "cell_type": "code",
   "execution_count": 12,
   "metadata": {},
   "outputs": [],
   "source": [
    "from dataclasses import dataclass\n",
    "\n",
    "from pyspark.sql import Row\n",
    "\n",
    "\n",
    "@dataclass\n",
    "class Observation:\n",
    "    patient_id: int\n",
    "    scan_id: int\n",
    "    n_slice: int\n",
    "    num_clips: int\n",
    "    label: str\n",
    "\n",
    "    @staticmethod\n",
    "    def from_row(r: Row) -> \"Observation\":\n",
    "        return Observation(\n",
    "            patient_id=r.patient_id,\n",
    "            scan_id=r.scan_id,\n",
    "            n_slice=r.n_slice,\n",
    "            num_clips=r.num_clips,\n",
    "            label=r.label,\n",
    "        )"
   ]
  },
  {
   "cell_type": "code",
   "execution_count": 20,
   "metadata": {},
   "outputs": [],
   "source": [
    "from tqdm.notebook import tqdm\n",
    "import pandas as pd\n",
    "from pathlib import Path\n",
    "\n",
    "def create_df(config, labels):\n",
    "    raw_images = {\n",
    "        \"label\": [],\n",
    "        \"file\": [],\n",
    "        \"patient_id\": [],\n",
    "        \"scan_id\": [],\n",
    "        \"n_slice\": [],\n",
    "        \"num_clips\": [],\n",
    "        \"seq_num\": [],\n",
    "        \"clip_num\": [],\n",
    "    }\n",
    "\n",
    "    IMAGES_PER_CLIP = config.get_int(\"tfg.training.images_per_clip\")\n",
    "\n",
    "    for r in labels.collect():\n",
    "        obs = Observation.from_row(r)\n",
    "        scan_path = Path(f\"{obs.label}/{obs.patient_id}/{obs.scan_id}\")\n",
    "        absolute_scan_path = images_input_dir / scan_path\n",
    "        # different directories have different formats\n",
    "        img_ext = next(absolute_scan_path.glob(\"*.*\")).suffix\n",
    "\n",
    "        scan_images = []\n",
    "        seq_nums = []\n",
    "        clip_nums = []\n",
    "\n",
    "        seq_num = 0\n",
    "        images_input_dir_str = str(images_input_dir)\n",
    "        path_offset = len(images_input_dir_str) + 1\n",
    "        for seq_num, img in enumerate(absolute_scan_path.glob(f\"*{img_ext}\")):\n",
    "            img_to_append = str(img)[path_offset:]\n",
    "            scan_images.append(img_to_append)\n",
    "            seq_nums.append(seq_num)\n",
    "            clip_nums.append(seq_num // IMAGES_PER_CLIP)\n",
    "            seq_num = seq_num + 1\n",
    "\n",
    "        raw_images[\"label\"].extend([obs.label] * obs.n_slice)\n",
    "        raw_images[\"file\"].extend(scan_images)\n",
    "        raw_images[\"patient_id\"].extend([obs.patient_id] * obs.n_slice)\n",
    "        raw_images[\"scan_id\"].extend([obs.scan_id] * obs.n_slice)\n",
    "        raw_images[\"n_slice\"].extend([obs.n_slice] * obs.n_slice)\n",
    "        raw_images[\"num_clips\"].extend([obs.patient_id] * obs.n_slice)\n",
    "        raw_images[\"seq_num\"].extend(seq_nums)\n",
    "        raw_images[\"clip_num\"].extend(clip_nums)\n",
    "        \n",
    "    return pd.DataFrame(raw_images)"
   ]
  },
  {
   "cell_type": "code",
   "execution_count": 21,
   "metadata": {},
   "outputs": [
    {
     "name": "stdout",
     "output_type": "stream",
     "text": [
      "(331286, 8)\n"
     ]
    },
    {
     "data": {
      "text/html": [
       "<div>\n",
       "<style scoped>\n",
       "    .dataframe tbody tr th:only-of-type {\n",
       "        vertical-align: middle;\n",
       "    }\n",
       "\n",
       "    .dataframe tbody tr th {\n",
       "        vertical-align: top;\n",
       "    }\n",
       "\n",
       "    .dataframe thead th {\n",
       "        text-align: right;\n",
       "    }\n",
       "</style>\n",
       "<table border=\"1\" class=\"dataframe\">\n",
       "  <thead>\n",
       "    <tr style=\"text-align: right;\">\n",
       "      <th></th>\n",
       "      <th>label</th>\n",
       "      <th>file</th>\n",
       "      <th>patient_id</th>\n",
       "      <th>scan_id</th>\n",
       "      <th>n_slice</th>\n",
       "      <th>num_clips</th>\n",
       "      <th>seq_num</th>\n",
       "      <th>clip_num</th>\n",
       "    </tr>\n",
       "  </thead>\n",
       "  <tbody>\n",
       "    <tr>\n",
       "      <th>0</th>\n",
       "      <td>CP</td>\n",
       "      <td>CP/0/3131/0275.png</td>\n",
       "      <td>0</td>\n",
       "      <td>3131</td>\n",
       "      <td>285</td>\n",
       "      <td>0</td>\n",
       "      <td>0</td>\n",
       "      <td>0</td>\n",
       "    </tr>\n",
       "    <tr>\n",
       "      <th>1</th>\n",
       "      <td>CP</td>\n",
       "      <td>CP/0/3131/0064.png</td>\n",
       "      <td>0</td>\n",
       "      <td>3131</td>\n",
       "      <td>285</td>\n",
       "      <td>0</td>\n",
       "      <td>1</td>\n",
       "      <td>0</td>\n",
       "    </tr>\n",
       "    <tr>\n",
       "      <th>2</th>\n",
       "      <td>CP</td>\n",
       "      <td>CP/0/3131/0083.png</td>\n",
       "      <td>0</td>\n",
       "      <td>3131</td>\n",
       "      <td>285</td>\n",
       "      <td>0</td>\n",
       "      <td>2</td>\n",
       "      <td>0</td>\n",
       "    </tr>\n",
       "    <tr>\n",
       "      <th>3</th>\n",
       "      <td>CP</td>\n",
       "      <td>CP/0/3131/0160.png</td>\n",
       "      <td>0</td>\n",
       "      <td>3131</td>\n",
       "      <td>285</td>\n",
       "      <td>0</td>\n",
       "      <td>3</td>\n",
       "      <td>0</td>\n",
       "    </tr>\n",
       "    <tr>\n",
       "      <th>4</th>\n",
       "      <td>CP</td>\n",
       "      <td>CP/0/3131/0127.png</td>\n",
       "      <td>0</td>\n",
       "      <td>3131</td>\n",
       "      <td>285</td>\n",
       "      <td>0</td>\n",
       "      <td>4</td>\n",
       "      <td>0</td>\n",
       "    </tr>\n",
       "    <tr>\n",
       "      <th>...</th>\n",
       "      <td>...</td>\n",
       "      <td>...</td>\n",
       "      <td>...</td>\n",
       "      <td>...</td>\n",
       "      <td>...</td>\n",
       "      <td>...</td>\n",
       "      <td>...</td>\n",
       "      <td>...</td>\n",
       "    </tr>\n",
       "    <tr>\n",
       "      <th>331281</th>\n",
       "      <td>Normal</td>\n",
       "      <td>Normal/1924/379/0014.png</td>\n",
       "      <td>1924</td>\n",
       "      <td>379</td>\n",
       "      <td>98</td>\n",
       "      <td>1924</td>\n",
       "      <td>93</td>\n",
       "      <td>1</td>\n",
       "    </tr>\n",
       "    <tr>\n",
       "      <th>331282</th>\n",
       "      <td>Normal</td>\n",
       "      <td>Normal/1924/379/0001.png</td>\n",
       "      <td>1924</td>\n",
       "      <td>379</td>\n",
       "      <td>98</td>\n",
       "      <td>1924</td>\n",
       "      <td>94</td>\n",
       "      <td>1</td>\n",
       "    </tr>\n",
       "    <tr>\n",
       "      <th>331283</th>\n",
       "      <td>Normal</td>\n",
       "      <td>Normal/1924/379/0027.png</td>\n",
       "      <td>1924</td>\n",
       "      <td>379</td>\n",
       "      <td>98</td>\n",
       "      <td>1924</td>\n",
       "      <td>95</td>\n",
       "      <td>1</td>\n",
       "    </tr>\n",
       "    <tr>\n",
       "      <th>331284</th>\n",
       "      <td>Normal</td>\n",
       "      <td>Normal/1924/379/0031.png</td>\n",
       "      <td>1924</td>\n",
       "      <td>379</td>\n",
       "      <td>98</td>\n",
       "      <td>1924</td>\n",
       "      <td>96</td>\n",
       "      <td>1</td>\n",
       "    </tr>\n",
       "    <tr>\n",
       "      <th>331285</th>\n",
       "      <td>Normal</td>\n",
       "      <td>Normal/1924/379/0057.png</td>\n",
       "      <td>1924</td>\n",
       "      <td>379</td>\n",
       "      <td>98</td>\n",
       "      <td>1924</td>\n",
       "      <td>97</td>\n",
       "      <td>1</td>\n",
       "    </tr>\n",
       "  </tbody>\n",
       "</table>\n",
       "<p>331286 rows × 8 columns</p>\n",
       "</div>"
      ],
      "text/plain": [
       "         label                      file  patient_id  scan_id  n_slice  \\\n",
       "0           CP        CP/0/3131/0275.png           0     3131      285   \n",
       "1           CP        CP/0/3131/0064.png           0     3131      285   \n",
       "2           CP        CP/0/3131/0083.png           0     3131      285   \n",
       "3           CP        CP/0/3131/0160.png           0     3131      285   \n",
       "4           CP        CP/0/3131/0127.png           0     3131      285   \n",
       "...        ...                       ...         ...      ...      ...   \n",
       "331281  Normal  Normal/1924/379/0014.png        1924      379       98   \n",
       "331282  Normal  Normal/1924/379/0001.png        1924      379       98   \n",
       "331283  Normal  Normal/1924/379/0027.png        1924      379       98   \n",
       "331284  Normal  Normal/1924/379/0031.png        1924      379       98   \n",
       "331285  Normal  Normal/1924/379/0057.png        1924      379       98   \n",
       "\n",
       "        num_clips  seq_num  clip_num  \n",
       "0               0        0         0  \n",
       "1               0        1         0  \n",
       "2               0        2         0  \n",
       "3               0        3         0  \n",
       "4               0        4         0  \n",
       "...           ...      ...       ...  \n",
       "331281       1924       93         1  \n",
       "331282       1924       94         1  \n",
       "331283       1924       95         1  \n",
       "331284       1924       96         1  \n",
       "331285       1924       97         1  \n",
       "\n",
       "[331286 rows x 8 columns]"
      ]
     },
     "execution_count": 21,
     "metadata": {},
     "output_type": "execute_result"
    }
   ],
   "source": [
    "train_df = create_df(config, train_labels)\n",
    "print(f\"{train_df.shape}\")\n",
    "train_df"
   ]
  },
  {
   "cell_type": "code",
   "execution_count": 26,
   "metadata": {},
   "outputs": [
    {
     "data": {
      "text/plain": [
       "True"
      ]
     },
     "execution_count": 26,
     "metadata": {},
     "output_type": "execute_result"
    }
   ],
   "source": [
    "repo.save(\"train_df\", train_df)"
   ]
  },
  {
   "cell_type": "code",
   "execution_count": 27,
   "metadata": {},
   "outputs": [
    {
     "name": "stdout",
     "output_type": "stream",
     "text": [
      "(39828, 8)\n"
     ]
    },
    {
     "data": {
      "text/html": [
       "<div>\n",
       "<style scoped>\n",
       "    .dataframe tbody tr th:only-of-type {\n",
       "        vertical-align: middle;\n",
       "    }\n",
       "\n",
       "    .dataframe tbody tr th {\n",
       "        vertical-align: top;\n",
       "    }\n",
       "\n",
       "    .dataframe thead th {\n",
       "        text-align: right;\n",
       "    }\n",
       "</style>\n",
       "<table border=\"1\" class=\"dataframe\">\n",
       "  <thead>\n",
       "    <tr style=\"text-align: right;\">\n",
       "      <th></th>\n",
       "      <th>label</th>\n",
       "      <th>file</th>\n",
       "      <th>patient_id</th>\n",
       "      <th>scan_id</th>\n",
       "      <th>n_slice</th>\n",
       "      <th>num_clips</th>\n",
       "      <th>seq_num</th>\n",
       "      <th>clip_num</th>\n",
       "    </tr>\n",
       "  </thead>\n",
       "  <tbody>\n",
       "    <tr>\n",
       "      <th>0</th>\n",
       "      <td>CP</td>\n",
       "      <td>CP/1075/3118/0543.jpg</td>\n",
       "      <td>1075</td>\n",
       "      <td>3118</td>\n",
       "      <td>553</td>\n",
       "      <td>1075</td>\n",
       "      <td>0</td>\n",
       "      <td>0</td>\n",
       "    </tr>\n",
       "    <tr>\n",
       "      <th>1</th>\n",
       "      <td>CP</td>\n",
       "      <td>CP/1075/3118/0174.jpg</td>\n",
       "      <td>1075</td>\n",
       "      <td>3118</td>\n",
       "      <td>553</td>\n",
       "      <td>1075</td>\n",
       "      <td>1</td>\n",
       "      <td>0</td>\n",
       "    </tr>\n",
       "    <tr>\n",
       "      <th>2</th>\n",
       "      <td>CP</td>\n",
       "      <td>CP/1075/3118/0130.jpg</td>\n",
       "      <td>1075</td>\n",
       "      <td>3118</td>\n",
       "      <td>553</td>\n",
       "      <td>1075</td>\n",
       "      <td>2</td>\n",
       "      <td>0</td>\n",
       "    </tr>\n",
       "    <tr>\n",
       "      <th>3</th>\n",
       "      <td>CP</td>\n",
       "      <td>CP/1075/3118/0525.jpg</td>\n",
       "      <td>1075</td>\n",
       "      <td>3118</td>\n",
       "      <td>553</td>\n",
       "      <td>1075</td>\n",
       "      <td>3</td>\n",
       "      <td>0</td>\n",
       "    </tr>\n",
       "    <tr>\n",
       "      <th>4</th>\n",
       "      <td>CP</td>\n",
       "      <td>CP/1075/3118/0152.jpg</td>\n",
       "      <td>1075</td>\n",
       "      <td>3118</td>\n",
       "      <td>553</td>\n",
       "      <td>1075</td>\n",
       "      <td>4</td>\n",
       "      <td>0</td>\n",
       "    </tr>\n",
       "    <tr>\n",
       "      <th>...</th>\n",
       "      <td>...</td>\n",
       "      <td>...</td>\n",
       "      <td>...</td>\n",
       "      <td>...</td>\n",
       "      <td>...</td>\n",
       "      <td>...</td>\n",
       "      <td>...</td>\n",
       "      <td>...</td>\n",
       "    </tr>\n",
       "    <tr>\n",
       "      <th>39823</th>\n",
       "      <td>Normal</td>\n",
       "      <td>Normal/1920/375/0014.png</td>\n",
       "      <td>1920</td>\n",
       "      <td>375</td>\n",
       "      <td>100</td>\n",
       "      <td>1920</td>\n",
       "      <td>95</td>\n",
       "      <td>1</td>\n",
       "    </tr>\n",
       "    <tr>\n",
       "      <th>39824</th>\n",
       "      <td>Normal</td>\n",
       "      <td>Normal/1920/375/0001.png</td>\n",
       "      <td>1920</td>\n",
       "      <td>375</td>\n",
       "      <td>100</td>\n",
       "      <td>1920</td>\n",
       "      <td>96</td>\n",
       "      <td>1</td>\n",
       "    </tr>\n",
       "    <tr>\n",
       "      <th>39825</th>\n",
       "      <td>Normal</td>\n",
       "      <td>Normal/1920/375/0027.png</td>\n",
       "      <td>1920</td>\n",
       "      <td>375</td>\n",
       "      <td>100</td>\n",
       "      <td>1920</td>\n",
       "      <td>97</td>\n",
       "      <td>1</td>\n",
       "    </tr>\n",
       "    <tr>\n",
       "      <th>39826</th>\n",
       "      <td>Normal</td>\n",
       "      <td>Normal/1920/375/0031.png</td>\n",
       "      <td>1920</td>\n",
       "      <td>375</td>\n",
       "      <td>100</td>\n",
       "      <td>1920</td>\n",
       "      <td>98</td>\n",
       "      <td>1</td>\n",
       "    </tr>\n",
       "    <tr>\n",
       "      <th>39827</th>\n",
       "      <td>Normal</td>\n",
       "      <td>Normal/1920/375/0057.png</td>\n",
       "      <td>1920</td>\n",
       "      <td>375</td>\n",
       "      <td>100</td>\n",
       "      <td>1920</td>\n",
       "      <td>99</td>\n",
       "      <td>1</td>\n",
       "    </tr>\n",
       "  </tbody>\n",
       "</table>\n",
       "<p>39828 rows × 8 columns</p>\n",
       "</div>"
      ],
      "text/plain": [
       "        label                      file  patient_id  scan_id  n_slice  \\\n",
       "0          CP     CP/1075/3118/0543.jpg        1075     3118      553   \n",
       "1          CP     CP/1075/3118/0174.jpg        1075     3118      553   \n",
       "2          CP     CP/1075/3118/0130.jpg        1075     3118      553   \n",
       "3          CP     CP/1075/3118/0525.jpg        1075     3118      553   \n",
       "4          CP     CP/1075/3118/0152.jpg        1075     3118      553   \n",
       "...       ...                       ...         ...      ...      ...   \n",
       "39823  Normal  Normal/1920/375/0014.png        1920      375      100   \n",
       "39824  Normal  Normal/1920/375/0001.png        1920      375      100   \n",
       "39825  Normal  Normal/1920/375/0027.png        1920      375      100   \n",
       "39826  Normal  Normal/1920/375/0031.png        1920      375      100   \n",
       "39827  Normal  Normal/1920/375/0057.png        1920      375      100   \n",
       "\n",
       "       num_clips  seq_num  clip_num  \n",
       "0           1075        0         0  \n",
       "1           1075        1         0  \n",
       "2           1075        2         0  \n",
       "3           1075        3         0  \n",
       "4           1075        4         0  \n",
       "...          ...      ...       ...  \n",
       "39823       1920       95         1  \n",
       "39824       1920       96         1  \n",
       "39825       1920       97         1  \n",
       "39826       1920       98         1  \n",
       "39827       1920       99         1  \n",
       "\n",
       "[39828 rows x 8 columns]"
      ]
     },
     "execution_count": 27,
     "metadata": {},
     "output_type": "execute_result"
    }
   ],
   "source": [
    "val_df = create_df(config, val_labels)\n",
    "print(f\"{val_df.shape}\")\n",
    "val_df"
   ]
  },
  {
   "cell_type": "code",
   "execution_count": 28,
   "metadata": {},
   "outputs": [
    {
     "data": {
      "text/plain": [
       "True"
      ]
     },
     "execution_count": 28,
     "metadata": {},
     "output_type": "execute_result"
    }
   ],
   "source": [
    "repo.save(\"val_df\", val_df)"
   ]
  },
  {
   "cell_type": "code",
   "execution_count": 29,
   "metadata": {},
   "outputs": [
    {
     "name": "stdout",
     "output_type": "stream",
     "text": [
      "(40415, 8)\n"
     ]
    },
    {
     "data": {
      "text/html": [
       "<div>\n",
       "<style scoped>\n",
       "    .dataframe tbody tr th:only-of-type {\n",
       "        vertical-align: middle;\n",
       "    }\n",
       "\n",
       "    .dataframe tbody tr th {\n",
       "        vertical-align: top;\n",
       "    }\n",
       "\n",
       "    .dataframe thead th {\n",
       "        text-align: right;\n",
       "    }\n",
       "</style>\n",
       "<table border=\"1\" class=\"dataframe\">\n",
       "  <thead>\n",
       "    <tr style=\"text-align: right;\">\n",
       "      <th></th>\n",
       "      <th>label</th>\n",
       "      <th>file</th>\n",
       "      <th>patient_id</th>\n",
       "      <th>scan_id</th>\n",
       "      <th>n_slice</th>\n",
       "      <th>num_clips</th>\n",
       "      <th>seq_num</th>\n",
       "      <th>clip_num</th>\n",
       "    </tr>\n",
       "  </thead>\n",
       "  <tbody>\n",
       "    <tr>\n",
       "      <th>0</th>\n",
       "      <td>CP</td>\n",
       "      <td>CP/1/3143/0275.png</td>\n",
       "      <td>1</td>\n",
       "      <td>3143</td>\n",
       "      <td>300</td>\n",
       "      <td>1</td>\n",
       "      <td>0</td>\n",
       "      <td>0</td>\n",
       "    </tr>\n",
       "    <tr>\n",
       "      <th>1</th>\n",
       "      <td>CP</td>\n",
       "      <td>CP/1/3143/0064.png</td>\n",
       "      <td>1</td>\n",
       "      <td>3143</td>\n",
       "      <td>300</td>\n",
       "      <td>1</td>\n",
       "      <td>1</td>\n",
       "      <td>0</td>\n",
       "    </tr>\n",
       "    <tr>\n",
       "      <th>2</th>\n",
       "      <td>CP</td>\n",
       "      <td>CP/1/3143/0083.png</td>\n",
       "      <td>1</td>\n",
       "      <td>3143</td>\n",
       "      <td>300</td>\n",
       "      <td>1</td>\n",
       "      <td>2</td>\n",
       "      <td>0</td>\n",
       "    </tr>\n",
       "    <tr>\n",
       "      <th>3</th>\n",
       "      <td>CP</td>\n",
       "      <td>CP/1/3143/0160.png</td>\n",
       "      <td>1</td>\n",
       "      <td>3143</td>\n",
       "      <td>300</td>\n",
       "      <td>1</td>\n",
       "      <td>3</td>\n",
       "      <td>0</td>\n",
       "    </tr>\n",
       "    <tr>\n",
       "      <th>4</th>\n",
       "      <td>CP</td>\n",
       "      <td>CP/1/3143/0286.png</td>\n",
       "      <td>1</td>\n",
       "      <td>3143</td>\n",
       "      <td>300</td>\n",
       "      <td>1</td>\n",
       "      <td>4</td>\n",
       "      <td>0</td>\n",
       "    </tr>\n",
       "    <tr>\n",
       "      <th>...</th>\n",
       "      <td>...</td>\n",
       "      <td>...</td>\n",
       "      <td>...</td>\n",
       "      <td>...</td>\n",
       "      <td>...</td>\n",
       "      <td>...</td>\n",
       "      <td>...</td>\n",
       "      <td>...</td>\n",
       "    </tr>\n",
       "    <tr>\n",
       "      <th>40410</th>\n",
       "      <td>Normal</td>\n",
       "      <td>Normal/1917/372/0014.png</td>\n",
       "      <td>1917</td>\n",
       "      <td>372</td>\n",
       "      <td>96</td>\n",
       "      <td>1917</td>\n",
       "      <td>91</td>\n",
       "      <td>1</td>\n",
       "    </tr>\n",
       "    <tr>\n",
       "      <th>40411</th>\n",
       "      <td>Normal</td>\n",
       "      <td>Normal/1917/372/0001.png</td>\n",
       "      <td>1917</td>\n",
       "      <td>372</td>\n",
       "      <td>96</td>\n",
       "      <td>1917</td>\n",
       "      <td>92</td>\n",
       "      <td>1</td>\n",
       "    </tr>\n",
       "    <tr>\n",
       "      <th>40412</th>\n",
       "      <td>Normal</td>\n",
       "      <td>Normal/1917/372/0027.png</td>\n",
       "      <td>1917</td>\n",
       "      <td>372</td>\n",
       "      <td>96</td>\n",
       "      <td>1917</td>\n",
       "      <td>93</td>\n",
       "      <td>1</td>\n",
       "    </tr>\n",
       "    <tr>\n",
       "      <th>40413</th>\n",
       "      <td>Normal</td>\n",
       "      <td>Normal/1917/372/0031.png</td>\n",
       "      <td>1917</td>\n",
       "      <td>372</td>\n",
       "      <td>96</td>\n",
       "      <td>1917</td>\n",
       "      <td>94</td>\n",
       "      <td>1</td>\n",
       "    </tr>\n",
       "    <tr>\n",
       "      <th>40414</th>\n",
       "      <td>Normal</td>\n",
       "      <td>Normal/1917/372/0057.png</td>\n",
       "      <td>1917</td>\n",
       "      <td>372</td>\n",
       "      <td>96</td>\n",
       "      <td>1917</td>\n",
       "      <td>95</td>\n",
       "      <td>1</td>\n",
       "    </tr>\n",
       "  </tbody>\n",
       "</table>\n",
       "<p>40415 rows × 8 columns</p>\n",
       "</div>"
      ],
      "text/plain": [
       "        label                      file  patient_id  scan_id  n_slice  \\\n",
       "0          CP        CP/1/3143/0275.png           1     3143      300   \n",
       "1          CP        CP/1/3143/0064.png           1     3143      300   \n",
       "2          CP        CP/1/3143/0083.png           1     3143      300   \n",
       "3          CP        CP/1/3143/0160.png           1     3143      300   \n",
       "4          CP        CP/1/3143/0286.png           1     3143      300   \n",
       "...       ...                       ...         ...      ...      ...   \n",
       "40410  Normal  Normal/1917/372/0014.png        1917      372       96   \n",
       "40411  Normal  Normal/1917/372/0001.png        1917      372       96   \n",
       "40412  Normal  Normal/1917/372/0027.png        1917      372       96   \n",
       "40413  Normal  Normal/1917/372/0031.png        1917      372       96   \n",
       "40414  Normal  Normal/1917/372/0057.png        1917      372       96   \n",
       "\n",
       "       num_clips  seq_num  clip_num  \n",
       "0              1        0         0  \n",
       "1              1        1         0  \n",
       "2              1        2         0  \n",
       "3              1        3         0  \n",
       "4              1        4         0  \n",
       "...          ...      ...       ...  \n",
       "40410       1917       91         1  \n",
       "40411       1917       92         1  \n",
       "40412       1917       93         1  \n",
       "40413       1917       94         1  \n",
       "40414       1917       95         1  \n",
       "\n",
       "[40415 rows x 8 columns]"
      ]
     },
     "execution_count": 29,
     "metadata": {},
     "output_type": "execute_result"
    }
   ],
   "source": [
    "test_df = create_df(config, test_labels)\n",
    "print(f\"{test_df.shape}\")\n",
    "test_df"
   ]
  },
  {
   "cell_type": "code",
   "execution_count": 30,
   "metadata": {},
   "outputs": [
    {
     "data": {
      "text/plain": [
       "True"
      ]
     },
     "execution_count": 30,
     "metadata": {},
     "output_type": "execute_result"
    }
   ],
   "source": [
    "repo.save(\"test_df\", test_df)"
   ]
  },
  {
   "cell_type": "markdown",
   "metadata": {},
   "source": [
    "# Data Generators"
   ]
  },
  {
   "cell_type": "code",
   "execution_count": 5,
   "metadata": {},
   "outputs": [
    {
     "data": {
      "text/html": [
       "<div>\n",
       "<style scoped>\n",
       "    .dataframe tbody tr th:only-of-type {\n",
       "        vertical-align: middle;\n",
       "    }\n",
       "\n",
       "    .dataframe tbody tr th {\n",
       "        vertical-align: top;\n",
       "    }\n",
       "\n",
       "    .dataframe thead th {\n",
       "        text-align: right;\n",
       "    }\n",
       "</style>\n",
       "<table border=\"1\" class=\"dataframe\">\n",
       "  <thead>\n",
       "    <tr style=\"text-align: right;\">\n",
       "      <th></th>\n",
       "      <th>label</th>\n",
       "      <th>file</th>\n",
       "      <th>patient_id</th>\n",
       "      <th>scan_id</th>\n",
       "      <th>n_slice</th>\n",
       "      <th>num_clips</th>\n",
       "      <th>seq_num</th>\n",
       "      <th>clip_num</th>\n",
       "    </tr>\n",
       "  </thead>\n",
       "  <tbody>\n",
       "    <tr>\n",
       "      <th>0</th>\n",
       "      <td>CP</td>\n",
       "      <td>CP/0/3131/0275.png</td>\n",
       "      <td>0</td>\n",
       "      <td>3131</td>\n",
       "      <td>285</td>\n",
       "      <td>0</td>\n",
       "      <td>0</td>\n",
       "      <td>0</td>\n",
       "    </tr>\n",
       "    <tr>\n",
       "      <th>1</th>\n",
       "      <td>CP</td>\n",
       "      <td>CP/0/3131/0064.png</td>\n",
       "      <td>0</td>\n",
       "      <td>3131</td>\n",
       "      <td>285</td>\n",
       "      <td>0</td>\n",
       "      <td>1</td>\n",
       "      <td>0</td>\n",
       "    </tr>\n",
       "    <tr>\n",
       "      <th>2</th>\n",
       "      <td>CP</td>\n",
       "      <td>CP/0/3131/0083.png</td>\n",
       "      <td>0</td>\n",
       "      <td>3131</td>\n",
       "      <td>285</td>\n",
       "      <td>0</td>\n",
       "      <td>2</td>\n",
       "      <td>0</td>\n",
       "    </tr>\n",
       "    <tr>\n",
       "      <th>3</th>\n",
       "      <td>CP</td>\n",
       "      <td>CP/0/3131/0160.png</td>\n",
       "      <td>0</td>\n",
       "      <td>3131</td>\n",
       "      <td>285</td>\n",
       "      <td>0</td>\n",
       "      <td>3</td>\n",
       "      <td>0</td>\n",
       "    </tr>\n",
       "    <tr>\n",
       "      <th>4</th>\n",
       "      <td>CP</td>\n",
       "      <td>CP/0/3131/0127.png</td>\n",
       "      <td>0</td>\n",
       "      <td>3131</td>\n",
       "      <td>285</td>\n",
       "      <td>0</td>\n",
       "      <td>4</td>\n",
       "      <td>0</td>\n",
       "    </tr>\n",
       "  </tbody>\n",
       "</table>\n",
       "</div>"
      ],
      "text/plain": [
       "  label                file  patient_id  scan_id  n_slice  num_clips  seq_num  \\\n",
       "0    CP  CP/0/3131/0275.png           0     3131      285          0        0   \n",
       "1    CP  CP/0/3131/0064.png           0     3131      285          0        1   \n",
       "2    CP  CP/0/3131/0083.png           0     3131      285          0        2   \n",
       "3    CP  CP/0/3131/0160.png           0     3131      285          0        3   \n",
       "4    CP  CP/0/3131/0127.png           0     3131      285          0        4   \n",
       "\n",
       "   clip_num  \n",
       "0         0  \n",
       "1         0  \n",
       "2         0  \n",
       "3         0  \n",
       "4         0  "
      ]
     },
     "execution_count": 5,
     "metadata": {},
     "output_type": "execute_result"
    }
   ],
   "source": [
    "train_df = repo.load(\"train_df\")\n",
    "train_df.head(5)"
   ]
  },
  {
   "cell_type": "code",
   "execution_count": 6,
   "metadata": {},
   "outputs": [
    {
     "data": {
      "text/html": [
       "<div>\n",
       "<style scoped>\n",
       "    .dataframe tbody tr th:only-of-type {\n",
       "        vertical-align: middle;\n",
       "    }\n",
       "\n",
       "    .dataframe tbody tr th {\n",
       "        vertical-align: top;\n",
       "    }\n",
       "\n",
       "    .dataframe thead th {\n",
       "        text-align: right;\n",
       "    }\n",
       "</style>\n",
       "<table border=\"1\" class=\"dataframe\">\n",
       "  <thead>\n",
       "    <tr style=\"text-align: right;\">\n",
       "      <th></th>\n",
       "      <th>label</th>\n",
       "      <th>file</th>\n",
       "      <th>patient_id</th>\n",
       "      <th>scan_id</th>\n",
       "      <th>n_slice</th>\n",
       "      <th>num_clips</th>\n",
       "      <th>seq_num</th>\n",
       "      <th>clip_num</th>\n",
       "    </tr>\n",
       "  </thead>\n",
       "  <tbody>\n",
       "    <tr>\n",
       "      <th>0</th>\n",
       "      <td>CP</td>\n",
       "      <td>CP/1075/3118/0543.jpg</td>\n",
       "      <td>1075</td>\n",
       "      <td>3118</td>\n",
       "      <td>553</td>\n",
       "      <td>1075</td>\n",
       "      <td>0</td>\n",
       "      <td>0</td>\n",
       "    </tr>\n",
       "    <tr>\n",
       "      <th>1</th>\n",
       "      <td>CP</td>\n",
       "      <td>CP/1075/3118/0174.jpg</td>\n",
       "      <td>1075</td>\n",
       "      <td>3118</td>\n",
       "      <td>553</td>\n",
       "      <td>1075</td>\n",
       "      <td>1</td>\n",
       "      <td>0</td>\n",
       "    </tr>\n",
       "    <tr>\n",
       "      <th>2</th>\n",
       "      <td>CP</td>\n",
       "      <td>CP/1075/3118/0130.jpg</td>\n",
       "      <td>1075</td>\n",
       "      <td>3118</td>\n",
       "      <td>553</td>\n",
       "      <td>1075</td>\n",
       "      <td>2</td>\n",
       "      <td>0</td>\n",
       "    </tr>\n",
       "    <tr>\n",
       "      <th>3</th>\n",
       "      <td>CP</td>\n",
       "      <td>CP/1075/3118/0525.jpg</td>\n",
       "      <td>1075</td>\n",
       "      <td>3118</td>\n",
       "      <td>553</td>\n",
       "      <td>1075</td>\n",
       "      <td>3</td>\n",
       "      <td>0</td>\n",
       "    </tr>\n",
       "    <tr>\n",
       "      <th>4</th>\n",
       "      <td>CP</td>\n",
       "      <td>CP/1075/3118/0152.jpg</td>\n",
       "      <td>1075</td>\n",
       "      <td>3118</td>\n",
       "      <td>553</td>\n",
       "      <td>1075</td>\n",
       "      <td>4</td>\n",
       "      <td>0</td>\n",
       "    </tr>\n",
       "  </tbody>\n",
       "</table>\n",
       "</div>"
      ],
      "text/plain": [
       "  label                   file  patient_id  scan_id  n_slice  num_clips  \\\n",
       "0    CP  CP/1075/3118/0543.jpg        1075     3118      553       1075   \n",
       "1    CP  CP/1075/3118/0174.jpg        1075     3118      553       1075   \n",
       "2    CP  CP/1075/3118/0130.jpg        1075     3118      553       1075   \n",
       "3    CP  CP/1075/3118/0525.jpg        1075     3118      553       1075   \n",
       "4    CP  CP/1075/3118/0152.jpg        1075     3118      553       1075   \n",
       "\n",
       "   seq_num  clip_num  \n",
       "0        0         0  \n",
       "1        1         0  \n",
       "2        2         0  \n",
       "3        3         0  \n",
       "4        4         0  "
      ]
     },
     "execution_count": 6,
     "metadata": {},
     "output_type": "execute_result"
    }
   ],
   "source": [
    "val_df = repo.load(\"val_df\")\n",
    "val_df.head(5)"
   ]
  },
  {
   "cell_type": "code",
   "execution_count": 34,
   "metadata": {},
   "outputs": [
    {
     "data": {
      "application/vnd.jupyter.widget-view+json": {
       "model_id": "9c51630100294bdab057f79882116850",
       "version_major": 2,
       "version_minor": 0
      },
      "text/plain": [
       "HBox(children=(HTML(value=''), FloatProgress(value=1.0, bar_style='info', layout=Layout(width='20px'), max=1.0…"
      ]
     },
     "metadata": {},
     "output_type": "display_data"
    },
    {
     "name": "stdout",
     "output_type": "stream",
     "text": [
      "\n"
     ]
    },
    {
     "data": {
      "text/plain": [
       "{(512, 512), (768, 768), (1024, 1024), (1168, 1168)}"
      ]
     },
     "execution_count": 34,
     "metadata": {},
     "output_type": "execute_result"
    }
   ],
   "source": [
    "from tqdm.notebook import tqdm\n",
    "from tensorflow.keras.preprocessing.image import load_img\n",
    "\n",
    "img_sizes = set()\n",
    "\n",
    "for r in tqdm(train_df.drop_duplicates([\"patient_id\", \"scan_id\"]).iterrows()):\n",
    "    img_path = images_input_dir / r[1][\"file\"]\n",
    "    img_sizes.add(load_img(img_path).size)\n",
    "\n",
    "img_sizes"
   ]
  },
  {
   "cell_type": "code",
   "execution_count": 35,
   "metadata": {},
   "outputs": [
    {
     "data": {
      "application/vnd.jupyter.widget-view+json": {
       "model_id": "796027e9697d438d936c95655f92494f",
       "version_major": 2,
       "version_minor": 0
      },
      "text/plain": [
       "HBox(children=(HTML(value=''), FloatProgress(value=1.0, bar_style='info', layout=Layout(width='20px'), max=1.0…"
      ]
     },
     "metadata": {},
     "output_type": "display_data"
    },
    {
     "name": "stdout",
     "output_type": "stream",
     "text": [
      "\n"
     ]
    },
    {
     "data": {
      "text/plain": [
       "{(512, 512)}"
      ]
     },
     "execution_count": 35,
     "metadata": {},
     "output_type": "execute_result"
    }
   ],
   "source": [
    "val_img_sizes = set()\n",
    "\n",
    "for r in tqdm(val_df.drop_duplicates([\"patient_id\", \"scan_id\"]).iterrows()):\n",
    "    img_path = images_input_dir / r[1][\"file\"]\n",
    "    val_img_sizes.add(load_img(img_path).size)\n",
    "\n",
    "val_img_sizes"
   ]
  },
  {
   "cell_type": "code",
   "execution_count": 7,
   "metadata": {},
   "outputs": [
    {
     "name": "stdout",
     "output_type": "stream",
     "text": [
      "Found 331286 validated image filenames belonging to 3 classes.\n",
      "Found 39828 validated image filenames belonging to 3 classes.\n"
     ]
    }
   ],
   "source": [
    "from keras_preprocessing.image import ImageDataGenerator\n",
    "\n",
    "seed = config.get_int(\"tfg.seed\")\n",
    "val_fraction = config.get_float(\"tfg.training.val_fraction\")\n",
    "train_datagen = ImageDataGenerator(rescale=1./255.)\n",
    "val_datagen = ImageDataGenerator(rescale=1./255.)\n",
    "batch_size = config.get_int(\"tfg.training.batch_size\")\n",
    "\n",
    "train_generator = train_datagen.flow_from_dataframe(\n",
    "    dataframe=train_df,\n",
    "    directory=str(images_input_dir),\n",
    "    x_col=\"file\",\n",
    "    y_col=\"label\",\n",
    "    subset=\"training\",\n",
    "    batch_size=batch_size,\n",
    "    seed=seed,\n",
    "    shuffle=True,\n",
    "    class_mode=\"categorical\",\n",
    "    target_size=(512, 512))\n",
    "\n",
    "valid_generator = val_datagen.flow_from_dataframe(\n",
    "    dataframe=val_df,\n",
    "    directory=str(images_input_dir),\n",
    "    x_col=\"file\",\n",
    "    y_col=\"label\",\n",
    "    batch_size=batch_size,\n",
    "    seed=seed,\n",
    "    shuffle=True,\n",
    "    class_mode=\"categorical\",\n",
    "    target_size=(512, 512))"
   ]
  },
  {
   "cell_type": "markdown",
   "metadata": {},
   "source": [
    "# Create model"
   ]
  },
  {
   "cell_type": "code",
   "execution_count": 8,
   "metadata": {},
   "outputs": [
    {
     "data": {
      "text/plain": [
       "[PhysicalDevice(name='/physical_device:GPU:0', device_type='GPU')]"
      ]
     },
     "execution_count": 8,
     "metadata": {},
     "output_type": "execute_result"
    }
   ],
   "source": [
    "import tensorflow as tf\n",
    "\n",
    "tf.config.list_physical_devices(\"GPU\")"
   ]
  },
  {
   "cell_type": "code",
   "execution_count": 9,
   "metadata": {},
   "outputs": [],
   "source": [
    "from tensorflow import keras\n",
    "from tensorflow.keras import layers\n",
    "from tensorflow.keras import regularizers as reg\n",
    "from tensorflow.keras import callbacks"
   ]
  },
  {
   "cell_type": "code",
   "execution_count": 10,
   "metadata": {},
   "outputs": [],
   "source": [
    "input_images = keras.Input(shape=(512, 512, 3), name=\"input_images\")"
   ]
  },
  {
   "cell_type": "code",
   "execution_count": 11,
   "metadata": {},
   "outputs": [],
   "source": [
    "filters = 16\n",
    "initial_dense_features = 256\n",
    "num_features = 64\n",
    "num_classes = 3\n",
    "num_layers = 0\n",
    "cnn_net = input_images\n",
    "\n",
    "cnn_net = layers.Conv2D(filters=filters, kernel_size=3, padding=\"same\", activation=\"relu\", name=f\"conv2d_{num_layers+1:02d}\")(cnn_net)\n",
    "cnn_net = layers.MaxPool2D(2, name=f\"maxpool2d_{num_layers+1:02d}\")(cnn_net)\n",
    "filters = filters * 2\n",
    "num_layers = num_layers + 1\n",
    "\n",
    "cnn_net = layers.Conv2D(filters=filters, kernel_size=3, padding=\"same\", activation=\"relu\", name=f\"conv2d_{num_layers+1:02d}\")(cnn_net)\n",
    "cnn_net = layers.MaxPool2D(2, name=f\"maxpool2d_{num_layers+1:02d}\")(cnn_net)\n",
    "filters = filters * 2\n",
    "num_layers = num_layers + 1\n",
    "\n",
    "cnn_net = layers.Conv2D(filters=filters, kernel_size=3, padding=\"same\", activation=\"relu\", name=f\"conv2d_{num_layers+1:02d}\")(cnn_net)\n",
    "cnn_net = layers.MaxPool2D(2, name=f\"maxpool2d_{num_layers+1:02d}\")(cnn_net)\n",
    "filters = filters * 2\n",
    "num_layers = num_layers + 1\n",
    "\n",
    "cnn_net = layers.Conv2D(filters=filters, kernel_size=3, padding=\"same\", activation=\"relu\", name=f\"conv2d_{num_layers+1:02d}\")(cnn_net)\n",
    "cnn_net = layers.MaxPool2D(2, name=f\"maxpool2d_{num_layers+1:02d}\")(cnn_net)\n",
    "filters = filters * 2\n",
    "num_layers = num_layers + 1\n",
    "\n",
    "cnn_net = layers.Conv2D(filters=filters, kernel_size=3, padding=\"same\", activation=\"relu\", name=f\"conv2d_{num_layers+1:02d}\")(cnn_net)\n",
    "cnn_net = layers.MaxPool2D(2, name=f\"maxpool2d_{num_layers+1:02d}\")(cnn_net)\n",
    "filters = filters * 2\n",
    "num_layers = num_layers + 1\n",
    "\n",
    "cnn_net = layers.Conv2D(filters=filters, kernel_size=3, padding=\"same\", activation=\"relu\", name=f\"conv2d_{num_layers+1:02d}\", kernel_regularizer=reg.l2(l=0.01))(cnn_net)\n",
    "cnn_net = layers.MaxPool2D(2, name=f\"maxpool2d_{num_layers+1:02d}\")(cnn_net)\n",
    "filters = filters * 2\n",
    "num_layers = num_layers + 1\n",
    "\n",
    "# cnn_net = layers.Conv2D(filters=filters, kernel_size=3, padding=\"same\", activation=\"relu\", name=f\"conv2d_{num_layers+1:02d}\", kernel_regularizer=reg.l2(l=0.01))(cnn_net)\n",
    "# cnn_net = layers.MaxPool2D(2, name=f\"maxpool2d_{num_layers+1:02d}\")(cnn_net)\n",
    "# num_layers = num_layers + 1\n",
    "\n",
    "cnn_net = layers.Flatten(name=f\"flatten\")(cnn_net)\n",
    "\n",
    "# cnn_net = layers.Dense(initial_dense_features, activation=\"relu\", name=\"dense_01\")(cnn_net)\n",
    "# cnn_net = layers.Dropout(0.2, name=\"dropout_01\")(cnn_net)\n",
    "\n",
    "cnn_net = layers.Dense(initial_dense_features // 2, activation=\"relu\", name=\"dense_02\")(cnn_net)\n",
    "cnn_net = layers.Dropout(0.2, name=\"dropout_02\")(cnn_net)\n",
    "\n",
    "\n",
    "cnn_net = layers.Dense(num_features, activation=\"relu\", name=\"dense_03\")(cnn_net)\n",
    "cnn_net = layers.Dropout(0.2, name=\"dropout_03\")(cnn_net)\n",
    "\n",
    "output_layer = layers.Dense(num_classes, activation=\"softmax\", name=\"output\")\n",
    "outputs = output_layer(cnn_net)\n",
    "\n",
    "model = keras.Model(inputs=input_images, outputs=outputs, name=\"covid_classifier\")"
   ]
  },
  {
   "cell_type": "code",
   "execution_count": 12,
   "metadata": {},
   "outputs": [
    {
     "name": "stdout",
     "output_type": "stream",
     "text": [
      "Model: \"covid_classifier\"\n",
      "_________________________________________________________________\n",
      "Layer (type)                 Output Shape              Param #   \n",
      "=================================================================\n",
      "input_images (InputLayer)    [(None, 512, 512, 3)]     0         \n",
      "_________________________________________________________________\n",
      "conv2d_01 (Conv2D)           (None, 512, 512, 16)      448       \n",
      "_________________________________________________________________\n",
      "maxpool2d_01 (MaxPooling2D)  (None, 256, 256, 16)      0         \n",
      "_________________________________________________________________\n",
      "conv2d_02 (Conv2D)           (None, 256, 256, 32)      4640      \n",
      "_________________________________________________________________\n",
      "maxpool2d_02 (MaxPooling2D)  (None, 128, 128, 32)      0         \n",
      "_________________________________________________________________\n",
      "conv2d_03 (Conv2D)           (None, 128, 128, 64)      18496     \n",
      "_________________________________________________________________\n",
      "maxpool2d_03 (MaxPooling2D)  (None, 64, 64, 64)        0         \n",
      "_________________________________________________________________\n",
      "conv2d_04 (Conv2D)           (None, 64, 64, 128)       73856     \n",
      "_________________________________________________________________\n",
      "maxpool2d_04 (MaxPooling2D)  (None, 32, 32, 128)       0         \n",
      "_________________________________________________________________\n",
      "conv2d_05 (Conv2D)           (None, 32, 32, 256)       295168    \n",
      "_________________________________________________________________\n",
      "maxpool2d_05 (MaxPooling2D)  (None, 16, 16, 256)       0         \n",
      "_________________________________________________________________\n",
      "conv2d_06 (Conv2D)           (None, 16, 16, 512)       1180160   \n",
      "_________________________________________________________________\n",
      "maxpool2d_06 (MaxPooling2D)  (None, 8, 8, 512)         0         \n",
      "_________________________________________________________________\n",
      "flatten (Flatten)            (None, 32768)             0         \n",
      "_________________________________________________________________\n",
      "dense_02 (Dense)             (None, 128)               4194432   \n",
      "_________________________________________________________________\n",
      "dropout_02 (Dropout)         (None, 128)               0         \n",
      "_________________________________________________________________\n",
      "dense_03 (Dense)             (None, 64)                8256      \n",
      "_________________________________________________________________\n",
      "dropout_03 (Dropout)         (None, 64)                0         \n",
      "_________________________________________________________________\n",
      "output (Dense)               (None, 3)                 195       \n",
      "=================================================================\n",
      "Total params: 5,775,651\n",
      "Trainable params: 5,775,651\n",
      "Non-trainable params: 0\n",
      "_________________________________________________________________\n"
     ]
    }
   ],
   "source": [
    "model.summary()"
   ]
  },
  {
   "cell_type": "code",
   "execution_count": 13,
   "metadata": {},
   "outputs": [],
   "source": [
    "model.compile(optimizer='adam',\n",
    "              loss=\"categorical_crossentropy\",\n",
    "              metrics=['categorical_accuracy'])"
   ]
  },
  {
   "cell_type": "code",
   "execution_count": 48,
   "metadata": {},
   "outputs": [
    {
     "data": {
      "text/plain": [
       "10352"
      ]
     },
     "execution_count": 48,
     "metadata": {},
     "output_type": "execute_result"
    }
   ],
   "source": [
    "train_generator.n // train_generator.batch_size"
   ]
  },
  {
   "cell_type": "code",
   "execution_count": 14,
   "metadata": {},
   "outputs": [],
   "source": [
    "cnn_model_dir = models_dir / \"cnn\"\n",
    "cnn_model_dir.mkdir(exist_ok=True)\n",
    "cnn_checkpoint_dir = cnn_model_dir / \"checkpoint\"\n",
    "cnn_checkpoint_dir.mkdir(exist_ok=True)\n",
    "\n",
    "cnn_logs_dir = logs_dir / \"cnn\"\n",
    "cnn_logs_dir.mkdir(exist_ok=True)"
   ]
  },
  {
   "cell_type": "code",
   "execution_count": 15,
   "metadata": {},
   "outputs": [],
   "source": [
    "checkpointer = callbacks.ModelCheckpoint(\n",
    "    str(cnn_checkpoint_dir),\n",
    "    monitor=\"val_loss\",\n",
    "    verbose=1,\n",
    "    save_best_only=True,\n",
    "    save_weights_only=False,\n",
    "    mode=\"auto\",\n",
    "    save_freq=\"epoch\"\n",
    ")\n",
    "\n",
    "tensorboard_logger = callbacks.TensorBoard(\n",
    "    log_dir=str(cnn_logs_dir),\n",
    "    histogram_freq=1,\n",
    "    write_graph=False,\n",
    "    write_images=False,\n",
    "    update_freq='epoch',\n",
    "    profile_batch=2,\n",
    "    embeddings_freq=0,\n",
    "    embeddings_metadata=None\n",
    ")\n",
    "\n",
    "#model_callbacks = [checkpointer, tensorboard_logger]\n",
    "model_callbacks = [checkpointer]"
   ]
  },
  {
   "cell_type": "code",
   "execution_count": 16,
   "metadata": {},
   "outputs": [
    {
     "name": "stdout",
     "output_type": "stream",
     "text": [
      "WARNING:tensorflow:From <ipython-input-16-ce35915857d1>:5: Model.fit_generator (from tensorflow.python.keras.engine.training) is deprecated and will be removed in a future version.\n",
      "Instructions for updating:\n",
      "Please use Model.fit, which supports generators.\n",
      "Epoch 1/5\n",
      "10352/10352 [==============================] - ETA: 0s - loss: 0.2420 - categorical_accuracy: 0.9154\n",
      "Epoch 00001: val_loss improved from inf to 0.23183, saving model to /home/albert/projects/tfg/models/cnn/checkpoint\n",
      "WARNING:tensorflow:From /home/albert/anaconda3/envs/tfg/lib/python3.8/site-packages/tensorflow/python/ops/resource_variable_ops.py:1813: calling BaseResourceVariable.__init__ (from tensorflow.python.ops.resource_variable_ops) with constraint is deprecated and will be removed in a future version.\n",
      "Instructions for updating:\n",
      "If using Keras pass *_constraint arguments to layers.\n",
      "INFO:tensorflow:Assets written to: /home/albert/projects/tfg/models/cnn/checkpoint/assets\n",
      "10352/10352 [==============================] - 8714s 842ms/step - loss: 0.2420 - categorical_accuracy: 0.9154 - val_loss: 0.2318 - val_categorical_accuracy: 0.9214\n",
      "Epoch 2/5\n",
      "10352/10352 [==============================] - ETA: 0s - loss: 0.1070 - categorical_accuracy: 0.9675\n",
      "Epoch 00002: val_loss improved from 0.23183 to 0.22849, saving model to /home/albert/projects/tfg/models/cnn/checkpoint\n",
      "INFO:tensorflow:Assets written to: /home/albert/projects/tfg/models/cnn/checkpoint/assets\n",
      "10352/10352 [==============================] - 8149s 787ms/step - loss: 0.1070 - categorical_accuracy: 0.9675 - val_loss: 0.2285 - val_categorical_accuracy: 0.9304\n",
      "Epoch 3/5\n",
      "10352/10352 [==============================] - ETA: 0s - loss: 0.0857 - categorical_accuracy: 0.9757\n",
      "Epoch 00003: val_loss did not improve from 0.22849\n",
      "10352/10352 [==============================] - 7979s 771ms/step - loss: 0.0857 - categorical_accuracy: 0.9757 - val_loss: 0.3110 - val_categorical_accuracy: 0.9423\n",
      "Epoch 4/5\n",
      "10352/10352 [==============================] - ETA: 0s - loss: 0.0750 - categorical_accuracy: 0.9797\n",
      "Epoch 00004: val_loss did not improve from 0.22849\n",
      "10352/10352 [==============================] - 8010s 774ms/step - loss: 0.0750 - categorical_accuracy: 0.9797 - val_loss: 0.2613 - val_categorical_accuracy: 0.9448\n",
      "Epoch 5/5\n",
      "10352/10352 [==============================] - ETA: 0s - loss: 0.0670 - categorical_accuracy: 0.9825\n",
      "Epoch 00005: val_loss did not improve from 0.22849\n",
      "10352/10352 [==============================] - 8120s 784ms/step - loss: 0.0670 - categorical_accuracy: 0.9825 - val_loss: 0.4286 - val_categorical_accuracy: 0.9255\n"
     ]
    }
   ],
   "source": [
    "STEP_SIZE_TRAIN=train_generator.n//train_generator.batch_size\n",
    "STEP_SIZE_VALID=valid_generator.n//valid_generator.batch_size\n",
    "#STEP_SIZE_TEST=test_generator.n//test_generator.batch_size\n",
    "\n",
    "fit_history = model.fit_generator(generator=train_generator,\n",
    "                    steps_per_epoch=STEP_SIZE_TRAIN,\n",
    "                    validation_data=valid_generator,\n",
    "                    validation_steps=STEP_SIZE_VALID,\n",
    "                    epochs=5,\n",
    "                    callbacks=model_callbacks\n",
    ")"
   ]
  },
  {
   "cell_type": "code",
   "execution_count": 19,
   "metadata": {},
   "outputs": [
    {
     "data": {
      "text/plain": [
       "{'loss': [0.24197416007518768,\n",
       "  0.10702913254499435,\n",
       "  0.0856880471110344,\n",
       "  0.07496210932731628,\n",
       "  0.06696616858243942],\n",
       " 'categorical_accuracy': [0.9153786897659302,\n",
       "  0.9674932360649109,\n",
       "  0.9757497310638428,\n",
       "  0.9797013998031616,\n",
       "  0.9825239777565002],\n",
       " 'val_loss': [0.23182688653469086,\n",
       "  0.22849319875240326,\n",
       "  0.3110477328300476,\n",
       "  0.2613295912742615,\n",
       "  0.42864999175071716],\n",
       " 'val_categorical_accuracy': [0.9214228391647339,\n",
       "  0.9303908944129944,\n",
       "  0.9423231482505798,\n",
       "  0.944784939289093,\n",
       "  0.9254923462867737]}"
      ]
     },
     "execution_count": 19,
     "metadata": {},
     "output_type": "execute_result"
    }
   ],
   "source": [
    "fit_history.history"
   ]
  },
  {
   "cell_type": "code",
   "execution_count": 22,
   "metadata": {},
   "outputs": [],
   "source": [
    "import seaborn as sns\n",
    "\n",
    "sns.set_style(\"whitegrid\")\n",
    "sns.set(rc={'figure.figsize':(13, 9)})"
   ]
  },
  {
   "cell_type": "code",
   "execution_count": 27,
   "metadata": {},
   "outputs": [
    {
     "data": {
      "image/png": "[encoded data removed]",
      "text/plain": [
       "<Figure size 936x648 with 1 Axes>"
      ]
     },
     "metadata": {},
     "output_type": "display_data"
    }
   ],
   "source": [
    "import matplotlib.pyplot as plt\n",
    "\n",
    "plt.plot(fit_history.history[\"loss\"], label=\"training\")\n",
    "plt.plot(fit_history.history[\"val_loss\"], label=\"validation\")\n",
    "plt.title(\"CNN Training and Validation Losses\")\n",
    "plt.xlabel(\"Epoch\")\n",
    "plt.ylabel(\"Loss\")\n",
    "plt.legend()\n",
    "plt.savefig(figures_dir / \"cnn_loss.png\")\n",
    "plt.show()"
   ]
  },
  {
   "cell_type": "code",
   "execution_count": 28,
   "metadata": {},
   "outputs": [
    {
     "data": {
      "image/png": "[encoded data removed]",
      "text/plain": [
       "<Figure size 936x648 with 1 Axes>"
      ]
     },
     "metadata": {},
     "output_type": "display_data"
    }
   ],
   "source": [
    "import matplotlib.pyplot as plt\n",
    "\n",
    "plt.plot(fit_history.history[\"categorical_accuracy\"], label=\"training\")\n",
    "plt.plot(fit_history.history[\"val_categorical_accuracy\"], label=\"validation\")\n",
    "plt.title(\"CNN Training and Validation Categorical Accuracy\")\n",
    "plt.xlabel(\"Epoch\")\n",
    "plt.ylabel(\"Categorical Accuracy\")\n",
    "plt.legend()\n",
    "plt.savefig(figures_dir / \"cnn_cat_accuracy.png\")\n",
    "plt.show()"
   ]
  },
  {
   "cell_type": "code",
   "execution_count": null,
   "metadata": {},
   "outputs": [],
   "source": []
  }
 ],
 "metadata": {
  "kernelspec": {
   "display_name": "Python 3",
   "language": "python",
   "name": "python3"
  },
  "language_info": {
   "codemirror_mode": {
    "name": "ipython",
    "version": 3
   },
   "file_extension": ".py",
   "mimetype": "text/x-python",
   "name": "python",
   "nbconvert_exporter": "python",
   "pygments_lexer": "ipython3",
   "version": "3.8.5"
  }
 },
 "nbformat": 4,
 "nbformat_minor": 4
}
