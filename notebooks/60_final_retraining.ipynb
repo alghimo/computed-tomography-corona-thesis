{
 "cells": [
  {
   "cell_type": "markdown",
   "metadata": {},
   "source": [
    "# Notebook Initialization"
   ]
  },
  {
   "cell_type": "code",
   "execution_count": 1,
   "metadata": {},
   "outputs": [],
   "source": [
    "# %load nb_init.py\n",
    "\n",
    "from pathlib import Path\n",
    "import pandas as pd\n",
    "\n",
    "base_dir = Path.cwd().parent\n",
    "config_dir = base_dir / \"config\"\n",
    "data_dir = base_dir / \"data\"\n",
    "docs_dir = base_dir / \"docs\"\n",
    "figures_dir = docs_dir / \"figures\"\n",
    "models_dir = base_dir / \"models\"\n",
    "logs_dir = base_dir / \"logs\"\n",
    "images_input_dir = data_dir / \"COVID19\"\n",
    "images_pp_dir = data_dir / \"COVID19-preprocessed\"\n",
    "preprocessed_dir = data_dir / \"preprocessed\"\n",
    "output_dir = data_dir / \"output\"\n",
    "\n",
    "# Directories used to train the CNN (image by image) \n",
    "cnn_data_dir = data_dir / \"modelling\" / \"cnn\"\n",
    "cnn_train_dir = cnn_data_dir / \"train\"\n",
    "cnn_test_dir = cnn_data_dir / \"test\"\n",
    "\n",
    "metadata_file = images_input_dir / \"metadata.csv\"\n",
    "labels_file = images_input_dir / \"unzip_filenames.csv\"\n",
    "preprocessed_labels_file = preprocessed_dir / \"labels.parquet\"\n",
    "\n",
    "feature_extractor_model_file = models_dir / \"feature_extractor.tf\"\n",
    "\n",
    "from pyspark.sql import SparkSession\n",
    "from pyspark.sql import functions as F\n",
    "\n",
    "spark = SparkSession.builder.getOrCreate()\n",
    "\n",
    "config_file = config_dir / \"tfg.conf\"\n",
    "\n",
    "from pyhocon import ConfigFactory\n",
    "config = None\n",
    "\n",
    "def load_config():\n",
    "    return ConfigFactory.parse_file(config_file)\n",
    "\n",
    "config = load_config()\n",
    "    \n",
    "import sys\n",
    "\n",
    "if str(base_dir / \"src\") not in sys.path:\n",
    "    sys.path.append(str(base_dir / \"src\"))\n",
    "\n",
    "%load_ext autoreload\n",
    "\n",
    "%autoreload 2"
   ]
  },
  {
   "cell_type": "code",
   "execution_count": 2,
   "metadata": {},
   "outputs": [
    {
     "data": {
      "text/html": [
       "\n",
       "            <div>\n",
       "                <p><b>SparkSession - in-memory</b></p>\n",
       "                \n",
       "        <div>\n",
       "            <p><b>SparkContext</b></p>\n",
       "\n",
       "            <p><a href=\"http://192.168.0.235:4040\">Spark UI</a></p>\n",
       "\n",
       "            <dl>\n",
       "              <dt>Version</dt>\n",
       "                <dd><code>v3.0.1</code></dd>\n",
       "              <dt>Master</dt>\n",
       "                <dd><code>local[*]</code></dd>\n",
       "              <dt>AppName</dt>\n",
       "                <dd><code>pyspark-shell</code></dd>\n",
       "            </dl>\n",
       "        </div>\n",
       "        \n",
       "            </div>\n",
       "        "
      ],
      "text/plain": [
       "<pyspark.sql.session.SparkSession at 0x7fa9a5abb430>"
      ]
     },
     "execution_count": 2,
     "metadata": {},
     "output_type": "execute_result"
    }
   ],
   "source": [
    "spark"
   ]
  },
  {
   "cell_type": "code",
   "execution_count": 3,
   "metadata": {},
   "outputs": [],
   "source": [
    "from tfg import DataRepository\n",
    "\n",
    "repo = DataRepository(config=config, base_data_path=data_dir)"
   ]
  },
  {
   "cell_type": "markdown",
   "metadata": {},
   "source": [
    "# Load Datasets"
   ]
  },
  {
   "cell_type": "code",
   "execution_count": 4,
   "metadata": {},
   "outputs": [
    {
     "data": {
      "text/html": [
       "<div>\n",
       "<style scoped>\n",
       "    .dataframe tbody tr th:only-of-type {\n",
       "        vertical-align: middle;\n",
       "    }\n",
       "\n",
       "    .dataframe tbody tr th {\n",
       "        vertical-align: top;\n",
       "    }\n",
       "\n",
       "    .dataframe thead th {\n",
       "        text-align: right;\n",
       "    }\n",
       "</style>\n",
       "<table border=\"1\" class=\"dataframe\">\n",
       "  <thead>\n",
       "    <tr style=\"text-align: right;\">\n",
       "      <th></th>\n",
       "      <th>label</th>\n",
       "      <th>file</th>\n",
       "      <th>patient_id</th>\n",
       "      <th>scan_id</th>\n",
       "      <th>n_slice</th>\n",
       "      <th>num_clips</th>\n",
       "      <th>seq_num</th>\n",
       "      <th>clip_num</th>\n",
       "    </tr>\n",
       "  </thead>\n",
       "  <tbody>\n",
       "    <tr>\n",
       "      <th>0</th>\n",
       "      <td>NCP</td>\n",
       "      <td>NCP/880/2415/0000.jpg</td>\n",
       "      <td>880</td>\n",
       "      <td>2415</td>\n",
       "      <td>312</td>\n",
       "      <td>5</td>\n",
       "      <td>0</td>\n",
       "      <td>0</td>\n",
       "    </tr>\n",
       "    <tr>\n",
       "      <th>1</th>\n",
       "      <td>NCP</td>\n",
       "      <td>NCP/880/2415/0001.jpg</td>\n",
       "      <td>880</td>\n",
       "      <td>2415</td>\n",
       "      <td>312</td>\n",
       "      <td>5</td>\n",
       "      <td>1</td>\n",
       "      <td>0</td>\n",
       "    </tr>\n",
       "    <tr>\n",
       "      <th>2</th>\n",
       "      <td>NCP</td>\n",
       "      <td>NCP/880/2415/0002.jpg</td>\n",
       "      <td>880</td>\n",
       "      <td>2415</td>\n",
       "      <td>312</td>\n",
       "      <td>5</td>\n",
       "      <td>2</td>\n",
       "      <td>0</td>\n",
       "    </tr>\n",
       "    <tr>\n",
       "      <th>3</th>\n",
       "      <td>NCP</td>\n",
       "      <td>NCP/880/2415/0003.jpg</td>\n",
       "      <td>880</td>\n",
       "      <td>2415</td>\n",
       "      <td>312</td>\n",
       "      <td>5</td>\n",
       "      <td>3</td>\n",
       "      <td>0</td>\n",
       "    </tr>\n",
       "    <tr>\n",
       "      <th>4</th>\n",
       "      <td>NCP</td>\n",
       "      <td>NCP/880/2415/0004.jpg</td>\n",
       "      <td>880</td>\n",
       "      <td>2415</td>\n",
       "      <td>312</td>\n",
       "      <td>5</td>\n",
       "      <td>4</td>\n",
       "      <td>0</td>\n",
       "    </tr>\n",
       "  </tbody>\n",
       "</table>\n",
       "</div>"
      ],
      "text/plain": [
       "  label                   file  patient_id  scan_id  n_slice  num_clips  \\\n",
       "0   NCP  NCP/880/2415/0000.jpg         880     2415      312          5   \n",
       "1   NCP  NCP/880/2415/0001.jpg         880     2415      312          5   \n",
       "2   NCP  NCP/880/2415/0002.jpg         880     2415      312          5   \n",
       "3   NCP  NCP/880/2415/0003.jpg         880     2415      312          5   \n",
       "4   NCP  NCP/880/2415/0004.jpg         880     2415      312          5   \n",
       "\n",
       "   seq_num  clip_num  \n",
       "0        0         0  \n",
       "1        1         0  \n",
       "2        2         0  \n",
       "3        3         0  \n",
       "4        4         0  "
      ]
     },
     "execution_count": 4,
     "metadata": {},
     "output_type": "execute_result"
    }
   ],
   "source": [
    "train_df = repo.load(\"train_df\")\n",
    "train_df.head(5)"
   ]
  },
  {
   "cell_type": "code",
   "execution_count": 5,
   "metadata": {},
   "outputs": [
    {
     "data": {
      "text/html": [
       "<div>\n",
       "<style scoped>\n",
       "    .dataframe tbody tr th:only-of-type {\n",
       "        vertical-align: middle;\n",
       "    }\n",
       "\n",
       "    .dataframe tbody tr th {\n",
       "        vertical-align: top;\n",
       "    }\n",
       "\n",
       "    .dataframe thead th {\n",
       "        text-align: right;\n",
       "    }\n",
       "</style>\n",
       "<table border=\"1\" class=\"dataframe\">\n",
       "  <thead>\n",
       "    <tr style=\"text-align: right;\">\n",
       "      <th></th>\n",
       "      <th>label</th>\n",
       "      <th>file</th>\n",
       "      <th>patient_id</th>\n",
       "      <th>scan_id</th>\n",
       "      <th>n_slice</th>\n",
       "      <th>num_clips</th>\n",
       "      <th>seq_num</th>\n",
       "      <th>clip_num</th>\n",
       "    </tr>\n",
       "  </thead>\n",
       "  <tbody>\n",
       "    <tr>\n",
       "      <th>0</th>\n",
       "      <td>CP</td>\n",
       "      <td>CP/1075/3118/0543.jpg</td>\n",
       "      <td>1075</td>\n",
       "      <td>3118</td>\n",
       "      <td>553</td>\n",
       "      <td>1075</td>\n",
       "      <td>0</td>\n",
       "      <td>0</td>\n",
       "    </tr>\n",
       "    <tr>\n",
       "      <th>1</th>\n",
       "      <td>CP</td>\n",
       "      <td>CP/1075/3118/0174.jpg</td>\n",
       "      <td>1075</td>\n",
       "      <td>3118</td>\n",
       "      <td>553</td>\n",
       "      <td>1075</td>\n",
       "      <td>1</td>\n",
       "      <td>0</td>\n",
       "    </tr>\n",
       "    <tr>\n",
       "      <th>2</th>\n",
       "      <td>CP</td>\n",
       "      <td>CP/1075/3118/0130.jpg</td>\n",
       "      <td>1075</td>\n",
       "      <td>3118</td>\n",
       "      <td>553</td>\n",
       "      <td>1075</td>\n",
       "      <td>2</td>\n",
       "      <td>0</td>\n",
       "    </tr>\n",
       "    <tr>\n",
       "      <th>3</th>\n",
       "      <td>CP</td>\n",
       "      <td>CP/1075/3118/0525.jpg</td>\n",
       "      <td>1075</td>\n",
       "      <td>3118</td>\n",
       "      <td>553</td>\n",
       "      <td>1075</td>\n",
       "      <td>3</td>\n",
       "      <td>0</td>\n",
       "    </tr>\n",
       "    <tr>\n",
       "      <th>4</th>\n",
       "      <td>CP</td>\n",
       "      <td>CP/1075/3118/0152.jpg</td>\n",
       "      <td>1075</td>\n",
       "      <td>3118</td>\n",
       "      <td>553</td>\n",
       "      <td>1075</td>\n",
       "      <td>4</td>\n",
       "      <td>0</td>\n",
       "    </tr>\n",
       "  </tbody>\n",
       "</table>\n",
       "</div>"
      ],
      "text/plain": [
       "  label                   file  patient_id  scan_id  n_slice  num_clips  \\\n",
       "0    CP  CP/1075/3118/0543.jpg        1075     3118      553       1075   \n",
       "1    CP  CP/1075/3118/0174.jpg        1075     3118      553       1075   \n",
       "2    CP  CP/1075/3118/0130.jpg        1075     3118      553       1075   \n",
       "3    CP  CP/1075/3118/0525.jpg        1075     3118      553       1075   \n",
       "4    CP  CP/1075/3118/0152.jpg        1075     3118      553       1075   \n",
       "\n",
       "   seq_num  clip_num  \n",
       "0        0         0  \n",
       "1        1         0  \n",
       "2        2         0  \n",
       "3        3         0  \n",
       "4        4         0  "
      ]
     },
     "execution_count": 5,
     "metadata": {},
     "output_type": "execute_result"
    }
   ],
   "source": [
    "val_df = repo.load(\"val_df\")\n",
    "val_df.head(5)"
   ]
  },
  {
   "cell_type": "markdown",
   "metadata": {},
   "source": [
    "# Data Generators"
   ]
  },
  {
   "cell_type": "code",
   "execution_count": 6,
   "metadata": {},
   "outputs": [],
   "source": [
    "from keras_preprocessing.image import ImageDataGenerator"
   ]
  },
  {
   "cell_type": "code",
   "execution_count": 12,
   "metadata": {},
   "outputs": [],
   "source": [
    "# img_size = config.get_int(\"tfg.training.img_size\")\n",
    "img_size = 64\n",
    "image_target_size = (img_size, img_size)\n",
    "seed = config.get_int(\"tfg.seed\")\n",
    "val_fraction = config.get_float(\"tfg.training.val_fraction\")\n",
    "batch_size = config.get_int(\"tfg.training.batch_size\")\n",
    "rotation_range = config.get_int(\"tfg.training.rotation_range\", 0)\n",
    "zoom_range = config.get(\"tfg.training.zoom_range\", 1.)"
   ]
  },
  {
   "cell_type": "code",
   "execution_count": 13,
   "metadata": {},
   "outputs": [
    {
     "name": "stdout",
     "output_type": "stream",
     "text": [
      "img_size = 64\n",
      "image_target_size = (64, 64)\n",
      "seed = 42\n",
      "val_fraction = 0.1\n",
      "batch_size = 32\n",
      "rotation_range = 15\n",
      "zoom_range = [0.5, 1.0]\n"
     ]
    }
   ],
   "source": [
    "print(f\"{img_size = }\")\n",
    "print(f\"{image_target_size = }\")\n",
    "print(f\"{seed = }\")\n",
    "print(f\"{val_fraction = }\")\n",
    "print(f\"{batch_size = }\")\n",
    "print(f\"{rotation_range = }\")\n",
    "print(f\"{zoom_range = }\")"
   ]
  },
  {
   "cell_type": "code",
   "execution_count": 14,
   "metadata": {},
   "outputs": [],
   "source": [
    "train_datagen = ImageDataGenerator(\n",
    "    rescale=1./255.,\n",
    "    rotation_range=rotation_range,\n",
    "    zoom_range=zoom_range\n",
    ")\n",
    "test_datagen = ImageDataGenerator(\n",
    "    rescale=1./255.,\n",
    ")"
   ]
  },
  {
   "cell_type": "code",
   "execution_count": 15,
   "metadata": {},
   "outputs": [
    {
     "name": "stdout",
     "output_type": "stream",
     "text": [
      "Found 331286 validated image filenames belonging to 3 classes.\n",
      "Found 39828 validated image filenames belonging to 3 classes.\n"
     ]
    }
   ],
   "source": [
    "train_generator = train_datagen.flow_from_dataframe(\n",
    "    dataframe=train_df,\n",
    "    directory=str(images_input_dir),\n",
    "    x_col=\"file\",\n",
    "    y_col=\"label\",\n",
    "    subset=\"training\",\n",
    "    batch_size=batch_size,\n",
    "    seed=seed,\n",
    "    shuffle=True,\n",
    "    class_mode=\"categorical\",\n",
    "    target_size=image_target_size)\n",
    "\n",
    "valid_generator = test_datagen.flow_from_dataframe(\n",
    "    dataframe=val_df,\n",
    "    directory=str(images_input_dir),\n",
    "    x_col=\"file\",\n",
    "    y_col=\"label\",\n",
    "    batch_size=batch_size,\n",
    "    seed=seed,\n",
    "    shuffle=True,\n",
    "    class_mode=\"categorical\",\n",
    "    target_size=image_target_size)"
   ]
  },
  {
   "cell_type": "markdown",
   "metadata": {},
   "source": [
    "# Create model"
   ]
  },
  {
   "cell_type": "code",
   "execution_count": 16,
   "metadata": {},
   "outputs": [
    {
     "data": {
      "text/plain": [
       "[PhysicalDevice(name='/physical_device:GPU:0', device_type='GPU')]"
      ]
     },
     "execution_count": 16,
     "metadata": {},
     "output_type": "execute_result"
    }
   ],
   "source": [
    "import tensorflow as tf\n",
    "\n",
    "tf.config.list_physical_devices(\"GPU\")"
   ]
  },
  {
   "cell_type": "code",
   "execution_count": 17,
   "metadata": {},
   "outputs": [],
   "source": [
    "from tensorflow import keras\n",
    "from tensorflow.keras import layers\n",
    "from tensorflow.keras import regularizers as reg\n",
    "from tensorflow.keras import callbacks"
   ]
  },
  {
   "cell_type": "code",
   "execution_count": 18,
   "metadata": {},
   "outputs": [],
   "source": [
    "input_images = keras.Input(shape=(img_size, img_size, 3), name=\"input_images\")"
   ]
  },
  {
   "cell_type": "code",
   "execution_count": 34,
   "metadata": {},
   "outputs": [
    {
     "name": "stdout",
     "output_type": "stream",
     "text": [
      "Model: \"covid_classifier\"\n",
      "_________________________________________________________________\n",
      "Layer (type)                 Output Shape              Param #   \n",
      "=================================================================\n",
      "input_images (InputLayer)    [(None, 64, 64, 3)]       0         \n",
      "_________________________________________________________________\n",
      "conv2d_01 (Conv2D)           (None, 64, 64, 6)         168       \n",
      "_________________________________________________________________\n",
      "maxpool2d_01 (MaxPooling2D)  (None, 32, 32, 6)         0         \n",
      "_________________________________________________________________\n",
      "conv2d_02 (Conv2D)           (None, 32, 32, 12)        660       \n",
      "_________________________________________________________________\n",
      "maxpool2d_02 (MaxPooling2D)  (None, 16, 16, 12)        0         \n",
      "_________________________________________________________________\n",
      "conv2d_03 (Conv2D)           (None, 16, 16, 18)        1962      \n",
      "_________________________________________________________________\n",
      "maxpool2d_03 (MaxPooling2D)  (None, 8, 8, 18)          0         \n",
      "_________________________________________________________________\n",
      "conv2d_04 (Conv2D)           (None, 8, 8, 24)          3912      \n",
      "_________________________________________________________________\n",
      "maxpool2d_04 (MaxPooling2D)  (None, 4, 4, 24)          0         \n",
      "_________________________________________________________________\n",
      "conv2d_05 (Conv2D)           (None, 4, 4, 30)          6510      \n",
      "_________________________________________________________________\n",
      "dropout__05 (Dropout)        (None, 4, 4, 30)          0         \n",
      "_________________________________________________________________\n",
      "maxpool2d_05 (MaxPooling2D)  (None, 2, 2, 30)          0         \n",
      "_________________________________________________________________\n",
      "conv2d_06 (Conv2D)           (None, 2, 2, 36)          9756      \n",
      "_________________________________________________________________\n",
      "dropout__06 (Dropout)        (None, 2, 2, 36)          0         \n",
      "_________________________________________________________________\n",
      "maxpool2d_06 (MaxPooling2D)  (None, 1, 1, 36)          0         \n",
      "_________________________________________________________________\n",
      "flatten (Flatten)            (None, 36)                0         \n",
      "_________________________________________________________________\n",
      "dense_01 (Dense)             (None, 32)                1184      \n",
      "_________________________________________________________________\n",
      "dropout_01 (Dropout)         (None, 32)                0         \n",
      "_________________________________________________________________\n",
      "dense_02 (Dense)             (None, 24)                792       \n",
      "_________________________________________________________________\n",
      "dropout_02 (Dropout)         (None, 24)                0         \n",
      "_________________________________________________________________\n",
      "dense_03 (Dense)             (None, 16)                400       \n",
      "_________________________________________________________________\n",
      "dropout_03 (Dropout)         (None, 16)                0         \n",
      "_________________________________________________________________\n",
      "output (Dense)               (None, 3)                 51        \n",
      "=================================================================\n",
      "Total params: 25,395\n",
      "Trainable params: 25,395\n",
      "Non-trainable params: 0\n",
      "_________________________________________________________________\n"
     ]
    }
   ],
   "source": [
    "filters = 6\n",
    "initial_dense_features = 32\n",
    "num_features = 16\n",
    "num_classes = 3\n",
    "num_layers = 0\n",
    "cnn_net = input_images\n",
    "\n",
    "cnn_net = layers.Conv2D(filters=filters, kernel_size=3, padding=\"same\", activation=\"relu\", name=f\"conv2d_{num_layers+1:02d}\")(cnn_net)\n",
    "cnn_net = layers.MaxPool2D(2, name=f\"maxpool2d_{num_layers+1:02d}\")(cnn_net)\n",
    "# filters = filters * 2\n",
    "filters += 6\n",
    "num_layers = num_layers + 1\n",
    "\n",
    "cnn_net = layers.Conv2D(filters=filters, kernel_size=3, padding=\"same\", activation=\"relu\", name=f\"conv2d_{num_layers+1:02d}\")(cnn_net)\n",
    "cnn_net = layers.MaxPool2D(2, name=f\"maxpool2d_{num_layers+1:02d}\")(cnn_net)\n",
    "# filters = filters * 2\n",
    "filters += 6\n",
    "num_layers = num_layers + 1\n",
    "\n",
    "cnn_net = layers.Conv2D(filters=filters, kernel_size=3, padding=\"same\", activation=\"relu\", name=f\"conv2d_{num_layers+1:02d}\")(cnn_net)\n",
    "cnn_net = layers.MaxPool2D(2, name=f\"maxpool2d_{num_layers+1:02d}\")(cnn_net)\n",
    "# filters = filters * 2\n",
    "filters += 6\n",
    "num_layers = num_layers + 1\n",
    "\n",
    "cnn_net = layers.Conv2D(filters=filters, kernel_size=3, padding=\"same\", activation=\"relu\", name=f\"conv2d_{num_layers+1:02d}\")(cnn_net)\n",
    "cnn_net = layers.MaxPool2D(2, name=f\"maxpool2d_{num_layers+1:02d}\")(cnn_net)\n",
    "# filters = filters * 2\n",
    "filters += 6\n",
    "num_layers = num_layers + 1\n",
    "\n",
    "cnn_net = layers.Conv2D(filters=filters, kernel_size=3, padding=\"same\", activation=\"relu\", name=f\"conv2d_{num_layers+1:02d}\", kernel_regularizer=reg.l2(l=0.01))(cnn_net)\n",
    "cnn_net = layers.Dropout(0.3, name=f\"dropout__{num_layers+1:02d}\")(cnn_net)\n",
    "cnn_net = layers.MaxPool2D(2, name=f\"maxpool2d_{num_layers+1:02d}\")(cnn_net)\n",
    "# filters = filters * 2\n",
    "filters += 6\n",
    "num_layers = num_layers + 1\n",
    "\n",
    "cnn_net = layers.Conv2D(filters=filters, kernel_size=3, padding=\"same\", activation=\"relu\", name=f\"conv2d_{num_layers+1:02d}\", kernel_regularizer=reg.l2(l=0.01))(cnn_net)\n",
    "cnn_net = layers.Dropout(0.3, name=f\"dropout__{num_layers+1:02d}\")(cnn_net)\n",
    "cnn_net = layers.MaxPool2D(2, name=f\"maxpool2d_{num_layers+1:02d}\")(cnn_net)\n",
    "# filters = filters * 2\n",
    "filters += 6\n",
    "num_layers = num_layers + 1\n",
    "\n",
    "# # For the last one, we set the number of filters manuall\n",
    "# cnn_net = layers.Conv2D(filters=64, kernel_size=3, padding=\"same\", activation=\"relu\", name=f\"conv2d_{num_layers+1:02d}\", kernel_regularizer=reg.l2(l=0.01))(cnn_net)\n",
    "# cnn_net = layers.Dropout(0.3, name=f\"dropout__{num_layers+1:02d}\")(cnn_net)\n",
    "# cnn_net = layers.MaxPool2D(2, name=f\"maxpool2d_{num_layers+1:02d}\")(cnn_net)\n",
    "# filters = filters * 2\n",
    "# num_layers = num_layers + 1\n",
    "\n",
    "# cnn_net = layers.Conv2D(filters=filters, kernel_size=3, padding=\"same\", activation=\"relu\", name=f\"conv2d_{num_layers+1:02d}\", kernel_regularizer=reg.l2(l=0.01))(cnn_net)\n",
    "# cnn_net = layers.Dropout(0.3, name=f\"dropout__{num_layers+1:02d}\")(cnn_net)\n",
    "# cnn_net = layers.MaxPool2D(2, name=f\"maxpool2d_{num_layers+1:02d}\")(cnn_net)\n",
    "# filters = filters * 2\n",
    "# num_layers = num_layers + 1\n",
    "\n",
    "# cnn_net = layers.Conv2D(filters=filters, kernel_size=3, padding=\"same\", activation=\"relu\", name=f\"conv2d_{num_layers+1:02d}\", kernel_regularizer=reg.l2(l=0.01))(cnn_net)\n",
    "# cnn_net = layers.Dropout(0.3, name=f\"dropout__{num_layers+1:02d}\")(cnn_net)\n",
    "# cnn_net = layers.MaxPool2D(2, name=f\"maxpool2d_{num_layers+1:02d}\")(cnn_net)\n",
    "# filters = filters * 2\n",
    "# num_layers = num_layers + 1\n",
    "\n",
    "# cnn_net = layers.Conv2D(filters=filters, kernel_size=3, padding=\"same\", activation=\"relu\", name=f\"conv2d_{num_layers+1:02d}\", kernel_regularizer=reg.l2(l=0.01))(cnn_net)\n",
    "# cnn_net = layers.MaxPool2D(2, name=f\"maxpool2d_{num_layers+1:02d}\")(cnn_net)\n",
    "# num_layers = num_layers + 1\n",
    "\n",
    "cnn_net = layers.Flatten(name=f\"flatten\")(cnn_net)\n",
    "\n",
    "# cnn_net = layers.Dense(initial_dense_features, activation=\"relu\", name=\"dense_01\")(cnn_net)\n",
    "# cnn_net = layers.Dropout(0.2, name=\"dropout_01\")(cnn_net)\n",
    "\n",
    "cnn_net = layers.Dense(initial_dense_features, activation=\"relu\", name=\"dense_01\")(cnn_net)\n",
    "cnn_net = layers.Dropout(0.5, name=\"dropout_01\")(cnn_net)\n",
    "\n",
    "cnn_net = layers.Dense((initial_dense_features + num_features) // 2, activation=\"relu\", name=\"dense_02\")(cnn_net)\n",
    "cnn_net = layers.Dropout(0.5, name=\"dropout_02\")(cnn_net)\n",
    "\n",
    "cnn_net = layers.Dense(num_features, activation=\"relu\", name=\"dense_03\")(cnn_net)\n",
    "cnn_net = layers.Dropout(0.5, name=\"dropout_03\")(cnn_net)\n",
    "\n",
    "output_layer = layers.Dense(num_classes, activation=\"softmax\", name=\"output\")\n",
    "outputs = output_layer(cnn_net)\n",
    "\n",
    "model = keras.Model(inputs=input_images, outputs=outputs, name=\"covid_classifier\")\n",
    "model.summary()"
   ]
  },
  {
   "cell_type": "code",
   "execution_count": 35,
   "metadata": {},
   "outputs": [],
   "source": [
    "model.compile(optimizer='adam',\n",
    "              loss=\"categorical_crossentropy\",\n",
    "              metrics=['categorical_accuracy'])"
   ]
  },
  {
   "cell_type": "code",
   "execution_count": 31,
   "metadata": {},
   "outputs": [
    {
     "data": {
      "text/plain": [
       "10352"
      ]
     },
     "execution_count": 31,
     "metadata": {},
     "output_type": "execute_result"
    }
   ],
   "source": [
    "train_generator.n // train_generator.batch_size"
   ]
  },
  {
   "cell_type": "code",
   "execution_count": 32,
   "metadata": {},
   "outputs": [
    {
     "name": "stdout",
     "output_type": "stream",
     "text": [
      "CNN Model dir: /home/albert/projects/tfg/models/cnn_07\n",
      "cnn_model_suffix = '07'\n"
     ]
    }
   ],
   "source": [
    "num_models = 1\n",
    "cnn_model_suffix = f\"{num_models:02d}\"\n",
    "cnn_model_dir = models_dir / f\"cnn_{cnn_model_suffix}\"\n",
    "\n",
    "while cnn_model_dir.exists():\n",
    "    num_models += 1\n",
    "    cnn_model_suffix = f\"{num_models:02d}\"\n",
    "    cnn_model_dir = models_dir / f\"cnn_{cnn_model_suffix}\"\n",
    "\n",
    "print(f\"CNN Model dir: {cnn_model_dir}\")\n",
    "print(f\"{cnn_model_suffix = }\")\n",
    "\n",
    "cnn_model_dir.mkdir(exist_ok=True)\n",
    "cnn_checkpoint_dir = cnn_model_dir / \"checkpoint\"\n",
    "cnn_checkpoint_dir.mkdir(exist_ok=True)\n",
    "\n",
    "cnn_logs_dir = logs_dir / f\"cnn_{cnn_model_suffix}\"\n",
    "cnn_logs_dir.mkdir()"
   ]
  },
  {
   "cell_type": "code",
   "execution_count": 33,
   "metadata": {},
   "outputs": [],
   "source": [
    "checkpointer = callbacks.ModelCheckpoint(\n",
    "    str(cnn_checkpoint_dir),\n",
    "    monitor=\"val_categorical_accuracy\",\n",
    "    verbose=1,\n",
    "    save_best_only=True,\n",
    "    save_weights_only=False,\n",
    "    mode=\"auto\",\n",
    "    save_freq=\"epoch\"\n",
    ")\n",
    "\n",
    "tensorboard_logger = callbacks.TensorBoard(\n",
    "    log_dir=str(cnn_logs_dir),\n",
    "    histogram_freq=1,\n",
    "    write_graph=False,\n",
    "    write_images=False,\n",
    "    update_freq='epoch',\n",
    "    profile_batch=2,\n",
    "    embeddings_freq=0,\n",
    "    embeddings_metadata=None\n",
    ")\n",
    "\n",
    "model_callbacks = [checkpointer, tensorboard_logger]\n",
    "#model_callbacks = [checkpointer]"
   ]
  },
  {
   "cell_type": "code",
   "execution_count": 36,
   "metadata": {},
   "outputs": [
    {
     "name": "stdout",
     "output_type": "stream",
     "text": [
      "WARNING:tensorflow:From <ipython-input-36-696cb10bc10c>:12: Model.fit_generator (from tensorflow.python.keras.engine.training) is deprecated and will be removed in a future version.\n",
      "Instructions for updating:\n",
      "Please use Model.fit, which supports generators.\n",
      "Epoch 1/50\n",
      "2070/2070 [==============================] - ETA: 0s - loss: 0.9923 - categorical_accuracy: 0.4894\n",
      "Epoch 00001: val_categorical_accuracy improved from -inf to 0.51075, saving model to /home/albert/projects/tfg/models/cnn_07/checkpoint\n",
      "WARNING:tensorflow:From /home/albert/anaconda3/envs/tfg/lib/python3.8/site-packages/tensorflow/python/ops/resource_variable_ops.py:1813: calling BaseResourceVariable.__init__ (from tensorflow.python.ops.resource_variable_ops) with constraint is deprecated and will be removed in a future version.\n",
      "Instructions for updating:\n",
      "If using Keras pass *_constraint arguments to layers.\n",
      "INFO:tensorflow:Assets written to: /home/albert/projects/tfg/models/cnn_07/checkpoint/assets\n",
      "2070/2070 [==============================] - 2079s 1s/step - loss: 0.9923 - categorical_accuracy: 0.4894 - val_loss: 0.8906 - val_categorical_accuracy: 0.5108\n",
      "Epoch 2/50\n",
      "2070/2070 [==============================] - ETA: 0s - loss: 0.8005 - categorical_accuracy: 0.6569\n",
      "Epoch 00002: val_categorical_accuracy improved from 0.51075 to 0.70697, saving model to /home/albert/projects/tfg/models/cnn_07/checkpoint\n",
      "INFO:tensorflow:Assets written to: /home/albert/projects/tfg/models/cnn_07/checkpoint/assets\n",
      "2070/2070 [==============================] - 1584s 765ms/step - loss: 0.8005 - categorical_accuracy: 0.6569 - val_loss: 0.7225 - val_categorical_accuracy: 0.7070\n",
      "Epoch 3/50\n",
      "2070/2070 [==============================] - ETA: 0s - loss: 0.6686 - categorical_accuracy: 0.7383\n",
      "Epoch 00003: val_categorical_accuracy improved from 0.70697 to 0.77610, saving model to /home/albert/projects/tfg/models/cnn_07/checkpoint\n",
      "INFO:tensorflow:Assets written to: /home/albert/projects/tfg/models/cnn_07/checkpoint/assets\n",
      "2070/2070 [==============================] - 1582s 764ms/step - loss: 0.6686 - categorical_accuracy: 0.7383 - val_loss: 0.6001 - val_categorical_accuracy: 0.7761\n",
      "Epoch 4/50\n",
      "2070/2070 [==============================] - ETA: 0s - loss: 0.6465 - categorical_accuracy: 0.7481\n",
      "Epoch 00004: val_categorical_accuracy did not improve from 0.77610\n",
      "2070/2070 [==============================] - 1585s 766ms/step - loss: 0.6465 - categorical_accuracy: 0.7481 - val_loss: 0.9843 - val_categorical_accuracy: 0.5898\n",
      "Epoch 5/50\n",
      "2070/2070 [==============================] - ETA: 0s - loss: 0.6240 - categorical_accuracy: 0.7591\n",
      "Epoch 00005: val_categorical_accuracy did not improve from 0.77610\n",
      "2070/2070 [==============================] - 1581s 764ms/step - loss: 0.6240 - categorical_accuracy: 0.7591 - val_loss: 0.6225 - val_categorical_accuracy: 0.7511\n",
      "Epoch 6/50\n",
      "2070/2070 [==============================] - ETA: 0s - loss: 0.6240 - categorical_accuracy: 0.7603\n",
      "Epoch 00006: val_categorical_accuracy did not improve from 0.77610\n",
      "2070/2070 [==============================] - 1203s 581ms/step - loss: 0.6240 - categorical_accuracy: 0.7603 - val_loss: 0.9423 - val_categorical_accuracy: 0.5312\n",
      "Epoch 7/50\n",
      "2070/2070 [==============================] - ETA: 0s - loss: 0.6103 - categorical_accuracy: 0.7661\n",
      "Epoch 00007: val_categorical_accuracy did not improve from 0.77610\n",
      "2070/2070 [==============================] - 1406s 679ms/step - loss: 0.6103 - categorical_accuracy: 0.7661 - val_loss: 0.6357 - val_categorical_accuracy: 0.7521\n",
      "Epoch 8/50\n",
      "2070/2070 [==============================] - ETA: 0s - loss: 0.5999 - categorical_accuracy: 0.7710\n",
      "Epoch 00008: val_categorical_accuracy did not improve from 0.77610\n",
      "2070/2070 [==============================] - 1493s 721ms/step - loss: 0.5999 - categorical_accuracy: 0.7710 - val_loss: 0.6215 - val_categorical_accuracy: 0.7631\n",
      "Epoch 9/50\n",
      "2070/2070 [==============================] - ETA: 0s - loss: 0.5866 - categorical_accuracy: 0.7774\n",
      "Epoch 00009: val_categorical_accuracy did not improve from 0.77610\n",
      "2070/2070 [==============================] - 1489s 720ms/step - loss: 0.5866 - categorical_accuracy: 0.7774 - val_loss: 0.8218 - val_categorical_accuracy: 0.6265\n",
      "Epoch 10/50\n",
      "2070/2070 [==============================] - ETA: 0s - loss: 0.5950 - categorical_accuracy: 0.7744\n",
      "Epoch 00010: val_categorical_accuracy did not improve from 0.77610\n",
      "2070/2070 [==============================] - 1493s 721ms/step - loss: 0.5950 - categorical_accuracy: 0.7744 - val_loss: 0.9087 - val_categorical_accuracy: 0.6085\n",
      "Epoch 11/50\n",
      "2070/2070 [==============================] - ETA: 0s - loss: 0.5729 - categorical_accuracy: 0.7853\n",
      "Epoch 00011: val_categorical_accuracy did not improve from 0.77610\n",
      "2070/2070 [==============================] - 1188s 574ms/step - loss: 0.5729 - categorical_accuracy: 0.7853 - val_loss: 0.6542 - val_categorical_accuracy: 0.7292\n",
      "Epoch 12/50\n",
      "2070/2070 [==============================] - ETA: 0s - loss: 0.5772 - categorical_accuracy: 0.7841\n",
      "Epoch 00012: val_categorical_accuracy did not improve from 0.77610\n",
      "2070/2070 [==============================] - 1400s 676ms/step - loss: 0.5772 - categorical_accuracy: 0.7841 - val_loss: 0.7979 - val_categorical_accuracy: 0.6387\n",
      "Epoch 13/50\n",
      "2070/2070 [==============================] - ETA: 0s - loss: 0.5669 - categorical_accuracy: 0.7872\n",
      "Epoch 00013: val_categorical_accuracy improved from 0.77610 to 0.81280, saving model to /home/albert/projects/tfg/models/cnn_07/checkpoint\n",
      "INFO:tensorflow:Assets written to: /home/albert/projects/tfg/models/cnn_07/checkpoint/assets\n",
      "2070/2070 [==============================] - 1495s 722ms/step - loss: 0.5669 - categorical_accuracy: 0.7872 - val_loss: 0.5046 - val_categorical_accuracy: 0.8128\n",
      "Epoch 14/50\n",
      "2070/2070 [==============================] - ETA: 0s - loss: 0.5811 - categorical_accuracy: 0.7777\n",
      "Epoch 00014: val_categorical_accuracy did not improve from 0.81280\n",
      "2070/2070 [==============================] - 1492s 721ms/step - loss: 0.5811 - categorical_accuracy: 0.7777 - val_loss: 0.6333 - val_categorical_accuracy: 0.7355\n",
      "Epoch 15/50\n",
      "2070/2070 [==============================] - ETA: 0s - loss: 0.5589 - categorical_accuracy: 0.7901\n",
      "Epoch 00015: val_categorical_accuracy did not improve from 0.81280\n",
      "2070/2070 [==============================] - 1489s 719ms/step - loss: 0.5589 - categorical_accuracy: 0.7901 - val_loss: 0.5428 - val_categorical_accuracy: 0.7961\n",
      "Epoch 16/50\n",
      "2070/2070 [==============================] - ETA: 0s - loss: 0.5486 - categorical_accuracy: 0.7972\n",
      "Epoch 00016: val_categorical_accuracy improved from 0.81280 to 0.81989, saving model to /home/albert/projects/tfg/models/cnn_07/checkpoint\n",
      "INFO:tensorflow:Assets written to: /home/albert/projects/tfg/models/cnn_07/checkpoint/assets\n",
      "2070/2070 [==============================] - 1193s 576ms/step - loss: 0.5486 - categorical_accuracy: 0.7972 - val_loss: 0.4920 - val_categorical_accuracy: 0.8199\n",
      "Epoch 17/50\n",
      "2070/2070 [==============================] - ETA: 0s - loss: 0.5497 - categorical_accuracy: 0.7962\n",
      "Epoch 00017: val_categorical_accuracy did not improve from 0.81989\n",
      "2070/2070 [==============================] - 1406s 679ms/step - loss: 0.5497 - categorical_accuracy: 0.7962 - val_loss: 0.6011 - val_categorical_accuracy: 0.7706\n",
      "Epoch 18/50\n",
      "2070/2070 [==============================] - ETA: 0s - loss: 0.5489 - categorical_accuracy: 0.7969\n",
      "Epoch 00018: val_categorical_accuracy improved from 0.81989 to 0.83240, saving model to /home/albert/projects/tfg/models/cnn_07/checkpoint\n",
      "INFO:tensorflow:Assets written to: /home/albert/projects/tfg/models/cnn_07/checkpoint/assets\n",
      "2070/2070 [==============================] - 1495s 722ms/step - loss: 0.5489 - categorical_accuracy: 0.7969 - val_loss: 0.4757 - val_categorical_accuracy: 0.8324\n",
      "Epoch 19/50\n",
      "2070/2070 [==============================] - ETA: 0s - loss: 0.5359 - categorical_accuracy: 0.8021\n",
      "Epoch 00019: val_categorical_accuracy did not improve from 0.83240\n",
      "2070/2070 [==============================] - 1487s 719ms/step - loss: 0.5359 - categorical_accuracy: 0.8021 - val_loss: 0.4706 - val_categorical_accuracy: 0.8283\n",
      "Epoch 20/50\n",
      "2070/2070 [==============================] - ETA: 0s - loss: 0.5360 - categorical_accuracy: 0.8041\n",
      "Epoch 00020: val_categorical_accuracy did not improve from 0.83240\n",
      "2070/2070 [==============================] - 1492s 721ms/step - loss: 0.5360 - categorical_accuracy: 0.8041 - val_loss: 0.9875 - val_categorical_accuracy: 0.5781\n",
      "Epoch 21/50\n",
      "2070/2070 [==============================] - ETA: 0s - loss: 0.5362 - categorical_accuracy: 0.8006\n",
      "Epoch 00021: val_categorical_accuracy did not improve from 0.83240\n",
      "2070/2070 [==============================] - 1181s 570ms/step - loss: 0.5362 - categorical_accuracy: 0.8006 - val_loss: 0.6287 - val_categorical_accuracy: 0.7445\n",
      "Epoch 22/50\n",
      "2070/2070 [==============================] - ETA: 0s - loss: 0.5318 - categorical_accuracy: 0.8022\n",
      "Epoch 00022: val_categorical_accuracy did not improve from 0.83240\n",
      "2070/2070 [==============================] - 1385s 669ms/step - loss: 0.5318 - categorical_accuracy: 0.8022 - val_loss: 0.9477 - val_categorical_accuracy: 0.5857\n",
      "Epoch 23/50\n",
      "2070/2070 [==============================] - ETA: 0s - loss: 0.5365 - categorical_accuracy: 0.8034\n",
      "Epoch 00023: val_categorical_accuracy improved from 0.83240 to 0.83631, saving model to /home/albert/projects/tfg/models/cnn_07/checkpoint\n",
      "INFO:tensorflow:Assets written to: /home/albert/projects/tfg/models/cnn_07/checkpoint/assets\n",
      "2070/2070 [==============================] - 1494s 722ms/step - loss: 0.5365 - categorical_accuracy: 0.8034 - val_loss: 0.4657 - val_categorical_accuracy: 0.8363\n",
      "Epoch 24/50\n",
      "2070/2070 [==============================] - ETA: 0s - loss: 0.5300 - categorical_accuracy: 0.8059\n",
      "Epoch 00024: val_categorical_accuracy did not improve from 0.83631\n",
      "2070/2070 [==============================] - 1488s 719ms/step - loss: 0.5300 - categorical_accuracy: 0.8059 - val_loss: 0.6461 - val_categorical_accuracy: 0.7354\n",
      "Epoch 25/50\n",
      "2070/2070 [==============================] - ETA: 0s - loss: 0.5424 - categorical_accuracy: 0.7966\n",
      "Epoch 00025: val_categorical_accuracy did not improve from 0.83631\n",
      "2070/2070 [==============================] - 1490s 720ms/step - loss: 0.5424 - categorical_accuracy: 0.7966 - val_loss: 0.5373 - val_categorical_accuracy: 0.7862\n",
      "Epoch 26/50\n",
      "2070/2070 [==============================] - ETA: 0s - loss: 0.5154 - categorical_accuracy: 0.8092\n",
      "Epoch 00026: val_categorical_accuracy did not improve from 0.83631\n",
      "2070/2070 [==============================] - 1168s 564ms/step - loss: 0.5154 - categorical_accuracy: 0.8092 - val_loss: 0.5562 - val_categorical_accuracy: 0.7848\n",
      "Epoch 27/50\n",
      "2070/2070 [==============================] - ETA: 0s - loss: 0.5282 - categorical_accuracy: 0.8055\n",
      "Epoch 00027: val_categorical_accuracy did not improve from 0.83631\n",
      "2070/2070 [==============================] - 1379s 666ms/step - loss: 0.5282 - categorical_accuracy: 0.8055 - val_loss: 0.4659 - val_categorical_accuracy: 0.8314\n",
      "Epoch 28/50\n",
      "2070/2070 [==============================] - ETA: 0s - loss: 0.5198 - categorical_accuracy: 0.8092\n",
      "Epoch 00028: val_categorical_accuracy did not improve from 0.83631\n",
      "2070/2070 [==============================] - 1493s 721ms/step - loss: 0.5198 - categorical_accuracy: 0.8092 - val_loss: 0.4695 - val_categorical_accuracy: 0.8286\n",
      "Epoch 29/50\n",
      "2070/2070 [==============================] - ETA: 0s - loss: 0.5124 - categorical_accuracy: 0.8121\n",
      "Epoch 00029: val_categorical_accuracy did not improve from 0.83631\n",
      "2070/2070 [==============================] - 1493s 721ms/step - loss: 0.5124 - categorical_accuracy: 0.8121 - val_loss: 0.5775 - val_categorical_accuracy: 0.7711\n",
      "Epoch 30/50\n",
      "2070/2070 [==============================] - ETA: 0s - loss: 0.5203 - categorical_accuracy: 0.8104\n",
      "Epoch 00030: val_categorical_accuracy did not improve from 0.83631\n",
      "2070/2070 [==============================] - 1489s 719ms/step - loss: 0.5203 - categorical_accuracy: 0.8104 - val_loss: 0.6154 - val_categorical_accuracy: 0.7640\n",
      "Epoch 31/50\n",
      "2070/2070 [==============================] - ETA: 0s - loss: 0.5096 - categorical_accuracy: 0.8133\n",
      "Epoch 00031: val_categorical_accuracy improved from 0.83631 to 0.84166, saving model to /home/albert/projects/tfg/models/cnn_07/checkpoint\n",
      "INFO:tensorflow:Assets written to: /home/albert/projects/tfg/models/cnn_07/checkpoint/assets\n",
      "2070/2070 [==============================] - 1162s 561ms/step - loss: 0.5096 - categorical_accuracy: 0.8133 - val_loss: 0.4491 - val_categorical_accuracy: 0.8417\n",
      "Epoch 32/50\n",
      "2070/2070 [==============================] - ETA: 0s - loss: 0.5271 - categorical_accuracy: 0.8072\n",
      "Epoch 00032: val_categorical_accuracy did not improve from 0.84166\n",
      "2070/2070 [==============================] - 1374s 664ms/step - loss: 0.5271 - categorical_accuracy: 0.8072 - val_loss: 0.4938 - val_categorical_accuracy: 0.8188\n",
      "Epoch 33/50\n",
      "2070/2070 [==============================] - ETA: 0s - loss: 0.5104 - categorical_accuracy: 0.8130\n",
      "Epoch 00033: val_categorical_accuracy did not improve from 0.84166\n",
      "2070/2070 [==============================] - 1496s 723ms/step - loss: 0.5104 - categorical_accuracy: 0.8130 - val_loss: 0.8567 - val_categorical_accuracy: 0.6270\n",
      "Epoch 34/50\n",
      "2070/2070 [==============================] - ETA: 0s - loss: 0.5094 - categorical_accuracy: 0.8121\n",
      "Epoch 00034: val_categorical_accuracy did not improve from 0.84166\n",
      "2070/2070 [==============================] - 1490s 720ms/step - loss: 0.5094 - categorical_accuracy: 0.8121 - val_loss: 0.8533 - val_categorical_accuracy: 0.6196\n",
      "Epoch 35/50\n",
      "2070/2070 [==============================] - ETA: 0s - loss: 0.5174 - categorical_accuracy: 0.8073\n",
      "Epoch 00035: val_categorical_accuracy did not improve from 0.84166\n",
      "2070/2070 [==============================] - 1488s 719ms/step - loss: 0.5174 - categorical_accuracy: 0.8073 - val_loss: 0.5196 - val_categorical_accuracy: 0.7873\n",
      "Epoch 36/50\n",
      "2070/2070 [==============================] - ETA: 0s - loss: 0.5094 - categorical_accuracy: 0.8129\n",
      "Epoch 00036: val_categorical_accuracy did not improve from 0.84166\n",
      "2070/2070 [==============================] - 1170s 565ms/step - loss: 0.5094 - categorical_accuracy: 0.8129 - val_loss: 0.5020 - val_categorical_accuracy: 0.8187\n",
      "Epoch 37/50\n",
      "2070/2070 [==============================] - ETA: 0s - loss: 0.5129 - categorical_accuracy: 0.8131\n",
      "Epoch 00037: val_categorical_accuracy did not improve from 0.84166\n",
      "2070/2070 [==============================] - 1379s 666ms/step - loss: 0.5129 - categorical_accuracy: 0.8131 - val_loss: 0.5848 - val_categorical_accuracy: 0.7647\n",
      "Epoch 38/50\n",
      "2070/2070 [==============================] - ETA: 0s - loss: 0.5030 - categorical_accuracy: 0.8154\n",
      "Epoch 00038: val_categorical_accuracy did not improve from 0.84166\n",
      "2070/2070 [==============================] - 1489s 719ms/step - loss: 0.5030 - categorical_accuracy: 0.8154 - val_loss: 0.4656 - val_categorical_accuracy: 0.8306\n",
      "Epoch 39/50\n",
      "2070/2070 [==============================] - ETA: 0s - loss: 0.5489 - categorical_accuracy: 0.7863\n",
      "Epoch 00039: val_categorical_accuracy did not improve from 0.84166\n",
      "2070/2070 [==============================] - 1491s 720ms/step - loss: 0.5489 - categorical_accuracy: 0.7863 - val_loss: 0.9472 - val_categorical_accuracy: 0.5941\n",
      "Epoch 40/50\n",
      "2070/2070 [==============================] - ETA: 0s - loss: 0.5022 - categorical_accuracy: 0.8159\n",
      "Epoch 00040: val_categorical_accuracy did not improve from 0.84166\n",
      "2070/2070 [==============================] - 1488s 719ms/step - loss: 0.5022 - categorical_accuracy: 0.8159 - val_loss: 0.4819 - val_categorical_accuracy: 0.8221\n",
      "Epoch 41/50\n",
      "2070/2070 [==============================] - ETA: 0s - loss: 0.5041 - categorical_accuracy: 0.8172\n",
      "Epoch 00041: val_categorical_accuracy did not improve from 0.84166\n",
      "2070/2070 [==============================] - 1173s 567ms/step - loss: 0.5041 - categorical_accuracy: 0.8172 - val_loss: 0.4914 - val_categorical_accuracy: 0.8207\n",
      "Epoch 42/50\n",
      "2070/2070 [==============================] - ETA: 0s - loss: 0.5025 - categorical_accuracy: 0.8169\n",
      "Epoch 00042: val_categorical_accuracy did not improve from 0.84166\n",
      "2070/2070 [==============================] - 1379s 666ms/step - loss: 0.5025 - categorical_accuracy: 0.8169 - val_loss: 0.4848 - val_categorical_accuracy: 0.8304\n",
      "Epoch 43/50\n",
      "2070/2070 [==============================] - ETA: 0s - loss: 0.5008 - categorical_accuracy: 0.8173\n",
      "Epoch 00043: val_categorical_accuracy improved from 0.84166 to 0.85553, saving model to /home/albert/projects/tfg/models/cnn_07/checkpoint\n",
      "INFO:tensorflow:Assets written to: /home/albert/projects/tfg/models/cnn_07/checkpoint/assets\n",
      "2070/2070 [==============================] - 1494s 722ms/step - loss: 0.5008 - categorical_accuracy: 0.8173 - val_loss: 0.4224 - val_categorical_accuracy: 0.8555\n",
      "Epoch 44/50\n",
      "2070/2070 [==============================] - ETA: 0s - loss: 0.4991 - categorical_accuracy: 0.8194\n",
      "Epoch 00044: val_categorical_accuracy did not improve from 0.85553\n",
      "2070/2070 [==============================] - 1489s 719ms/step - loss: 0.4991 - categorical_accuracy: 0.8194 - val_loss: 0.4628 - val_categorical_accuracy: 0.8289\n",
      "Epoch 45/50\n",
      "2070/2070 [==============================] - ETA: 0s - loss: 0.6762 - categorical_accuracy: 0.7172\n",
      "Epoch 00045: val_categorical_accuracy did not improve from 0.85553\n",
      "2070/2070 [==============================] - 1489s 719ms/step - loss: 0.6762 - categorical_accuracy: 0.7172 - val_loss: 0.5258 - val_categorical_accuracy: 0.7958\n",
      "Epoch 46/50\n",
      "2070/2070 [==============================] - ETA: 0s - loss: 0.5146 - categorical_accuracy: 0.8106\n",
      "Epoch 00046: val_categorical_accuracy did not improve from 0.85553\n",
      "2070/2070 [==============================] - 1170s 565ms/step - loss: 0.5146 - categorical_accuracy: 0.8106 - val_loss: 0.8217 - val_categorical_accuracy: 0.6575\n",
      "Epoch 47/50\n",
      "2070/2070 [==============================] - ETA: 0s - loss: 0.4940 - categorical_accuracy: 0.8189\n",
      "Epoch 00047: val_categorical_accuracy did not improve from 0.85553\n",
      "2070/2070 [==============================] - 1374s 664ms/step - loss: 0.4940 - categorical_accuracy: 0.8189 - val_loss: 0.4739 - val_categorical_accuracy: 0.8263\n",
      "Epoch 48/50\n",
      "2070/2070 [==============================] - ETA: 0s - loss: 0.4830 - categorical_accuracy: 0.8221\n",
      "Epoch 00048: val_categorical_accuracy did not improve from 0.85553\n",
      "2070/2070 [==============================] - 1488s 719ms/step - loss: 0.4830 - categorical_accuracy: 0.8221 - val_loss: 0.5808 - val_categorical_accuracy: 0.7696\n",
      "Epoch 49/50\n",
      "2070/2070 [==============================] - ETA: 0s - loss: 0.4823 - categorical_accuracy: 0.8233\n",
      "Epoch 00049: val_categorical_accuracy did not improve from 0.85553\n",
      "2070/2070 [==============================] - 1489s 719ms/step - loss: 0.4823 - categorical_accuracy: 0.8233 - val_loss: 0.5207 - val_categorical_accuracy: 0.8264\n",
      "Epoch 50/50\n",
      "2070/2070 [==============================] - ETA: 0s - loss: 0.4714 - categorical_accuracy: 0.8279\n",
      "Epoch 00050: val_categorical_accuracy did not improve from 0.85553\n",
      "2070/2070 [==============================] - 1486s 718ms/step - loss: 0.4714 - categorical_accuracy: 0.8279 - val_loss: 0.4961 - val_categorical_accuracy: 0.8225\n"
     ]
    }
   ],
   "source": [
    "# The total passes we want to do over the whole dataset\n",
    "total_epochs = 10\n",
    "# For each pass, how many times do we want to check the performance on the validation data?\n",
    "intermediate_checks = 5\n",
    "epochs = total_epochs * intermediate_checks\n",
    "\n",
    "# If in total we need e.g. 1000 steps to go through the whole dataset, and we want to check 2 times the validation, each epoch will be 500 steps instead\n",
    "STEP_SIZE_TRAIN=train_generator.n//(intermediate_checks * train_generator.batch_size) \n",
    "STEP_SIZE_VALID=valid_generator.n//valid_generator.batch_size\n",
    "#STEP_SIZE_TEST=test_generator.n//test_generator.batch_size\n",
    "\n",
    "fit_history = model.fit_generator(generator=train_generator,\n",
    "                    steps_per_epoch=STEP_SIZE_TRAIN,\n",
    "                    validation_data=valid_generator,\n",
    "                    validation_steps=STEP_SIZE_VALID,\n",
    "                    epochs=epochs,\n",
    "                    callbacks=model_callbacks\n",
    ")"
   ]
  },
  {
   "cell_type": "code",
   "execution_count": 37,
   "metadata": {},
   "outputs": [
    {
     "data": {
      "text/plain": [
       "{'loss': [0.9923130869865417,\n",
       "  0.8004758954048157,\n",
       "  0.6685552000999451,\n",
       "  0.6465162634849548,\n",
       "  0.6239795088768005,\n",
       "  0.6240330338478088,\n",
       "  0.6102906465530396,\n",
       "  0.5999394059181213,\n",
       "  0.5866007804870605,\n",
       "  0.5949525237083435,\n",
       "  0.5729308128356934,\n",
       "  0.5771791338920593,\n",
       "  0.5669023394584656,\n",
       "  0.5810614824295044,\n",
       "  0.5589028000831604,\n",
       "  0.5486356616020203,\n",
       "  0.5496863722801208,\n",
       "  0.5489293932914734,\n",
       "  0.5358768105506897,\n",
       "  0.536043107509613,\n",
       "  0.5362495183944702,\n",
       "  0.5318425297737122,\n",
       "  0.5365055799484253,\n",
       "  0.5300305485725403,\n",
       "  0.5423710346221924,\n",
       "  0.5153899788856506,\n",
       "  0.5282484889030457,\n",
       "  0.5198453068733215,\n",
       "  0.5124284625053406,\n",
       "  0.5203324556350708,\n",
       "  0.5096037983894348,\n",
       "  0.5271391868591309,\n",
       "  0.5104010701179504,\n",
       "  0.5093892216682434,\n",
       "  0.5173799395561218,\n",
       "  0.5094484686851501,\n",
       "  0.5129165053367615,\n",
       "  0.5030324459075928,\n",
       "  0.5488642454147339,\n",
       "  0.5022475719451904,\n",
       "  0.504107654094696,\n",
       "  0.5024568438529968,\n",
       "  0.5008034110069275,\n",
       "  0.4990650713443756,\n",
       "  0.6762476563453674,\n",
       "  0.5146085023880005,\n",
       "  0.49403852224349976,\n",
       "  0.48297980427742004,\n",
       "  0.48225757479667664,\n",
       "  0.4713814854621887],\n",
       " 'categorical_accuracy': [0.4894474744796753,\n",
       "  0.6568840742111206,\n",
       "  0.7382699251174927,\n",
       "  0.7480827569961548,\n",
       "  0.7591032385826111,\n",
       "  0.7603049874305725,\n",
       "  0.7660627961158752,\n",
       "  0.7710295915603638,\n",
       "  0.7773550748825073,\n",
       "  0.7744263410568237,\n",
       "  0.7853087782859802,\n",
       "  0.7841334342956543,\n",
       "  0.7871527671813965,\n",
       "  0.7776721119880676,\n",
       "  0.7901268005371094,\n",
       "  0.7971614003181458,\n",
       "  0.7962258458137512,\n",
       "  0.796875,\n",
       "  0.8020682334899902,\n",
       "  0.8040911555290222,\n",
       "  0.8006039261817932,\n",
       "  0.8022041320800781,\n",
       "  0.8034269213676453,\n",
       "  0.8059178590774536,\n",
       "  0.7965881824493408,\n",
       "  0.8091952204704285,\n",
       "  0.8054649829864502,\n",
       "  0.8092391490936279,\n",
       "  0.8120772838592529,\n",
       "  0.8104468584060669,\n",
       "  0.8133473992347717,\n",
       "  0.8071708679199219,\n",
       "  0.8129680156707764,\n",
       "  0.8120622038841248,\n",
       "  0.8073218464851379,\n",
       "  0.8129397630691528,\n",
       "  0.8131491541862488,\n",
       "  0.815353274345398,\n",
       "  0.7862922549247742,\n",
       "  0.8159118294715881,\n",
       "  0.8171523213386536,\n",
       "  0.8169384002685547,\n",
       "  0.8173007369041443,\n",
       "  0.8193991780281067,\n",
       "  0.7172403335571289,\n",
       "  0.8106296062469482,\n",
       "  0.8188707828521729,\n",
       "  0.8221316337585449,\n",
       "  0.8233091831207275,\n",
       "  0.8279438614845276],\n",
       " 'val_loss': [0.8905810117721558,\n",
       "  0.7224988341331482,\n",
       "  0.6001280546188354,\n",
       "  0.9842950105667114,\n",
       "  0.6225370764732361,\n",
       "  0.9423296451568604,\n",
       "  0.6357032060623169,\n",
       "  0.6215091943740845,\n",
       "  0.8218405246734619,\n",
       "  0.9086581468582153,\n",
       "  0.654209315776825,\n",
       "  0.7978742718696594,\n",
       "  0.5046130418777466,\n",
       "  0.6332623362541199,\n",
       "  0.5427825450897217,\n",
       "  0.49196159839630127,\n",
       "  0.6011213064193726,\n",
       "  0.4757491648197174,\n",
       "  0.47063228487968445,\n",
       "  0.9875301718711853,\n",
       "  0.6287001371383667,\n",
       "  0.9477195739746094,\n",
       "  0.4656825065612793,\n",
       "  0.6461065411567688,\n",
       "  0.5373281240463257,\n",
       "  0.5562100410461426,\n",
       "  0.465880811214447,\n",
       "  0.46950504183769226,\n",
       "  0.5775353312492371,\n",
       "  0.6153773665428162,\n",
       "  0.44909098744392395,\n",
       "  0.49382612109184265,\n",
       "  0.8566657900810242,\n",
       "  0.8532564640045166,\n",
       "  0.5196093916893005,\n",
       "  0.5020289421081543,\n",
       "  0.5848133563995361,\n",
       "  0.4656275510787964,\n",
       "  0.9472313523292542,\n",
       "  0.48186221718788147,\n",
       "  0.49142539501190186,\n",
       "  0.48479223251342773,\n",
       "  0.42235925793647766,\n",
       "  0.46277159452438354,\n",
       "  0.5258208513259888,\n",
       "  0.8217432498931885,\n",
       "  0.47391483187675476,\n",
       "  0.5808040499687195,\n",
       "  0.5207149982452393,\n",
       "  0.4960709810256958],\n",
       " 'val_categorical_accuracy': [0.5107516050338745,\n",
       "  0.7069684267044067,\n",
       "  0.7761002779006958,\n",
       "  0.5897558331489563,\n",
       "  0.7510550618171692,\n",
       "  0.53125,\n",
       "  0.7520850300788879,\n",
       "  0.7631129622459412,\n",
       "  0.6265323758125305,\n",
       "  0.6085460186004639,\n",
       "  0.7291750311851501,\n",
       "  0.6386656165122986,\n",
       "  0.8128014206886292,\n",
       "  0.7355305552482605,\n",
       "  0.7960962653160095,\n",
       "  0.8198854327201843,\n",
       "  0.7706239819526672,\n",
       "  0.8323954939842224,\n",
       "  0.828275740146637,\n",
       "  0.5780747532844543,\n",
       "  0.7445237040519714,\n",
       "  0.5856862664222717,\n",
       "  0.83631432056427,\n",
       "  0.7354300618171692,\n",
       "  0.7862489819526672,\n",
       "  0.7848422527313232,\n",
       "  0.8313906788825989,\n",
       "  0.8285520672798157,\n",
       "  0.7710761427879333,\n",
       "  0.763992190361023,\n",
       "  0.8416649699211121,\n",
       "  0.8188052773475647,\n",
       "  0.6269593834877014,\n",
       "  0.6196492910385132,\n",
       "  0.7873291969299316,\n",
       "  0.8186545372009277,\n",
       "  0.7646704316139221,\n",
       "  0.8305616974830627,\n",
       "  0.5940514206886292,\n",
       "  0.8221462965011597,\n",
       "  0.8207144141197205,\n",
       "  0.8304109573364258,\n",
       "  0.8555315732955933,\n",
       "  0.82887864112854,\n",
       "  0.7957696914672852,\n",
       "  0.6575060486793518,\n",
       "  0.8263162970542908,\n",
       "  0.7696443200111389,\n",
       "  0.8263665437698364,\n",
       "  0.8225482106208801]}"
      ]
     },
     "execution_count": 37,
     "metadata": {},
     "output_type": "execute_result"
    }
   ],
   "source": [
    "fit_history.history"
   ]
  },
  {
   "cell_type": "code",
   "execution_count": 38,
   "metadata": {},
   "outputs": [],
   "source": [
    "import seaborn as sns\n",
    "\n",
    "sns.set_style(\"whitegrid\")\n",
    "sns.set(rc={'figure.figsize':(13, 9)})"
   ]
  },
  {
   "cell_type": "code",
   "execution_count": 39,
   "metadata": {},
   "outputs": [
    {
     "name": "stdout",
     "output_type": "stream",
     "text": [
      "Saving figures to /home/albert/projects/tfg/docs/figures/cnn_07_loss.png\n"
     ]
    },
    {
     "data": {
      "image/png": "[encoded data removed]",
      "text/plain": [
       "<Figure size 936x648 with 1 Axes>"
      ]
     },
     "metadata": {},
     "output_type": "display_data"
    }
   ],
   "source": [
    "import matplotlib.pyplot as plt\n",
    "\n",
    "fig_file = figures_dir / f\"cnn_{cnn_model_suffix}_loss.png\"\n",
    "print(f\"Saving figures to {fig_file}\")\n",
    "plt.plot(fit_history.history[\"loss\"], label=\"training\")\n",
    "plt.plot(fit_history.history[\"val_loss\"], label=\"validation\")\n",
    "plt.title(\"CNN Training and Validation Losses\")\n",
    "plt.xlabel(\"Epoch\")\n",
    "plt.ylabel(\"Loss\")\n",
    "plt.legend()\n",
    "plt.savefig(str(fig_file))\n",
    "plt.show()"
   ]
  },
  {
   "cell_type": "code",
   "execution_count": 40,
   "metadata": {},
   "outputs": [
    {
     "data": {
      "image/png": "[encoded data removed]",
      "text/plain": [
       "<Figure size 936x648 with 1 Axes>"
      ]
     },
     "metadata": {},
     "output_type": "display_data"
    }
   ],
   "source": [
    "import matplotlib.pyplot as plt\n",
    "\n",
    "plt.plot(fit_history.history[\"categorical_accuracy\"], label=\"training\")\n",
    "plt.plot(fit_history.history[\"val_categorical_accuracy\"], label=\"validation\")\n",
    "plt.title(\"CNN Training and Validation Categorical Accuracy\")\n",
    "plt.xlabel(\"Epoch\")\n",
    "plt.ylabel(\"Categorical Accuracy\")\n",
    "plt.legend()\n",
    "plt.savefig(figures_dir / f\"cnn_{cnn_model_suffix}_cat_accuracy.png\")\n",
    "plt.show()"
   ]
  },
  {
   "cell_type": "code",
   "execution_count": 41,
   "metadata": {},
   "outputs": [
    {
     "data": {
      "text/plain": [
       "PosixPath('/home/albert/projects/tfg/models/feature_extractor.tf')"
      ]
     },
     "execution_count": 41,
     "metadata": {},
     "output_type": "execute_result"
    }
   ],
   "source": [
    "feature_extractor_model_file"
   ]
  },
  {
   "cell_type": "code",
   "execution_count": 42,
   "metadata": {},
   "outputs": [
    {
     "name": "stdout",
     "output_type": "stream",
     "text": [
      "INFO:tensorflow:Assets written to: /home/albert/projects/tfg/models/feature_extractor_07.tf/assets\n"
     ]
    }
   ],
   "source": [
    "#model_file = feature_extractor_model_file\n",
    "model_file = models_dir / f\"feature_extractor_{cnn_model_suffix}.tf\"\n",
    "model.save(str(model_file))\n",
    "\n",
    "#del model"
   ]
  },
  {
   "cell_type": "code",
   "execution_count": 43,
   "metadata": {},
   "outputs": [
    {
     "name": "stdout",
     "output_type": "stream",
     "text": [
      "Model: \"covid_classifier\"\n",
      "_________________________________________________________________\n",
      "Layer (type)                 Output Shape              Param #   \n",
      "=================================================================\n",
      "input_images (InputLayer)    [(None, 64, 64, 3)]       0         \n",
      "_________________________________________________________________\n",
      "conv2d_01 (Conv2D)           (None, 64, 64, 6)         168       \n",
      "_________________________________________________________________\n",
      "maxpool2d_01 (MaxPooling2D)  (None, 32, 32, 6)         0         \n",
      "_________________________________________________________________\n",
      "conv2d_02 (Conv2D)           (None, 32, 32, 12)        660       \n",
      "_________________________________________________________________\n",
      "maxpool2d_02 (MaxPooling2D)  (None, 16, 16, 12)        0         \n",
      "_________________________________________________________________\n",
      "conv2d_03 (Conv2D)           (None, 16, 16, 18)        1962      \n",
      "_________________________________________________________________\n",
      "maxpool2d_03 (MaxPooling2D)  (None, 8, 8, 18)          0         \n",
      "_________________________________________________________________\n",
      "conv2d_04 (Conv2D)           (None, 8, 8, 24)          3912      \n",
      "_________________________________________________________________\n",
      "maxpool2d_04 (MaxPooling2D)  (None, 4, 4, 24)          0         \n",
      "_________________________________________________________________\n",
      "conv2d_05 (Conv2D)           (None, 4, 4, 30)          6510      \n",
      "_________________________________________________________________\n",
      "dropout__05 (Dropout)        (None, 4, 4, 30)          0         \n",
      "_________________________________________________________________\n",
      "maxpool2d_05 (MaxPooling2D)  (None, 2, 2, 30)          0         \n",
      "_________________________________________________________________\n",
      "conv2d_06 (Conv2D)           (None, 2, 2, 36)          9756      \n",
      "_________________________________________________________________\n",
      "dropout__06 (Dropout)        (None, 2, 2, 36)          0         \n",
      "_________________________________________________________________\n",
      "maxpool2d_06 (MaxPooling2D)  (None, 1, 1, 36)          0         \n",
      "_________________________________________________________________\n",
      "flatten (Flatten)            (None, 36)                0         \n",
      "_________________________________________________________________\n",
      "dense_01 (Dense)             (None, 32)                1184      \n",
      "_________________________________________________________________\n",
      "dropout_01 (Dropout)         (None, 32)                0         \n",
      "_________________________________________________________________\n",
      "dense_02 (Dense)             (None, 24)                792       \n",
      "_________________________________________________________________\n",
      "dropout_02 (Dropout)         (None, 24)                0         \n",
      "_________________________________________________________________\n",
      "dense_03 (Dense)             (None, 16)                400       \n",
      "_________________________________________________________________\n",
      "dropout_03 (Dropout)         (None, 16)                0         \n",
      "_________________________________________________________________\n",
      "output (Dense)               (None, 3)                 51        \n",
      "=================================================================\n",
      "Total params: 25,395\n",
      "Trainable params: 25,395\n",
      "Non-trainable params: 0\n",
      "_________________________________________________________________\n"
     ]
    }
   ],
   "source": [
    "from tensorflow.keras.models import load_model\n",
    "\n",
    "loaded_model = load_model(str(model_file))\n",
    "\n",
    "loaded_model.summary()"
   ]
  },
  {
   "cell_type": "code",
   "execution_count": 45,
   "metadata": {},
   "outputs": [
    {
     "name": "stdout",
     "output_type": "stream",
     "text": [
      "Found 39828 validated image filenames belonging to 3 classes.\n"
     ]
    }
   ],
   "source": [
    "valid_generator2 = test_datagen.flow_from_dataframe(\n",
    "    dataframe=val_df,\n",
    "    directory=str(images_input_dir),\n",
    "    x_col=\"file\",\n",
    "    y_col=\"label\",\n",
    "    batch_size=batch_size,\n",
    "    seed=seed,\n",
    "    shuffle=False,\n",
    "    class_mode=\"categorical\",\n",
    "    target_size=image_target_size)"
   ]
  },
  {
   "cell_type": "markdown",
   "metadata": {},
   "source": [
    "# Evaluation / Confusion matrix"
   ]
  },
  {
   "cell_type": "code",
   "execution_count": 46,
   "metadata": {},
   "outputs": [],
   "source": [
    "from sklearn.metrics import confusion_matrix, precision_recall_fscore_support"
   ]
  },
  {
   "cell_type": "code",
   "execution_count": 47,
   "metadata": {},
   "outputs": [],
   "source": [
    "import numpy as np\n",
    "import itertools\n",
    "\n",
    "sns.set_style(\"whitegrid\", {'axes.grid' : False})\n",
    "\n",
    "# based on answer from https://datascience.stackexchange.com/questions/40067/confusion-matrix-three-classes-python\n",
    "def plot_confusion_matrix(cm, classes,\n",
    "                          save_to=None,\n",
    "                          normalize=True,\n",
    "                          title='Confusion matrix',\n",
    "                          cmap=plt.cm.Blues):\n",
    "    \"\"\"\n",
    "    This function prints and plots the confusion matrix.\n",
    "    Normalization can be applied by setting `normalize=True`.\n",
    "    \"\"\"\n",
    "    \n",
    "    if normalize:\n",
    "        cm = cm.astype('float') / cm.sum(axis=1)[:, np.newaxis]\n",
    "        print(\"Normalized confusion matrix\")\n",
    "    else:\n",
    "        print('Confusion matrix, without normalization')\n",
    "\n",
    "    print(cm)\n",
    "\n",
    "    plt.imshow(cm, interpolation='nearest', cmap=cmap)\n",
    "    plt.title(title, fontdict={'fontsize' : 26})\n",
    "    plt.colorbar()\n",
    "    tick_marks = np.arange(len(classes))\n",
    "    plt.xticks(tick_marks, classes, fontsize=18)\n",
    "    plt.yticks(tick_marks, classes, fontsize=18)\n",
    "\n",
    "    fmt_pct = lambda pct: f\"{100 * pct:.2f}%\" if normalize else f\"{int(100 * pct)}%\"\n",
    "    thresh = cm.max() / 2.\n",
    "    for i, j in itertools.product(range(cm.shape[0]), range(cm.shape[1])):\n",
    "        plt.text(j, i, fmt_pct(cm[i, j]),\n",
    "                 horizontalalignment=\"center\",\n",
    "                 color=\"white\" if cm[i, j] > thresh else \"black\",\n",
    "                 fontdict={'fontsize' : 16})\n",
    "\n",
    "    plt.ylabel('True label', fontdict={'fontsize' : 22})\n",
    "    plt.xlabel('Predicted label', fontdict={'fontsize' : 22})\n",
    "    plt.tight_layout()\n",
    "    \n",
    "    if save_to:\n",
    "        plt.savefig(save_to)"
   ]
  },
  {
   "cell_type": "code",
   "execution_count": 48,
   "metadata": {},
   "outputs": [],
   "source": [
    "STEP_SIZE_TRAIN2 = train_generator.n//train_generator.batch_size \n",
    "STEP_SIZE_VALID2 = valid_generator.n//valid_generator.batch_size"
   ]
  },
  {
   "cell_type": "markdown",
   "metadata": {},
   "source": [
    "## Validation set"
   ]
  },
  {
   "cell_type": "code",
   "execution_count": 49,
   "metadata": {},
   "outputs": [
    {
     "name": "stdout",
     "output_type": "stream",
     "text": [
      "1245/1245 [==============================] - 114s 91ms/step\n"
     ]
    },
    {
     "data": {
      "text/plain": [
       "(39828, 3)"
      ]
     },
     "execution_count": 49,
     "metadata": {},
     "output_type": "execute_result"
    }
   ],
   "source": [
    "raw_val_preds = loaded_model.predict(valid_generator2, steps=STEP_SIZE_VALID2 + 1, verbose=1)\n",
    "raw_val_preds.shape"
   ]
  },
  {
   "cell_type": "code",
   "execution_count": 50,
   "metadata": {},
   "outputs": [
    {
     "data": {
      "text/plain": [
       "array([[0.8903712 , 0.08576472, 0.02386406],\n",
       "       [0.84957135, 0.0825041 , 0.06792454],\n",
       "       [0.8902491 , 0.08222602, 0.02752489],\n",
       "       [0.84144115, 0.12503749, 0.03352138],\n",
       "       [0.8424045 , 0.11659629, 0.04099929]], dtype=float32)"
      ]
     },
     "execution_count": 50,
     "metadata": {},
     "output_type": "execute_result"
    }
   ],
   "source": [
    "raw_val_preds[:5]"
   ]
  },
  {
   "cell_type": "code",
   "execution_count": 51,
   "metadata": {},
   "outputs": [
    {
     "data": {
      "text/plain": [
       "array([0, 0, 0, 0, 0, 0, 0, 0, 0, 0])"
      ]
     },
     "execution_count": 51,
     "metadata": {},
     "output_type": "execute_result"
    }
   ],
   "source": [
    "val_preds = raw_val_preds.argmax(axis=1)\n",
    "val_preds[:10]"
   ]
  },
  {
   "cell_type": "code",
   "execution_count": 52,
   "metadata": {},
   "outputs": [
    {
     "data": {
      "text/plain": [
       "{'CP': 0, 'NCP': 1, 'Normal': 2}"
      ]
     },
     "execution_count": 52,
     "metadata": {},
     "output_type": "execute_result"
    }
   ],
   "source": [
    "valid_generator2.class_indices"
   ]
  },
  {
   "cell_type": "code",
   "execution_count": 53,
   "metadata": {},
   "outputs": [],
   "source": [
    "val_true = valid_generator2.labels"
   ]
  },
  {
   "cell_type": "code",
   "execution_count": 54,
   "metadata": {},
   "outputs": [
    {
     "data": {
      "text/plain": [
       "[0, 0, 0, 0, 0, 0, 0, 0, 0, 0]"
      ]
     },
     "execution_count": 54,
     "metadata": {},
     "output_type": "execute_result"
    }
   ],
   "source": [
    "val_true[:10]"
   ]
  },
  {
   "cell_type": "code",
   "execution_count": 55,
   "metadata": {},
   "outputs": [],
   "source": [
    "val_cm = confusion_matrix(val_true, val_preds)"
   ]
  },
  {
   "cell_type": "code",
   "execution_count": 56,
   "metadata": {},
   "outputs": [],
   "source": [
    "class_labels = [k for k in valid_generator2.class_indices.keys()]"
   ]
  },
  {
   "cell_type": "code",
   "execution_count": 57,
   "metadata": {},
   "outputs": [
    {
     "name": "stdout",
     "output_type": "stream",
     "text": [
      "Normalized confusion matrix\n",
      "[[0.99132147 0.0013541  0.00732443]\n",
      " [0.14931596 0.74162866 0.10905537]\n",
      " [0.35985907 0.         0.64014093]]\n"
     ]
    },
    {
     "data": {
      "image/png": "[encoded data removed]",
      "text/plain": [
       "<Figure size 936x648 with 2 Axes>"
      ]
     },
     "metadata": {},
     "output_type": "display_data"
    }
   ],
   "source": [
    "plot_confusion_matrix(\n",
    "    val_cm,\n",
    "    classes=class_labels,\n",
    "    title='Confusion matrix for Validation Set',\n",
    "    save_to=figures_dir / f\"feature_generator_val_conf_matrix_{cnn_model_suffix}.png\")"
   ]
  },
  {
   "cell_type": "code",
   "execution_count": 58,
   "metadata": {},
   "outputs": [
    {
     "name": "stdout",
     "output_type": "stream",
     "text": [
      "Validation F1 Score:  81.98\n",
      "Validation Precision:  84.64\n",
      "Validation Recall:  82.25\n"
     ]
    }
   ],
   "source": [
    "val_precision, val_recall, val_f1, _ = precision_recall_fscore_support(val_true, val_preds, average=\"weighted\")\n",
    "print(f\"Validation F1 Score: {100 * val_f1: .2f}\")\n",
    "print(f\"Validation Precision: {100 * val_precision: .2f}\")\n",
    "print(f\"Validation Recall: {100 * val_recall: .2f}\")"
   ]
  },
  {
   "cell_type": "code",
   "execution_count": 59,
   "metadata": {},
   "outputs": [
    {
     "name": "stdout",
     "output_type": "stream",
     "text": [
      "Found 331286 validated image filenames belonging to 3 classes.\n"
     ]
    }
   ],
   "source": [
    "train_generator2 = test_datagen.flow_from_dataframe(\n",
    "    dataframe=train_df,\n",
    "    directory=str(images_input_dir),\n",
    "    x_col=\"file\",\n",
    "    y_col=\"label\",\n",
    "    batch_size=batch_size,\n",
    "    seed=seed,\n",
    "    shuffle=False,\n",
    "    class_mode=\"categorical\",\n",
    "    target_size=image_target_size)"
   ]
  },
  {
   "cell_type": "code",
   "execution_count": 60,
   "metadata": {},
   "outputs": [
    {
     "name": "stdout",
     "output_type": "stream",
     "text": [
      "10353/10353 [==============================] - 2332s 225ms/step\n"
     ]
    },
    {
     "data": {
      "text/plain": [
       "(331286, 3)"
      ]
     },
     "execution_count": 60,
     "metadata": {},
     "output_type": "execute_result"
    }
   ],
   "source": [
    "raw_train_preds = loaded_model.predict(train_generator2, steps=STEP_SIZE_TRAIN2 + 1, verbose=1)\n",
    "raw_train_preds.shape"
   ]
  },
  {
   "cell_type": "code",
   "execution_count": 61,
   "metadata": {},
   "outputs": [
    {
     "data": {
      "text/plain": [
       "array([2, 2, 2, 2, 2, 2, 2, 2, 2, 2])"
      ]
     },
     "execution_count": 61,
     "metadata": {},
     "output_type": "execute_result"
    }
   ],
   "source": [
    "train_preds = raw_train_preds.argmax(axis=1)\n",
    "train_preds[:10]"
   ]
  },
  {
   "cell_type": "code",
   "execution_count": 62,
   "metadata": {},
   "outputs": [
    {
     "data": {
      "text/plain": [
       "{'CP': 0, 'NCP': 1, 'Normal': 2}"
      ]
     },
     "execution_count": 62,
     "metadata": {},
     "output_type": "execute_result"
    }
   ],
   "source": [
    "train_generator2.class_indices"
   ]
  },
  {
   "cell_type": "code",
   "execution_count": 63,
   "metadata": {},
   "outputs": [
    {
     "data": {
      "text/plain": [
       "[1, 1, 1, 1, 1, 1, 1, 1, 1, 1]"
      ]
     },
     "execution_count": 63,
     "metadata": {},
     "output_type": "execute_result"
    }
   ],
   "source": [
    "train_true = train_generator2.labels\n",
    "train_true[:10]"
   ]
  },
  {
   "cell_type": "code",
   "execution_count": 64,
   "metadata": {},
   "outputs": [
    {
     "name": "stdout",
     "output_type": "stream",
     "text": [
      "Normalized confusion matrix\n",
      "[[9.85150039e-01 3.23683359e-04 1.45262776e-02]\n",
      " [1.54608238e-01 7.14638967e-01 1.30752795e-01]\n",
      " [3.82673429e-01 7.53220016e-05 6.17251249e-01]]\n"
     ]
    },
    {
     "data": {
      "image/png": "[encoded data removed]",
      "text/plain": [
       "<Figure size 936x648 with 2 Axes>"
      ]
     },
     "metadata": {},
     "output_type": "display_data"
    }
   ],
   "source": [
    "train_cm = confusion_matrix(train_true, train_preds)\n",
    "plot_confusion_matrix(\n",
    "    train_cm,\n",
    "    classes=[k for k in train_generator2.class_indices.keys()],\n",
    "    title='Confusion matrix for Training Set',\n",
    "    save_to=figures_dir / f\"feature_generator_train_conf_matrix_{cnn_model_suffix}.png\")"
   ]
  },
  {
   "cell_type": "code",
   "execution_count": 65,
   "metadata": {},
   "outputs": [
    {
     "data": {
      "text/plain": [
       "(array([0.71474148, 0.99947397, 0.73007365]),\n",
       " array([0.98515004, 0.71463897, 0.61725125]),\n",
       " array([0.82843827, 0.83339088, 0.66893868]),\n",
       " array([126667, 124961,  79658]))"
      ]
     },
     "execution_count": 65,
     "metadata": {},
     "output_type": "execute_result"
    }
   ],
   "source": [
    "precision_recall_fscore_support(train_true, train_preds)\n"
   ]
  },
  {
   "cell_type": "code",
   "execution_count": 66,
   "metadata": {},
   "outputs": [
    {
     "name": "stdout",
     "output_type": "stream",
     "text": [
      "Train F1 Score:  79.20\n",
      "Train Precision:  82.58\n",
      "Train Recall:  79.47\n"
     ]
    }
   ],
   "source": [
    "train_precision, train_recall, train_f1, _ = precision_recall_fscore_support(train_true, train_preds, average=\"weighted\")\n",
    "print(f\"Train F1 Score: {100 * train_f1: .2f}\")\n",
    "print(f\"Train Precision: {100 * train_precision: .2f}\")\n",
    "print(f\"Train Recall: {100 * train_recall: .2f}\")"
   ]
  },
  {
   "cell_type": "markdown",
   "metadata": {},
   "source": [
    "## Evaluate test set"
   ]
  },
  {
   "cell_type": "code",
   "execution_count": 67,
   "metadata": {},
   "outputs": [],
   "source": [
    "test_df = repo.load(\"test_df\")"
   ]
  },
  {
   "cell_type": "code",
   "execution_count": 68,
   "metadata": {},
   "outputs": [
    {
     "name": "stdout",
     "output_type": "stream",
     "text": [
      "Found 40415 validated image filenames belonging to 3 classes.\n"
     ]
    }
   ],
   "source": [
    "test_generator = test_datagen.flow_from_dataframe(\n",
    "    dataframe=test_df,\n",
    "    directory=str(images_input_dir),\n",
    "    x_col=\"file\",\n",
    "    y_col=\"label\",\n",
    "    batch_size=batch_size,\n",
    "    seed=seed,\n",
    "    shuffle=False,\n",
    "    class_mode=\"categorical\",\n",
    "    target_size=image_target_size)"
   ]
  },
  {
   "cell_type": "code",
   "execution_count": 69,
   "metadata": {},
   "outputs": [
    {
     "name": "stdout",
     "output_type": "stream",
     "text": [
      "1263/1263 [==============================] - 290s 230ms/step\n",
      "Normalized confusion matrix\n",
      "[[9.88265428e-01 1.07219442e-03 1.06623779e-02]\n",
      " [1.77030457e-01 7.19416244e-01 1.03553299e-01]\n",
      " [2.37193339e-01 2.54226516e-04 7.62552434e-01]]\n"
     ]
    },
    {
     "data": {
      "image/png": "[encoded data removed]",
      "text/plain": [
       "<Figure size 936x648 with 2 Axes>"
      ]
     },
     "metadata": {},
     "output_type": "display_data"
    }
   ],
   "source": [
    "STEP_SIZE_TEST = test_generator.n//test_generator.batch_size\n",
    "\n",
    "raw_test_preds = loaded_model.predict(test_generator, steps=STEP_SIZE_TEST + 1, verbose=1)\n",
    "raw_test_preds.shape\n",
    "test_preds = raw_test_preds.argmax(axis=1)\n",
    "test_preds[:10]\n",
    "test_generator.class_indices\n",
    "test_true = test_generator.labels\n",
    "test_true[:10]\n",
    "test_cm = confusion_matrix(test_true, test_preds)\n",
    "plot_confusion_matrix(\n",
    "    test_cm,\n",
    "    classes=[k for k in test_generator.class_indices.keys()],\n",
    "    title='Confusion matrix for Test Set',\n",
    "    save_to=figures_dir / f\"feature_generator_test_conf_matrix_{cnn_model_suffix}.png\")"
   ]
  },
  {
   "cell_type": "code",
   "execution_count": 70,
   "metadata": {},
   "outputs": [
    {
     "name": "stdout",
     "output_type": "stream",
     "text": [
      "Test F1 Score:  83.74\n",
      "Test Precision:  86.31\n",
      "Test Recall:  83.95\n"
     ]
    }
   ],
   "source": [
    "test_precision, test_recall, test_f1, _ = precision_recall_fscore_support(test_true, test_preds, average=\"weighted\")\n",
    "print(f\"Test F1 Score: {100 * test_f1: .2f}\")\n",
    "print(f\"Test Precision: {100 * test_precision: .2f}\")\n",
    "print(f\"Test Recall: {100 * test_recall: .2f}\")"
   ]
  },
  {
   "cell_type": "code",
   "execution_count": null,
   "metadata": {},
   "outputs": [],
   "source": []
  }
 ],
 "metadata": {
  "kernelspec": {
   "display_name": "Python 3",
   "language": "python",
   "name": "python3"
  },
  "language_info": {
   "codemirror_mode": {
    "name": "ipython",
    "version": 3
   },
   "file_extension": ".py",
   "mimetype": "text/x-python",
   "name": "python",
   "nbconvert_exporter": "python",
   "pygments_lexer": "ipython3",
   "version": "3.8.5"
  }
 },
 "nbformat": 4,
 "nbformat_minor": 4
}
