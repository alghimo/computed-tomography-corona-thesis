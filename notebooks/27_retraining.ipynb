{
 "cells": [
  {
   "cell_type": "markdown",
   "metadata": {},
   "source": [
    "# Notebook Initialization"
   ]
  },
  {
   "cell_type": "code",
   "execution_count": 11,
   "metadata": {},
   "outputs": [
    {
     "name": "stdout",
     "output_type": "stream",
     "text": [
      "The autoreload extension is already loaded. To reload it, use:\n",
      "  %reload_ext autoreload\n"
     ]
    }
   ],
   "source": [
    "# %load nb_init.py\n",
    "\n",
    "from pathlib import Path\n",
    "import pandas as pd\n",
    "\n",
    "base_dir = Path.cwd().parent\n",
    "config_dir = base_dir / \"config\"\n",
    "data_dir = base_dir / \"data\"\n",
    "docs_dir = base_dir / \"docs\"\n",
    "figures_dir = docs_dir / \"figures\"\n",
    "models_dir = base_dir / \"models\"\n",
    "logs_dir = base_dir / \"logs\"\n",
    "images_input_dir = data_dir / \"COVID19\"\n",
    "images_pp_dir = data_dir / \"COVID19-preprocessed\"\n",
    "preprocessed_dir = data_dir / \"preprocessed\"\n",
    "output_dir = data_dir / \"output\"\n",
    "\n",
    "# Directories used to train the CNN (image by image) \n",
    "cnn_data_dir = data_dir / \"modelling\" / \"cnn\"\n",
    "cnn_train_dir = cnn_data_dir / \"train\"\n",
    "cnn_test_dir = cnn_data_dir / \"test\"\n",
    "\n",
    "metadata_file = images_input_dir / \"metadata.csv\"\n",
    "labels_file = images_input_dir / \"unzip_filenames.csv\"\n",
    "preprocessed_labels_file = preprocessed_dir / \"labels.parquet\"\n",
    "\n",
    "feature_extractor_model_file = models_dir / \"feature_extractor.tf\"\n",
    "\n",
    "from pyspark.sql import SparkSession\n",
    "from pyspark.sql import functions as F\n",
    "\n",
    "spark = SparkSession.builder.getOrCreate()\n",
    "\n",
    "config_file = config_dir / \"tfg.conf\"\n",
    "\n",
    "from pyhocon import ConfigFactory\n",
    "config = None\n",
    "\n",
    "def load_config():\n",
    "    return ConfigFactory.parse_file(config_file)\n",
    "\n",
    "config = load_config()\n",
    "    \n",
    "import sys\n",
    "\n",
    "if str(base_dir / \"src\") not in sys.path:\n",
    "    sys.path.append(str(base_dir / \"src\"))\n",
    "\n",
    "%load_ext autoreload\n",
    "\n",
    "%autoreload 2"
   ]
  },
  {
   "cell_type": "code",
   "execution_count": 2,
   "metadata": {},
   "outputs": [
    {
     "data": {
      "text/html": [
       "\n",
       "            <div>\n",
       "                <p><b>SparkSession - in-memory</b></p>\n",
       "                \n",
       "        <div>\n",
       "            <p><b>SparkContext</b></p>\n",
       "\n",
       "            <p><a href=\"http://192.168.0.235:4040\">Spark UI</a></p>\n",
       "\n",
       "            <dl>\n",
       "              <dt>Version</dt>\n",
       "                <dd><code>v3.0.1</code></dd>\n",
       "              <dt>Master</dt>\n",
       "                <dd><code>local[*]</code></dd>\n",
       "              <dt>AppName</dt>\n",
       "                <dd><code>pyspark-shell</code></dd>\n",
       "            </dl>\n",
       "        </div>\n",
       "        \n",
       "            </div>\n",
       "        "
      ],
      "text/plain": [
       "<pyspark.sql.session.SparkSession at 0x7f4ad6982430>"
      ]
     },
     "execution_count": 2,
     "metadata": {},
     "output_type": "execute_result"
    }
   ],
   "source": [
    "spark"
   ]
  },
  {
   "cell_type": "code",
   "execution_count": 3,
   "metadata": {},
   "outputs": [],
   "source": [
    "from tfg import DataRepository\n",
    "\n",
    "repo = DataRepository(config=config, base_data_path=data_dir)"
   ]
  },
  {
   "cell_type": "markdown",
   "metadata": {},
   "source": [
    "# Load Datasets"
   ]
  },
  {
   "cell_type": "code",
   "execution_count": 4,
   "metadata": {},
   "outputs": [
    {
     "data": {
      "text/html": [
       "<div>\n",
       "<style scoped>\n",
       "    .dataframe tbody tr th:only-of-type {\n",
       "        vertical-align: middle;\n",
       "    }\n",
       "\n",
       "    .dataframe tbody tr th {\n",
       "        vertical-align: top;\n",
       "    }\n",
       "\n",
       "    .dataframe thead th {\n",
       "        text-align: right;\n",
       "    }\n",
       "</style>\n",
       "<table border=\"1\" class=\"dataframe\">\n",
       "  <thead>\n",
       "    <tr style=\"text-align: right;\">\n",
       "      <th></th>\n",
       "      <th>label</th>\n",
       "      <th>file</th>\n",
       "      <th>patient_id</th>\n",
       "      <th>scan_id</th>\n",
       "      <th>n_slice</th>\n",
       "      <th>num_clips</th>\n",
       "      <th>seq_num</th>\n",
       "      <th>clip_num</th>\n",
       "    </tr>\n",
       "  </thead>\n",
       "  <tbody>\n",
       "    <tr>\n",
       "      <th>0</th>\n",
       "      <td>CP</td>\n",
       "      <td>CP/0/3131/0275.png</td>\n",
       "      <td>0</td>\n",
       "      <td>3131</td>\n",
       "      <td>285</td>\n",
       "      <td>0</td>\n",
       "      <td>0</td>\n",
       "      <td>0</td>\n",
       "    </tr>\n",
       "    <tr>\n",
       "      <th>1</th>\n",
       "      <td>CP</td>\n",
       "      <td>CP/0/3131/0064.png</td>\n",
       "      <td>0</td>\n",
       "      <td>3131</td>\n",
       "      <td>285</td>\n",
       "      <td>0</td>\n",
       "      <td>1</td>\n",
       "      <td>0</td>\n",
       "    </tr>\n",
       "    <tr>\n",
       "      <th>2</th>\n",
       "      <td>CP</td>\n",
       "      <td>CP/0/3131/0083.png</td>\n",
       "      <td>0</td>\n",
       "      <td>3131</td>\n",
       "      <td>285</td>\n",
       "      <td>0</td>\n",
       "      <td>2</td>\n",
       "      <td>0</td>\n",
       "    </tr>\n",
       "    <tr>\n",
       "      <th>3</th>\n",
       "      <td>CP</td>\n",
       "      <td>CP/0/3131/0160.png</td>\n",
       "      <td>0</td>\n",
       "      <td>3131</td>\n",
       "      <td>285</td>\n",
       "      <td>0</td>\n",
       "      <td>3</td>\n",
       "      <td>0</td>\n",
       "    </tr>\n",
       "    <tr>\n",
       "      <th>4</th>\n",
       "      <td>CP</td>\n",
       "      <td>CP/0/3131/0127.png</td>\n",
       "      <td>0</td>\n",
       "      <td>3131</td>\n",
       "      <td>285</td>\n",
       "      <td>0</td>\n",
       "      <td>4</td>\n",
       "      <td>0</td>\n",
       "    </tr>\n",
       "  </tbody>\n",
       "</table>\n",
       "</div>"
      ],
      "text/plain": [
       "  label                file  patient_id  scan_id  n_slice  num_clips  seq_num  \\\n",
       "0    CP  CP/0/3131/0275.png           0     3131      285          0        0   \n",
       "1    CP  CP/0/3131/0064.png           0     3131      285          0        1   \n",
       "2    CP  CP/0/3131/0083.png           0     3131      285          0        2   \n",
       "3    CP  CP/0/3131/0160.png           0     3131      285          0        3   \n",
       "4    CP  CP/0/3131/0127.png           0     3131      285          0        4   \n",
       "\n",
       "   clip_num  \n",
       "0         0  \n",
       "1         0  \n",
       "2         0  \n",
       "3         0  \n",
       "4         0  "
      ]
     },
     "execution_count": 4,
     "metadata": {},
     "output_type": "execute_result"
    }
   ],
   "source": [
    "train_df = repo.load(\"train_df\")\n",
    "train_df.head(5)"
   ]
  },
  {
   "cell_type": "code",
   "execution_count": 5,
   "metadata": {},
   "outputs": [
    {
     "data": {
      "text/html": [
       "<div>\n",
       "<style scoped>\n",
       "    .dataframe tbody tr th:only-of-type {\n",
       "        vertical-align: middle;\n",
       "    }\n",
       "\n",
       "    .dataframe tbody tr th {\n",
       "        vertical-align: top;\n",
       "    }\n",
       "\n",
       "    .dataframe thead th {\n",
       "        text-align: right;\n",
       "    }\n",
       "</style>\n",
       "<table border=\"1\" class=\"dataframe\">\n",
       "  <thead>\n",
       "    <tr style=\"text-align: right;\">\n",
       "      <th></th>\n",
       "      <th>label</th>\n",
       "      <th>file</th>\n",
       "      <th>patient_id</th>\n",
       "      <th>scan_id</th>\n",
       "      <th>n_slice</th>\n",
       "      <th>num_clips</th>\n",
       "      <th>seq_num</th>\n",
       "      <th>clip_num</th>\n",
       "    </tr>\n",
       "  </thead>\n",
       "  <tbody>\n",
       "    <tr>\n",
       "      <th>0</th>\n",
       "      <td>CP</td>\n",
       "      <td>CP/1075/3118/0543.jpg</td>\n",
       "      <td>1075</td>\n",
       "      <td>3118</td>\n",
       "      <td>553</td>\n",
       "      <td>1075</td>\n",
       "      <td>0</td>\n",
       "      <td>0</td>\n",
       "    </tr>\n",
       "    <tr>\n",
       "      <th>1</th>\n",
       "      <td>CP</td>\n",
       "      <td>CP/1075/3118/0174.jpg</td>\n",
       "      <td>1075</td>\n",
       "      <td>3118</td>\n",
       "      <td>553</td>\n",
       "      <td>1075</td>\n",
       "      <td>1</td>\n",
       "      <td>0</td>\n",
       "    </tr>\n",
       "    <tr>\n",
       "      <th>2</th>\n",
       "      <td>CP</td>\n",
       "      <td>CP/1075/3118/0130.jpg</td>\n",
       "      <td>1075</td>\n",
       "      <td>3118</td>\n",
       "      <td>553</td>\n",
       "      <td>1075</td>\n",
       "      <td>2</td>\n",
       "      <td>0</td>\n",
       "    </tr>\n",
       "    <tr>\n",
       "      <th>3</th>\n",
       "      <td>CP</td>\n",
       "      <td>CP/1075/3118/0525.jpg</td>\n",
       "      <td>1075</td>\n",
       "      <td>3118</td>\n",
       "      <td>553</td>\n",
       "      <td>1075</td>\n",
       "      <td>3</td>\n",
       "      <td>0</td>\n",
       "    </tr>\n",
       "    <tr>\n",
       "      <th>4</th>\n",
       "      <td>CP</td>\n",
       "      <td>CP/1075/3118/0152.jpg</td>\n",
       "      <td>1075</td>\n",
       "      <td>3118</td>\n",
       "      <td>553</td>\n",
       "      <td>1075</td>\n",
       "      <td>4</td>\n",
       "      <td>0</td>\n",
       "    </tr>\n",
       "  </tbody>\n",
       "</table>\n",
       "</div>"
      ],
      "text/plain": [
       "  label                   file  patient_id  scan_id  n_slice  num_clips  \\\n",
       "0    CP  CP/1075/3118/0543.jpg        1075     3118      553       1075   \n",
       "1    CP  CP/1075/3118/0174.jpg        1075     3118      553       1075   \n",
       "2    CP  CP/1075/3118/0130.jpg        1075     3118      553       1075   \n",
       "3    CP  CP/1075/3118/0525.jpg        1075     3118      553       1075   \n",
       "4    CP  CP/1075/3118/0152.jpg        1075     3118      553       1075   \n",
       "\n",
       "   seq_num  clip_num  \n",
       "0        0         0  \n",
       "1        1         0  \n",
       "2        2         0  \n",
       "3        3         0  \n",
       "4        4         0  "
      ]
     },
     "execution_count": 5,
     "metadata": {},
     "output_type": "execute_result"
    }
   ],
   "source": [
    "val_df = repo.load(\"val_df\")\n",
    "val_df.head(5)"
   ]
  },
  {
   "cell_type": "markdown",
   "metadata": {},
   "source": [
    "# Data Generators"
   ]
  },
  {
   "cell_type": "code",
   "execution_count": 6,
   "metadata": {},
   "outputs": [],
   "source": [
    "from keras_preprocessing.image import ImageDataGenerator"
   ]
  },
  {
   "cell_type": "code",
   "execution_count": 15,
   "metadata": {},
   "outputs": [],
   "source": [
    "img_size = config.get_int(\"tfg.training.img_size\")\n",
    "image_target_size = (img_size, img_size)\n",
    "seed = config.get_int(\"tfg.seed\")\n",
    "val_fraction = config.get_float(\"tfg.training.val_fraction\")\n",
    "batch_size = config.get_int(\"tfg.training.batch_size\")\n",
    "rotation_range = config.get_int(\"tfg.training.rotation_range\", 0)\n",
    "zoom_range = config.get(\"tfg.training.zoom_range\", 1.)"
   ]
  },
  {
   "cell_type": "code",
   "execution_count": 17,
   "metadata": {},
   "outputs": [],
   "source": [
    "train_datagen = ImageDataGenerator(\n",
    "    rescale=1./255.,\n",
    "    rotation_range=rotation_range,\n",
    "    zoom_range=zoom_range\n",
    ")\n",
    "test_datagen = ImageDataGenerator(\n",
    "    rescale=1./255.,\n",
    ")"
   ]
  },
  {
   "cell_type": "code",
   "execution_count": 18,
   "metadata": {},
   "outputs": [
    {
     "name": "stdout",
     "output_type": "stream",
     "text": [
      "Found 331286 validated image filenames belonging to 3 classes.\n",
      "Found 39828 validated image filenames belonging to 3 classes.\n"
     ]
    }
   ],
   "source": [
    "train_generator = train_datagen.flow_from_dataframe(\n",
    "    dataframe=train_df,\n",
    "    directory=str(images_input_dir),\n",
    "    x_col=\"file\",\n",
    "    y_col=\"label\",\n",
    "    subset=\"training\",\n",
    "    batch_size=batch_size,\n",
    "    seed=seed,\n",
    "    shuffle=True,\n",
    "    class_mode=\"categorical\",\n",
    "    target_size=image_target_size)\n",
    "\n",
    "valid_generator = test_datagen.flow_from_dataframe(\n",
    "    dataframe=val_df,\n",
    "    directory=str(images_input_dir),\n",
    "    x_col=\"file\",\n",
    "    y_col=\"label\",\n",
    "    batch_size=batch_size,\n",
    "    seed=seed,\n",
    "    shuffle=True,\n",
    "    class_mode=\"categorical\",\n",
    "    target_size=image_target_size)"
   ]
  },
  {
   "cell_type": "markdown",
   "metadata": {},
   "source": [
    "# Create model"
   ]
  },
  {
   "cell_type": "code",
   "execution_count": 19,
   "metadata": {},
   "outputs": [
    {
     "data": {
      "text/plain": [
       "[PhysicalDevice(name='/physical_device:GPU:0', device_type='GPU')]"
      ]
     },
     "execution_count": 19,
     "metadata": {},
     "output_type": "execute_result"
    }
   ],
   "source": [
    "import tensorflow as tf\n",
    "\n",
    "tf.config.list_physical_devices(\"GPU\")"
   ]
  },
  {
   "cell_type": "code",
   "execution_count": 20,
   "metadata": {},
   "outputs": [],
   "source": [
    "from tensorflow import keras\n",
    "from tensorflow.keras import layers\n",
    "from tensorflow.keras import regularizers as reg\n",
    "from tensorflow.keras import callbacks"
   ]
  },
  {
   "cell_type": "code",
   "execution_count": 21,
   "metadata": {},
   "outputs": [],
   "source": [
    "input_images = keras.Input(shape=(img_size, img_size, 3), name=\"input_images\")"
   ]
  },
  {
   "cell_type": "code",
   "execution_count": 24,
   "metadata": {},
   "outputs": [
    {
     "name": "stdout",
     "output_type": "stream",
     "text": [
      "Model: \"covid_classifier\"\n",
      "_________________________________________________________________\n",
      "Layer (type)                 Output Shape              Param #   \n",
      "=================================================================\n",
      "input_images (InputLayer)    [(None, 128, 128, 3)]     0         \n",
      "_________________________________________________________________\n",
      "conv2d_01 (Conv2D)           (None, 128, 128, 6)       168       \n",
      "_________________________________________________________________\n",
      "maxpool2d_01 (MaxPooling2D)  (None, 64, 64, 6)         0         \n",
      "_________________________________________________________________\n",
      "conv2d_02 (Conv2D)           (None, 64, 64, 12)        660       \n",
      "_________________________________________________________________\n",
      "maxpool2d_02 (MaxPooling2D)  (None, 32, 32, 12)        0         \n",
      "_________________________________________________________________\n",
      "conv2d_03 (Conv2D)           (None, 32, 32, 24)        2616      \n",
      "_________________________________________________________________\n",
      "maxpool2d_03 (MaxPooling2D)  (None, 16, 16, 24)        0         \n",
      "_________________________________________________________________\n",
      "conv2d_04 (Conv2D)           (None, 16, 16, 48)        10416     \n",
      "_________________________________________________________________\n",
      "maxpool2d_04 (MaxPooling2D)  (None, 8, 8, 48)          0         \n",
      "_________________________________________________________________\n",
      "conv2d_05 (Conv2D)           (None, 8, 8, 96)          41568     \n",
      "_________________________________________________________________\n",
      "dropout__05 (Dropout)        (None, 8, 8, 96)          0         \n",
      "_________________________________________________________________\n",
      "maxpool2d_05 (MaxPooling2D)  (None, 4, 4, 96)          0         \n",
      "_________________________________________________________________\n",
      "flatten (Flatten)            (None, 1536)              0         \n",
      "_________________________________________________________________\n",
      "dense_01 (Dense)             (None, 64)                98368     \n",
      "_________________________________________________________________\n",
      "dropout_01 (Dropout)         (None, 64)                0         \n",
      "_________________________________________________________________\n",
      "dense_02 (Dense)             (None, 32)                2080      \n",
      "_________________________________________________________________\n",
      "dropout_02 (Dropout)         (None, 32)                0         \n",
      "_________________________________________________________________\n",
      "output (Dense)               (None, 3)                 99        \n",
      "=================================================================\n",
      "Total params: 155,975\n",
      "Trainable params: 155,975\n",
      "Non-trainable params: 0\n",
      "_________________________________________________________________\n"
     ]
    }
   ],
   "source": [
    "filters = 6\n",
    "initial_dense_features = 64\n",
    "num_features = 32\n",
    "num_classes = 3\n",
    "num_layers = 0\n",
    "cnn_net = input_images\n",
    "\n",
    "cnn_net = layers.Conv2D(filters=filters, kernel_size=3, padding=\"same\", activation=\"relu\", name=f\"conv2d_{num_layers+1:02d}\")(cnn_net)\n",
    "cnn_net = layers.MaxPool2D(2, name=f\"maxpool2d_{num_layers+1:02d}\")(cnn_net)\n",
    "filters = filters * 2\n",
    "num_layers = num_layers + 1\n",
    "\n",
    "cnn_net = layers.Conv2D(filters=filters, kernel_size=3, padding=\"same\", activation=\"relu\", name=f\"conv2d_{num_layers+1:02d}\")(cnn_net)\n",
    "cnn_net = layers.MaxPool2D(2, name=f\"maxpool2d_{num_layers+1:02d}\")(cnn_net)\n",
    "filters = filters * 2\n",
    "num_layers = num_layers + 1\n",
    "\n",
    "cnn_net = layers.Conv2D(filters=filters, kernel_size=3, padding=\"same\", activation=\"relu\", name=f\"conv2d_{num_layers+1:02d}\")(cnn_net)\n",
    "cnn_net = layers.MaxPool2D(2, name=f\"maxpool2d_{num_layers+1:02d}\")(cnn_net)\n",
    "filters = filters * 2\n",
    "num_layers = num_layers + 1\n",
    "\n",
    "cnn_net = layers.Conv2D(filters=filters, kernel_size=3, padding=\"same\", activation=\"relu\", name=f\"conv2d_{num_layers+1:02d}\")(cnn_net)\n",
    "cnn_net = layers.MaxPool2D(2, name=f\"maxpool2d_{num_layers+1:02d}\")(cnn_net)\n",
    "filters = filters * 2\n",
    "num_layers = num_layers + 1\n",
    "\n",
    "cnn_net = layers.Conv2D(filters=filters, kernel_size=3, padding=\"same\", activation=\"relu\", name=f\"conv2d_{num_layers+1:02d}\", kernel_regularizer=reg.l2(l=0.01))(cnn_net)\n",
    "cnn_net = layers.Dropout(0.3, name=f\"dropout__{num_layers+1:02d}\")(cnn_net)\n",
    "cnn_net = layers.MaxPool2D(2, name=f\"maxpool2d_{num_layers+1:02d}\")(cnn_net)\n",
    "filters = filters * 2\n",
    "num_layers = num_layers + 1\n",
    "\n",
    "# cnn_net = layers.Conv2D(filters=filters, kernel_size=3, padding=\"same\", activation=\"relu\", name=f\"conv2d_{num_layers+1:02d}\", kernel_regularizer=reg.l2(l=0.01))(cnn_net)\n",
    "# cnn_net = layers.Dropout(0.3, name=f\"dropout__{num_layers+1:02d}\")(cnn_net)\n",
    "# cnn_net = layers.MaxPool2D(2, name=f\"maxpool2d_{num_layers+1:02d}\")(cnn_net)\n",
    "# filters = filters * 2\n",
    "# num_layers = num_layers + 1\n",
    "\n",
    "# cnn_net = layers.Conv2D(filters=filters, kernel_size=3, padding=\"same\", activation=\"relu\", name=f\"conv2d_{num_layers+1:02d}\", kernel_regularizer=reg.l2(l=0.01))(cnn_net)\n",
    "# cnn_net = layers.MaxPool2D(2, name=f\"maxpool2d_{num_layers+1:02d}\")(cnn_net)\n",
    "# num_layers = num_layers + 1\n",
    "\n",
    "cnn_net = layers.Flatten(name=f\"flatten\")(cnn_net)\n",
    "\n",
    "# cnn_net = layers.Dense(initial_dense_features, activation=\"relu\", name=\"dense_01\")(cnn_net)\n",
    "# cnn_net = layers.Dropout(0.2, name=\"dropout_01\")(cnn_net)\n",
    "\n",
    "cnn_net = layers.Dense(initial_dense_features, activation=\"relu\", name=\"dense_01\")(cnn_net)\n",
    "cnn_net = layers.Dropout(0.5, name=\"dropout_01\")(cnn_net)\n",
    "\n",
    "\n",
    "cnn_net = layers.Dense(num_features, activation=\"relu\", name=\"dense_02\")(cnn_net)\n",
    "cnn_net = layers.Dropout(0.5, name=\"dropout_02\")(cnn_net)\n",
    "\n",
    "output_layer = layers.Dense(num_classes, activation=\"softmax\", name=\"output\")\n",
    "outputs = output_layer(cnn_net)\n",
    "\n",
    "model = keras.Model(inputs=input_images, outputs=outputs, name=\"covid_classifier\")\n",
    "model.summary()"
   ]
  },
  {
   "cell_type": "code",
   "execution_count": 25,
   "metadata": {},
   "outputs": [],
   "source": [
    "model.compile(optimizer='adam',\n",
    "              loss=\"categorical_crossentropy\",\n",
    "              metrics=['categorical_accuracy'])"
   ]
  },
  {
   "cell_type": "code",
   "execution_count": 26,
   "metadata": {},
   "outputs": [
    {
     "data": {
      "text/plain": [
       "10352"
      ]
     },
     "execution_count": 26,
     "metadata": {},
     "output_type": "execute_result"
    }
   ],
   "source": [
    "train_generator.n // train_generator.batch_size"
   ]
  },
  {
   "cell_type": "code",
   "execution_count": 27,
   "metadata": {},
   "outputs": [
    {
     "name": "stdout",
     "output_type": "stream",
     "text": [
      "CNN Model dir: /home/albert/projects/tfg/models/cnn_06\n"
     ]
    }
   ],
   "source": [
    "num_models = 1\n",
    "cnn_model_suffix = f\"{num_models:02d}\"\n",
    "cnn_model_dir = models_dir / f\"cnn_{cnn_model_suffix}\"\n",
    "\n",
    "while cnn_model_dir.exists():\n",
    "    num_models += 1\n",
    "    cnn_model_suffix = f\"{num_models:02d}\"\n",
    "    cnn_model_dir = models_dir / f\"cnn_{cnn_model_suffix}\"\n",
    "\n",
    "print(f\"CNN Model dir: {cnn_model_dir}\")\n",
    "cnn_model_dir.mkdir(exist_ok=True)\n",
    "cnn_checkpoint_dir = cnn_model_dir / \"checkpoint\"\n",
    "cnn_checkpoint_dir.mkdir(exist_ok=True)\n",
    "\n",
    "cnn_logs_dir = logs_dir / f\"cnn_{cnn_model_suffix}\"\n",
    "cnn_logs_dir.mkdir()"
   ]
  },
  {
   "cell_type": "code",
   "execution_count": 28,
   "metadata": {},
   "outputs": [],
   "source": [
    "checkpointer = callbacks.ModelCheckpoint(\n",
    "    str(cnn_checkpoint_dir),\n",
    "    monitor=\"val_categorical_accuracy\",\n",
    "    verbose=1,\n",
    "    save_best_only=True,\n",
    "    save_weights_only=False,\n",
    "    mode=\"auto\",\n",
    "    save_freq=\"epoch\"\n",
    ")\n",
    "\n",
    "tensorboard_logger = callbacks.TensorBoard(\n",
    "    log_dir=str(cnn_logs_dir),\n",
    "    histogram_freq=1,\n",
    "    write_graph=False,\n",
    "    write_images=False,\n",
    "    update_freq='epoch',\n",
    "    profile_batch=2,\n",
    "    embeddings_freq=0,\n",
    "    embeddings_metadata=None\n",
    ")\n",
    "\n",
    "model_callbacks = [checkpointer, tensorboard_logger]\n",
    "#model_callbacks = [checkpointer]"
   ]
  },
  {
   "cell_type": "code",
   "execution_count": 29,
   "metadata": {},
   "outputs": [
    {
     "name": "stdout",
     "output_type": "stream",
     "text": [
      "WARNING:tensorflow:From <ipython-input-29-696cb10bc10c>:12: Model.fit_generator (from tensorflow.python.keras.engine.training) is deprecated and will be removed in a future version.\n",
      "Instructions for updating:\n",
      "Please use Model.fit, which supports generators.\n",
      "Epoch 1/50\n",
      "2070/2070 [==============================] - ETA: 0s - loss: 0.7944 - categorical_accuracy: 0.6714\n",
      "Epoch 00001: val_categorical_accuracy improved from -inf to 0.70888, saving model to /home/albert/projects/tfg/models/cnn_06/checkpoint\n",
      "WARNING:tensorflow:From /home/albert/anaconda3/envs/tfg/lib/python3.8/site-packages/tensorflow/python/ops/resource_variable_ops.py:1813: calling BaseResourceVariable.__init__ (from tensorflow.python.ops.resource_variable_ops) with constraint is deprecated and will be removed in a future version.\n",
      "Instructions for updating:\n",
      "If using Keras pass *_constraint arguments to layers.\n",
      "INFO:tensorflow:Assets written to: /home/albert/projects/tfg/models/cnn_06/checkpoint/assets\n",
      "2070/2070 [==============================] - 2241s 1s/step - loss: 0.7944 - categorical_accuracy: 0.6714 - val_loss: 0.7091 - val_categorical_accuracy: 0.7089\n",
      "Epoch 2/50\n",
      "2070/2070 [==============================] - ETA: 0s - loss: 0.5761 - categorical_accuracy: 0.7870\n",
      "Epoch 00002: val_categorical_accuracy improved from 0.70888 to 0.78675, saving model to /home/albert/projects/tfg/models/cnn_06/checkpoint\n",
      "INFO:tensorflow:Assets written to: /home/albert/projects/tfg/models/cnn_06/checkpoint/assets\n",
      "2070/2070 [==============================] - 1755s 848ms/step - loss: 0.5761 - categorical_accuracy: 0.7870 - val_loss: 0.5763 - val_categorical_accuracy: 0.7868\n",
      "Epoch 3/50\n",
      "2070/2070 [==============================] - ETA: 0s - loss: 0.5286 - categorical_accuracy: 0.8060\n",
      "Epoch 00003: val_categorical_accuracy improved from 0.78675 to 0.83184, saving model to /home/albert/projects/tfg/models/cnn_06/checkpoint\n",
      "INFO:tensorflow:Assets written to: /home/albert/projects/tfg/models/cnn_06/checkpoint/assets\n",
      "2070/2070 [==============================] - 1765s 853ms/step - loss: 0.5286 - categorical_accuracy: 0.8060 - val_loss: 0.4276 - val_categorical_accuracy: 0.8318\n",
      "Epoch 4/50\n",
      "2070/2070 [==============================] - ETA: 0s - loss: 0.5019 - categorical_accuracy: 0.8141\n",
      "Epoch 00004: val_categorical_accuracy improved from 0.83184 to 0.85782, saving model to /home/albert/projects/tfg/models/cnn_06/checkpoint\n",
      "INFO:tensorflow:Assets written to: /home/albert/projects/tfg/models/cnn_06/checkpoint/assets\n",
      "2070/2070 [==============================] - 1754s 847ms/step - loss: 0.5019 - categorical_accuracy: 0.8141 - val_loss: 0.3934 - val_categorical_accuracy: 0.8578\n",
      "Epoch 5/50\n",
      "2070/2070 [==============================] - ETA: 0s - loss: 0.4710 - categorical_accuracy: 0.8238\n",
      "Epoch 00005: val_categorical_accuracy did not improve from 0.85782\n",
      "2070/2070 [==============================] - 1755s 848ms/step - loss: 0.4710 - categorical_accuracy: 0.8238 - val_loss: 0.4483 - val_categorical_accuracy: 0.8306\n",
      "Epoch 6/50\n",
      "2070/2070 [==============================] - ETA: 0s - loss: 0.4526 - categorical_accuracy: 0.8312\n",
      "Epoch 00006: val_categorical_accuracy did not improve from 0.85782\n",
      "2070/2070 [==============================] - 1297s 627ms/step - loss: 0.4526 - categorical_accuracy: 0.8312 - val_loss: 0.4625 - val_categorical_accuracy: 0.8283\n",
      "Epoch 7/50\n",
      "2070/2070 [==============================] - ETA: 0s - loss: 0.4326 - categorical_accuracy: 0.8374\n",
      "Epoch 00007: val_categorical_accuracy did not improve from 0.85782\n",
      "2070/2070 [==============================] - 1524s 736ms/step - loss: 0.4326 - categorical_accuracy: 0.8374 - val_loss: 0.4197 - val_categorical_accuracy: 0.8431\n",
      "Epoch 8/50\n",
      "2070/2070 [==============================] - ETA: 0s - loss: 0.4233 - categorical_accuracy: 0.8420\n",
      "Epoch 00008: val_categorical_accuracy did not improve from 0.85782\n",
      "2070/2070 [==============================] - 1658s 801ms/step - loss: 0.4233 - categorical_accuracy: 0.8420 - val_loss: 0.4361 - val_categorical_accuracy: 0.8360\n",
      "Epoch 9/50\n",
      "2070/2070 [==============================] - ETA: 0s - loss: 0.4205 - categorical_accuracy: 0.8430\n",
      "Epoch 00009: val_categorical_accuracy did not improve from 0.85782\n",
      "2070/2070 [==============================] - 1659s 801ms/step - loss: 0.4205 - categorical_accuracy: 0.8430 - val_loss: 0.4532 - val_categorical_accuracy: 0.8065\n",
      "Epoch 10/50\n",
      "2070/2070 [==============================] - ETA: 0s - loss: 0.4069 - categorical_accuracy: 0.8520\n",
      "Epoch 00010: val_categorical_accuracy did not improve from 0.85782\n",
      "2070/2070 [==============================] - 1668s 806ms/step - loss: 0.4069 - categorical_accuracy: 0.8520 - val_loss: 0.4536 - val_categorical_accuracy: 0.8285\n",
      "Epoch 11/50\n",
      "2070/2070 [==============================] - ETA: 0s - loss: 0.3993 - categorical_accuracy: 0.8562\n",
      "Epoch 00011: val_categorical_accuracy did not improve from 0.85782\n",
      "2070/2070 [==============================] - 1284s 620ms/step - loss: 0.3993 - categorical_accuracy: 0.8562 - val_loss: 0.5402 - val_categorical_accuracy: 0.8088\n",
      "Epoch 12/50\n",
      "2070/2070 [==============================] - ETA: 0s - loss: 0.3866 - categorical_accuracy: 0.8612\n",
      "Epoch 00012: val_categorical_accuracy improved from 0.85782 to 0.86518, saving model to /home/albert/projects/tfg/models/cnn_06/checkpoint\n",
      "INFO:tensorflow:Assets written to: /home/albert/projects/tfg/models/cnn_06/checkpoint/assets\n",
      "2070/2070 [==============================] - 1514s 731ms/step - loss: 0.3866 - categorical_accuracy: 0.8612 - val_loss: 0.3614 - val_categorical_accuracy: 0.8652\n",
      "Epoch 13/50\n",
      "2070/2070 [==============================] - ETA: 0s - loss: 0.3816 - categorical_accuracy: 0.8631\n",
      "Epoch 00013: val_categorical_accuracy did not improve from 0.86518\n",
      "2070/2070 [==============================] - 1664s 804ms/step - loss: 0.3816 - categorical_accuracy: 0.8631 - val_loss: 0.3725 - val_categorical_accuracy: 0.8516\n",
      "Epoch 14/50\n",
      "2070/2070 [==============================] - ETA: 0s - loss: 0.3769 - categorical_accuracy: 0.8648\n",
      "Epoch 00014: val_categorical_accuracy did not improve from 0.86518\n",
      "2070/2070 [==============================] - 1659s 801ms/step - loss: 0.3769 - categorical_accuracy: 0.8648 - val_loss: 0.6317 - val_categorical_accuracy: 0.7790\n",
      "Epoch 15/50\n",
      "2070/2070 [==============================] - ETA: 0s - loss: 0.3644 - categorical_accuracy: 0.8729\n",
      "Epoch 00015: val_categorical_accuracy did not improve from 0.86518\n",
      "2070/2070 [==============================] - 1665s 805ms/step - loss: 0.3644 - categorical_accuracy: 0.8729 - val_loss: 0.3372 - val_categorical_accuracy: 0.8649\n",
      "Epoch 16/50\n",
      "2070/2070 [==============================] - ETA: 0s - loss: 0.3633 - categorical_accuracy: 0.8717\n",
      "Epoch 00016: val_categorical_accuracy did not improve from 0.86518\n",
      "2070/2070 [==============================] - 1286s 621ms/step - loss: 0.3633 - categorical_accuracy: 0.8717 - val_loss: 0.5790 - val_categorical_accuracy: 0.7932\n",
      "Epoch 17/50\n",
      "2070/2070 [==============================] - ETA: 0s - loss: 0.3626 - categorical_accuracy: 0.8726\n",
      "Epoch 00017: val_categorical_accuracy did not improve from 0.86518\n",
      "2070/2070 [==============================] - 1514s 731ms/step - loss: 0.3626 - categorical_accuracy: 0.8726 - val_loss: 0.5401 - val_categorical_accuracy: 0.8228\n",
      "Epoch 18/50\n",
      "2070/2070 [==============================] - ETA: 0s - loss: 0.3601 - categorical_accuracy: 0.8741\n",
      "Epoch 00018: val_categorical_accuracy did not improve from 0.86518\n",
      "2070/2070 [==============================] - 1654s 799ms/step - loss: 0.3601 - categorical_accuracy: 0.8741 - val_loss: 0.8592 - val_categorical_accuracy: 0.7078\n",
      "Epoch 19/50\n",
      "2070/2070 [==============================] - ETA: 0s - loss: 0.3523 - categorical_accuracy: 0.8764\n",
      "Epoch 00019: val_categorical_accuracy did not improve from 0.86518\n",
      "2070/2070 [==============================] - 1654s 799ms/step - loss: 0.3523 - categorical_accuracy: 0.8764 - val_loss: 0.4176 - val_categorical_accuracy: 0.8488\n",
      "Epoch 20/50\n",
      "2070/2070 [==============================] - ETA: 0s - loss: 0.3514 - categorical_accuracy: 0.8771\n",
      "Epoch 00020: val_categorical_accuracy did not improve from 0.86518\n",
      "2070/2070 [==============================] - 1667s 805ms/step - loss: 0.3514 - categorical_accuracy: 0.8771 - val_loss: 0.3936 - val_categorical_accuracy: 0.8613\n",
      "Epoch 21/50\n",
      "2070/2070 [==============================] - ETA: 0s - loss: 0.3457 - categorical_accuracy: 0.8794\n",
      "Epoch 00021: val_categorical_accuracy did not improve from 0.86518\n",
      "2070/2070 [==============================] - 1284s 620ms/step - loss: 0.3457 - categorical_accuracy: 0.8794 - val_loss: 0.5029 - val_categorical_accuracy: 0.7914\n",
      "Epoch 22/50\n",
      "2070/2070 [==============================] - ETA: 0s - loss: 0.3385 - categorical_accuracy: 0.8824\n",
      "Epoch 00022: val_categorical_accuracy improved from 0.86518 to 0.87128, saving model to /home/albert/projects/tfg/models/cnn_06/checkpoint\n",
      "INFO:tensorflow:Assets written to: /home/albert/projects/tfg/models/cnn_06/checkpoint/assets\n",
      "2070/2070 [==============================] - 1508s 728ms/step - loss: 0.3385 - categorical_accuracy: 0.8824 - val_loss: 0.3625 - val_categorical_accuracy: 0.8713\n",
      "Epoch 23/50\n",
      "2070/2070 [==============================] - ETA: 0s - loss: 0.3458 - categorical_accuracy: 0.8804\n",
      "Epoch 00023: val_categorical_accuracy did not improve from 0.87128\n",
      "2070/2070 [==============================] - 1654s 799ms/step - loss: 0.3458 - categorical_accuracy: 0.8804 - val_loss: 0.4742 - val_categorical_accuracy: 0.8489\n",
      "Epoch 24/50\n",
      "2070/2070 [==============================] - ETA: 0s - loss: 0.3369 - categorical_accuracy: 0.8840\n",
      "Epoch 00024: val_categorical_accuracy improved from 0.87128 to 0.88085, saving model to /home/albert/projects/tfg/models/cnn_06/checkpoint\n",
      "INFO:tensorflow:Assets written to: /home/albert/projects/tfg/models/cnn_06/checkpoint/assets\n",
      "2070/2070 [==============================] - 1659s 802ms/step - loss: 0.3369 - categorical_accuracy: 0.8840 - val_loss: 0.3260 - val_categorical_accuracy: 0.8809\n",
      "Epoch 25/50\n",
      "2070/2070 [==============================] - ETA: 0s - loss: 0.3338 - categorical_accuracy: 0.8845\n",
      "Epoch 00025: val_categorical_accuracy did not improve from 0.88085\n",
      "2070/2070 [==============================] - 1658s 801ms/step - loss: 0.3338 - categorical_accuracy: 0.8845 - val_loss: 0.4770 - val_categorical_accuracy: 0.8239\n",
      "Epoch 26/50\n",
      "2070/2070 [==============================] - ETA: 0s - loss: 0.3344 - categorical_accuracy: 0.8850\n",
      "Epoch 00026: val_categorical_accuracy did not improve from 0.88085\n",
      "2070/2070 [==============================] - 1282s 619ms/step - loss: 0.3344 - categorical_accuracy: 0.8850 - val_loss: 0.4278 - val_categorical_accuracy: 0.8436\n",
      "Epoch 27/50\n",
      "2070/2070 [==============================] - ETA: 0s - loss: 0.3275 - categorical_accuracy: 0.8879\n",
      "Epoch 00027: val_categorical_accuracy did not improve from 0.88085\n",
      "2070/2070 [==============================] - 1520s 734ms/step - loss: 0.3275 - categorical_accuracy: 0.8879 - val_loss: 0.5057 - val_categorical_accuracy: 0.8291\n",
      "Epoch 28/50\n",
      "2070/2070 [==============================] - ETA: 0s - loss: 0.3296 - categorical_accuracy: 0.8867\n",
      "Epoch 00028: val_categorical_accuracy did not improve from 0.88085\n",
      "2070/2070 [==============================] - 1656s 800ms/step - loss: 0.3296 - categorical_accuracy: 0.8867 - val_loss: 0.4568 - val_categorical_accuracy: 0.8560\n",
      "Epoch 29/50\n",
      "2070/2070 [==============================] - ETA: 0s - loss: 0.3281 - categorical_accuracy: 0.8865\n",
      "Epoch 00029: val_categorical_accuracy improved from 0.88085 to 0.89555, saving model to /home/albert/projects/tfg/models/cnn_06/checkpoint\n",
      "INFO:tensorflow:Assets written to: /home/albert/projects/tfg/models/cnn_06/checkpoint/assets\n",
      "2070/2070 [==============================] - 1661s 802ms/step - loss: 0.3281 - categorical_accuracy: 0.8865 - val_loss: 0.3092 - val_categorical_accuracy: 0.8955\n",
      "Epoch 30/50\n",
      "2070/2070 [==============================] - ETA: 0s - loss: 0.3272 - categorical_accuracy: 0.8863\n",
      "Epoch 00030: val_categorical_accuracy did not improve from 0.89555\n",
      "2070/2070 [==============================] - 1657s 800ms/step - loss: 0.3272 - categorical_accuracy: 0.8863 - val_loss: 0.4396 - val_categorical_accuracy: 0.8490\n",
      "Epoch 31/50\n",
      "2070/2070 [==============================] - ETA: 0s - loss: 0.3239 - categorical_accuracy: 0.8868\n",
      "Epoch 00031: val_categorical_accuracy did not improve from 0.89555\n",
      "2070/2070 [==============================] - 1297s 626ms/step - loss: 0.3239 - categorical_accuracy: 0.8868 - val_loss: 0.4325 - val_categorical_accuracy: 0.8465\n",
      "Epoch 32/50\n",
      "2070/2070 [==============================] - ETA: 0s - loss: 0.3209 - categorical_accuracy: 0.8896\n",
      "Epoch 00032: val_categorical_accuracy did not improve from 0.89555\n",
      "2070/2070 [==============================] - 1529s 738ms/step - loss: 0.3209 - categorical_accuracy: 0.8896 - val_loss: 0.3345 - val_categorical_accuracy: 0.8799\n",
      "Epoch 33/50\n",
      "2070/2070 [==============================] - ETA: 0s - loss: 0.3201 - categorical_accuracy: 0.8892\n",
      "Epoch 00033: val_categorical_accuracy did not improve from 0.89555\n",
      "2070/2070 [==============================] - 1658s 801ms/step - loss: 0.3201 - categorical_accuracy: 0.8892 - val_loss: 0.4856 - val_categorical_accuracy: 0.8420\n",
      "Epoch 34/50\n",
      "2070/2070 [==============================] - ETA: 0s - loss: 0.3278 - categorical_accuracy: 0.8873\n",
      "Epoch 00034: val_categorical_accuracy did not improve from 0.89555\n",
      "2070/2070 [==============================] - 1652s 798ms/step - loss: 0.3278 - categorical_accuracy: 0.8873 - val_loss: 0.4859 - val_categorical_accuracy: 0.8220\n",
      "Epoch 35/50\n",
      "2070/2070 [==============================] - ETA: 0s - loss: 0.3164 - categorical_accuracy: 0.8931\n",
      "Epoch 00035: val_categorical_accuracy did not improve from 0.89555\n",
      "2070/2070 [==============================] - 1657s 800ms/step - loss: 0.3164 - categorical_accuracy: 0.8931 - val_loss: 0.9341 - val_categorical_accuracy: 0.7006\n",
      "Epoch 36/50\n",
      "2070/2070 [==============================] - ETA: 0s - loss: 0.3140 - categorical_accuracy: 0.8918\n",
      "Epoch 00036: val_categorical_accuracy did not improve from 0.89555\n",
      "2070/2070 [==============================] - 1293s 625ms/step - loss: 0.3140 - categorical_accuracy: 0.8918 - val_loss: 0.2997 - val_categorical_accuracy: 0.8889\n",
      "Epoch 37/50\n",
      "2070/2070 [==============================] - ETA: 0s - loss: 0.3160 - categorical_accuracy: 0.8932\n",
      "Epoch 00037: val_categorical_accuracy did not improve from 0.89555\n",
      "2070/2070 [==============================] - 1514s 732ms/step - loss: 0.3160 - categorical_accuracy: 0.8932 - val_loss: 0.5925 - val_categorical_accuracy: 0.8606\n",
      "Epoch 38/50\n",
      "2070/2070 [==============================] - ETA: 0s - loss: 0.3133 - categorical_accuracy: 0.8933\n",
      "Epoch 00038: val_categorical_accuracy did not improve from 0.89555\n",
      "2070/2070 [==============================] - 1656s 800ms/step - loss: 0.3133 - categorical_accuracy: 0.8933 - val_loss: 0.3277 - val_categorical_accuracy: 0.8832\n",
      "Epoch 39/50\n",
      "2070/2070 [==============================] - ETA: 0s - loss: 0.3147 - categorical_accuracy: 0.8914\n",
      "Epoch 00039: val_categorical_accuracy did not improve from 0.89555\n",
      "2070/2070 [==============================] - 1658s 801ms/step - loss: 0.3147 - categorical_accuracy: 0.8914 - val_loss: 0.4422 - val_categorical_accuracy: 0.8933\n",
      "Epoch 40/50\n",
      "2070/2070 [==============================] - ETA: 0s - loss: 0.3085 - categorical_accuracy: 0.8947\n",
      "Epoch 00040: val_categorical_accuracy did not improve from 0.89555\n",
      "2070/2070 [==============================] - 1659s 801ms/step - loss: 0.3085 - categorical_accuracy: 0.8947 - val_loss: 0.5743 - val_categorical_accuracy: 0.8425\n",
      "Epoch 41/50\n",
      "2070/2070 [==============================] - ETA: 0s - loss: 0.3161 - categorical_accuracy: 0.8914\n",
      "Epoch 00041: val_categorical_accuracy did not improve from 0.89555\n",
      "2070/2070 [==============================] - 1292s 624ms/step - loss: 0.3161 - categorical_accuracy: 0.8914 - val_loss: 0.3119 - val_categorical_accuracy: 0.8902\n",
      "Epoch 42/50\n",
      "2070/2070 [==============================] - ETA: 0s - loss: 0.3082 - categorical_accuracy: 0.8950\n",
      "Epoch 00042: val_categorical_accuracy did not improve from 0.89555\n",
      "2070/2070 [==============================] - 1513s 731ms/step - loss: 0.3082 - categorical_accuracy: 0.8950 - val_loss: 0.3787 - val_categorical_accuracy: 0.8760\n",
      "Epoch 43/50\n",
      "2070/2070 [==============================] - ETA: 0s - loss: 0.3114 - categorical_accuracy: 0.8946\n",
      "Epoch 00043: val_categorical_accuracy did not improve from 0.89555\n",
      "2070/2070 [==============================] - 1659s 802ms/step - loss: 0.3114 - categorical_accuracy: 0.8946 - val_loss: 0.3330 - val_categorical_accuracy: 0.8720\n",
      "Epoch 44/50\n",
      "2070/2070 [==============================] - ETA: 0s - loss: 0.3138 - categorical_accuracy: 0.8939\n",
      "Epoch 00044: val_categorical_accuracy did not improve from 0.89555\n",
      "2070/2070 [==============================] - 1656s 800ms/step - loss: 0.3138 - categorical_accuracy: 0.8939 - val_loss: 0.5014 - val_categorical_accuracy: 0.8691\n",
      "Epoch 45/50\n",
      "2070/2070 [==============================] - ETA: 0s - loss: 0.3067 - categorical_accuracy: 0.8942\n",
      "Epoch 00045: val_categorical_accuracy did not improve from 0.89555\n",
      "2070/2070 [==============================] - 1657s 801ms/step - loss: 0.3067 - categorical_accuracy: 0.8942 - val_loss: 0.3658 - val_categorical_accuracy: 0.8717\n",
      "Epoch 46/50\n",
      "2070/2070 [==============================] - ETA: 0s - loss: 0.3019 - categorical_accuracy: 0.8970\n",
      "Epoch 00046: val_categorical_accuracy did not improve from 0.89555\n",
      "2070/2070 [==============================] - 1288s 622ms/step - loss: 0.3019 - categorical_accuracy: 0.8970 - val_loss: 0.4381 - val_categorical_accuracy: 0.8627\n",
      "Epoch 47/50\n",
      "2070/2070 [==============================] - ETA: 0s - loss: 0.3059 - categorical_accuracy: 0.8963\n",
      "Epoch 00047: val_categorical_accuracy did not improve from 0.89555\n",
      "2070/2070 [==============================] - 1508s 728ms/step - loss: 0.3059 - categorical_accuracy: 0.8963 - val_loss: 0.3225 - val_categorical_accuracy: 0.8918\n",
      "Epoch 48/50\n",
      "2070/2070 [==============================] - ETA: 0s - loss: 0.3041 - categorical_accuracy: 0.8967\n",
      "Epoch 00048: val_categorical_accuracy did not improve from 0.89555\n",
      "2070/2070 [==============================] - 1659s 801ms/step - loss: 0.3041 - categorical_accuracy: 0.8967 - val_loss: 0.5289 - val_categorical_accuracy: 0.8472\n",
      "Epoch 49/50\n",
      "2070/2070 [==============================] - ETA: 0s - loss: 0.3114 - categorical_accuracy: 0.8926\n",
      "Epoch 00049: val_categorical_accuracy did not improve from 0.89555\n",
      "2070/2070 [==============================] - 1663s 803ms/step - loss: 0.3114 - categorical_accuracy: 0.8926 - val_loss: 0.4681 - val_categorical_accuracy: 0.8508\n",
      "Epoch 50/50\n",
      "2070/2070 [==============================] - ETA: 0s - loss: 0.3001 - categorical_accuracy: 0.8964\n",
      "Epoch 00050: val_categorical_accuracy did not improve from 0.89555\n",
      "2070/2070 [==============================] - 1656s 800ms/step - loss: 0.3001 - categorical_accuracy: 0.8964 - val_loss: 0.4818 - val_categorical_accuracy: 0.8613\n"
     ]
    }
   ],
   "source": [
    "# The total passes we want to do over the whole dataset\n",
    "total_epochs = 10\n",
    "# For each pass, how many times do we want to check the performance on the validation data?\n",
    "intermediate_checks = 5\n",
    "epochs = total_epochs * intermediate_checks\n",
    "\n",
    "# If in total we need e.g. 1000 steps to go through the whole dataset, and we want to check 2 times the validation, each epoch will be 500 steps instead\n",
    "STEP_SIZE_TRAIN=train_generator.n//(intermediate_checks * train_generator.batch_size) \n",
    "STEP_SIZE_VALID=valid_generator.n//valid_generator.batch_size\n",
    "#STEP_SIZE_TEST=test_generator.n//test_generator.batch_size\n",
    "\n",
    "fit_history = model.fit_generator(generator=train_generator,\n",
    "                    steps_per_epoch=STEP_SIZE_TRAIN,\n",
    "                    validation_data=valid_generator,\n",
    "                    validation_steps=STEP_SIZE_VALID,\n",
    "                    epochs=epochs,\n",
    "                    callbacks=model_callbacks\n",
    ")"
   ]
  },
  {
   "cell_type": "code",
   "execution_count": 30,
   "metadata": {},
   "outputs": [
    {
     "data": {
      "text/plain": [
       "{'loss': [0.7943652272224426,\n",
       "  0.5760934352874756,\n",
       "  0.5286014676094055,\n",
       "  0.5018553137779236,\n",
       "  0.47101083397865295,\n",
       "  0.45255792140960693,\n",
       "  0.4326125681400299,\n",
       "  0.4233097434043884,\n",
       "  0.42053917050361633,\n",
       "  0.40687867999076843,\n",
       "  0.3993310332298279,\n",
       "  0.38664373755455017,\n",
       "  0.3816133439540863,\n",
       "  0.3769403398036957,\n",
       "  0.36443474888801575,\n",
       "  0.36331433057785034,\n",
       "  0.3626139760017395,\n",
       "  0.36008501052856445,\n",
       "  0.3522544503211975,\n",
       "  0.35142913460731506,\n",
       "  0.3456553816795349,\n",
       "  0.3384780287742615,\n",
       "  0.3458242416381836,\n",
       "  0.33693602681159973,\n",
       "  0.3338344395160675,\n",
       "  0.33436158299446106,\n",
       "  0.3274572491645813,\n",
       "  0.32962435483932495,\n",
       "  0.3280717134475708,\n",
       "  0.32720428705215454,\n",
       "  0.32387569546699524,\n",
       "  0.3209180235862732,\n",
       "  0.3201245069503784,\n",
       "  0.3278385400772095,\n",
       "  0.3164081573486328,\n",
       "  0.3140355050563812,\n",
       "  0.31601855158805847,\n",
       "  0.3132837414741516,\n",
       "  0.3146933913230896,\n",
       "  0.3085278868675232,\n",
       "  0.3160960078239441,\n",
       "  0.30815690755844116,\n",
       "  0.31144919991493225,\n",
       "  0.3138459324836731,\n",
       "  0.30667901039123535,\n",
       "  0.30189529061317444,\n",
       "  0.3058910667896271,\n",
       "  0.3041081726551056,\n",
       "  0.3113565742969513,\n",
       "  0.3001294434070587],\n",
       " 'categorical_accuracy': [0.6714372038841248,\n",
       "  0.7869867086410522,\n",
       "  0.8059782385826111,\n",
       "  0.8141455054283142,\n",
       "  0.823762059211731,\n",
       "  0.831239640712738,\n",
       "  0.8373942971229553,\n",
       "  0.8419535160064697,\n",
       "  0.8429800868034363,\n",
       "  0.8519625663757324,\n",
       "  0.8562282919883728,\n",
       "  0.8612017035484314,\n",
       "  0.8631038665771484,\n",
       "  0.8647795915603638,\n",
       "  0.8729166388511658,\n",
       "  0.8716895580291748,\n",
       "  0.8725845217704773,\n",
       "  0.874064028263092,\n",
       "  0.8763889074325562,\n",
       "  0.8771135210990906,\n",
       "  0.8794202208518982,\n",
       "  0.8824426531791687,\n",
       "  0.8804045915603638,\n",
       "  0.883967399597168,\n",
       "  0.8844806551933289,\n",
       "  0.8850067853927612,\n",
       "  0.8879076242446899,\n",
       "  0.8866998553276062,\n",
       "  0.8864583373069763,\n",
       "  0.8863224387168884,\n",
       "  0.8868337869644165,\n",
       "  0.8895682096481323,\n",
       "  0.8892059326171875,\n",
       "  0.887349009513855,\n",
       "  0.8931159377098083,\n",
       "  0.8918465971946716,\n",
       "  0.8931763172149658,\n",
       "  0.8933423757553101,\n",
       "  0.8913647532463074,\n",
       "  0.8947312831878662,\n",
       "  0.8913785219192505,\n",
       "  0.8950181007385254,\n",
       "  0.8946105241775513,\n",
       "  0.893900990486145,\n",
       "  0.8942179679870605,\n",
       "  0.8969953060150146,\n",
       "  0.8962560296058655,\n",
       "  0.8967089653015137,\n",
       "  0.8926026821136475,\n",
       "  0.8963617086410522],\n",
       " 'val_loss': [0.7090708017349243,\n",
       "  0.5762607455253601,\n",
       "  0.4275733530521393,\n",
       "  0.3933614194393158,\n",
       "  0.4482981562614441,\n",
       "  0.4625020921230316,\n",
       "  0.4197206199169159,\n",
       "  0.436064749956131,\n",
       "  0.4532270133495331,\n",
       "  0.4535753130912781,\n",
       "  0.5401785969734192,\n",
       "  0.3613603711128235,\n",
       "  0.3725495934486389,\n",
       "  0.6316770911216736,\n",
       "  0.33716487884521484,\n",
       "  0.5790384411811829,\n",
       "  0.5401186943054199,\n",
       "  0.8591921925544739,\n",
       "  0.4175838828086853,\n",
       "  0.3936133086681366,\n",
       "  0.5029396414756775,\n",
       "  0.36245498061180115,\n",
       "  0.47423723340034485,\n",
       "  0.3259792923927307,\n",
       "  0.47697070240974426,\n",
       "  0.42776504158973694,\n",
       "  0.5057141184806824,\n",
       "  0.45677539706230164,\n",
       "  0.3092013895511627,\n",
       "  0.4396333396434784,\n",
       "  0.4325404167175293,\n",
       "  0.3345204293727875,\n",
       "  0.48557063937187195,\n",
       "  0.4859107434749603,\n",
       "  0.9340556263923645,\n",
       "  0.2997421622276306,\n",
       "  0.5924691557884216,\n",
       "  0.32768702507019043,\n",
       "  0.4421946108341217,\n",
       "  0.5742582678794861,\n",
       "  0.3118538558483124,\n",
       "  0.3786723017692566,\n",
       "  0.3329702913761139,\n",
       "  0.5013870000839233,\n",
       "  0.3658285140991211,\n",
       "  0.43805840611457825,\n",
       "  0.32252591848373413,\n",
       "  0.528897762298584,\n",
       "  0.4681479036808014,\n",
       "  0.48176416754722595],\n",
       " 'val_categorical_accuracy': [0.7088776230812073,\n",
       "  0.786751389503479,\n",
       "  0.831842839717865,\n",
       "  0.857817530632019,\n",
       "  0.8305616974830627,\n",
       "  0.8283008337020874,\n",
       "  0.8431220054626465,\n",
       "  0.8360379934310913,\n",
       "  0.8065212965011597,\n",
       "  0.8285269141197205,\n",
       "  0.8088324069976807,\n",
       "  0.8651778697967529,\n",
       "  0.8515875935554504,\n",
       "  0.7790142893791199,\n",
       "  0.8648512959480286,\n",
       "  0.793157160282135,\n",
       "  0.8227742910385132,\n",
       "  0.7077974081039429,\n",
       "  0.8487992286682129,\n",
       "  0.861309289932251,\n",
       "  0.7914238572120667,\n",
       "  0.871282160282135,\n",
       "  0.8489248156547546,\n",
       "  0.8808531165122986,\n",
       "  0.8239298462867737,\n",
       "  0.8435741662979126,\n",
       "  0.8290795683860779,\n",
       "  0.8559837341308594,\n",
       "  0.8955486416816711,\n",
       "  0.849025309085846,\n",
       "  0.8465132713317871,\n",
       "  0.8798984885215759,\n",
       "  0.8420417904853821,\n",
       "  0.8220207095146179,\n",
       "  0.7006380558013916,\n",
       "  0.8889167904853821,\n",
       "  0.8606058955192566,\n",
       "  0.88318932056427,\n",
       "  0.893312931060791,\n",
       "  0.8425441980361938,\n",
       "  0.8901728391647339,\n",
       "  0.8760299682617188,\n",
       "  0.8719604015350342,\n",
       "  0.8691468834877014,\n",
       "  0.8717092275619507,\n",
       "  0.862716019153595,\n",
       "  0.8917554020881653,\n",
       "  0.8471915125846863,\n",
       "  0.85080885887146,\n",
       "  0.8612590432167053]}"
      ]
     },
     "execution_count": 30,
     "metadata": {},
     "output_type": "execute_result"
    }
   ],
   "source": [
    "fit_history.history"
   ]
  },
  {
   "cell_type": "code",
   "execution_count": 31,
   "metadata": {},
   "outputs": [],
   "source": [
    "import seaborn as sns\n",
    "\n",
    "sns.set_style(\"whitegrid\")\n",
    "sns.set(rc={'figure.figsize':(13, 9)})"
   ]
  },
  {
   "cell_type": "code",
   "execution_count": 32,
   "metadata": {},
   "outputs": [
    {
     "name": "stdout",
     "output_type": "stream",
     "text": [
      "Saving figures to /home/albert/projects/tfg/docs/figures/cnn_06_loss.png\n"
     ]
    },
    {
     "data": {
      "image/png": "[encoded data removed]",
      "text/plain": [
       "<Figure size 936x648 with 1 Axes>"
      ]
     },
     "metadata": {},
     "output_type": "display_data"
    }
   ],
   "source": [
    "import matplotlib.pyplot as plt\n",
    "\n",
    "fig_file = figures_dir / f\"cnn_{cnn_model_suffix}_loss.png\"\n",
    "print(f\"Saving figures to {fig_file}\")\n",
    "plt.plot(fit_history.history[\"loss\"], label=\"training\")\n",
    "plt.plot(fit_history.history[\"val_loss\"], label=\"validation\")\n",
    "plt.title(\"CNN Training and Validation Losses\")\n",
    "plt.xlabel(\"Epoch\")\n",
    "plt.ylabel(\"Loss\")\n",
    "plt.legend()\n",
    "plt.savefig(str(fig_file))\n",
    "plt.show()"
   ]
  },
  {
   "cell_type": "code",
   "execution_count": 33,
   "metadata": {},
   "outputs": [
    {
     "data": {
      "image/png": "[encoded data removed]",
      "text/plain": [
       "<Figure size 936x648 with 1 Axes>"
      ]
     },
     "metadata": {},
     "output_type": "display_data"
    }
   ],
   "source": [
    "import matplotlib.pyplot as plt\n",
    "\n",
    "plt.plot(fit_history.history[\"categorical_accuracy\"], label=\"training\")\n",
    "plt.plot(fit_history.history[\"val_categorical_accuracy\"], label=\"validation\")\n",
    "plt.title(\"CNN Training and Validation Categorical Accuracy\")\n",
    "plt.xlabel(\"Epoch\")\n",
    "plt.ylabel(\"Categorical Accuracy\")\n",
    "plt.legend()\n",
    "plt.savefig(figures_dir / f\"cnn_{cnn_model_suffix}_cat_accuracy.png\")\n",
    "plt.show()"
   ]
  },
  {
   "cell_type": "code",
   "execution_count": 34,
   "metadata": {},
   "outputs": [
    {
     "data": {
      "text/plain": [
       "PosixPath('/home/albert/projects/tfg/models/feature_extractor.tf')"
      ]
     },
     "execution_count": 34,
     "metadata": {},
     "output_type": "execute_result"
    }
   ],
   "source": [
    "feature_extractor_model_file"
   ]
  },
  {
   "cell_type": "code",
   "execution_count": 36,
   "metadata": {},
   "outputs": [
    {
     "name": "stdout",
     "output_type": "stream",
     "text": [
      "INFO:tensorflow:Assets written to: /home/albert/projects/tfg/models/feature_extractor_06.tf/assets\n"
     ]
    }
   ],
   "source": [
    "#model_file = feature_extractor_model_file\n",
    "model_file = models_dir / f\"feature_extractor_{cnn_model_suffix}.tf\"\n",
    "model.save(str(model_file))\n",
    "\n",
    "del model"
   ]
  },
  {
   "cell_type": "code",
   "execution_count": 37,
   "metadata": {},
   "outputs": [
    {
     "name": "stdout",
     "output_type": "stream",
     "text": [
      "Model: \"covid_classifier\"\n",
      "_________________________________________________________________\n",
      "Layer (type)                 Output Shape              Param #   \n",
      "=================================================================\n",
      "input_images (InputLayer)    [(None, 128, 128, 3)]     0         \n",
      "_________________________________________________________________\n",
      "conv2d_01 (Conv2D)           (None, 128, 128, 6)       168       \n",
      "_________________________________________________________________\n",
      "maxpool2d_01 (MaxPooling2D)  (None, 64, 64, 6)         0         \n",
      "_________________________________________________________________\n",
      "conv2d_02 (Conv2D)           (None, 64, 64, 12)        660       \n",
      "_________________________________________________________________\n",
      "maxpool2d_02 (MaxPooling2D)  (None, 32, 32, 12)        0         \n",
      "_________________________________________________________________\n",
      "conv2d_03 (Conv2D)           (None, 32, 32, 24)        2616      \n",
      "_________________________________________________________________\n",
      "maxpool2d_03 (MaxPooling2D)  (None, 16, 16, 24)        0         \n",
      "_________________________________________________________________\n",
      "conv2d_04 (Conv2D)           (None, 16, 16, 48)        10416     \n",
      "_________________________________________________________________\n",
      "maxpool2d_04 (MaxPooling2D)  (None, 8, 8, 48)          0         \n",
      "_________________________________________________________________\n",
      "conv2d_05 (Conv2D)           (None, 8, 8, 96)          41568     \n",
      "_________________________________________________________________\n",
      "dropout__05 (Dropout)        (None, 8, 8, 96)          0         \n",
      "_________________________________________________________________\n",
      "maxpool2d_05 (MaxPooling2D)  (None, 4, 4, 96)          0         \n",
      "_________________________________________________________________\n",
      "flatten (Flatten)            (None, 1536)              0         \n",
      "_________________________________________________________________\n",
      "dense_01 (Dense)             (None, 64)                98368     \n",
      "_________________________________________________________________\n",
      "dropout_01 (Dropout)         (None, 64)                0         \n",
      "_________________________________________________________________\n",
      "dense_02 (Dense)             (None, 32)                2080      \n",
      "_________________________________________________________________\n",
      "dropout_02 (Dropout)         (None, 32)                0         \n",
      "_________________________________________________________________\n",
      "output (Dense)               (None, 3)                 99        \n",
      "=================================================================\n",
      "Total params: 155,975\n",
      "Trainable params: 155,975\n",
      "Non-trainable params: 0\n",
      "_________________________________________________________________\n"
     ]
    }
   ],
   "source": [
    "from tensorflow.keras.models import load_model\n",
    "\n",
    "loaded_model = load_model(str(model_file))\n",
    "\n",
    "loaded_model.summary()"
   ]
  },
  {
   "cell_type": "code",
   "execution_count": 38,
   "metadata": {},
   "outputs": [
    {
     "name": "stdout",
     "output_type": "stream",
     "text": [
      "Found 39828 validated image filenames belonging to 3 classes.\n"
     ]
    }
   ],
   "source": [
    "valid_generator2 = test_datagen.flow_from_dataframe(\n",
    "    dataframe=val_df,\n",
    "    directory=str(images_input_dir),\n",
    "    x_col=\"file\",\n",
    "    y_col=\"label\",\n",
    "    batch_size=batch_size,\n",
    "    seed=seed,\n",
    "    shuffle=False,\n",
    "    class_mode=\"categorical\",\n",
    "    target_size=image_target_size)"
   ]
  },
  {
   "cell_type": "markdown",
   "metadata": {},
   "source": [
    "# Evaluation / Confusion matrix"
   ]
  },
  {
   "cell_type": "code",
   "execution_count": 39,
   "metadata": {},
   "outputs": [],
   "source": [
    "from sklearn.metrics import confusion_matrix, precision_recall_fscore_support"
   ]
  },
  {
   "cell_type": "code",
   "execution_count": 40,
   "metadata": {},
   "outputs": [],
   "source": [
    "import numpy as np\n",
    "import itertools\n",
    "\n",
    "sns.set_style(\"whitegrid\", {'axes.grid' : False})\n",
    "\n",
    "# based on answer from https://datascience.stackexchange.com/questions/40067/confusion-matrix-three-classes-python\n",
    "def plot_confusion_matrix(cm, classes,\n",
    "                          save_to=None,\n",
    "                          normalize=True,\n",
    "                          title='Confusion matrix',\n",
    "                          cmap=plt.cm.Blues):\n",
    "    \"\"\"\n",
    "    This function prints and plots the confusion matrix.\n",
    "    Normalization can be applied by setting `normalize=True`.\n",
    "    \"\"\"\n",
    "    \n",
    "    if normalize:\n",
    "        cm = cm.astype('float') / cm.sum(axis=1)[:, np.newaxis]\n",
    "        print(\"Normalized confusion matrix\")\n",
    "    else:\n",
    "        print('Confusion matrix, without normalization')\n",
    "\n",
    "    print(cm)\n",
    "\n",
    "    plt.imshow(cm, interpolation='nearest', cmap=cmap)\n",
    "    plt.title(title, fontdict={'fontsize' : 26})\n",
    "    plt.colorbar()\n",
    "    tick_marks = np.arange(len(classes))\n",
    "    plt.xticks(tick_marks, classes, fontsize=18)\n",
    "    plt.yticks(tick_marks, classes, fontsize=18)\n",
    "\n",
    "    fmt_pct = lambda pct: f\"{100 * pct:.2f}%\" if normalize else f\"{int(100 * pct)}%\"\n",
    "    thresh = cm.max() / 2.\n",
    "    for i, j in itertools.product(range(cm.shape[0]), range(cm.shape[1])):\n",
    "        plt.text(j, i, fmt_pct(cm[i, j]),\n",
    "                 horizontalalignment=\"center\",\n",
    "                 color=\"white\" if cm[i, j] > thresh else \"black\",\n",
    "                 fontdict={'fontsize' : 16})\n",
    "\n",
    "    plt.ylabel('True label', fontdict={'fontsize' : 22})\n",
    "    plt.xlabel('Predicted label', fontdict={'fontsize' : 22})\n",
    "    plt.tight_layout()\n",
    "    \n",
    "    if save_to:\n",
    "        plt.savefig(save_to)"
   ]
  },
  {
   "cell_type": "code",
   "execution_count": 41,
   "metadata": {},
   "outputs": [],
   "source": [
    "STEP_SIZE_TRAIN2=train_generator.n//train_generator.batch_size \n",
    "STEP_SIZE_VALID2=valid_generator.n//valid_generator.batch_size"
   ]
  },
  {
   "cell_type": "markdown",
   "metadata": {},
   "source": [
    "## Validation set"
   ]
  },
  {
   "cell_type": "code",
   "execution_count": 42,
   "metadata": {},
   "outputs": [
    {
     "name": "stdout",
     "output_type": "stream",
     "text": [
      "1245/1245 [==============================] - 119s 95ms/step\n"
     ]
    },
    {
     "data": {
      "text/plain": [
       "(39828, 3)"
      ]
     },
     "execution_count": 42,
     "metadata": {},
     "output_type": "execute_result"
    }
   ],
   "source": [
    "raw_val_preds = loaded_model.predict(valid_generator2, steps=STEP_SIZE_VALID2 + 1, verbose=1)\n",
    "raw_val_preds.shape"
   ]
  },
  {
   "cell_type": "code",
   "execution_count": 43,
   "metadata": {},
   "outputs": [
    {
     "data": {
      "text/plain": [
       "array([[9.7728568e-01, 2.1649901e-02, 1.0643448e-03],\n",
       "       [9.9986041e-01, 1.3008255e-04, 9.5421474e-06],\n",
       "       [9.9993885e-01, 6.0918377e-05, 2.7491285e-07],\n",
       "       [9.9522215e-01, 4.2544077e-03, 5.2343111e-04],\n",
       "       [9.9987578e-01, 1.2230795e-04, 1.8552662e-06]], dtype=float32)"
      ]
     },
     "execution_count": 43,
     "metadata": {},
     "output_type": "execute_result"
    }
   ],
   "source": [
    "raw_val_preds[:5]"
   ]
  },
  {
   "cell_type": "code",
   "execution_count": 44,
   "metadata": {},
   "outputs": [
    {
     "data": {
      "text/plain": [
       "array([0, 0, 0, 0, 0, 0, 0, 0, 0, 0])"
      ]
     },
     "execution_count": 44,
     "metadata": {},
     "output_type": "execute_result"
    }
   ],
   "source": [
    "val_preds = raw_val_preds.argmax(axis=1)\n",
    "val_preds[:10]"
   ]
  },
  {
   "cell_type": "code",
   "execution_count": 45,
   "metadata": {},
   "outputs": [
    {
     "data": {
      "text/plain": [
       "{'CP': 0, 'NCP': 1, 'Normal': 2}"
      ]
     },
     "execution_count": 45,
     "metadata": {},
     "output_type": "execute_result"
    }
   ],
   "source": [
    "valid_generator2.class_indices"
   ]
  },
  {
   "cell_type": "code",
   "execution_count": 46,
   "metadata": {},
   "outputs": [],
   "source": [
    "val_true = valid_generator2.labels"
   ]
  },
  {
   "cell_type": "code",
   "execution_count": 47,
   "metadata": {},
   "outputs": [
    {
     "data": {
      "text/plain": [
       "[0, 0, 0, 0, 0, 0, 0, 0, 0, 0]"
      ]
     },
     "execution_count": 47,
     "metadata": {},
     "output_type": "execute_result"
    }
   ],
   "source": [
    "val_true[:10]"
   ]
  },
  {
   "cell_type": "code",
   "execution_count": 48,
   "metadata": {},
   "outputs": [],
   "source": [
    "val_cm = confusion_matrix(val_true, val_preds)"
   ]
  },
  {
   "cell_type": "code",
   "execution_count": 49,
   "metadata": {},
   "outputs": [],
   "source": [
    "class_labels = [k for k in valid_generator2.class_indices.keys()]"
   ]
  },
  {
   "cell_type": "code",
   "execution_count": 50,
   "metadata": {},
   "outputs": [
    {
     "name": "stdout",
     "output_type": "stream",
     "text": [
      "Normalized confusion matrix\n",
      "[[0.88810242 0.05040931 0.06148827]\n",
      " [0.05837134 0.87420195 0.06742671]\n",
      " [0.09452071 0.12112745 0.78435184]]\n"
     ]
    },
    {
     "data": {
      "image/png": "[encoded data removed]",
      "text/plain": [
       "<Figure size 936x648 with 2 Axes>"
      ]
     },
     "metadata": {},
     "output_type": "display_data"
    }
   ],
   "source": [
    "plot_confusion_matrix(\n",
    "    val_cm,\n",
    "    classes=class_labels,\n",
    "    title='Confusion matrix for Validation Set',\n",
    "    save_to=figures_dir / f\"feature_generator_val_conf_matrix_{cnn_model_suffix}.png\")"
   ]
  },
  {
   "cell_type": "code",
   "execution_count": 51,
   "metadata": {},
   "outputs": [
    {
     "name": "stdout",
     "output_type": "stream",
     "text": [
      "Validation F1 Score:  86.17\n",
      "Validation Precision:  86.21\n",
      "Validation Recall:  86.13\n"
     ]
    }
   ],
   "source": [
    "val_precision, val_recall, val_f1, _ = precision_recall_fscore_support(val_true, val_preds, average=\"weighted\")\n",
    "print(f\"Validation F1 Score: {100 * val_f1: .2f}\")\n",
    "print(f\"Validation Precision: {100 * val_precision: .2f}\")\n",
    "print(f\"Validation Recall: {100 * val_recall: .2f}\")"
   ]
  },
  {
   "cell_type": "code",
   "execution_count": 52,
   "metadata": {},
   "outputs": [
    {
     "name": "stdout",
     "output_type": "stream",
     "text": [
      "Found 331286 validated image filenames belonging to 3 classes.\n"
     ]
    }
   ],
   "source": [
    "train_generator2 = test_datagen.flow_from_dataframe(\n",
    "    dataframe=train_df,\n",
    "    directory=str(images_input_dir),\n",
    "    x_col=\"file\",\n",
    "    y_col=\"label\",\n",
    "    batch_size=batch_size,\n",
    "    seed=seed,\n",
    "    shuffle=False,\n",
    "    class_mode=\"categorical\",\n",
    "    target_size=image_target_size)"
   ]
  },
  {
   "cell_type": "code",
   "execution_count": 53,
   "metadata": {},
   "outputs": [
    {
     "name": "stdout",
     "output_type": "stream",
     "text": [
      "10353/10353 [==============================] - 2278s 220ms/step\n"
     ]
    },
    {
     "data": {
      "text/plain": [
       "(331286, 3)"
      ]
     },
     "execution_count": 53,
     "metadata": {},
     "output_type": "execute_result"
    }
   ],
   "source": [
    "raw_train_preds = loaded_model.predict(train_generator2, steps=STEP_SIZE_TRAIN2 + 1, verbose=1)\n",
    "raw_train_preds.shape"
   ]
  },
  {
   "cell_type": "code",
   "execution_count": 54,
   "metadata": {},
   "outputs": [
    {
     "data": {
      "text/plain": [
       "array([0, 0, 0, 0, 0, 0, 0, 0, 0, 0])"
      ]
     },
     "execution_count": 54,
     "metadata": {},
     "output_type": "execute_result"
    }
   ],
   "source": [
    "train_preds = raw_train_preds.argmax(axis=1)\n",
    "train_preds[:10]"
   ]
  },
  {
   "cell_type": "code",
   "execution_count": 55,
   "metadata": {},
   "outputs": [
    {
     "data": {
      "text/plain": [
       "{'CP': 0, 'NCP': 1, 'Normal': 2}"
      ]
     },
     "execution_count": 55,
     "metadata": {},
     "output_type": "execute_result"
    }
   ],
   "source": [
    "train_generator2.class_indices"
   ]
  },
  {
   "cell_type": "code",
   "execution_count": 56,
   "metadata": {},
   "outputs": [
    {
     "data": {
      "text/plain": [
       "[0, 0, 0, 0, 0, 0, 0, 0, 0, 0]"
      ]
     },
     "execution_count": 56,
     "metadata": {},
     "output_type": "execute_result"
    }
   ],
   "source": [
    "train_true = train_generator2.labels\n",
    "train_true[:10]"
   ]
  },
  {
   "cell_type": "code",
   "execution_count": 66,
   "metadata": {},
   "outputs": [
    {
     "name": "stdout",
     "output_type": "stream",
     "text": [
      "Normalized confusion matrix\n",
      "[[0.87182139 0.0688735  0.05930511]\n",
      " [0.0669889  0.84126247 0.09174863]\n",
      " [0.12659118 0.1355545  0.73785433]]\n"
     ]
    },
    {
     "data": {
      "image/png": "[encoded data removed]",
      "text/plain": [
       "<Figure size 936x648 with 2 Axes>"
      ]
     },
     "metadata": {},
     "output_type": "display_data"
    }
   ],
   "source": [
    "train_cm = confusion_matrix(train_true, train_preds)\n",
    "plot_confusion_matrix(\n",
    "    train_cm,\n",
    "    classes=[k for k in train_generator2.class_indices.keys()],\n",
    "    title='Confusion matrix for Training Set',\n",
    "    save_to=figures_dir / f\"feature_generator_train_conf_matrix_{cnn_model_suffix}.png\")"
   ]
  },
  {
   "cell_type": "code",
   "execution_count": 352,
   "metadata": {},
   "outputs": [
    {
     "data": {
      "text/plain": [
       "(array([0.80084898, 0.87304073, 0.83466738]),\n",
       " array([0.94876329, 0.9012732 , 0.54718923]),\n",
       " array([0.86855371, 0.88693235, 0.66102517]),\n",
       " array([126667, 124961,  79658]))"
      ]
     },
     "execution_count": 352,
     "metadata": {},
     "output_type": "execute_result"
    }
   ],
   "source": [
    "precision_recall_fscore_support(train_true, train_preds)\n"
   ]
  },
  {
   "cell_type": "code",
   "execution_count": 59,
   "metadata": {},
   "outputs": [
    {
     "name": "stdout",
     "output_type": "stream",
     "text": [
      "Train F1 Score:  82.77\n",
      "Train Precision:  82.75\n",
      "Train Recall:  82.81\n"
     ]
    }
   ],
   "source": [
    "train_precision, train_recall, train_f1, _ = precision_recall_fscore_support(train_true, train_preds, average=\"weighted\")\n",
    "print(f\"Train F1 Score: {100 * train_f1: .2f}\")\n",
    "print(f\"Train Precision: {100 * train_precision: .2f}\")\n",
    "print(f\"Train Recall: {100 * train_recall: .2f}\")"
   ]
  },
  {
   "cell_type": "markdown",
   "metadata": {},
   "source": [
    "## Evaluate test set"
   ]
  },
  {
   "cell_type": "code",
   "execution_count": 60,
   "metadata": {},
   "outputs": [],
   "source": [
    "test_df = repo.load(\"test_df\")"
   ]
  },
  {
   "cell_type": "code",
   "execution_count": 61,
   "metadata": {},
   "outputs": [
    {
     "name": "stdout",
     "output_type": "stream",
     "text": [
      "Found 40415 validated image filenames belonging to 3 classes.\n"
     ]
    }
   ],
   "source": [
    "test_generator = test_datagen.flow_from_dataframe(\n",
    "    dataframe=test_df,\n",
    "    directory=str(images_input_dir),\n",
    "    x_col=\"file\",\n",
    "    y_col=\"label\",\n",
    "    batch_size=batch_size,\n",
    "    seed=seed,\n",
    "    shuffle=False,\n",
    "    class_mode=\"categorical\",\n",
    "    target_size=image_target_size)"
   ]
  },
  {
   "cell_type": "code",
   "execution_count": 65,
   "metadata": {},
   "outputs": [
    {
     "name": "stdout",
     "output_type": "stream",
     "text": [
      "Normalized confusion matrix\n",
      "[[0.84405528 0.07469621 0.08124851]\n",
      " [0.07366751 0.82525381 0.10107868]\n",
      " [0.08669124 0.1648659  0.74844286]]\n"
     ]
    },
    {
     "data": {
      "image/png": "[encoded data removed]",
      "text/plain": [
       "<Figure size 936x648 with 2 Axes>"
      ]
     },
     "metadata": {},
     "output_type": "display_data"
    }
   ],
   "source": [
    "STEP_SIZE_TEST = test_generator.n//test_generator.batch_size\n",
    "\n",
    "raw_test_preds = loaded_model.predict(test_generator, steps=STEP_SIZE_TEST + 1, verbose=1)\n",
    "raw_test_preds.shape\n",
    "test_preds = raw_test_preds.argmax(axis=1)\n",
    "test_preds[:10]\n",
    "test_generator.class_indices\n",
    "test_true = test_generator.labels\n",
    "test_true[:10]\n",
    "test_cm = confusion_matrix(test_true, test_preds)\n",
    "plot_confusion_matrix(\n",
    "    test_cm,\n",
    "    classes=[k for k in test_generator.class_indices.keys()],\n",
    "    title='Confusion matrix for Test Set',\n",
    "    save_to=figures_dir / f\"feature_generator_test_conf_matrix_{cnn_model_suffix}.png\")"
   ]
  },
  {
   "cell_type": "code",
   "execution_count": 64,
   "metadata": {},
   "outputs": [
    {
     "name": "stdout",
     "output_type": "stream",
     "text": [
      "Test F1 Score:  82.00\n",
      "Test Precision:  82.32\n",
      "Test Recall:  81.81\n"
     ]
    }
   ],
   "source": [
    "test_precision, test_recall, test_f1, _ = precision_recall_fscore_support(test_true, test_preds, average=\"weighted\")\n",
    "print(f\"Test F1 Score: {100 * test_f1: .2f}\")\n",
    "print(f\"Test Precision: {100 * test_precision: .2f}\")\n",
    "print(f\"Test Recall: {100 * test_recall: .2f}\")"
   ]
  },
  {
   "cell_type": "code",
   "execution_count": null,
   "metadata": {},
   "outputs": [],
   "source": []
  }
 ],
 "metadata": {
  "kernelspec": {
   "display_name": "Python 3",
   "language": "python",
   "name": "python3"
  },
  "language_info": {
   "codemirror_mode": {
    "name": "ipython",
    "version": 3
   },
   "file_extension": ".py",
   "mimetype": "text/x-python",
   "name": "python",
   "nbconvert_exporter": "python",
   "pygments_lexer": "ipython3",
   "version": "3.8.5"
  }
 },
 "nbformat": 4,
 "nbformat_minor": 4
}
